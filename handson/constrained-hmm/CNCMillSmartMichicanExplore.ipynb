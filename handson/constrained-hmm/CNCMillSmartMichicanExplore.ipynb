{
 "cells": [
  {
   "cell_type": "code",
   "execution_count": null,
   "id": "1af236bd-4f3c-4aef-81f6-1232772f5586",
   "metadata": {},
   "outputs": [],
   "source": [
    "import pandas\n",
    "import numpy\n",
    "\n",
    "import os.path\n"
   ]
  },
  {
   "cell_type": "code",
   "execution_count": null,
   "id": "775c0672-a0c5-4e0d-90f9-061564c9ec72",
   "metadata": {},
   "outputs": [],
   "source": [
    "dataset_path = './data/cnc-mill-toolwear'"
   ]
  },
  {
   "cell_type": "code",
   "execution_count": null,
   "id": "140539bb-172d-40b5-b5bf-69baa3eb7f1e",
   "metadata": {},
   "outputs": [],
   "source": [
    "\n",
    "def load_experiments(dataset_path):\n",
    "\n",
    "    metadata_path = os.path.join(dataset_path, 'train.csv')\n",
    "    df = pandas.read_csv(metadata_path)\n",
    "\n",
    "    df = df.drop(columns='material') # only \"wax\", not so useful\n",
    "    df = df.rename(columns={'No': 'experiment'})\n",
    "    df = df.set_index('experiment')\n",
    "    categorical_columns = ['tool_condition', 'machining_finalized', 'passed_visual_inspection']\n",
    "    for c in categorical_columns:\n",
    "        df[c] = df[c].astype('category')\n",
    "\n",
    "    return df\n",
    "\n",
    "                                 \n",
    "experiments = load_experiments(dataset_path)\n",
    "experiments"
   ]
  },
  {
   "cell_type": "code",
   "execution_count": null,
   "id": "486aa2b0-0e36-49d4-b025-e821d43b9cf6",
   "metadata": {},
   "outputs": [],
   "source": [
    "\n",
    "def remove_bad_data(data):\n",
    "    \"\"\"\n",
    "    From the dataset README.txt -- \n",
    "    Note: Some variables will not accurately reflect the operation of the CNC machine.\n",
    "    This can usually be detected by\n",
    "    when M1_CURRENT_FEEDRATE reads 50,\n",
    "    when X1 ActualPosition reads 198,\n",
    "    or when M1_CURRENT_PROGRAM_NUMBER does not read 0.\n",
    "    The source of these errors has not been identified.\n",
    "    \"\"\"\n",
    "    pass\n",
    "\n",
    "def load_timeseries(dataset_path):\n",
    "\n",
    "    dfs = []\n",
    "    for ex in range(1, 18+1):\n",
    "        path = os.path.join(dataset_path, f'experiment_{ex:02d}.csv')\n",
    "        df = pandas.read_csv(path)\n",
    "        df['experiment'] = ex\n",
    "        df['time'] = pandas.to_timedelta(0.1 * numpy.arange(len(df)), unit='s') # 100ms / 10hz samplerate\n",
    "        dfs.append(df)\n",
    "\n",
    "    out = pandas.concat(dfs)\n",
    "    out = out.set_index(['experiment', 'time'])\n",
    "    return out\n",
    "\n",
    "data = load_timeseries(dataset_path)\n",
    "data\n"
   ]
  },
  {
   "cell_type": "code",
   "execution_count": null,
   "id": "1672296a-1751-4fd5-a2cb-31ba03cba26d",
   "metadata": {},
   "outputs": [],
   "source": [
    "\n",
    "# Add experiment info to sensor data, for ease of analysis\n",
    "enrich = pandas.merge(data.reset_index(),  experiments, left_on='experiment', right_index=True).set_index(['experiment', 'time'])\n",
    "enrich.head()\n",
    "\n"
   ]
  },
  {
   "cell_type": "code",
   "execution_count": null,
   "id": "b133f8fb-7f6e-4e9a-9855-2861246d994d",
   "metadata": {},
   "outputs": [],
   "source": [
    "power_columns = list(enrich.columns[enrich.columns.str.contains('Power')])\n",
    "def p99(s):\n",
    "    return s.quantile(0.99)\n",
    "\n",
    "power_stats = enrich[power_columns].agg(['min', 'max', 'median', p99])\n",
    "print(power_stats)\n",
    "\n",
    "for c in power_columns:\n",
    "    s = numpy.maximum(enrich[c], 0.0)\n",
    "    s = s / s.quantile(0.99)\n",
    "    s = numpy.minimum(s, 1.0)\n",
    "    enrich[c+'_Scaled'] = s\n",
    "\n",
    "scaled_power_columns = [ c+'_Scaled' for c in power_columns  ]\n",
    "power_stats = enrich[scaled_power_columns].agg(['min', 'max', 'median', p99])\n",
    "power_stats"
   ]
  },
  {
   "cell_type": "code",
   "execution_count": null,
   "id": "495ba181-aba7-4f64-9b52-ae63a0874c5e",
   "metadata": {},
   "outputs": [],
   "source": [
    "\n",
    "import math\n",
    "import plotly.graph_objects as go\n",
    "from plotly.subplots import make_subplots\n",
    "\n",
    "def create_square_subplot_grid(traces, x_range, y_range, cols=5, subplot_titles=None):\n",
    "    \"\"\"\n",
    "    Create a grid of subplots with fixed number of columns (default=5),\n",
    "    and each subplot has square X:Y axis (1:1 scale).\n",
    "    \n",
    "    Parameters:\n",
    "    - traces: List of Plotly traces (one per subplot)\n",
    "    - cols: Number of columns in the grid (default 5)\n",
    "    - subplot_titles: Optional list of subplot titles\n",
    "    \n",
    "    Returns:\n",
    "    - Plotly figure with square subplots\n",
    "    \"\"\"\n",
    "    num_traces = len(traces)\n",
    "    rows = math.ceil(num_traces / cols)\n",
    "\n",
    "    fig = make_subplots(\n",
    "        rows=rows,\n",
    "        cols=cols,\n",
    "        shared_xaxes=False,\n",
    "        shared_yaxes=False,\n",
    "        subplot_titles=subplot_titles if subplot_titles else [\"\" for _ in range(num_traces)],\n",
    "        horizontal_spacing=0.05,  # More horizontal space between subplots\n",
    "        vertical_spacing=0.05,     # Optional: space for subtitle/axis labels\n",
    "    )\n",
    "\n",
    "    for idx, trace in enumerate(traces):\n",
    "        row = idx // cols + 1\n",
    "        col = idx % cols + 1\n",
    "        fig.add_trace(trace, row=row, col=col)\n",
    "        axis_id = \"\" if idx == 0 else str(idx + 1)\n",
    "\n",
    "        # Apply fixed range and square aspect\n",
    "        fig.update_layout({\n",
    "            f\"xaxis{axis_id}\": dict(range=x_range),\n",
    "            f\"yaxis{axis_id}\": dict(range=y_range, scaleanchor=f\"x{axis_id}\", scaleratio=1),\n",
    "        })\n",
    "\n",
    "    fig.update_layout(\n",
    "        height=350 * rows,\n",
    "        width=350 * cols,\n",
    "        showlegend=False,\n",
    "        title_text=\"Grid of Square Subplots\"\n",
    "    )\n",
    "\n",
    "    return fig\n",
    "    \n",
    "\n",
    "import plotly.express\n",
    "\n",
    "# TODO: maybe support overlay a variable, like spindle power?\n",
    "def plot_positions(data):\n",
    "\n",
    "    x_column = 'X1_ActualPosition'\n",
    "    y_column = 'Y1_ActualPosition'\n",
    "    \n",
    "    x_range = data[x_column].min(), data[x_column].max(), \n",
    "    y_range = data[y_column].min(), data[x_column].max(), \n",
    "    \n",
    "    traces = []\n",
    "    titles = []\n",
    "    for experiment, d in data.groupby('experiment'):    \n",
    "        trace = go.Scatter(x=d[x_column], y=d[y_column], mode='markers')\n",
    "    \n",
    "        ex = experiments.loc[experiment]\n",
    "        #print(ex)    \n",
    "        traces.append(trace)\n",
    "        describe = f\"Ex {experiment}: f={ex['feedrate']} c={ex['clamp_pressure']} t={ex['tool_condition']} f={ex['machining_finalized']} p={ex['passed_visual_inspection']}\"\n",
    "        titles.append(describe)\n",
    "\n",
    "    fig = create_square_subplot_grid(traces, x_range, y_range, cols=6, subplot_titles=titles)\n",
    "    return fig\n",
    "\n",
    "fig = plot_positions(data)\n",
    "fig.show()\n"
   ]
  },
  {
   "cell_type": "markdown",
   "id": "cdc83bdd-f65f-46cd-9ab8-a0a8cda9af72",
   "metadata": {},
   "source": [
    "## Spindle power vs different conditions"
   ]
  },
  {
   "cell_type": "code",
   "execution_count": null,
   "id": "de39eabe-3e1a-4724-ad65-e4eca0208d3c",
   "metadata": {},
   "outputs": [],
   "source": [
    "spindleactive = enrich[enrich['S1_OutputPower'] > 0.03]\n",
    "import seaborn"
   ]
  },
  {
   "cell_type": "code",
   "execution_count": null,
   "id": "82a00f04-e582-49df-9001-2f27aec90d47",
   "metadata": {},
   "outputs": [],
   "source": [
    "\n",
    "seaborn.displot(kind='kde', data=spindleactive, x='S1_OutputPower', hue='machining_finalized', clip=(0.1, 0.250), aspect=2.0, height=4.0, common_norm=False)\n",
    "#(spindleactive.reset_index().sort_values('Machining_Process'), x='S1_OutputPower', color='Machining_Process')\n"
   ]
  },
  {
   "cell_type": "code",
   "execution_count": null,
   "id": "0319c949-25cc-48d2-961b-8bda42652778",
   "metadata": {},
   "outputs": [],
   "source": [
    "\n",
    "seaborn.displot(kind='kde', data=spindleactive, x='S1_OutputPower', hue='feedrate', clip=(0.1, 0.250), aspect=2.0, height=4.0, common_norm=False)\n",
    "#(spindleactive.reset_index().sort_values('Machining_Process'), x='S1_OutputPower', color='Machining_Process')\n"
   ]
  },
  {
   "cell_type": "code",
   "execution_count": null,
   "id": "d8e05090-fe3b-41ba-b2e1-aad2985e16ce",
   "metadata": {},
   "outputs": [],
   "source": [
    "seaborn.displot(kind='kde', data=spindleactive, x='S1_OutputPower', hue='Machining_Process', clip=(0.1, 0.250), aspect=2.0, height=4.0, common_norm=False)\n"
   ]
  },
  {
   "cell_type": "code",
   "execution_count": null,
   "id": "f9af841d-6ebb-454f-8fce-cbea5f8e2981",
   "metadata": {},
   "outputs": [],
   "source": [
    "seaborn.displot(kind='kde', data=spindleactive, x='S1_OutputPower', hue='clamp_pressure', clip=(0.1, 0.250), aspect=2.0, height=4.0, common_norm=False)\n",
    "#(spindleactive.reset_index().sort_values('Machining_Process'), x='S1_OutputPower', color='Machining_Process')\n"
   ]
  },
  {
   "cell_type": "code",
   "execution_count": null,
   "id": "206f74c7-f714-4871-bd8e-3feba4453fa8",
   "metadata": {},
   "outputs": [],
   "source": [
    "seaborn.displot(kind='kde', data=spindleactive, x='S1_OutputPower', hue='Machining_Process', row='feedrate', clip=(0.1, 0.250), aspect=2.0, height=2.0, common_norm=False)\n",
    "#(spindleactive.reset_index().sort_values('Machining_Process'), x='S1_OutputPower', color='Machining_Process')\n"
   ]
  },
  {
   "cell_type": "markdown",
   "id": "c2e86bd4-0376-46be-a971-45c11a63eea1",
   "metadata": {},
   "source": [
    "## Time-series view"
   ]
  },
  {
   "cell_type": "code",
   "execution_count": null,
   "id": "a90745b1-f9a3-4287-8640-f782fe6c2528",
   "metadata": {},
   "outputs": [],
   "source": [
    "# TODO: show the different labeled sections in Machining_Process column\n",
    "# TODO: normalize powers for all axes, and plot together\n",
    "plot_timeseries(data, y_column='Y1_OutputPower')"
   ]
  },
  {
   "cell_type": "code",
   "execution_count": null,
   "id": "be42389a-b4a1-4721-adad-08b701f07330",
   "metadata": {},
   "outputs": [],
   "source": [
    "for column in scaled_power_columns:\n",
    "    \n",
    "    seaborn.displot(data=enrich.reset_index(), kind='kde', x=column, hue='feedrate', height=2.0, aspect=2.0)"
   ]
  },
  {
   "cell_type": "code",
   "execution_count": null,
   "id": "3a97c242-8b3d-4e26-bbbe-6211ff5b4975",
   "metadata": {},
   "outputs": [],
   "source": [
    "spindle_active = enrich[enrich['S1_OutputPower'] > 0.01]\n",
    "seaborn.pairplot(data=spindle_active.reset_index(), vars=scaled_power_columns, hue='feedrate', height=3.6, aspect=1.5, diag_kws=dict(common_norm=False))"
   ]
  },
  {
   "cell_type": "code",
   "execution_count": null,
   "id": "8471ed38-36a9-4938-8326-575a0e887ca8",
   "metadata": {},
   "outputs": [],
   "source": [
    "seaborn.pairplot(data=spindle_active.reset_index(), vars=scaled_power_columns, hue='machining_finalized', height=3.6, aspect=1.5, diag_kws=dict(common_norm=False))"
   ]
  },
  {
   "cell_type": "code",
   "execution_count": null,
   "id": "58df2667-005d-45e7-b1b3-3dafd76a6dae",
   "metadata": {
    "scrolled": true
   },
   "outputs": [],
   "source": [
    "\n",
    "\n",
    "def plot_timeseries(data, y, time_column = 'time', row_column='experiment', row_order=None):\n",
    "    import plotly.graph_objects as go\n",
    "    \n",
    "    data = data.reset_index()\n",
    "    # convert to seconds, Plotly default time markers are bad with Timedelta\n",
    "    data[time_column] = data[time_column] / pandas.Timedelta('1sec')\n",
    "\n",
    "    x_range = data[time_column].min(), data[time_column].max()\n",
    "\n",
    "    if row_order is None:\n",
    "        row_order = sorted(list(data[row_column].unique()))\n",
    "    else:\n",
    "        row_order = list(row_order)\n",
    "    \n",
    "    for experiment in row_order:\n",
    "        df = data[data[row_column] == experiment]\n",
    "        df = df.sort_values(time_column) # plotly lines connect badly without sorting by time\n",
    "        \n",
    "        ex = experiments.loc[experiment]\n",
    "        describe = f\"Ex {experiment}: f={ex['feedrate']} c={ex['clamp_pressure']} t={ex['tool_condition']} f={ex['machining_finalized']} p={ex['passed_visual_inspection']}\"\n",
    "\n",
    "        fig = go.Figure()\n",
    "        fig.update_layout(title=describe, xaxis=dict(range=x_range))\n",
    "        for column in y:\n",
    "            fig.add_trace(go.Scatter(x=df[time_column], y=df[column], name=column))\n",
    "        \n",
    "        fig.show()\n",
    "\n",
    "plot_timeseries(enrich.sort_values(['feedrate']), y=scaled_power_columns)"
   ]
  },
  {
   "cell_type": "code",
   "execution_count": null,
   "id": "876f7376-af98-411a-af20-966a444ca9d0",
   "metadata": {},
   "outputs": [],
   "source": [
    "exx = experiments.sort_values(['feedrate', 'clamp_pressure', 'tool_condition'])\n",
    "exx"
   ]
  },
  {
   "cell_type": "code",
   "execution_count": null,
   "id": "fa8665f0-0767-4e5b-8f35-b99c83eae49c",
   "metadata": {},
   "outputs": [],
   "source": [
    "\n",
    "plot_timeseries(data.reset_index(), y=['Y1_ActualPosition', 'X1_ActualPosition'], row_order=exx.index)\n"
   ]
  },
  {
   "cell_type": "code",
   "execution_count": null,
   "id": "26499011-f015-47a4-ad9c-a6e23e4b0c1b",
   "metadata": {},
   "outputs": [],
   "source": [
    "plot_timeseries(enrich.sort_values(['feedrate']), y=['M1_CURRENT_FEEDRATE', 'S1_CurrentFeedback'])"
   ]
  },
  {
   "cell_type": "code",
   "execution_count": null,
   "id": "9deb06d4-5327-440b-9f5d-826ce9357a15",
   "metadata": {},
   "outputs": [],
   "source": [
    "plot_timeseries(enrich.sort_values(['feedrate']), y=['M1_CURRENT_FEEDRATE', 'S1_OutputPower_Scaled'])\n"
   ]
  },
  {
   "cell_type": "code",
   "execution_count": null,
   "id": "e5973658-2893-4a56-8cd1-fdd92d57ac0b",
   "metadata": {},
   "outputs": [],
   "source": [
    "p = enrich.sort_values(['feedrate'])\n",
    "p['S1_CommandVelocity_Scaled'] = p['S1_CommandVelocity'] / 50.0\n",
    "p['S1_Power_Calc'] = p['S1_OutputCurrent'] * p['S1_OutputVoltage']\n",
    "#plot_timeseries(p, y=['S1_CommandVelocity_Scaled', 'S1_OutputPower_Scaled'])\n",
    "plot_timeseries(p, y=['S1_OutputCurrent', 'S1_OutputPower'])"
   ]
  },
  {
   "cell_type": "code",
   "execution_count": null,
   "id": "4f1d8383-3180-49e7-b2be-bfef897be023",
   "metadata": {},
   "outputs": [],
   "source": [
    "scaled_power_columns"
   ]
  },
  {
   "cell_type": "code",
   "execution_count": null,
   "id": "b756b69a-5b3f-4c5a-b040-24356cae483c",
   "metadata": {},
   "outputs": [],
   "source": [
    "data['S1_CommandVelocity'].hist()"
   ]
  },
  {
   "cell_type": "code",
   "execution_count": null,
   "id": "58103af1-aebc-4de0-8a80-88fc55adf110",
   "metadata": {},
   "outputs": [],
   "source": [
    "for c in sorted(data.columns):\n",
    "    print(c)"
   ]
  },
  {
   "cell_type": "code",
   "execution_count": null,
   "id": "49919838-1633-45f1-9cf3-2b3c5c1e222e",
   "metadata": {},
   "outputs": [],
   "source": [
    "data.Machining_Process.value_counts(dropna=False)"
   ]
  },
  {
   "cell_type": "code",
   "execution_count": null,
   "id": "3720b0fe-615b-4df3-a9cd-d0aa884fba99",
   "metadata": {},
   "outputs": [],
   "source": [
    "data.M1_CURRENT_FEEDRATE.value_counts(dropna=False)"
   ]
  },
  {
   "cell_type": "code",
   "execution_count": null,
   "id": "658f20b2-a327-4455-a18f-2eb3c7216f72",
   "metadata": {},
   "outputs": [],
   "source": [
    "data.M1_CURRENT_PROGRAM_NUMBER.value_counts(dropna=False)"
   ]
  },
  {
   "cell_type": "code",
   "execution_count": null,
   "id": "20cf1dc3-920e-4f0f-a427-fb7b1c8f2a05",
   "metadata": {},
   "outputs": [],
   "source": []
  },
  {
   "cell_type": "code",
   "execution_count": null,
   "id": "7e7a6c95-176b-4291-97d6-de19880b72d8",
   "metadata": {},
   "outputs": [],
   "source": [
    "\n"
   ]
  },
  {
   "cell_type": "code",
   "execution_count": null,
   "id": "d524d75e-6d18-4837-92e3-3d439cb42f62",
   "metadata": {},
   "outputs": [],
   "source": []
  }
 ],
 "metadata": {
  "kernelspec": {
   "display_name": "constrained-hmm",
   "language": "python",
   "name": "constrained-hmm"
  },
  "language_info": {
   "codemirror_mode": {
    "name": "ipython",
    "version": 3
   },
   "file_extension": ".py",
   "mimetype": "text/x-python",
   "name": "python",
   "nbconvert_exporter": "python",
   "pygments_lexer": "ipython3",
   "version": "3.13.3"
  }
 },
 "nbformat": 4,
 "nbformat_minor": 5
}
