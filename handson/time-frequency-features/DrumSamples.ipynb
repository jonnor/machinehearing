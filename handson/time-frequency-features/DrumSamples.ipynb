{
 "cells": [
  {
   "cell_type": "code",
   "execution_count": 6,
   "id": "fd1a4bc0-aa11-4d09-8d8f-4d873ba7575a",
   "metadata": {
    "tags": []
   },
   "outputs": [],
   "source": [
    "%matplotlib inline\n",
    "\n",
    "import os\n",
    "\n",
    "import numpy\n",
    "import pandas\n",
    "import librosa\n",
    "import scipy.signal\n",
    "\n",
    "import librosa.display\n",
    "import matplotlib\n",
    "from matplotlib import pyplot as plt\n"
   ]
  },
  {
   "cell_type": "code",
   "execution_count": 422,
   "id": "af680ea0-6754-44e7-8205-8e62533ef428",
   "metadata": {
    "tags": []
   },
   "outputs": [
    {
     "data": {
      "text/html": [
       "<div>\n",
       "<style scoped>\n",
       "    .dataframe tbody tr th:only-of-type {\n",
       "        vertical-align: middle;\n",
       "    }\n",
       "\n",
       "    .dataframe tbody tr th {\n",
       "        vertical-align: top;\n",
       "    }\n",
       "\n",
       "    .dataframe thead th {\n",
       "        text-align: right;\n",
       "    }\n",
       "</style>\n",
       "<table border=\"1\" class=\"dataframe\">\n",
       "  <thead>\n",
       "    <tr style=\"text-align: right;\">\n",
       "      <th></th>\n",
       "      <th>path</th>\n",
       "      <th>filename</th>\n",
       "      <th>audio</th>\n",
       "      <th>class</th>\n",
       "    </tr>\n",
       "  </thead>\n",
       "  <tbody>\n",
       "    <tr>\n",
       "      <th>0</th>\n",
       "      <td>./data/drumsamples/556184__soothsayer_orchestr...</td>\n",
       "      <td>556184__soothsayer_orchestra__hihatt-closed.wav</td>\n",
       "      <td>[0.009566115, -0.011002866, 0.016104462, -0.01...</td>\n",
       "      <td>closed_hihat</td>\n",
       "    </tr>\n",
       "    <tr>\n",
       "      <th>1</th>\n",
       "      <td>./data/drumsamples/99766__menegass__cow.wav</td>\n",
       "      <td>99766__menegass__cow.wav</td>\n",
       "      <td>[-0.0063294717, -0.00041792617, -0.07982029, -...</td>\n",
       "      <td>cowbell</td>\n",
       "    </tr>\n",
       "    <tr>\n",
       "      <th>3</th>\n",
       "      <td>./data/drumsamples/634822__collinb1000__closed...</td>\n",
       "      <td>634822__collinb1000__closed7.wav</td>\n",
       "      <td>[0.00622438, -0.013703138, 0.022044374, -0.044...</td>\n",
       "      <td>closed_hihat</td>\n",
       "    </tr>\n",
       "    <tr>\n",
       "      <th>4</th>\n",
       "      <td>./data/drumsamples/331589__j_zealous__kick-jze...</td>\n",
       "      <td>331589__j_zealous__kick-jzealous-hard-club.aiff</td>\n",
       "      <td>[0.000620265, 0.05115541, 0.045516394, -0.0934...</td>\n",
       "      <td>kick</td>\n",
       "    </tr>\n",
       "    <tr>\n",
       "      <th>5</th>\n",
       "      <td>./data/drumsamples/410149__screamstudio__kick-...</td>\n",
       "      <td>410149__screamstudio__kick-drum.wav</td>\n",
       "      <td>[0.006504277, 0.048827853, 0.061693072, 0.0517...</td>\n",
       "      <td>kick</td>\n",
       "    </tr>\n",
       "  </tbody>\n",
       "</table>\n",
       "</div>"
      ],
      "text/plain": [
       "                                                path  \\\n",
       "0  ./data/drumsamples/556184__soothsayer_orchestr...   \n",
       "1        ./data/drumsamples/99766__menegass__cow.wav   \n",
       "3  ./data/drumsamples/634822__collinb1000__closed...   \n",
       "4  ./data/drumsamples/331589__j_zealous__kick-jze...   \n",
       "5  ./data/drumsamples/410149__screamstudio__kick-...   \n",
       "\n",
       "                                          filename  \\\n",
       "0  556184__soothsayer_orchestra__hihatt-closed.wav   \n",
       "1                         99766__menegass__cow.wav   \n",
       "3                 634822__collinb1000__closed7.wav   \n",
       "4  331589__j_zealous__kick-jzealous-hard-club.aiff   \n",
       "5              410149__screamstudio__kick-drum.wav   \n",
       "\n",
       "                                               audio         class  \n",
       "0  [0.009566115, -0.011002866, 0.016104462, -0.01...  closed_hihat  \n",
       "1  [-0.0063294717, -0.00041792617, -0.07982029, -...       cowbell  \n",
       "3  [0.00622438, -0.013703138, 0.022044374, -0.044...  closed_hihat  \n",
       "4  [0.000620265, 0.05115541, 0.045516394, -0.0934...          kick  \n",
       "5  [0.006504277, 0.048827853, 0.061693072, 0.0517...          kick  "
      ]
     },
     "execution_count": 422,
     "metadata": {},
     "output_type": "execute_result"
    }
   ],
   "source": [
    "\n",
    "def load_samples(directory, sr=48000, duration=1.0):\n",
    "    \n",
    "    data = []\n",
    "    \n",
    "    for filename in os.listdir(directory):\n",
    "        path = os.path.join(directory, filename)\n",
    "        audio, sr = librosa.load(path, sr=sr, duration=duration)\n",
    "    \n",
    "        data.append({\n",
    "            'path': path,\n",
    "            'filename': filename,\n",
    "            'audio': audio,\n",
    "        })\n",
    "    df = pandas.DataFrame.from_records(data)\n",
    "    #df = df.set_index('filename')\n",
    "    \n",
    "    \n",
    "    return df\n",
    "\n",
    "\n",
    "samplerate = 48000\n",
    "samples = load_samples('./data/drumsamples', sr=samplerate)\n",
    "samples.loc[samples['filename'].str.contains('kick'), 'class'] = 'kick'\n",
    "samples.loc[samples['filename'].str.contains('cymbal'), 'class'] = 'cymbal'\n",
    "samples.loc[samples['filename'].str.contains('cow'), 'class'] = 'cowbell'\n",
    "samples.loc[samples['filename'].str.contains('closed'), 'class'] = 'closed_hihat'\n",
    "samples = samples.dropna(subset='class')\n",
    "samples.head()"
   ]
  },
  {
   "cell_type": "code",
   "execution_count": 423,
   "id": "8d06f386-983a-456f-82c6-1c61e6443c4d",
   "metadata": {
    "tags": []
   },
   "outputs": [
    {
     "data": {
      "text/plain": [
       "cowbell         10\n",
       "kick            10\n",
       "cymbal          10\n",
       "closed_hihat     8\n",
       "Name: class, dtype: int64"
      ]
     },
     "execution_count": 423,
     "metadata": {},
     "output_type": "execute_result"
    }
   ],
   "source": [
    "samples['class'].value_counts()"
   ]
  },
  {
   "cell_type": "code",
   "execution_count": 424,
   "id": "047fa174-13e3-4c60-aa41-d6b89058889f",
   "metadata": {
    "tags": []
   },
   "outputs": [
    {
     "data": {
      "text/html": [
       "<div>\n",
       "<style scoped>\n",
       "    .dataframe tbody tr th:only-of-type {\n",
       "        vertical-align: middle;\n",
       "    }\n",
       "\n",
       "    .dataframe tbody tr th {\n",
       "        vertical-align: top;\n",
       "    }\n",
       "\n",
       "    .dataframe thead th {\n",
       "        text-align: right;\n",
       "    }\n",
       "</style>\n",
       "<table border=\"1\" class=\"dataframe\">\n",
       "  <thead>\n",
       "    <tr style=\"text-align: right;\">\n",
       "      <th></th>\n",
       "      <th>path</th>\n",
       "      <th>filename</th>\n",
       "      <th>audio</th>\n",
       "      <th>class</th>\n",
       "      <th>spectrum</th>\n",
       "    </tr>\n",
       "  </thead>\n",
       "  <tbody>\n",
       "    <tr>\n",
       "      <th>0</th>\n",
       "      <td>./data/drumsamples/556184__soothsayer_orchestr...</td>\n",
       "      <td>556184__soothsayer_orchestra__hihatt-closed.wav</td>\n",
       "      <td>[0.009566115, -0.011002866, 0.016104462, -0.01...</td>\n",
       "      <td>closed_hihat</td>\n",
       "      <td>0.00000        44.018227\n",
       "11.71875       47.076...</td>\n",
       "    </tr>\n",
       "    <tr>\n",
       "      <th>1</th>\n",
       "      <td>./data/drumsamples/99766__menegass__cow.wav</td>\n",
       "      <td>99766__menegass__cow.wav</td>\n",
       "      <td>[-0.0063294717, -0.00041792617, -0.07982029, -...</td>\n",
       "      <td>cowbell</td>\n",
       "      <td>0.00000        60.688900\n",
       "11.71875       63.674...</td>\n",
       "    </tr>\n",
       "    <tr>\n",
       "      <th>3</th>\n",
       "      <td>./data/drumsamples/634822__collinb1000__closed...</td>\n",
       "      <td>634822__collinb1000__closed7.wav</td>\n",
       "      <td>[0.00622438, -0.013703138, 0.022044374, -0.044...</td>\n",
       "      <td>closed_hihat</td>\n",
       "      <td>0.00000        53.016441\n",
       "11.71875       56.079...</td>\n",
       "    </tr>\n",
       "    <tr>\n",
       "      <th>4</th>\n",
       "      <td>./data/drumsamples/331589__j_zealous__kick-jze...</td>\n",
       "      <td>331589__j_zealous__kick-jzealous-hard-club.aiff</td>\n",
       "      <td>[0.000620265, 0.05115541, 0.045516394, -0.0934...</td>\n",
       "      <td>kick</td>\n",
       "      <td>0.00000        70.371162\n",
       "11.71875       73.550...</td>\n",
       "    </tr>\n",
       "    <tr>\n",
       "      <th>5</th>\n",
       "      <td>./data/drumsamples/410149__screamstudio__kick-...</td>\n",
       "      <td>410149__screamstudio__kick-drum.wav</td>\n",
       "      <td>[0.006504277, 0.048827853, 0.061693072, 0.0517...</td>\n",
       "      <td>kick</td>\n",
       "      <td>0.00000        69.136795\n",
       "11.71875       72.296...</td>\n",
       "    </tr>\n",
       "    <tr>\n",
       "      <th>6</th>\n",
       "      <td>./data/drumsamples/207956__altemark__cymbal.wav</td>\n",
       "      <td>207956__altemark__cymbal.wav</td>\n",
       "      <td>[0.06790067, 0.0578044, 0.0067414767, -0.01181...</td>\n",
       "      <td>cymbal</td>\n",
       "      <td>0.00000        44.709816\n",
       "11.71875       47.747...</td>\n",
       "    </tr>\n",
       "    <tr>\n",
       "      <th>7</th>\n",
       "      <td>./data/drumsamples/248142__dpren__fat-kick.aiff</td>\n",
       "      <td>248142__dpren__fat-kick.aiff</td>\n",
       "      <td>[0.0026590228, 0.0120906085, 0.012507772, 0.00...</td>\n",
       "      <td>kick</td>\n",
       "      <td>0.00000        69.982803\n",
       "11.71875       73.111...</td>\n",
       "    </tr>\n",
       "    <tr>\n",
       "      <th>8</th>\n",
       "      <td>./data/drumsamples/364919__gowlermusic__cowbel...</td>\n",
       "      <td>364919__gowlermusic__cowbell.wav</td>\n",
       "      <td>[-2.2927441e-05, 1.4954283e-05, 1.2660133e-05,...</td>\n",
       "      <td>cowbell</td>\n",
       "      <td>0.00000        68.716812\n",
       "11.71875       71.678...</td>\n",
       "    </tr>\n",
       "    <tr>\n",
       "      <th>9</th>\n",
       "      <td>./data/drumsamples/375613__samulis__cowbell-co...</td>\n",
       "      <td>375613__samulis__cowbell-cowbell_ff_2.wav</td>\n",
       "      <td>[4.33924e-05, 3.198304e-05, 2.5953672e-05, 3.9...</td>\n",
       "      <td>cowbell</td>\n",
       "      <td>0.00000        53.000507\n",
       "11.71875       55.974...</td>\n",
       "    </tr>\n",
       "    <tr>\n",
       "      <th>10</th>\n",
       "      <td>./data/drumsamples/34272__pj1s__cowbell.wav</td>\n",
       "      <td>34272__pj1s__cowbell.wav</td>\n",
       "      <td>[0.09722103, -0.10205424, 0.097044334, 0.59205...</td>\n",
       "      <td>cowbell</td>\n",
       "      <td>0.00000        47.790169\n",
       "11.71875       50.758...</td>\n",
       "    </tr>\n",
       "    <tr>\n",
       "      <th>11</th>\n",
       "      <td>./data/drumsamples/23543__loofa__brushd-china-...</td>\n",
       "      <td>23543__loofa__brushd-china-cymbal02.aiff</td>\n",
       "      <td>[-0.004371166, 0.000945693, -0.011755201, -0.0...</td>\n",
       "      <td>cymbal</td>\n",
       "      <td>0.00000        50.630947\n",
       "11.71875       53.647...</td>\n",
       "    </tr>\n",
       "    <tr>\n",
       "      <th>12</th>\n",
       "      <td>./data/drumsamples/264601__veiler__kick-swedis...</td>\n",
       "      <td>264601__veiler__kick-swedish.wav</td>\n",
       "      <td>[-0.6834043, -0.7634248, -0.6569913, -0.817734...</td>\n",
       "      <td>kick</td>\n",
       "      <td>0.00000        71.746338\n",
       "11.71875       74.812...</td>\n",
       "    </tr>\n",
       "    <tr>\n",
       "      <th>13</th>\n",
       "      <td>./data/drumsamples/72985__zgump__kick-pack-030...</td>\n",
       "      <td>72985__zgump__kick-pack-0303.wav</td>\n",
       "      <td>[-0.0019808146, 0.00036242127, 0.002540194, -0...</td>\n",
       "      <td>kick</td>\n",
       "      <td>0.00000        74.522614\n",
       "11.71875       77.671...</td>\n",
       "    </tr>\n",
       "    <tr>\n",
       "      <th>15</th>\n",
       "      <td>./data/drumsamples/140516__stomachache__closed...</td>\n",
       "      <td>140516__stomachache__closedhatphrase-002.wav</td>\n",
       "      <td>[-0.0018860833, 0.0030269613, -0.0046608085, 0...</td>\n",
       "      <td>closed_hihat</td>\n",
       "      <td>0.00000        50.651283\n",
       "11.71875       53.724...</td>\n",
       "    </tr>\n",
       "    <tr>\n",
       "      <th>16</th>\n",
       "      <td>./data/drumsamples/587935__strangehorizon__cym...</td>\n",
       "      <td>587935__strangehorizon__cymbal_ride.wav</td>\n",
       "      <td>[-0.00095111196, -0.0010448174, -0.001013998, ...</td>\n",
       "      <td>cymbal</td>\n",
       "      <td>0.00000        46.599346\n",
       "11.71875       49.598...</td>\n",
       "    </tr>\n",
       "    <tr>\n",
       "      <th>17</th>\n",
       "      <td>./data/drumsamples/149480__pjcohen__ottaviano2...</td>\n",
       "      <td>149480__pjcohen__ottaviano22ridecymbal2500gwas...</td>\n",
       "      <td>[-0.0038291037, 0.021774065, 0.28658402, -0.27...</td>\n",
       "      <td>cymbal</td>\n",
       "      <td>0.00000        54.161629\n",
       "11.71875       57.202...</td>\n",
       "    </tr>\n",
       "    <tr>\n",
       "      <th>18</th>\n",
       "      <td>./data/drumsamples/102781__mhc__acoustic_close...</td>\n",
       "      <td>102781__mhc__acoustic_closed_hihat2.wav</td>\n",
       "      <td>[0.52697885, 0.32470602, 0.41977552, 0.6698432...</td>\n",
       "      <td>closed_hihat</td>\n",
       "      <td>0.00000        60.377396\n",
       "11.71875       63.425...</td>\n",
       "    </tr>\n",
       "    <tr>\n",
       "      <th>19</th>\n",
       "      <td>./data/drumsamples/121097__thirsk__cymbal.wav</td>\n",
       "      <td>121097__thirsk__cymbal.wav</td>\n",
       "      <td>[0.0021565661, -0.004147167, 0.0011521976, 0.0...</td>\n",
       "      <td>cymbal</td>\n",
       "      <td>0.00000        47.157425\n",
       "11.71875       50.217...</td>\n",
       "    </tr>\n",
       "    <tr>\n",
       "      <th>20</th>\n",
       "      <td>./data/drumsamples/154718__mistorcaveman__cymb...</td>\n",
       "      <td>154718__mistorcaveman__cymbal_9_1-2.aiff</td>\n",
       "      <td>[0.0001373291, 0.00010681152, 0.00021362305, 0...</td>\n",
       "      <td>cymbal</td>\n",
       "      <td>0.00000        53.011402\n",
       "11.71875       56.011...</td>\n",
       "    </tr>\n",
       "    <tr>\n",
       "      <th>21</th>\n",
       "      <td>./data/drumsamples/634822__collinb1000__closed...</td>\n",
       "      <td>634822__collinb1000__closed7(1).wav</td>\n",
       "      <td>[0.00622438, -0.013703138, 0.022044374, -0.044...</td>\n",
       "      <td>closed_hihat</td>\n",
       "      <td>0.00000        53.016441\n",
       "11.71875       56.079...</td>\n",
       "    </tr>\n",
       "    <tr>\n",
       "      <th>22</th>\n",
       "      <td>./data/drumsamples/13243__ianhall__chinese-cym...</td>\n",
       "      <td>13243__ianhall__chinese-cymbal.aiff</td>\n",
       "      <td>[0.017101169, 0.021676302, -0.043136716, -0.02...</td>\n",
       "      <td>cymbal</td>\n",
       "      <td>0.00000        39.796280\n",
       "11.71875       42.799...</td>\n",
       "    </tr>\n",
       "    <tr>\n",
       "      <th>23</th>\n",
       "      <td>./data/drumsamples/136448__zagorius_mpc__chine...</td>\n",
       "      <td>136448__zagorius_mpc__chinese-cymbal-46_2.wav</td>\n",
       "      <td>[-0.0008692985, -0.00078740116, -0.00097619917...</td>\n",
       "      <td>cymbal</td>\n",
       "      <td>0.00000        61.365868\n",
       "11.71875       64.411...</td>\n",
       "    </tr>\n",
       "    <tr>\n",
       "      <th>24</th>\n",
       "      <td>./data/drumsamples/669733__jannevse__hi-hat_cl...</td>\n",
       "      <td>669733__jannevse__hi-hat_closed_po-12.aiff</td>\n",
       "      <td>[3.5762787e-07, 3.7550926e-06, -3.0398369e-06,...</td>\n",
       "      <td>closed_hihat</td>\n",
       "      <td>0.00000        28.978165\n",
       "11.71875       31.970...</td>\n",
       "    </tr>\n",
       "    <tr>\n",
       "      <th>25</th>\n",
       "      <td>./data/drumsamples/159758__timgormly__cowbell_...</td>\n",
       "      <td>159758__timgormly__cowbell_os_3.aiff</td>\n",
       "      <td>[-0.0015258789, -0.0016021729, -0.0015869141, ...</td>\n",
       "      <td>cowbell</td>\n",
       "      <td>0.00000        47.228676\n",
       "11.71875       50.215...</td>\n",
       "    </tr>\n",
       "    <tr>\n",
       "      <th>26</th>\n",
       "      <td>./data/drumsamples/171484__xicecoffeex__savann...</td>\n",
       "      <td>171484__xicecoffeex__savannah-kick.wav</td>\n",
       "      <td>[-1.1267019e-07, 3.898419e-08, -2.1603306e-07,...</td>\n",
       "      <td>kick</td>\n",
       "      <td>0.00000        66.560257\n",
       "11.71875       69.784...</td>\n",
       "    </tr>\n",
       "    <tr>\n",
       "      <th>28</th>\n",
       "      <td>./data/drumsamples/159765__timgormly__cowbell_...</td>\n",
       "      <td>159765__timgormly__cowbell_os_5.aiff</td>\n",
       "      <td>[-0.00088500977, -0.00090026855, -0.0009307861...</td>\n",
       "      <td>cowbell</td>\n",
       "      <td>0.00000        48.922123\n",
       "11.71875       51.914...</td>\n",
       "    </tr>\n",
       "    <tr>\n",
       "      <th>29</th>\n",
       "      <td>./data/drumsamples/131336__kaonaya__kick-hipho...</td>\n",
       "      <td>131336__kaonaya__kick-hiphop-1.wav</td>\n",
       "      <td>[-0.00025232026, -0.0007922966, -0.0016439483,...</td>\n",
       "      <td>kick</td>\n",
       "      <td>0.00000        74.198891\n",
       "11.71875       77.316...</td>\n",
       "    </tr>\n",
       "    <tr>\n",
       "      <th>30</th>\n",
       "      <td>./data/drumsamples/13246__ianhall__hihat-close...</td>\n",
       "      <td>13246__ianhall__hihat-closed.aiff</td>\n",
       "      <td>[0.017186046, 0.019946337, -0.044062972, 0.129...</td>\n",
       "      <td>closed_hihat</td>\n",
       "      <td>0.00000        46.618534\n",
       "11.71875       49.692...</td>\n",
       "    </tr>\n",
       "    <tr>\n",
       "      <th>31</th>\n",
       "      <td>./data/drumsamples/132582__rob10__kick-drum-c-...</td>\n",
       "      <td>132582__rob10__kick-drum-c-1.wav</td>\n",
       "      <td>[-0.0058457083, -0.018039837, -0.035451263, -0...</td>\n",
       "      <td>kick</td>\n",
       "      <td>0.00000        69.543915\n",
       "11.71875       72.689...</td>\n",
       "    </tr>\n",
       "    <tr>\n",
       "      <th>36</th>\n",
       "      <td>./data/drumsamples/45058__matiasreccius__hihat...</td>\n",
       "      <td>45058__matiasreccius__hihat_closed4.wav</td>\n",
       "      <td>[-0.0019970615, -0.003825388, -0.002587604, 0....</td>\n",
       "      <td>closed_hihat</td>\n",
       "      <td>0.00000        44.059734\n",
       "11.71875       47.128...</td>\n",
       "    </tr>\n",
       "    <tr>\n",
       "      <th>37</th>\n",
       "      <td>./data/drumsamples/432202__curesforbrokenheart...</td>\n",
       "      <td>432202__curesforbrokenhearts__cowbell-with-bla...</td>\n",
       "      <td>[-0.7973261, -0.02063185, 0.8897422, 0.891979,...</td>\n",
       "      <td>cowbell</td>\n",
       "      <td>0.00000        64.079529\n",
       "11.71875       67.055...</td>\n",
       "    </tr>\n",
       "    <tr>\n",
       "      <th>38</th>\n",
       "      <td>./data/drumsamples/102794__mhc__acoustic_ride_...</td>\n",
       "      <td>102794__mhc__acoustic_ride_cymbal2.wav</td>\n",
       "      <td>[0.5208919, 0.31145066, 0.42147714, 0.67772055...</td>\n",
       "      <td>cymbal</td>\n",
       "      <td>0.00000        54.684490\n",
       "11.71875       57.670...</td>\n",
       "    </tr>\n",
       "    <tr>\n",
       "      <th>39</th>\n",
       "      <td>./data/drumsamples/324153__scale75__semiq_kick...</td>\n",
       "      <td>324153__scale75__semiq_kicks_4.wav</td>\n",
       "      <td>[1.7861971e-07, 2.2207249e-07, -1.9815643e-07,...</td>\n",
       "      <td>kick</td>\n",
       "      <td>0.00000        71.496971\n",
       "11.71875       74.641...</td>\n",
       "    </tr>\n",
       "    <tr>\n",
       "      <th>40</th>\n",
       "      <td>./data/drumsamples/154712__mistorcaveman__cymb...</td>\n",
       "      <td>154712__mistorcaveman__cymbal_7_1-2.aiff</td>\n",
       "      <td>[0.00064086914, 0.000579834, 0.0005645752, 0.0...</td>\n",
       "      <td>cymbal</td>\n",
       "      <td>0.00000        35.312836\n",
       "11.71875       38.347...</td>\n",
       "    </tr>\n",
       "    <tr>\n",
       "      <th>41</th>\n",
       "      <td>./data/drumsamples/75839__rossf__lm1-cowbell.wav</td>\n",
       "      <td>75839__rossf__lm1-cowbell.wav</td>\n",
       "      <td>[0.13019471, 0.19975069, 0.22104624, 0.2301908...</td>\n",
       "      <td>cowbell</td>\n",
       "      <td>0.00000        66.507065\n",
       "11.71875       69.500...</td>\n",
       "    </tr>\n",
       "    <tr>\n",
       "      <th>43</th>\n",
       "      <td>./data/drumsamples/171104__dwsd__kick_gettingl...</td>\n",
       "      <td>171104__dwsd__kick_gettinglaid.wav</td>\n",
       "      <td>[0.004950946, -0.002202765, -0.0030138136, 0.0...</td>\n",
       "      <td>kick</td>\n",
       "      <td>0.00000        77.457291\n",
       "11.71875       80.555...</td>\n",
       "    </tr>\n",
       "    <tr>\n",
       "      <th>44</th>\n",
       "      <td>./data/drumsamples/90979__suicidity__medium-co...</td>\n",
       "      <td>90979__suicidity__medium-cowbell-of-god-011.wav</td>\n",
       "      <td>[-0.00014549706, 0.003777164, 0.008162655, 0.0...</td>\n",
       "      <td>cowbell</td>\n",
       "      <td>0.00000        55.716900\n",
       "11.71875       58.698...</td>\n",
       "    </tr>\n",
       "    <tr>\n",
       "      <th>45</th>\n",
       "      <td>./data/drumsamples/75338__neotone__cowbell.wav</td>\n",
       "      <td>75338__neotone__cowbell.wav</td>\n",
       "      <td>[-0.011104812, -0.008647017, -0.013194362, -0....</td>\n",
       "      <td>cowbell</td>\n",
       "      <td>0.00000        63.166119\n",
       "11.71875       66.152...</td>\n",
       "    </tr>\n",
       "  </tbody>\n",
       "</table>\n",
       "</div>"
      ],
      "text/plain": [
       "                                                 path  \\\n",
       "0   ./data/drumsamples/556184__soothsayer_orchestr...   \n",
       "1         ./data/drumsamples/99766__menegass__cow.wav   \n",
       "3   ./data/drumsamples/634822__collinb1000__closed...   \n",
       "4   ./data/drumsamples/331589__j_zealous__kick-jze...   \n",
       "5   ./data/drumsamples/410149__screamstudio__kick-...   \n",
       "6     ./data/drumsamples/207956__altemark__cymbal.wav   \n",
       "7     ./data/drumsamples/248142__dpren__fat-kick.aiff   \n",
       "8   ./data/drumsamples/364919__gowlermusic__cowbel...   \n",
       "9   ./data/drumsamples/375613__samulis__cowbell-co...   \n",
       "10        ./data/drumsamples/34272__pj1s__cowbell.wav   \n",
       "11  ./data/drumsamples/23543__loofa__brushd-china-...   \n",
       "12  ./data/drumsamples/264601__veiler__kick-swedis...   \n",
       "13  ./data/drumsamples/72985__zgump__kick-pack-030...   \n",
       "15  ./data/drumsamples/140516__stomachache__closed...   \n",
       "16  ./data/drumsamples/587935__strangehorizon__cym...   \n",
       "17  ./data/drumsamples/149480__pjcohen__ottaviano2...   \n",
       "18  ./data/drumsamples/102781__mhc__acoustic_close...   \n",
       "19      ./data/drumsamples/121097__thirsk__cymbal.wav   \n",
       "20  ./data/drumsamples/154718__mistorcaveman__cymb...   \n",
       "21  ./data/drumsamples/634822__collinb1000__closed...   \n",
       "22  ./data/drumsamples/13243__ianhall__chinese-cym...   \n",
       "23  ./data/drumsamples/136448__zagorius_mpc__chine...   \n",
       "24  ./data/drumsamples/669733__jannevse__hi-hat_cl...   \n",
       "25  ./data/drumsamples/159758__timgormly__cowbell_...   \n",
       "26  ./data/drumsamples/171484__xicecoffeex__savann...   \n",
       "28  ./data/drumsamples/159765__timgormly__cowbell_...   \n",
       "29  ./data/drumsamples/131336__kaonaya__kick-hipho...   \n",
       "30  ./data/drumsamples/13246__ianhall__hihat-close...   \n",
       "31  ./data/drumsamples/132582__rob10__kick-drum-c-...   \n",
       "36  ./data/drumsamples/45058__matiasreccius__hihat...   \n",
       "37  ./data/drumsamples/432202__curesforbrokenheart...   \n",
       "38  ./data/drumsamples/102794__mhc__acoustic_ride_...   \n",
       "39  ./data/drumsamples/324153__scale75__semiq_kick...   \n",
       "40  ./data/drumsamples/154712__mistorcaveman__cymb...   \n",
       "41   ./data/drumsamples/75839__rossf__lm1-cowbell.wav   \n",
       "43  ./data/drumsamples/171104__dwsd__kick_gettingl...   \n",
       "44  ./data/drumsamples/90979__suicidity__medium-co...   \n",
       "45     ./data/drumsamples/75338__neotone__cowbell.wav   \n",
       "\n",
       "                                             filename  \\\n",
       "0     556184__soothsayer_orchestra__hihatt-closed.wav   \n",
       "1                            99766__menegass__cow.wav   \n",
       "3                    634822__collinb1000__closed7.wav   \n",
       "4     331589__j_zealous__kick-jzealous-hard-club.aiff   \n",
       "5                 410149__screamstudio__kick-drum.wav   \n",
       "6                        207956__altemark__cymbal.wav   \n",
       "7                        248142__dpren__fat-kick.aiff   \n",
       "8                    364919__gowlermusic__cowbell.wav   \n",
       "9           375613__samulis__cowbell-cowbell_ff_2.wav   \n",
       "10                           34272__pj1s__cowbell.wav   \n",
       "11           23543__loofa__brushd-china-cymbal02.aiff   \n",
       "12                   264601__veiler__kick-swedish.wav   \n",
       "13                   72985__zgump__kick-pack-0303.wav   \n",
       "15       140516__stomachache__closedhatphrase-002.wav   \n",
       "16            587935__strangehorizon__cymbal_ride.wav   \n",
       "17  149480__pjcohen__ottaviano22ridecymbal2500gwas...   \n",
       "18            102781__mhc__acoustic_closed_hihat2.wav   \n",
       "19                         121097__thirsk__cymbal.wav   \n",
       "20           154718__mistorcaveman__cymbal_9_1-2.aiff   \n",
       "21                634822__collinb1000__closed7(1).wav   \n",
       "22                13243__ianhall__chinese-cymbal.aiff   \n",
       "23      136448__zagorius_mpc__chinese-cymbal-46_2.wav   \n",
       "24         669733__jannevse__hi-hat_closed_po-12.aiff   \n",
       "25               159758__timgormly__cowbell_os_3.aiff   \n",
       "26             171484__xicecoffeex__savannah-kick.wav   \n",
       "28               159765__timgormly__cowbell_os_5.aiff   \n",
       "29                 131336__kaonaya__kick-hiphop-1.wav   \n",
       "30                  13246__ianhall__hihat-closed.aiff   \n",
       "31                   132582__rob10__kick-drum-c-1.wav   \n",
       "36            45058__matiasreccius__hihat_closed4.wav   \n",
       "37  432202__curesforbrokenhearts__cowbell-with-bla...   \n",
       "38             102794__mhc__acoustic_ride_cymbal2.wav   \n",
       "39                 324153__scale75__semiq_kicks_4.wav   \n",
       "40           154712__mistorcaveman__cymbal_7_1-2.aiff   \n",
       "41                      75839__rossf__lm1-cowbell.wav   \n",
       "43                 171104__dwsd__kick_gettinglaid.wav   \n",
       "44    90979__suicidity__medium-cowbell-of-god-011.wav   \n",
       "45                        75338__neotone__cowbell.wav   \n",
       "\n",
       "                                                audio         class  \\\n",
       "0   [0.009566115, -0.011002866, 0.016104462, -0.01...  closed_hihat   \n",
       "1   [-0.0063294717, -0.00041792617, -0.07982029, -...       cowbell   \n",
       "3   [0.00622438, -0.013703138, 0.022044374, -0.044...  closed_hihat   \n",
       "4   [0.000620265, 0.05115541, 0.045516394, -0.0934...          kick   \n",
       "5   [0.006504277, 0.048827853, 0.061693072, 0.0517...          kick   \n",
       "6   [0.06790067, 0.0578044, 0.0067414767, -0.01181...        cymbal   \n",
       "7   [0.0026590228, 0.0120906085, 0.012507772, 0.00...          kick   \n",
       "8   [-2.2927441e-05, 1.4954283e-05, 1.2660133e-05,...       cowbell   \n",
       "9   [4.33924e-05, 3.198304e-05, 2.5953672e-05, 3.9...       cowbell   \n",
       "10  [0.09722103, -0.10205424, 0.097044334, 0.59205...       cowbell   \n",
       "11  [-0.004371166, 0.000945693, -0.011755201, -0.0...        cymbal   \n",
       "12  [-0.6834043, -0.7634248, -0.6569913, -0.817734...          kick   \n",
       "13  [-0.0019808146, 0.00036242127, 0.002540194, -0...          kick   \n",
       "15  [-0.0018860833, 0.0030269613, -0.0046608085, 0...  closed_hihat   \n",
       "16  [-0.00095111196, -0.0010448174, -0.001013998, ...        cymbal   \n",
       "17  [-0.0038291037, 0.021774065, 0.28658402, -0.27...        cymbal   \n",
       "18  [0.52697885, 0.32470602, 0.41977552, 0.6698432...  closed_hihat   \n",
       "19  [0.0021565661, -0.004147167, 0.0011521976, 0.0...        cymbal   \n",
       "20  [0.0001373291, 0.00010681152, 0.00021362305, 0...        cymbal   \n",
       "21  [0.00622438, -0.013703138, 0.022044374, -0.044...  closed_hihat   \n",
       "22  [0.017101169, 0.021676302, -0.043136716, -0.02...        cymbal   \n",
       "23  [-0.0008692985, -0.00078740116, -0.00097619917...        cymbal   \n",
       "24  [3.5762787e-07, 3.7550926e-06, -3.0398369e-06,...  closed_hihat   \n",
       "25  [-0.0015258789, -0.0016021729, -0.0015869141, ...       cowbell   \n",
       "26  [-1.1267019e-07, 3.898419e-08, -2.1603306e-07,...          kick   \n",
       "28  [-0.00088500977, -0.00090026855, -0.0009307861...       cowbell   \n",
       "29  [-0.00025232026, -0.0007922966, -0.0016439483,...          kick   \n",
       "30  [0.017186046, 0.019946337, -0.044062972, 0.129...  closed_hihat   \n",
       "31  [-0.0058457083, -0.018039837, -0.035451263, -0...          kick   \n",
       "36  [-0.0019970615, -0.003825388, -0.002587604, 0....  closed_hihat   \n",
       "37  [-0.7973261, -0.02063185, 0.8897422, 0.891979,...       cowbell   \n",
       "38  [0.5208919, 0.31145066, 0.42147714, 0.67772055...        cymbal   \n",
       "39  [1.7861971e-07, 2.2207249e-07, -1.9815643e-07,...          kick   \n",
       "40  [0.00064086914, 0.000579834, 0.0005645752, 0.0...        cymbal   \n",
       "41  [0.13019471, 0.19975069, 0.22104624, 0.2301908...       cowbell   \n",
       "43  [0.004950946, -0.002202765, -0.0030138136, 0.0...          kick   \n",
       "44  [-0.00014549706, 0.003777164, 0.008162655, 0.0...       cowbell   \n",
       "45  [-0.011104812, -0.008647017, -0.013194362, -0....       cowbell   \n",
       "\n",
       "                                             spectrum  \n",
       "0   0.00000        44.018227\n",
       "11.71875       47.076...  \n",
       "1   0.00000        60.688900\n",
       "11.71875       63.674...  \n",
       "3   0.00000        53.016441\n",
       "11.71875       56.079...  \n",
       "4   0.00000        70.371162\n",
       "11.71875       73.550...  \n",
       "5   0.00000        69.136795\n",
       "11.71875       72.296...  \n",
       "6   0.00000        44.709816\n",
       "11.71875       47.747...  \n",
       "7   0.00000        69.982803\n",
       "11.71875       73.111...  \n",
       "8   0.00000        68.716812\n",
       "11.71875       71.678...  \n",
       "9   0.00000        53.000507\n",
       "11.71875       55.974...  \n",
       "10  0.00000        47.790169\n",
       "11.71875       50.758...  \n",
       "11  0.00000        50.630947\n",
       "11.71875       53.647...  \n",
       "12  0.00000        71.746338\n",
       "11.71875       74.812...  \n",
       "13  0.00000        74.522614\n",
       "11.71875       77.671...  \n",
       "15  0.00000        50.651283\n",
       "11.71875       53.724...  \n",
       "16  0.00000        46.599346\n",
       "11.71875       49.598...  \n",
       "17  0.00000        54.161629\n",
       "11.71875       57.202...  \n",
       "18  0.00000        60.377396\n",
       "11.71875       63.425...  \n",
       "19  0.00000        47.157425\n",
       "11.71875       50.217...  \n",
       "20  0.00000        53.011402\n",
       "11.71875       56.011...  \n",
       "21  0.00000        53.016441\n",
       "11.71875       56.079...  \n",
       "22  0.00000        39.796280\n",
       "11.71875       42.799...  \n",
       "23  0.00000        61.365868\n",
       "11.71875       64.411...  \n",
       "24  0.00000        28.978165\n",
       "11.71875       31.970...  \n",
       "25  0.00000        47.228676\n",
       "11.71875       50.215...  \n",
       "26  0.00000        66.560257\n",
       "11.71875       69.784...  \n",
       "28  0.00000        48.922123\n",
       "11.71875       51.914...  \n",
       "29  0.00000        74.198891\n",
       "11.71875       77.316...  \n",
       "30  0.00000        46.618534\n",
       "11.71875       49.692...  \n",
       "31  0.00000        69.543915\n",
       "11.71875       72.689...  \n",
       "36  0.00000        44.059734\n",
       "11.71875       47.128...  \n",
       "37  0.00000        64.079529\n",
       "11.71875       67.055...  \n",
       "38  0.00000        54.684490\n",
       "11.71875       57.670...  \n",
       "39  0.00000        71.496971\n",
       "11.71875       74.641...  \n",
       "40  0.00000        35.312836\n",
       "11.71875       38.347...  \n",
       "41  0.00000        66.507065\n",
       "11.71875       69.500...  \n",
       "43  0.00000        77.457291\n",
       "11.71875       80.555...  \n",
       "44  0.00000        55.716900\n",
       "11.71875       58.698...  \n",
       "45  0.00000        63.166119\n",
       "11.71875       66.152...  "
      ]
     },
     "execution_count": 424,
     "metadata": {},
     "output_type": "execute_result"
    }
   ],
   "source": [
    "\n",
    "def spectrum_welch(audio, sr, n_fft, window='hann'):    \n",
    "    \"\"\"Method 2: Use Welch method. Uses overlapped complex spectrum\"\"\"\n",
    "    \n",
    "    if audio.shape[0] < n_fft:\n",
    "        raise ValueError()\n",
    "        \n",
    "    freqs, power = scipy.signal.welch(audio, fs=sr, nfft=n_fft, window=window,\n",
    "        scaling=\"spectrum\", average='mean')\n",
    "    db = librosa.power_to_db(power, ref=0.0, top_db=2*120)\n",
    "    \n",
    "    change = numpy.max(db) - numpy.min(db)\n",
    "    \n",
    "    return pandas.Series(db, index=freqs)\n",
    "\n",
    "\n",
    "# clustering with custom distance function\n",
    "# https://stackoverflow.com/questions/33721996/how-to-specify-a-distance-function-for-clustering\n",
    "# https://gist.github.com/codehacken/8b9316e025beeabb082dda4d0654a6fa\n",
    "\n",
    "# https://docs.scipy.org/doc/scipy/reference/generated/scipy.stats.wasserstein_distance.html\n",
    "\n",
    "ss = [ s for idx, s in samples['audio'].apply(spectrum_welch, sr=samplerate, n_fft=512*8).iterrows() ]\n",
    "samples['spectrum'] = ss\n",
    "samples"
   ]
  },
  {
   "cell_type": "code",
   "execution_count": 425,
   "id": "7e0e2d46-7db0-4b87-a386-8fe21deb8487",
   "metadata": {
    "tags": []
   },
   "outputs": [],
   "source": [
    "\n",
    "def make_octave_bands():\n",
    "    # NOTE: not entirelay equal to the conventional rounded values (250, 1000, etc)\n",
    "    bins = 31\n",
    "    bands = pandas.DataFrame({\n",
    "        'lower': librosa.cqt_frequencies(bins, fmin=11.2, bins_per_octave=3).round(1),\n",
    "        'center': librosa.cqt_frequencies(bins, fmin=12.5, bins_per_octave=3).round(1),\n",
    "        'upper': librosa.cqt_frequencies(bins, fmin=14.1, bins_per_octave=3).round(1),\n",
    "    }).set_index('center')\n",
    "    return bands\n",
    "\n",
    "def third_oct_spectrum(spectrum):\n",
    "    bands = make_octave_bands()\n",
    "    \n",
    "    values = []\n",
    "    for center, lower, upper in zip(bands.index, bands.lower, bands.upper):\n",
    "        value = numpy.mean(spectrum.loc[lower:upper])\n",
    "    \n",
    "        values.append(value)\n",
    "        #print(center, value)\n",
    "\n",
    "    s = pandas.Series(values, index=bands.index, name='db')\n",
    "    return s\n",
    "        \n",
    "\n",
    "samples['third_oct_spectrum'] = [ s for idx, s in samples['spectrum'].apply(third_oct_spectrum).iterrows() ]\n",
    "\n"
   ]
  },
  {
   "cell_type": "code",
   "execution_count": 426,
   "id": "a23585b7-3083-4b15-83eb-facadf49701c",
   "metadata": {
    "tags": []
   },
   "outputs": [],
   "source": [
    "def find_nearest(array, value):\n",
    "    array = numpy.asarray(array)\n",
    "    idx = (numpy.abs(array - value)).argmin()\n",
    "    return array[idx]\n",
    "\n",
    "def normalize_at_frequency(spectrum, freq=1000.0):\n",
    "    band = find_nearest(spectrum.index, freq)\n",
    "    val = spectrum.loc[band]\n",
    "\n",
    "    normalized = spectrum - val\n",
    "    return normalized\n",
    "    \n",
    "samples['normalized_third_oct_spectrum'] = [ s for idx, s in samples['third_oct_spectrum'].apply(normalize_at_frequency, freq=250).iterrows() ]\n"
   ]
  },
  {
   "cell_type": "code",
   "execution_count": 427,
   "id": "96666b61-347e-4c40-a5bc-eb7535959f2f",
   "metadata": {
    "tags": []
   },
   "outputs": [],
   "source": [
    "def spectrum_value(spectrum, freq=1000):\n",
    "    #print(spectrum)\n",
    "    band = find_nearest(spectrum.index, freq)\n",
    "    val = spectrum.loc[band]\n",
    "    #val = val / numpy.sum(spectrum)\n",
    "    return val\n",
    "    \n",
    "\n",
    "samples['low_end'] = samples['normalized_third_oct_spectrum'].apply(spectrum_value, freq=100)\n",
    "samples['high_end'] = samples['normalized_third_oct_spectrum'].apply(spectrum_value, freq=1000)\n"
   ]
  },
  {
   "cell_type": "code",
   "execution_count": 428,
   "id": "db290442-0389-4262-a0b7-bffa8d0f68e7",
   "metadata": {
    "tags": []
   },
   "outputs": [
    {
     "data": {
      "text/plain": [
       "<AxesSubplot: xlabel='low_end', ylabel='high_end'>"
      ]
     },
     "execution_count": 428,
     "metadata": {},
     "output_type": "execute_result"
    },
    {
     "data": {
      "image/png": "[encoded data removed]",
      "text/plain": [
       "<Figure size 640x480 with 1 Axes>"
      ]
     },
     "metadata": {},
     "output_type": "display_data"
    }
   ],
   "source": [
    "import seaborn\n",
    "\n",
    "seaborn.scatterplot(data=samples, x='low_end', y='high_end', hue='class')\n"
   ]
  },
  {
   "cell_type": "code",
   "execution_count": 429,
   "id": "5ca0ed34-dbf4-4d8e-a3b6-3f2ba2007441",
   "metadata": {
    "tags": []
   },
   "outputs": [],
   "source": [
    "\n",
    "def compute_soundlevel(audio, sr=48000, resolution=0.125, silence_db=-120):\n",
    "\n",
    "    hop_length = int(resolution*sr) \n",
    "    frame_length = hop_length\n",
    "\n",
    "    rms = librosa.feature.rms(y=audio, frame_length=frame_length, hop_length=hop_length)[0, :]\n",
    "    db_rms = librosa.power_to_db(rms)\n",
    "    times = librosa.times_like(db_rms, hop_length=hop_length, sr=sr)\n",
    "    \n",
    "    s = pandas.Series(db_rms, index=times)\n",
    "    s = s.fillna(silence_db)\n",
    "    return s\n",
    "\n",
    "def normalized_soundlevel(audio, **kwargs):\n",
    "    sl = compute_soundlevel(audio, **kwargs)\n",
    "\n",
    "    # move max soundlevel to t=0.0\n",
    "    t_max_idx = sl.argmax()\n",
    "    sl = sl.shift(-t_max_idx)\n",
    "    \n",
    "    # move max soundlevel to db=0.0\n",
    "    sl = sl - sl.max()\n",
    "\n",
    "    return sl\n",
    "    \n",
    "samples['soundlevel'] = [ s for idx, s in samples['audio'].apply(normalized_soundlevel, resolution=0.030).iterrows() ]\n"
   ]
  },
  {
   "cell_type": "code",
   "execution_count": 430,
   "id": "ae35b3db-1eb4-437d-a20f-6010279e89b9",
   "metadata": {
    "tags": []
   },
   "outputs": [
    {
     "data": {
      "application/vnd.plotly.v1+json": {
       "config": {
        "plotlyServerURL": "https://plot.ly"
       },
       "data": [
        {
         "hovertemplate": "class=closed_hihat<br>filename=556184__soothsayer_orchestra__hihatt-closed.wav<br>time=%{x}<br>level=%{y}<extra></extra>",
         "legendgroup": "closed_hihat",
         "line": {
          "color": "#636efa",
          "dash": "solid"
         },
         "marker": {
          "symbol": "circle"
         },
         "mode": "lines",
         "name": "closed_hihat",
         "showlegend": true,
         "type": "scattergl",
         "x": [
          0,
          0.03,
          0.06,
          0.09,
          0.12,
          0.15,
          0.18,
          0.21,
          0.24,
          0.27,
          0.3,
          0.33,
          0.36,
          0.39,
          0.42,
          0.45,
          0.48,
          0.51,
          0.54,
          0.57,
          0.6,
          0.63,
          0.66,
          0.69,
          0.72,
          0.75,
          0.78,
          0.81,
          0.84,
          0.87,
          0.9,
          0.93,
          0.96,
          0.99
         ],
         "xaxis": "x",
         "y": [
          0,
          -0.683629035949707,
          -5.979241371154785,
          -10.837752342224121,
          -14.165528297424316,
          -17.313976287841797,
          -16.854019165039062,
          -17.514606475830078,
          -16.051284790039062,
          -17.435771942138672,
          -19.316539764404297,
          -17.149818420410156,
          -17.12350845336914,
          -17.22028350830078,
          -18.208480834960938,
          -17.888294219970703,
          -17.199615478515625,
          -17.778301239013672,
          -18.152568817138672,
          -18.825260162353516,
          -19.767314910888672,
          -18.456363677978516,
          -22.430866241455078,
          -18.797569274902344,
          -16.837562561035156,
          -17.969322204589844,
          -17.98145294189453,
          -20.527183532714844,
          -21.801315307617188,
          -20.272258758544922,
          -18.44202423095703,
          -17.35861587524414,
          -18.835712432861328,
          -23.229991912841797
         ],
         "yaxis": "y"
        },
        {
         "hovertemplate": "class=closed_hihat<br>filename=634822__collinb1000__closed7.wav<br>time=%{x}<br>level=%{y}<extra></extra>",
         "legendgroup": "closed_hihat",
         "line": {
          "color": "#636efa",
          "dash": "solid"
         },
         "marker": {
          "symbol": "circle"
         },
         "mode": "lines",
         "name": "closed_hihat",
         "showlegend": false,
         "type": "scattergl",
         "x": [
          0,
          0.03,
          0.06,
          0.09,
          0.12,
          0.15,
          0.18,
          0.21,
          0.24,
          0.27,
          0.3,
          0.33,
          0.36,
          0.39,
          0.42,
          0.45,
          0.48,
          0.51,
          0.54,
          0.57,
          0.6,
          0.63,
          0.66,
          0.69,
          0.72,
          0.75,
          0.78,
          0.81,
          0.84,
          0.87,
          0.9,
          0.93,
          0.96,
          0.99
         ],
         "xaxis": "x",
         "y": [
          0,
          -1.7736806869506836,
          -5.911722183227539,
          -9.953298568725586,
          -13.487306594848633,
          -15.782978057861328,
          -18.42295265197754,
          -20.034353256225586,
          -20.8015079498291,
          -21.149118423461914,
          -16.856828689575195,
          -16.950904846191406,
          null,
          null,
          null,
          null,
          null,
          null,
          null,
          null,
          null,
          null,
          null,
          null,
          null,
          null,
          null,
          null,
          null,
          null,
          null,
          null,
          null,
          null
         ],
         "yaxis": "y"
        },
        {
         "hovertemplate": "class=closed_hihat<br>filename=140516__stomachache__closedhatphrase-002.wav<br>time=%{x}<br>level=%{y}<extra></extra>",
         "legendgroup": "closed_hihat",
         "line": {
          "color": "#636efa",
          "dash": "solid"
         },
         "marker": {
          "symbol": "circle"
         },
         "mode": "lines",
         "name": "closed_hihat",
         "showlegend": false,
         "type": "scattergl",
         "x": [
          0,
          0.03,
          0.06,
          0.09,
          0.12,
          0.15,
          0.18,
          0.21,
          0.24,
          0.27,
          0.3,
          0.33,
          0.36,
          0.39,
          0.42,
          0.45,
          0.48,
          0.51,
          0.54,
          0.57,
          0.6,
          0.63,
          0.66,
          0.69,
          0.72,
          0.75,
          0.78,
          0.81,
          0.84,
          0.87,
          0.9,
          0.93,
          0.96,
          0.99
         ],
         "xaxis": "x",
         "y": [
          0,
          -0.11132144927978516,
          -3.0507287979125977,
          -6.541974067687988,
          -10.09728717803955,
          -12.437479972839355,
          -14.631230354309082,
          -16.635879516601562,
          -18.38015365600586,
          -20.26793670654297,
          -21.460987091064453,
          -22.40786361694336,
          null,
          null,
          null,
          null,
          null,
          null,
          null,
          null,
          null,
          null,
          null,
          null,
          null,
          null,
          null,
          null,
          null,
          null,
          null,
          null,
          null,
          null
         ],
         "yaxis": "y"
        },
        {
         "hovertemplate": "class=closed_hihat<br>filename=102781__mhc__acoustic_closed_hihat2.wav<br>time=%{x}<br>level=%{y}<extra></extra>",
         "legendgroup": "closed_hihat",
         "line": {
          "color": "#636efa",
          "dash": "solid"
         },
         "marker": {
          "symbol": "circle"
         },
         "mode": "lines",
         "name": "closed_hihat",
         "showlegend": false,
         "type": "scattergl",
         "x": [
          0,
          0.03,
          0.06,
          0.09,
          0.12,
          0.15,
          0.18,
          0.21,
          0.24,
          0.27,
          0.3,
          0.33,
          0.36,
          0.39,
          0.42,
          0.45,
          0.48,
          0.51,
          0.54,
          0.57,
          0.6,
          0.63,
          0.66,
          0.69,
          0.72,
          0.75,
          0.78,
          0.81,
          0.84,
          0.87,
          0.9,
          0.93,
          0.96,
          0.99
         ],
         "xaxis": "x",
         "y": [
          0,
          -1.3433666229248047,
          -3.4671850204467773,
          -4.542577743530273,
          -6.446070671081543,
          -8.28673267364502,
          -8.774934768676758,
          -9.683669090270996,
          -12.022744178771973,
          -12.75615406036377,
          -13.51921558380127,
          -13.55323314666748,
          -15.341782569885254,
          -17.346237182617188,
          -16.898052215576172,
          -34.16570281982422,
          -80,
          -80,
          -80,
          -80,
          -80,
          -80,
          -80,
          -80,
          -80,
          null,
          null,
          null,
          null,
          null,
          null,
          null,
          null,
          null
         ],
         "yaxis": "y"
        },
        {
         "hovertemplate": "class=closed_hihat<br>filename=634822__collinb1000__closed7(1).wav<br>time=%{x}<br>level=%{y}<extra></extra>",
         "legendgroup": "closed_hihat",
         "line": {
          "color": "#636efa",
          "dash": "solid"
         },
         "marker": {
          "symbol": "circle"
         },
         "mode": "lines",
         "name": "closed_hihat",
         "showlegend": false,
         "type": "scattergl",
         "x": [
          0,
          0.03,
          0.06,
          0.09,
          0.12,
          0.15,
          0.18,
          0.21,
          0.24,
          0.27,
          0.3,
          0.33,
          0.36,
          0.39,
          0.42,
          0.45,
          0.48,
          0.51,
          0.54,
          0.57,
          0.6,
          0.63,
          0.66,
          0.69,
          0.72,
          0.75,
          0.78,
          0.81,
          0.84,
          0.87,
          0.9,
          0.93,
          0.96,
          0.99
         ],
         "xaxis": "x",
         "y": [
          0,
          -1.7736806869506836,
          -5.911722183227539,
          -9.953298568725586,
          -13.487306594848633,
          -15.782978057861328,
          -18.42295265197754,
          -20.034353256225586,
          -20.8015079498291,
          -21.149118423461914,
          -16.856828689575195,
          -16.950904846191406,
          null,
          null,
          null,
          null,
          null,
          null,
          null,
          null,
          null,
          null,
          null,
          null,
          null,
          null,
          null,
          null,
          null,
          null,
          null,
          null,
          null,
          null
         ],
         "yaxis": "y"
        },
        {
         "hovertemplate": "class=closed_hihat<br>filename=669733__jannevse__hi-hat_closed_po-12.aiff<br>time=%{x}<br>level=%{y}<extra></extra>",
         "legendgroup": "closed_hihat",
         "line": {
          "color": "#636efa",
          "dash": "solid"
         },
         "marker": {
          "symbol": "circle"
         },
         "mode": "lines",
         "name": "closed_hihat",
         "showlegend": false,
         "type": "scattergl",
         "x": [
          0,
          0.03,
          0.06,
          0.09,
          0.12,
          0.15,
          0.18,
          0.21,
          0.24,
          0.27,
          0.3,
          0.33,
          0.36,
          0.39,
          0.42,
          0.45,
          0.48,
          0.51,
          0.54,
          0.57,
          0.6,
          0.63,
          0.66,
          0.69,
          0.72,
          0.75,
          0.78,
          0.81,
          0.84,
          0.87,
          0.9,
          0.93,
          0.96,
          0.99
         ],
         "xaxis": "x",
         "y": [
          0,
          -1.7205181121826172,
          -9.13546085357666,
          -15.770228385925293,
          -18.04314422607422,
          -19.757659912109375,
          -21.6064453125,
          -22.841251373291016,
          -24.59406280517578,
          -25.965106964111328,
          -27.675342559814453,
          -28.699298858642578,
          -30.75107192993164,
          null,
          null,
          null,
          null,
          null,
          null,
          null,
          null,
          null,
          null,
          null,
          null,
          null,
          null,
          null,
          null,
          null,
          null,
          null,
          null,
          null
         ],
         "yaxis": "y"
        },
        {
         "hovertemplate": "class=closed_hihat<br>filename=13246__ianhall__hihat-closed.aiff<br>time=%{x}<br>level=%{y}<extra></extra>",
         "legendgroup": "closed_hihat",
         "line": {
          "color": "#636efa",
          "dash": "solid"
         },
         "marker": {
          "symbol": "circle"
         },
         "mode": "lines",
         "name": "closed_hihat",
         "showlegend": false,
         "type": "scattergl",
         "x": [
          0,
          0.03,
          0.06,
          0.09,
          0.12,
          0.15,
          0.18,
          0.21,
          0.24,
          0.27,
          0.3,
          0.33,
          0.36,
          0.39,
          0.42,
          0.45,
          0.48,
          0.51,
          0.54,
          0.57,
          0.6,
          0.63,
          0.66,
          0.69,
          0.72,
          0.75,
          0.78,
          0.81,
          0.84,
          0.87,
          0.9,
          0.93,
          0.96,
          0.99
         ],
         "xaxis": "x",
         "y": [
          0,
          -3.4262185096740723,
          -6.525308132171631,
          -10.599699020385742,
          -15.727474212646484,
          -20.046833038330078,
          -23.708097457885742,
          -26.57387924194336,
          -27.54650115966797,
          -29.19902801513672,
          -32.97739791870117,
          -36.658084869384766,
          null,
          null,
          null,
          null,
          null,
          null,
          null,
          null,
          null,
          null,
          null,
          null,
          null,
          null,
          null,
          null,
          null,
          null,
          null,
          null,
          null,
          null
         ],
         "yaxis": "y"
        },
        {
         "hovertemplate": "class=closed_hihat<br>filename=45058__matiasreccius__hihat_closed4.wav<br>time=%{x}<br>level=%{y}<extra></extra>",
         "legendgroup": "closed_hihat",
         "line": {
          "color": "#636efa",
          "dash": "solid"
         },
         "marker": {
          "symbol": "circle"
         },
         "mode": "lines",
         "name": "closed_hihat",
         "showlegend": false,
         "type": "scattergl",
         "x": [
          0,
          0.03,
          0.06,
          0.09,
          0.12,
          0.15,
          0.18,
          0.21,
          0.24,
          0.27,
          0.3,
          0.33,
          0.36,
          0.39,
          0.42,
          0.45,
          0.48,
          0.51,
          0.54,
          0.57,
          0.6,
          0.63,
          0.66,
          0.69,
          0.72,
          0.75,
          0.78,
          0.81,
          0.84,
          0.87,
          0.9,
          0.93,
          0.96,
          0.99
         ],
         "xaxis": "x",
         "y": [
          0,
          -5.494227409362793,
          -10.135985374450684,
          -12.968949317932129,
          -14.448607444763184,
          -16.093318939208984,
          -17.01120376586914,
          -17.862071990966797,
          -18.95859146118164,
          -20.184555053710938,
          -20.886737823486328,
          -21.72274398803711,
          -22.52414321899414,
          -23.469348907470703,
          -24.495223999023438,
          -25.510578155517578,
          -26.225852966308594,
          -27.125537872314453,
          -27.927143096923828,
          -28.977169036865234,
          -29.556682586669922,
          -30.59457778930664,
          -31.351112365722656,
          -30.315486907958984,
          -30.481853485107422,
          -31.194698333740234,
          -31.74541473388672,
          -30.934688568115234,
          -31.7916259765625,
          -31.643184661865234,
          -30.739253997802734,
          -31.40407943725586,
          -32.86631393432617,
          null
         ],
         "yaxis": "y"
        },
        {
         "hovertemplate": "class=cowbell<br>filename=99766__menegass__cow.wav<br>time=%{x}<br>level=%{y}<extra></extra>",
         "legendgroup": "cowbell",
         "line": {
          "color": "#EF553B",
          "dash": "solid"
         },
         "marker": {
          "symbol": "circle"
         },
         "mode": "lines",
         "name": "cowbell",
         "showlegend": true,
         "type": "scattergl",
         "x": [
          0,
          0.03,
          0.06,
          0.09,
          0.12,
          0.15,
          0.18,
          0.21,
          0.24,
          0.27,
          0.3,
          0.33,
          0.36,
          0.39,
          0.42,
          0.45,
          0.48,
          0.51,
          0.54,
          0.57,
          0.6,
          0.63,
          0.66,
          0.69,
          0.72,
          0.75,
          0.78,
          0.81,
          0.84,
          0.87,
          0.9,
          0.93,
          0.96,
          0.99
         ],
         "xaxis": "x",
         "y": [
          0,
          -4.044186115264893,
          -6.809849262237549,
          -10.411453247070312,
          null,
          null,
          null,
          null,
          null,
          null,
          null,
          null,
          null,
          null,
          null,
          null,
          null,
          null,
          null,
          null,
          null,
          null,
          null,
          null,
          null,
          null,
          null,
          null,
          null,
          null,
          null,
          null,
          null,
          null
         ],
         "yaxis": "y"
        },
        {
         "hovertemplate": "class=cowbell<br>filename=364919__gowlermusic__cowbell.wav<br>time=%{x}<br>level=%{y}<extra></extra>",
         "legendgroup": "cowbell",
         "line": {
          "color": "#EF553B",
          "dash": "solid"
         },
         "marker": {
          "symbol": "circle"
         },
         "mode": "lines",
         "name": "cowbell",
         "showlegend": false,
         "type": "scattergl",
         "x": [
          0,
          0.03,
          0.06,
          0.09,
          0.12,
          0.15,
          0.18,
          0.21,
          0.24,
          0.27,
          0.3,
          0.33,
          0.36,
          0.39,
          0.42,
          0.45,
          0.48,
          0.51,
          0.54,
          0.57,
          0.6,
          0.63,
          0.66,
          0.69,
          0.72,
          0.75,
          0.78,
          0.81,
          0.84,
          0.87,
          0.9,
          0.93,
          0.96,
          0.99
         ],
         "xaxis": "x",
         "y": [
          0,
          -0.4454457759857178,
          -1.4645230770111084,
          -2.5811266899108887,
          -4.089043140411377,
          -5.6105637550354,
          -7.284164905548096,
          -9.50314712524414,
          -10.876575469970703,
          -12.155059814453125,
          -14.482540130615234,
          -16.045101165771484,
          -18.339855194091797,
          -19.593555450439453,
          -20.570018768310547,
          -21.063047409057617,
          -21.508319854736328,
          -21.93221664428711,
          -22.195985794067383,
          -22.44832992553711,
          -22.8519229888916,
          -23.143070220947266,
          -23.52826499938965,
          -23.837064743041992,
          -24.044353485107422,
          -24.424654006958008,
          -24.638992309570312,
          -25.16929054260254,
          -25.32294464111328,
          -25.466753005981445,
          -25.95840072631836,
          -26.11376190185547,
          -26.670101165771484,
          null
         ],
         "yaxis": "y"
        },
        {
         "hovertemplate": "class=cowbell<br>filename=375613__samulis__cowbell-cowbell_ff_2.wav<br>time=%{x}<br>level=%{y}<extra></extra>",
         "legendgroup": "cowbell",
         "line": {
          "color": "#EF553B",
          "dash": "solid"
         },
         "marker": {
          "symbol": "circle"
         },
         "mode": "lines",
         "name": "cowbell",
         "showlegend": false,
         "type": "scattergl",
         "x": [
          0,
          0.03,
          0.06,
          0.09,
          0.12,
          0.15,
          0.18,
          0.21,
          0.24,
          0.27,
          0.3,
          0.33,
          0.36,
          0.39,
          0.42,
          0.45,
          0.48,
          0.51,
          0.54,
          0.57,
          0.6,
          0.63,
          0.66,
          0.69,
          0.72,
          0.75,
          0.78,
          0.81,
          0.84,
          0.87,
          0.9,
          0.93,
          0.96,
          0.99
         ],
         "xaxis": "x",
         "y": [
          0,
          -2.5499157905578613,
          -6.076915264129639,
          -8.6844482421875,
          -10.764911651611328,
          -11.588857650756836,
          -13.80699348449707,
          -15.393884658813477,
          -17.09135627746582,
          -18.678028106689453,
          -19.842870712280273,
          -21.68206214904785,
          -22.212364196777344,
          -23.8627872467041,
          -24.60297203063965,
          -24.017601013183594,
          -25.613866806030273,
          -25.574785232543945,
          -27.007001876831055,
          -28.871789932250977,
          -28.066240310668945,
          -29.587453842163086,
          -29.637712478637695,
          -29.556238174438477,
          -29.62727928161621,
          -29.022485733032227,
          -28.931982040405273,
          -28.894838333129883,
          -32.352783203125,
          -28.682905197143555,
          -29.54526710510254,
          -31.525320053100586,
          -31.039949417114258,
          null
         ],
         "yaxis": "y"
        },
        {
         "hovertemplate": "class=cowbell<br>filename=34272__pj1s__cowbell.wav<br>time=%{x}<br>level=%{y}<extra></extra>",
         "legendgroup": "cowbell",
         "line": {
          "color": "#EF553B",
          "dash": "solid"
         },
         "marker": {
          "symbol": "circle"
         },
         "mode": "lines",
         "name": "cowbell",
         "showlegend": false,
         "type": "scattergl",
         "x": [
          0,
          0.03,
          0.06,
          0.09,
          0.12,
          0.15,
          0.18,
          0.21,
          0.24,
          0.27,
          0.3,
          0.33,
          0.36,
          0.39,
          0.42,
          0.45,
          0.48,
          0.51,
          0.54,
          0.57,
          0.6,
          0.63,
          0.66,
          0.69,
          0.72,
          0.75,
          0.78,
          0.81,
          0.84,
          0.87,
          0.9,
          0.93,
          0.96,
          0.99
         ],
         "xaxis": "x",
         "y": [
          0,
          -2.317607879638672,
          -5.4912614822387695,
          -8.635297775268555,
          -10.340446472167969,
          -11.751102447509766,
          -12.83447265625,
          -13.252519607543945,
          -14.252279281616211,
          -15.053747177124023,
          -15.570268630981445,
          -16.322650909423828,
          -17.035818099975586,
          -17.483394622802734,
          -18.089231491088867,
          -18.803030014038086,
          -19.234846115112305,
          -20.066614151000977,
          -21.177549362182617,
          -22.204933166503906,
          -23.37240219116211,
          -24.356403350830078,
          -25.75734519958496,
          -27.711400985717773,
          -27.96790885925293,
          -29.37601661682129,
          -29.887346267700195,
          -30.135499954223633,
          -32.23118591308594,
          -34.66881561279297,
          -37.26026153564453,
          -42.67914581298828,
          -80,
          -80
         ],
         "yaxis": "y"
        },
        {
         "hovertemplate": "class=cowbell<br>filename=159758__timgormly__cowbell_os_3.aiff<br>time=%{x}<br>level=%{y}<extra></extra>",
         "legendgroup": "cowbell",
         "line": {
          "color": "#EF553B",
          "dash": "solid"
         },
         "marker": {
          "symbol": "circle"
         },
         "mode": "lines",
         "name": "cowbell",
         "showlegend": false,
         "type": "scattergl",
         "x": [
          0,
          0.03,
          0.06,
          0.09,
          0.12,
          0.15,
          0.18,
          0.21,
          0.24,
          0.27,
          0.3,
          0.33,
          0.36,
          0.39,
          0.42,
          0.45,
          0.48,
          0.51,
          0.54,
          0.57,
          0.6,
          0.63,
          0.66,
          0.69,
          0.72,
          0.75,
          0.78,
          0.81,
          0.84,
          0.87,
          0.9,
          0.93,
          0.96,
          0.99
         ],
         "xaxis": "x",
         "y": [
          0,
          -4.305510997772217,
          -7.355352878570557,
          -10.061664581298828,
          -13.022756576538086,
          -16.138381958007812,
          -18.71352195739746,
          -19.77901840209961,
          -20.421810150146484,
          -20.56316566467285,
          -20.574495315551758,
          null,
          null,
          null,
          null,
          null,
          null,
          null,
          null,
          null,
          null,
          null,
          null,
          null,
          null,
          null,
          null,
          null,
          null,
          null,
          null,
          null,
          null,
          null
         ],
         "yaxis": "y"
        },
        {
         "hovertemplate": "class=cowbell<br>filename=159765__timgormly__cowbell_os_5.aiff<br>time=%{x}<br>level=%{y}<extra></extra>",
         "legendgroup": "cowbell",
         "line": {
          "color": "#EF553B",
          "dash": "solid"
         },
         "marker": {
          "symbol": "circle"
         },
         "mode": "lines",
         "name": "cowbell",
         "showlegend": false,
         "type": "scattergl",
         "x": [
          0,
          0.03,
          0.06,
          0.09,
          0.12,
          0.15,
          0.18,
          0.21,
          0.24,
          0.27,
          0.3,
          0.33,
          0.36,
          0.39,
          0.42,
          0.45,
          0.48,
          0.51,
          0.54,
          0.57,
          0.6,
          0.63,
          0.66,
          0.69,
          0.72,
          0.75,
          0.78,
          0.81,
          0.84,
          0.87,
          0.9,
          0.93,
          0.96,
          0.99
         ],
         "xaxis": "x",
         "y": [
          0,
          -2.2902727127075195,
          -7.074663162231445,
          -10.474316596984863,
          -13.529484748840332,
          -17.126636505126953,
          -20.115638732910156,
          -22.398700714111328,
          -23.469558715820312,
          -23.638717651367188,
          -24.19149398803711,
          null,
          null,
          null,
          null,
          null,
          null,
          null,
          null,
          null,
          null,
          null,
          null,
          null,
          null,
          null,
          null,
          null,
          null,
          null,
          null,
          null,
          null,
          null
         ],
         "yaxis": "y"
        },
        {
         "hovertemplate": "class=cowbell<br>filename=432202__curesforbrokenhearts__cowbell-with-blastick.wav<br>time=%{x}<br>level=%{y}<extra></extra>",
         "legendgroup": "cowbell",
         "line": {
          "color": "#EF553B",
          "dash": "solid"
         },
         "marker": {
          "symbol": "circle"
         },
         "mode": "lines",
         "name": "cowbell",
         "showlegend": false,
         "type": "scattergl",
         "x": [
          0,
          0.03,
          0.06,
          0.09,
          0.12,
          0.15,
          0.18,
          0.21,
          0.24,
          0.27,
          0.3,
          0.33,
          0.36,
          0.39,
          0.42,
          0.45,
          0.48,
          0.51,
          0.54,
          0.57,
          0.6,
          0.63,
          0.66,
          0.69,
          0.72,
          0.75,
          0.78,
          0.81,
          0.84,
          0.87,
          0.9,
          0.93,
          0.96,
          0.99
         ],
         "xaxis": "x",
         "y": [
          0,
          -1.677819013595581,
          -3.106766939163208,
          -4.462156295776367,
          -5.683784484863281,
          -6.894759178161621,
          -7.930366516113281,
          -9.074901580810547,
          -10.097929000854492,
          -11.222350120544434,
          -12.380892753601074,
          -13.668966293334961,
          -14.888586044311523,
          -16.21938705444336,
          -17.835721969604492,
          -19.485504150390625,
          -21.210712432861328,
          -22.93258285522461,
          -24.818527221679688,
          -26.752460479736328,
          -28.954673767089844,
          -31.426673889160156,
          -34.176300048828125,
          -37.32835388183594,
          -41.4710807800293,
          -38.23771286010742,
          -35.500816345214844,
          -37.88594436645508,
          -39.436946868896484,
          -41.153900146484375,
          -44.06910705566406,
          -44.9885139465332,
          -47.267642974853516,
          null
         ],
         "yaxis": "y"
        },
        {
         "hovertemplate": "class=cowbell<br>filename=75839__rossf__lm1-cowbell.wav<br>time=%{x}<br>level=%{y}<extra></extra>",
         "legendgroup": "cowbell",
         "line": {
          "color": "#EF553B",
          "dash": "solid"
         },
         "marker": {
          "symbol": "circle"
         },
         "mode": "lines",
         "name": "cowbell",
         "showlegend": false,
         "type": "scattergl",
         "x": [
          0,
          0.03,
          0.06,
          0.09,
          0.12,
          0.15,
          0.18,
          0.21,
          0.24,
          0.27,
          0.3,
          0.33,
          0.36,
          0.39,
          0.42,
          0.45,
          0.48,
          0.51,
          0.54,
          0.57,
          0.6,
          0.63,
          0.66,
          0.69,
          0.72,
          0.75,
          0.78,
          0.81,
          0.84,
          0.87,
          0.9,
          0.93,
          0.96,
          0.99
         ],
         "xaxis": "x",
         "y": [
          0,
          -1.2959914207458496,
          -10.258109092712402,
          -15.993946075439453,
          -19.88900375366211,
          -26.035400390625,
          null,
          null,
          null,
          null,
          null,
          null,
          null,
          null,
          null,
          null,
          null,
          null,
          null,
          null,
          null,
          null,
          null,
          null,
          null,
          null,
          null,
          null,
          null,
          null,
          null,
          null,
          null,
          null
         ],
         "yaxis": "y"
        },
        {
         "hovertemplate": "class=cowbell<br>filename=90979__suicidity__medium-cowbell-of-god-011.wav<br>time=%{x}<br>level=%{y}<extra></extra>",
         "legendgroup": "cowbell",
         "line": {
          "color": "#EF553B",
          "dash": "solid"
         },
         "marker": {
          "symbol": "circle"
         },
         "mode": "lines",
         "name": "cowbell",
         "showlegend": false,
         "type": "scattergl",
         "x": [
          0,
          0.03,
          0.06,
          0.09,
          0.12,
          0.15,
          0.18,
          0.21,
          0.24,
          0.27,
          0.3,
          0.33,
          0.36,
          0.39,
          0.42,
          0.45,
          0.48,
          0.51,
          0.54,
          0.57,
          0.6,
          0.63,
          0.66,
          0.69,
          0.72,
          0.75,
          0.78,
          0.81,
          0.84,
          0.87,
          0.9,
          0.93,
          0.96,
          0.99
         ],
         "xaxis": "x",
         "y": [
          0,
          -2.163418769836426,
          -4.594230651855469,
          -7.429884910583496,
          -10.455920219421387,
          -13.411215782165527,
          -16.291675567626953,
          -19.227691650390625,
          -22.108829498291016,
          -24.42145538330078,
          -26.939067840576172,
          -29.393707275390625,
          -29.788288116455078,
          -29.178714752197266,
          -30.829059600830078,
          -31.024337768554688,
          -30.616661071777344,
          -30.101680755615234,
          -31.462474822998047,
          -30.141151428222656,
          -29.120098114013672,
          -29.138381958007812,
          -29.98278045654297,
          -29.714332580566406,
          -29.921558380126953,
          -29.609264373779297,
          -30.231182098388672,
          -30.677581787109375,
          -30.562671661376953,
          -31.581798553466797,
          -34.69187545776367,
          -39.00545120239258,
          -54.5335807800293,
          null
         ],
         "yaxis": "y"
        },
        {
         "hovertemplate": "class=cowbell<br>filename=75338__neotone__cowbell.wav<br>time=%{x}<br>level=%{y}<extra></extra>",
         "legendgroup": "cowbell",
         "line": {
          "color": "#EF553B",
          "dash": "solid"
         },
         "marker": {
          "symbol": "circle"
         },
         "mode": "lines",
         "name": "cowbell",
         "showlegend": false,
         "type": "scattergl",
         "x": [
          0,
          0.03,
          0.06,
          0.09,
          0.12,
          0.15,
          0.18,
          0.21,
          0.24,
          0.27,
          0.3,
          0.33,
          0.36,
          0.39,
          0.42,
          0.45,
          0.48,
          0.51,
          0.54,
          0.57,
          0.6,
          0.63,
          0.66,
          0.69,
          0.72,
          0.75,
          0.78,
          0.81,
          0.84,
          0.87,
          0.9,
          0.93,
          0.96,
          0.99
         ],
         "xaxis": "x",
         "y": [
          0,
          -0.7945804595947266,
          -1.6485240459442139,
          -2.920245409011841,
          -4.66584587097168,
          -5.845026016235352,
          -7.2014665603637695,
          -8.922125816345215,
          -10.415942192077637,
          -13.290783882141113,
          -17.207326889038086,
          null,
          null,
          null,
          null,
          null,
          null,
          null,
          null,
          null,
          null,
          null,
          null,
          null,
          null,
          null,
          null,
          null,
          null,
          null,
          null,
          null,
          null,
          null
         ],
         "yaxis": "y"
        },
        {
         "hovertemplate": "class=kick<br>filename=331589__j_zealous__kick-jzealous-hard-club.aiff<br>time=%{x}<br>level=%{y}<extra></extra>",
         "legendgroup": "kick",
         "line": {
          "color": "#00cc96",
          "dash": "solid"
         },
         "marker": {
          "symbol": "circle"
         },
         "mode": "lines",
         "name": "kick",
         "showlegend": true,
         "type": "scattergl",
         "x": [
          0,
          0.03,
          0.06,
          0.09,
          0.12,
          0.15,
          0.18,
          0.21,
          0.24,
          0.27,
          0.3,
          0.33,
          0.36,
          0.39,
          0.42,
          0.45,
          0.48,
          0.51,
          0.54,
          0.57,
          0.6,
          0.63,
          0.66,
          0.69,
          0.72,
          0.75,
          0.78,
          0.81,
          0.84,
          0.87,
          0.9,
          0.93,
          0.96,
          0.99
         ],
         "xaxis": "x",
         "y": [
          0,
          -0.05694770812988281,
          -0.36216259002685547,
          -0.7108235359191895,
          -0.551464319229126,
          -1.2496049404144287,
          -1.6537678241729736,
          -2.840735673904419,
          -5.196599960327148,
          -8.430161476135254,
          -12.213961601257324,
          -30.33728790283203,
          -34.91436767578125,
          -42.01336669921875,
          -47.98219680786133,
          -49.17674255371094,
          -49.5401611328125,
          -49.168365478515625,
          -49.3912353515625,
          -49.33919906616211,
          -49.225303649902344,
          -49.48320770263672,
          -49.13178253173828,
          -49.518653869628906,
          -49.19377136230469,
          -49.35533905029297,
          -49.37691879272461,
          -49.196449279785156,
          -49.50095748901367,
          -49.133399963378906,
          -49.498741149902344,
          -49.22179412841797,
          -49.82538604736328,
          null
         ],
         "yaxis": "y"
        },
        {
         "hovertemplate": "class=kick<br>filename=410149__screamstudio__kick-drum.wav<br>time=%{x}<br>level=%{y}<extra></extra>",
         "legendgroup": "kick",
         "line": {
          "color": "#00cc96",
          "dash": "solid"
         },
         "marker": {
          "symbol": "circle"
         },
         "mode": "lines",
         "name": "kick",
         "showlegend": false,
         "type": "scattergl",
         "x": [
          0,
          0.03,
          0.06,
          0.09,
          0.12,
          0.15,
          0.18,
          0.21,
          0.24,
          0.27,
          0.3,
          0.33,
          0.36,
          0.39,
          0.42,
          0.45,
          0.48,
          0.51,
          0.54,
          0.57,
          0.6,
          0.63,
          0.66,
          0.69,
          0.72,
          0.75,
          0.78,
          0.81,
          0.84,
          0.87,
          0.9,
          0.93,
          0.96,
          0.99
         ],
         "xaxis": "x",
         "y": [
          0,
          -0.6577889919281006,
          -1.3674397468566895,
          -2.43485426902771,
          -3.5179340839385986,
          -4.542471885681152,
          -5.972702980041504,
          -8.231156349182129,
          -12.41309928894043,
          -24.92525863647461,
          -58.39460372924805,
          -77.89971160888672,
          -80,
          -80,
          -80,
          -80,
          -80,
          -80,
          -80,
          -80,
          -80,
          -80,
          -80,
          -80,
          -80,
          -80,
          -80,
          -80,
          -80,
          -80,
          -80,
          -80,
          null,
          null
         ],
         "yaxis": "y"
        },
        {
         "hovertemplate": "class=kick<br>filename=248142__dpren__fat-kick.aiff<br>time=%{x}<br>level=%{y}<extra></extra>",
         "legendgroup": "kick",
         "line": {
          "color": "#00cc96",
          "dash": "solid"
         },
         "marker": {
          "symbol": "circle"
         },
         "mode": "lines",
         "name": "kick",
         "showlegend": false,
         "type": "scattergl",
         "x": [
          0,
          0.03,
          0.06,
          0.09,
          0.12,
          0.15,
          0.18,
          0.21,
          0.24,
          0.27,
          0.3,
          0.33,
          0.36,
          0.39,
          0.42,
          0.45,
          0.48,
          0.51,
          0.54,
          0.57,
          0.6,
          0.63,
          0.66,
          0.69,
          0.72,
          0.75,
          0.78,
          0.81,
          0.84,
          0.87,
          0.9,
          0.93,
          0.96,
          0.99
         ],
         "xaxis": "x",
         "y": [
          0,
          -2.9179916381835938,
          -4.130072116851807,
          -6.620855331420898,
          -9.129755020141602,
          -10.54450798034668,
          -13.222281455993652,
          -15.537345886230469,
          -18.89276695251465,
          -23.70217514038086,
          -29.704214096069336,
          -42.846107482910156,
          -80,
          -80,
          -80,
          -80,
          -80,
          -80,
          -80,
          -80,
          -80,
          -80,
          -80,
          -80,
          null,
          null,
          null,
          null,
          null,
          null,
          null,
          null,
          null,
          null
         ],
         "yaxis": "y"
        },
        {
         "hovertemplate": "class=kick<br>filename=264601__veiler__kick-swedish.wav<br>time=%{x}<br>level=%{y}<extra></extra>",
         "legendgroup": "kick",
         "line": {
          "color": "#00cc96",
          "dash": "solid"
         },
         "marker": {
          "symbol": "circle"
         },
         "mode": "lines",
         "name": "kick",
         "showlegend": false,
         "type": "scattergl",
         "x": [
          0,
          0.03,
          0.06,
          0.09,
          0.12,
          0.15,
          0.18,
          0.21,
          0.24,
          0.27,
          0.3,
          0.33,
          0.36,
          0.39,
          0.42,
          0.45,
          0.48,
          0.51,
          0.54,
          0.57,
          0.6,
          0.63,
          0.66,
          0.69,
          0.72,
          0.75,
          0.78,
          0.81,
          0.84,
          0.87,
          0.9,
          0.93,
          0.96,
          0.99
         ],
         "xaxis": "x",
         "y": [
          0,
          -2.264216899871826,
          -5.633566856384277,
          -8.854398727416992,
          -12.20750617980957,
          -12.478952407836914,
          -13.602836608886719,
          -15.792119979858398,
          -17.090757369995117,
          -17.93651008605957,
          -17.483510971069336,
          -18.009069442749023,
          -19.951234817504883,
          null,
          null,
          null,
          null,
          null,
          null,
          null,
          null,
          null,
          null,
          null,
          null,
          null,
          null,
          null,
          null,
          null,
          null,
          null,
          null,
          null
         ],
         "yaxis": "y"
        },
        {
         "hovertemplate": "class=kick<br>filename=72985__zgump__kick-pack-0303.wav<br>time=%{x}<br>level=%{y}<extra></extra>",
         "legendgroup": "kick",
         "line": {
          "color": "#00cc96",
          "dash": "solid"
         },
         "marker": {
          "symbol": "circle"
         },
         "mode": "lines",
         "name": "kick",
         "showlegend": false,
         "type": "scattergl",
         "x": [
          0,
          0.03,
          0.06,
          0.09,
          0.12,
          0.15,
          0.18,
          0.21,
          0.24,
          0.27,
          0.3,
          0.33,
          0.36,
          0.39,
          0.42,
          0.45,
          0.48,
          0.51,
          0.54,
          0.57,
          0.6,
          0.63,
          0.66,
          0.69,
          0.72,
          0.75,
          0.78,
          0.81,
          0.84,
          0.87,
          0.9,
          0.93,
          0.96,
          0.99
         ],
         "xaxis": "x",
         "y": [
          0,
          -0.5300799608230591,
          -0.7432999610900879,
          -1.0303723812103271,
          -1.8239333629608154,
          -1.7714593410491943,
          -2.2904868125915527,
          -2.667527914047241,
          -2.8167102336883545,
          -3.630279779434204,
          -3.829604387283325,
          -4.584117889404297,
          -5.145551681518555,
          -5.14068603515625,
          -5.827059745788574,
          -5.905986785888672,
          -6.3575639724731445,
          -6.974429130554199,
          -7.128785133361816,
          -8.028929710388184,
          -8.436304092407227,
          -9.160527229309082,
          -9.980271339416504,
          -9.89976978302002,
          -10.511870384216309,
          -10.682887077331543,
          -10.934459686279297,
          -11.616839408874512,
          -11.67924690246582,
          -12.819575309753418,
          null,
          null,
          null,
          null
         ],
         "yaxis": "y"
        },
        {
         "hovertemplate": "class=kick<br>filename=171484__xicecoffeex__savannah-kick.wav<br>time=%{x}<br>level=%{y}<extra></extra>",
         "legendgroup": "kick",
         "line": {
          "color": "#00cc96",
          "dash": "solid"
         },
         "marker": {
          "symbol": "circle"
         },
         "mode": "lines",
         "name": "kick",
         "showlegend": false,
         "type": "scattergl",
         "x": [
          0,
          0.03,
          0.06,
          0.09,
          0.12,
          0.15,
          0.18,
          0.21,
          0.24,
          0.27,
          0.3,
          0.33,
          0.36,
          0.39,
          0.42,
          0.45,
          0.48,
          0.51,
          0.54,
          0.57,
          0.6,
          0.63,
          0.66,
          0.69,
          0.72,
          0.75,
          0.78,
          0.81,
          0.84,
          0.87,
          0.9,
          0.93,
          0.96,
          0.99
         ],
         "xaxis": "x",
         "y": [
          0,
          -2.910491704940796,
          -4.914157390594482,
          -10.438943862915039,
          -12.995058059692383,
          -15.724262237548828,
          -15.331721305847168,
          -14.614072799682617,
          -13.962055206298828,
          -14.323564529418945,
          -14.133840560913086,
          -17.36455726623535,
          -26.323720932006836,
          -21.2269344329834,
          -21.305540084838867,
          -22.30494499206543,
          -23.890092849731445,
          -25.34328842163086,
          -24.020170211791992,
          -27.511343002319336,
          -25.85567855834961,
          -26.317623138427734,
          -26.173566818237305,
          -26.58300018310547,
          -26.844594955444336,
          -26.842153549194336,
          -27.491729736328125,
          -27.206544876098633,
          -27.983911514282227,
          -27.72049903869629,
          -28.296340942382812,
          -28.362932205200195,
          -28.96546173095703,
          null
         ],
         "yaxis": "y"
        },
        {
         "hovertemplate": "class=kick<br>filename=131336__kaonaya__kick-hiphop-1.wav<br>time=%{x}<br>level=%{y}<extra></extra>",
         "legendgroup": "kick",
         "line": {
          "color": "#00cc96",
          "dash": "solid"
         },
         "marker": {
          "symbol": "circle"
         },
         "mode": "lines",
         "name": "kick",
         "showlegend": false,
         "type": "scattergl",
         "x": [
          0,
          0.03,
          0.06,
          0.09,
          0.12,
          0.15,
          0.18,
          0.21,
          0.24,
          0.27,
          0.3,
          0.33,
          0.36,
          0.39,
          0.42,
          0.45,
          0.48,
          0.51,
          0.54,
          0.57,
          0.6,
          0.63,
          0.66,
          0.69,
          0.72,
          0.75,
          0.78,
          0.81,
          0.84,
          0.87,
          0.9,
          0.93,
          0.96,
          0.99
         ],
         "xaxis": "x",
         "y": [
          0,
          -0.8481225967407227,
          -1.8507347106933594,
          -7.397526264190674,
          -9.139333724975586,
          -10.563688278198242,
          -10.753145217895508,
          -11.995965957641602,
          -11.806596755981445,
          -16.326143264770508,
          null,
          null,
          null,
          null,
          null,
          null,
          null,
          null,
          null,
          null,
          null,
          null,
          null,
          null,
          null,
          null,
          null,
          null,
          null,
          null,
          null,
          null,
          null,
          null
         ],
         "yaxis": "y"
        },
        {
         "hovertemplate": "class=kick<br>filename=132582__rob10__kick-drum-c-1.wav<br>time=%{x}<br>level=%{y}<extra></extra>",
         "legendgroup": "kick",
         "line": {
          "color": "#00cc96",
          "dash": "solid"
         },
         "marker": {
          "symbol": "circle"
         },
         "mode": "lines",
         "name": "kick",
         "showlegend": false,
         "type": "scattergl",
         "x": [
          0,
          0.03,
          0.06,
          0.09,
          0.12,
          0.15,
          0.18,
          0.21,
          0.24,
          0.27,
          0.3,
          0.33,
          0.36,
          0.39,
          0.42,
          0.45,
          0.48,
          0.51,
          0.54,
          0.57,
          0.6,
          0.63,
          0.66,
          0.69,
          0.72,
          0.75,
          0.78,
          0.81,
          0.84,
          0.87,
          0.9,
          0.93,
          0.96,
          0.99
         ],
         "xaxis": "x",
         "y": [
          0,
          -0.8646833896636963,
          -1.8587367534637451,
          -2.9931256771087646,
          -4.235987663269043,
          -5.569059371948242,
          -6.984342575073242,
          -8.4840669631958,
          -10.080491065979004,
          -11.79684829711914,
          -13.670794486999512,
          -15.762330055236816,
          -18.170808792114258,
          -21.076122283935547,
          -24.852041244506836,
          -30.476978302001953,
          -42.232303619384766,
          -80,
          -80,
          null,
          null,
          null,
          null,
          null,
          null,
          null,
          null,
          null,
          null,
          null,
          null,
          null,
          null,
          null
         ],
         "yaxis": "y"
        },
        {
         "hovertemplate": "class=kick<br>filename=324153__scale75__semiq_kicks_4.wav<br>time=%{x}<br>level=%{y}<extra></extra>",
         "legendgroup": "kick",
         "line": {
          "color": "#00cc96",
          "dash": "solid"
         },
         "marker": {
          "symbol": "circle"
         },
         "mode": "lines",
         "name": "kick",
         "showlegend": false,
         "type": "scattergl",
         "x": [
          0,
          0.03,
          0.06,
          0.09,
          0.12,
          0.15,
          0.18,
          0.21,
          0.24,
          0.27,
          0.3,
          0.33,
          0.36,
          0.39,
          0.42,
          0.45,
          0.48,
          0.51,
          0.54,
          0.57,
          0.6,
          0.63,
          0.66,
          0.69,
          0.72,
          0.75,
          0.78,
          0.81,
          0.84,
          0.87,
          0.9,
          0.93,
          0.96,
          0.99
         ],
         "xaxis": "x",
         "y": [
          0,
          -1.4674196243286133,
          -1.598329782485962,
          -2.307788133621216,
          -2.7062361240386963,
          -3.4409420490264893,
          -4.095972537994385,
          -4.63985013961792,
          -5.006901741027832,
          -7.123941898345947,
          -8.209714889526367,
          -11.412028312683105,
          -16.95750617980957,
          -22.42644691467285,
          -26.577497482299805,
          -31.342449188232422,
          -47.85297393798828,
          -53.589778900146484,
          -59.088890075683594,
          -80,
          -80,
          -80,
          -80,
          -80,
          -80,
          -80,
          -80,
          -80,
          -80,
          -80,
          -80,
          -80,
          -80,
          null
         ],
         "yaxis": "y"
        },
        {
         "hovertemplate": "class=kick<br>filename=171104__dwsd__kick_gettinglaid.wav<br>time=%{x}<br>level=%{y}<extra></extra>",
         "legendgroup": "kick",
         "line": {
          "color": "#00cc96",
          "dash": "solid"
         },
         "marker": {
          "symbol": "circle"
         },
         "mode": "lines",
         "name": "kick",
         "showlegend": false,
         "type": "scattergl",
         "x": [
          0,
          0.03,
          0.06,
          0.09,
          0.12,
          0.15,
          0.18,
          0.21,
          0.24,
          0.27,
          0.3,
          0.33,
          0.36,
          0.39,
          0.42,
          0.45,
          0.48,
          0.51,
          0.54,
          0.57,
          0.6,
          0.63,
          0.66,
          0.69,
          0.72,
          0.75,
          0.78,
          0.81,
          0.84,
          0.87,
          0.9,
          0.93,
          0.96,
          0.99
         ],
         "xaxis": "x",
         "y": [
          0,
          -0.6548466682434082,
          -0.983304500579834,
          -1.625953197479248,
          -2.338038921356201,
          -2.9783620834350586,
          -7.299489498138428,
          -22.705598831176758,
          -30.594741821289062,
          -31.92822265625,
          -32.70757293701172,
          -33.509586334228516,
          -34.32089614868164,
          -35.134124755859375,
          -37.29599380493164,
          -56.803077697753906,
          null,
          null,
          null,
          null,
          null,
          null,
          null,
          null,
          null,
          null,
          null,
          null,
          null,
          null,
          null,
          null,
          null,
          null
         ],
         "yaxis": "y"
        },
        {
         "hovertemplate": "class=cymbal<br>filename=207956__altemark__cymbal.wav<br>time=%{x}<br>level=%{y}<extra></extra>",
         "legendgroup": "cymbal",
         "line": {
          "color": "#ab63fa",
          "dash": "solid"
         },
         "marker": {
          "symbol": "circle"
         },
         "mode": "lines",
         "name": "cymbal",
         "showlegend": true,
         "type": "scattergl",
         "x": [
          0,
          0.03,
          0.06,
          0.09,
          0.12,
          0.15,
          0.18,
          0.21,
          0.24,
          0.27,
          0.3,
          0.33,
          0.36,
          0.39,
          0.42,
          0.45,
          0.48,
          0.51,
          0.54,
          0.57,
          0.6,
          0.63,
          0.66,
          0.69,
          0.72,
          0.75,
          0.78,
          0.81,
          0.84,
          0.87,
          0.9,
          0.93,
          0.96,
          0.99
         ],
         "xaxis": "x",
         "y": [
          0,
          -0.27324533462524414,
          -1.0512213706970215,
          -1.488147258758545,
          -2.209303379058838,
          -2.6204895973205566,
          -2.899405002593994,
          -3.4324193000793457,
          -3.58573579788208,
          -3.9939093589782715,
          -4.3635640144348145,
          -4.52974271774292,
          -4.9468674659729,
          -5.0186076164245605,
          -5.417914867401123,
          -5.551642894744873,
          -5.643824100494385,
          -5.835922718048096,
          -6.097121715545654,
          -6.430675029754639,
          -6.4655232429504395,
          -6.818326473236084,
          -7.021778583526611,
          -7.285054683685303,
          -7.635132312774658,
          -7.868295192718506,
          -8.034597396850586,
          -8.244516372680664,
          -8.544084548950195,
          -8.761850357055664,
          -9.055608749389648,
          -9.183029174804688,
          -9.818906784057617,
          null
         ],
         "yaxis": "y"
        },
        {
         "hovertemplate": "class=cymbal<br>filename=23543__loofa__brushd-china-cymbal02.aiff<br>time=%{x}<br>level=%{y}<extra></extra>",
         "legendgroup": "cymbal",
         "line": {
          "color": "#ab63fa",
          "dash": "solid"
         },
         "marker": {
          "symbol": "circle"
         },
         "mode": "lines",
         "name": "cymbal",
         "showlegend": false,
         "type": "scattergl",
         "x": [
          0,
          0.03,
          0.06,
          0.09,
          0.12,
          0.15,
          0.18,
          0.21,
          0.24,
          0.27,
          0.3,
          0.33,
          0.36,
          0.39,
          0.42,
          0.45,
          0.48,
          0.51,
          0.54,
          0.57,
          0.6,
          0.63,
          0.66,
          0.69,
          0.72,
          0.75,
          0.78,
          0.81,
          0.84,
          0.87,
          0.9,
          0.93,
          0.96,
          0.99
         ],
         "xaxis": "x",
         "y": [
          0,
          -1.665384292602539,
          -2.8811769485473633,
          -2.72322940826416,
          -3.167308807373047,
          -4.224977493286133,
          -4.653384208679199,
          -4.274425506591797,
          -4.233089447021484,
          -4.183352470397949,
          -4.844383239746094,
          -5.401079177856445,
          -4.569853782653809,
          -6.00408935546875,
          -5.661505699157715,
          -5.7250518798828125,
          -6.061369895935059,
          -6.75019645690918,
          -6.943431854248047,
          -6.501247406005859,
          -7.288852691650391,
          -6.8897247314453125,
          -6.619113922119141,
          -7.04829216003418,
          -7.63279914855957,
          -7.958803176879883,
          -7.71624755859375,
          -7.989238739013672,
          -7.765239715576172,
          -8.293615341186523,
          -8.994985580444336,
          -8.682498931884766,
          -8.023754119873047,
          null
         ],
         "yaxis": "y"
        },
        {
         "hovertemplate": "class=cymbal<br>filename=587935__strangehorizon__cymbal_ride.wav<br>time=%{x}<br>level=%{y}<extra></extra>",
         "legendgroup": "cymbal",
         "line": {
          "color": "#ab63fa",
          "dash": "solid"
         },
         "marker": {
          "symbol": "circle"
         },
         "mode": "lines",
         "name": "cymbal",
         "showlegend": false,
         "type": "scattergl",
         "x": [
          0,
          0.03,
          0.06,
          0.09,
          0.12,
          0.15,
          0.18,
          0.21,
          0.24,
          0.27,
          0.3,
          0.33,
          0.36,
          0.39,
          0.42,
          0.45,
          0.48,
          0.51,
          0.54,
          0.57,
          0.6,
          0.63,
          0.66,
          0.69,
          0.72,
          0.75,
          0.78,
          0.81,
          0.84,
          0.87,
          0.9,
          0.93,
          0.96,
          0.99
         ],
         "xaxis": "x",
         "y": [
          0,
          -0.38175392150878906,
          -1.7994375228881836,
          -1.3844738006591797,
          -1.1404132843017578,
          -1.551961898803711,
          -1.6176738739013672,
          -2.2819385528564453,
          -2.403409004211426,
          -2.4567956924438477,
          -2.4091711044311523,
          -3.317275047302246,
          -3.5475168228149414,
          -4.092455863952637,
          -3.8340864181518555,
          -4.084303855895996,
          -4.415821075439453,
          -4.671982765197754,
          -4.94089412689209,
          -5.15554141998291,
          -4.9365949630737305,
          -5.409760475158691,
          -6.025562286376953,
          -5.858102798461914,
          -6.158425331115723,
          -6.342687606811523,
          -6.716902732849121,
          -6.631383895874023,
          -7.064355850219727,
          -7.062762260437012,
          -7.451871871948242,
          -7.962691307067871,
          -7.806392669677734,
          -8.29135513305664
         ],
         "yaxis": "y"
        },
        {
         "hovertemplate": "class=cymbal<br>filename=149480__pjcohen__ottaviano22ridecymbal2500gwash.wav<br>time=%{x}<br>level=%{y}<extra></extra>",
         "legendgroup": "cymbal",
         "line": {
          "color": "#ab63fa",
          "dash": "solid"
         },
         "marker": {
          "symbol": "circle"
         },
         "mode": "lines",
         "name": "cymbal",
         "showlegend": false,
         "type": "scattergl",
         "x": [
          0,
          0.03,
          0.06,
          0.09,
          0.12,
          0.15,
          0.18,
          0.21,
          0.24,
          0.27,
          0.3,
          0.33,
          0.36,
          0.39,
          0.42,
          0.45,
          0.48,
          0.51,
          0.54,
          0.57,
          0.6,
          0.63,
          0.66,
          0.69,
          0.72,
          0.75,
          0.78,
          0.81,
          0.84,
          0.87,
          0.9,
          0.93,
          0.96,
          0.99
         ],
         "xaxis": "x",
         "y": [
          0,
          -0.5821733474731445,
          -1.0462455749511719,
          -1.4344863891601562,
          -2.1041736602783203,
          -2.081026077270508,
          -2.3531570434570312,
          -3.320341110229492,
          -2.0922327041625977,
          -2.943246841430664,
          -3.670835494995117,
          -4.108848571777344,
          -3.888458251953125,
          -5.313377380371094,
          -5.405647277832031,
          -4.488384246826172,
          -4.73630428314209,
          -5.480619430541992,
          -5.704567909240723,
          -5.887493133544922,
          -6.148365020751953,
          -6.03951358795166,
          -6.229948043823242,
          -6.383622169494629,
          -6.037901878356934,
          -6.2948503494262695,
          -7.0644426345825195,
          -7.003596305847168,
          -7.316213607788086,
          -6.885313034057617,
          -7.62158203125,
          -8.208724975585938,
          -7.947381973266602,
          -8.616950988769531
         ],
         "yaxis": "y"
        },
        {
         "hovertemplate": "class=cymbal<br>filename=121097__thirsk__cymbal.wav<br>time=%{x}<br>level=%{y}<extra></extra>",
         "legendgroup": "cymbal",
         "line": {
          "color": "#ab63fa",
          "dash": "solid"
         },
         "marker": {
          "symbol": "circle"
         },
         "mode": "lines",
         "name": "cymbal",
         "showlegend": false,
         "type": "scattergl",
         "x": [
          0,
          0.03,
          0.06,
          0.09,
          0.12,
          0.15,
          0.18,
          0.21,
          0.24,
          0.27,
          0.3,
          0.33,
          0.36,
          0.39,
          0.42,
          0.45,
          0.48,
          0.51,
          0.54,
          0.57,
          0.6,
          0.63,
          0.66,
          0.69,
          0.72,
          0.75,
          0.78,
          0.81,
          0.84,
          0.87,
          0.9,
          0.93,
          0.96,
          0.99
         ],
         "xaxis": "x",
         "y": [
          0,
          -1.515779972076416,
          -2.876033306121826,
          -3.393366813659668,
          -5.313292026519775,
          -7.534887790679932,
          -6.90429162979126,
          -7.77544641494751,
          -9.691581726074219,
          -10.860191345214844,
          -10.955781936645508,
          -12.86669921875,
          -14.604183197021484,
          -15.816362380981445,
          -16.398365020751953,
          -17.27794647216797,
          -19.23979377746582,
          -20.449817657470703,
          -21.335721969604492,
          -21.71201515197754,
          -22.198427200317383,
          -24.787803649902344,
          -27.740127563476562,
          -28.42474365234375,
          -29.001808166503906,
          -30.279277801513672,
          -30.545822143554688,
          -30.96630859375,
          -31.783885955810547,
          -32.502986907958984,
          -33.39152145385742,
          -33.87798309326172,
          -34.82479476928711,
          null
         ],
         "yaxis": "y"
        },
        {
         "hovertemplate": "class=cymbal<br>filename=154718__mistorcaveman__cymbal_9_1-2.aiff<br>time=%{x}<br>level=%{y}<extra></extra>",
         "legendgroup": "cymbal",
         "line": {
          "color": "#ab63fa",
          "dash": "solid"
         },
         "marker": {
          "symbol": "circle"
         },
         "mode": "lines",
         "name": "cymbal",
         "showlegend": false,
         "type": "scattergl",
         "x": [
          0,
          0.03,
          0.06,
          0.09,
          0.12,
          0.15,
          0.18,
          0.21,
          0.24,
          0.27,
          0.3,
          0.33,
          0.36,
          0.39,
          0.42,
          0.45,
          0.48,
          0.51,
          0.54,
          0.57,
          0.6,
          0.63,
          0.66,
          0.69,
          0.72,
          0.75,
          0.78,
          0.81,
          0.84,
          0.87,
          0.9,
          0.93,
          0.96,
          0.99
         ],
         "xaxis": "x",
         "y": [
          0,
          -1.448796272277832,
          -3.624818801879883,
          -4.283405303955078,
          -4.087180137634277,
          -4.4320526123046875,
          -4.957888603210449,
          -5.132546424865723,
          -6.0470123291015625,
          -4.878847122192383,
          -4.82586669921875,
          -6.793996810913086,
          -5.986213684082031,
          -6.725324630737305,
          -6.066871643066406,
          -6.580009460449219,
          -7.448848724365234,
          -8.412126541137695,
          -7.878505706787109,
          -7.747198104858398,
          -8.146812438964844,
          -8.106634140014648,
          -7.434083938598633,
          -9.085990905761719,
          -9.347101211547852,
          -10.030355453491211,
          -8.820047378540039,
          -9.76365852355957,
          -9.177631378173828,
          -9.851032257080078,
          -11.08038330078125,
          null,
          null,
          null
         ],
         "yaxis": "y"
        },
        {
         "hovertemplate": "class=cymbal<br>filename=13243__ianhall__chinese-cymbal.aiff<br>time=%{x}<br>level=%{y}<extra></extra>",
         "legendgroup": "cymbal",
         "line": {
          "color": "#ab63fa",
          "dash": "solid"
         },
         "marker": {
          "symbol": "circle"
         },
         "mode": "lines",
         "name": "cymbal",
         "showlegend": false,
         "type": "scattergl",
         "x": [
          0,
          0.03,
          0.06,
          0.09,
          0.12,
          0.15,
          0.18,
          0.21,
          0.24,
          0.27,
          0.3,
          0.33,
          0.36,
          0.39,
          0.42,
          0.45,
          0.48,
          0.51,
          0.54,
          0.57,
          0.6,
          0.63,
          0.66,
          0.69,
          0.72,
          0.75,
          0.78,
          0.81,
          0.84,
          0.87,
          0.9,
          0.93,
          0.96,
          0.99
         ],
         "xaxis": "x",
         "y": [
          0,
          -0.8285417556762695,
          -1.6510047912597656,
          -1.9450788497924805,
          -2.8006982803344727,
          -3.018465995788574,
          -3.8775644302368164,
          -3.978666305541992,
          -4.394182205200195,
          -4.950647354125977,
          -5.5792083740234375,
          -5.47275447845459,
          -5.82053279876709,
          -6.68644905090332,
          -7.437053680419922,
          -7.912022590637207,
          -8.709582328796387,
          -8.5907621383667,
          -9.081156730651855,
          -9.388005256652832,
          -9.641242027282715,
          -9.723299980163574,
          -10.476569175720215,
          -10.47790813446045,
          -10.864670753479004,
          -10.8860502243042,
          -11.166661262512207,
          -11.690814018249512,
          -12.004990577697754,
          -12.379900932312012,
          -12.823002815246582,
          -12.639975547790527,
          -13.339543342590332,
          null
         ],
         "yaxis": "y"
        },
        {
         "hovertemplate": "class=cymbal<br>filename=136448__zagorius_mpc__chinese-cymbal-46_2.wav<br>time=%{x}<br>level=%{y}<extra></extra>",
         "legendgroup": "cymbal",
         "line": {
          "color": "#ab63fa",
          "dash": "solid"
         },
         "marker": {
          "symbol": "circle"
         },
         "mode": "lines",
         "name": "cymbal",
         "showlegend": false,
         "type": "scattergl",
         "x": [
          0,
          0.03,
          0.06,
          0.09,
          0.12,
          0.15,
          0.18,
          0.21,
          0.24,
          0.27,
          0.3,
          0.33,
          0.36,
          0.39,
          0.42,
          0.45,
          0.48,
          0.51,
          0.54,
          0.57,
          0.6,
          0.63,
          0.66,
          0.69,
          0.72,
          0.75,
          0.78,
          0.81,
          0.84,
          0.87,
          0.9,
          0.93,
          0.96,
          0.99
         ],
         "xaxis": "x",
         "y": [
          0,
          -0.16174554824829102,
          -0.4693603515625,
          -0.1360182762145996,
          -0.43683815002441406,
          -1.195683479309082,
          -0.9313974380493164,
          -1.546675205230713,
          -1.5783452987670898,
          -1.8387398719787598,
          -1.9522271156311035,
          -2.6785621643066406,
          -2.716731548309326,
          -3.890746593475342,
          -4.24225378036499,
          -4.38449239730835,
          -4.501474857330322,
          -4.832861423492432,
          -5.707615375518799,
          -5.605736255645752,
          -5.773705005645752,
          -6.188551425933838,
          -6.64058256149292,
          -5.763441562652588,
          -6.819998264312744,
          -6.617781162261963,
          -7.474833965301514,
          -7.5147480964660645,
          -7.3667073249816895,
          -8.217918395996094,
          -7.991772174835205,
          -9.091850280761719,
          -8.681499481201172,
          null
         ],
         "yaxis": "y"
        },
        {
         "hovertemplate": "class=cymbal<br>filename=102794__mhc__acoustic_ride_cymbal2.wav<br>time=%{x}<br>level=%{y}<extra></extra>",
         "legendgroup": "cymbal",
         "line": {
          "color": "#ab63fa",
          "dash": "solid"
         },
         "marker": {
          "symbol": "circle"
         },
         "mode": "lines",
         "name": "cymbal",
         "showlegend": false,
         "type": "scattergl",
         "x": [
          0,
          0.03,
          0.06,
          0.09,
          0.12,
          0.15,
          0.18,
          0.21,
          0.24,
          0.27,
          0.3,
          0.33,
          0.36,
          0.39,
          0.42,
          0.45,
          0.48,
          0.51,
          0.54,
          0.57,
          0.6,
          0.63,
          0.66,
          0.69,
          0.72,
          0.75,
          0.78,
          0.81,
          0.84,
          0.87,
          0.9,
          0.93,
          0.96,
          0.99
         ],
         "xaxis": "x",
         "y": [
          0,
          -0.46062660217285156,
          -0.886023998260498,
          -1.1848125457763672,
          -1.8168058395385742,
          -1.427962303161621,
          -1.78509521484375,
          -1.8796567916870117,
          -2.12155818939209,
          -2.6521339416503906,
          -2.560283660888672,
          -2.525273323059082,
          -2.991975784301758,
          -3.6736297607421875,
          -3.624204635620117,
          -3.653994560241699,
          -3.7114028930664062,
          -3.9392480850219727,
          -3.8535232543945312,
          -3.6761245727539062,
          -4.138136863708496,
          -4.148874282836914,
          -4.4138689041137695,
          -5.177865982055664,
          -5.195052146911621,
          -5.034262657165527,
          -5.3499040603637695,
          -4.833650588989258,
          -4.463507652282715,
          -4.554529190063477,
          -5.278573036193848,
          -5.8051557540893555,
          -5.696300506591797,
          null
         ],
         "yaxis": "y"
        },
        {
         "hovertemplate": "class=cymbal<br>filename=154712__mistorcaveman__cymbal_7_1-2.aiff<br>time=%{x}<br>level=%{y}<extra></extra>",
         "legendgroup": "cymbal",
         "line": {
          "color": "#ab63fa",
          "dash": "solid"
         },
         "marker": {
          "symbol": "circle"
         },
         "mode": "lines",
         "name": "cymbal",
         "showlegend": false,
         "type": "scattergl",
         "x": [
          0,
          0.03,
          0.06,
          0.09,
          0.12,
          0.15,
          0.18,
          0.21,
          0.24,
          0.27,
          0.3,
          0.33,
          0.36,
          0.39,
          0.42,
          0.45,
          0.48,
          0.51,
          0.54,
          0.57,
          0.6,
          0.63,
          0.66,
          0.69,
          0.72,
          0.75,
          0.78,
          0.81,
          0.84,
          0.87,
          0.9,
          0.93,
          0.96,
          0.99
         ],
         "xaxis": "x",
         "y": [
          0,
          -3.3331518173217773,
          -5.404224395751953,
          -7.207719802856445,
          -8.778465270996094,
          -9.982366561889648,
          -10.813520431518555,
          -11.221803665161133,
          -11.872995376586914,
          -12.287433624267578,
          -12.834615707397461,
          -13.510160446166992,
          -14.204540252685547,
          -14.31324577331543,
          -14.863784790039062,
          -15.451250076293945,
          -15.92837905883789,
          -15.685400009155273,
          -16.507556915283203,
          -16.361581802368164,
          -17.477787017822266,
          -16.283958435058594,
          -16.860816955566406,
          -17.141420364379883,
          -17.150835037231445,
          -16.3580265045166,
          -17.023488998413086,
          -15.925594329833984,
          -17.53230094909668,
          -16.64750862121582,
          -17.025129318237305,
          null,
          null,
          null
         ],
         "yaxis": "y"
        }
       ],
       "layout": {
        "height": 700,
        "legend": {
         "title": {
          "text": "class"
         },
         "tracegroupgap": 0
        },
        "margin": {
         "t": 60
        },
        "template": {
         "data": {
          "bar": [
           {
            "error_x": {
             "color": "#2a3f5f"
            },
            "error_y": {
             "color": "#2a3f5f"
            },
            "marker": {
             "line": {
              "color": "#E5ECF6",
              "width": 0.5
             },
             "pattern": {
              "fillmode": "overlay",
              "size": 10,
              "solidity": 0.2
             }
            },
            "type": "bar"
           }
          ],
          "barpolar": [
           {
            "marker": {
             "line": {
              "color": "#E5ECF6",
              "width": 0.5
             },
             "pattern": {
              "fillmode": "overlay",
              "size": 10,
              "solidity": 0.2
             }
            },
            "type": "barpolar"
           }
          ],
          "carpet": [
           {
            "aaxis": {
             "endlinecolor": "#2a3f5f",
             "gridcolor": "white",
             "linecolor": "white",
             "minorgridcolor": "white",
             "startlinecolor": "#2a3f5f"
            },
            "baxis": {
             "endlinecolor": "#2a3f5f",
             "gridcolor": "white",
             "linecolor": "white",
             "minorgridcolor": "white",
             "startlinecolor": "#2a3f5f"
            },
            "type": "carpet"
           }
          ],
          "choropleth": [
           {
            "colorbar": {
             "outlinewidth": 0,
             "ticks": ""
            },
            "type": "choropleth"
           }
          ],
          "contour": [
           {
            "colorbar": {
             "outlinewidth": 0,
             "ticks": ""
            },
            "colorscale": [
             [
              0,
              "#0d0887"
             ],
             [
              0.1111111111111111,
              "#46039f"
             ],
             [
              0.2222222222222222,
              "#7201a8"
             ],
             [
              0.3333333333333333,
              "#9c179e"
             ],
             [
              0.4444444444444444,
              "#bd3786"
             ],
             [
              0.5555555555555556,
              "#d8576b"
             ],
             [
              0.6666666666666666,
              "#ed7953"
             ],
             [
              0.7777777777777778,
              "#fb9f3a"
             ],
             [
              0.8888888888888888,
              "#fdca26"
             ],
             [
              1,
              "#f0f921"
             ]
            ],
            "type": "contour"
           }
          ],
          "contourcarpet": [
           {
            "colorbar": {
             "outlinewidth": 0,
             "ticks": ""
            },
            "type": "contourcarpet"
           }
          ],
          "heatmap": [
           {
            "colorbar": {
             "outlinewidth": 0,
             "ticks": ""
            },
            "colorscale": [
             [
              0,
              "#0d0887"
             ],
             [
              0.1111111111111111,
              "#46039f"
             ],
             [
              0.2222222222222222,
              "#7201a8"
             ],
             [
              0.3333333333333333,
              "#9c179e"
             ],
             [
              0.4444444444444444,
              "#bd3786"
             ],
             [
              0.5555555555555556,
              "#d8576b"
             ],
             [
              0.6666666666666666,
              "#ed7953"
             ],
             [
              0.7777777777777778,
              "#fb9f3a"
             ],
             [
              0.8888888888888888,
              "#fdca26"
             ],
             [
              1,
              "#f0f921"
             ]
            ],
            "type": "heatmap"
           }
          ],
          "heatmapgl": [
           {
            "colorbar": {
             "outlinewidth": 0,
             "ticks": ""
            },
            "colorscale": [
             [
              0,
              "#0d0887"
             ],
             [
              0.1111111111111111,
              "#46039f"
             ],
             [
              0.2222222222222222,
              "#7201a8"
             ],
             [
              0.3333333333333333,
              "#9c179e"
             ],
             [
              0.4444444444444444,
              "#bd3786"
             ],
             [
              0.5555555555555556,
              "#d8576b"
             ],
             [
              0.6666666666666666,
              "#ed7953"
             ],
             [
              0.7777777777777778,
              "#fb9f3a"
             ],
             [
              0.8888888888888888,
              "#fdca26"
             ],
             [
              1,
              "#f0f921"
             ]
            ],
            "type": "heatmapgl"
           }
          ],
          "histogram": [
           {
            "marker": {
             "pattern": {
              "fillmode": "overlay",
              "size": 10,
              "solidity": 0.2
             }
            },
            "type": "histogram"
           }
          ],
          "histogram2d": [
           {
            "colorbar": {
             "outlinewidth": 0,
             "ticks": ""
            },
            "colorscale": [
             [
              0,
              "#0d0887"
             ],
             [
              0.1111111111111111,
              "#46039f"
             ],
             [
              0.2222222222222222,
              "#7201a8"
             ],
             [
              0.3333333333333333,
              "#9c179e"
             ],
             [
              0.4444444444444444,
              "#bd3786"
             ],
             [
              0.5555555555555556,
              "#d8576b"
             ],
             [
              0.6666666666666666,
              "#ed7953"
             ],
             [
              0.7777777777777778,
              "#fb9f3a"
             ],
             [
              0.8888888888888888,
              "#fdca26"
             ],
             [
              1,
              "#f0f921"
             ]
            ],
            "type": "histogram2d"
           }
          ],
          "histogram2dcontour": [
           {
            "colorbar": {
             "outlinewidth": 0,
             "ticks": ""
            },
            "colorscale": [
             [
              0,
              "#0d0887"
             ],
             [
              0.1111111111111111,
              "#46039f"
             ],
             [
              0.2222222222222222,
              "#7201a8"
             ],
             [
              0.3333333333333333,
              "#9c179e"
             ],
             [
              0.4444444444444444,
              "#bd3786"
             ],
             [
              0.5555555555555556,
              "#d8576b"
             ],
             [
              0.6666666666666666,
              "#ed7953"
             ],
             [
              0.7777777777777778,
              "#fb9f3a"
             ],
             [
              0.8888888888888888,
              "#fdca26"
             ],
             [
              1,
              "#f0f921"
             ]
            ],
            "type": "histogram2dcontour"
           }
          ],
          "mesh3d": [
           {
            "colorbar": {
             "outlinewidth": 0,
             "ticks": ""
            },
            "type": "mesh3d"
           }
          ],
          "parcoords": [
           {
            "line": {
             "colorbar": {
              "outlinewidth": 0,
              "ticks": ""
             }
            },
            "type": "parcoords"
           }
          ],
          "pie": [
           {
            "automargin": true,
            "type": "pie"
           }
          ],
          "scatter": [
           {
            "fillpattern": {
             "fillmode": "overlay",
             "size": 10,
             "solidity": 0.2
            },
            "type": "scatter"
           }
          ],
          "scatter3d": [
           {
            "line": {
             "colorbar": {
              "outlinewidth": 0,
              "ticks": ""
             }
            },
            "marker": {
             "colorbar": {
              "outlinewidth": 0,
              "ticks": ""
             }
            },
            "type": "scatter3d"
           }
          ],
          "scattercarpet": [
           {
            "marker": {
             "colorbar": {
              "outlinewidth": 0,
              "ticks": ""
             }
            },
            "type": "scattercarpet"
           }
          ],
          "scattergeo": [
           {
            "marker": {
             "colorbar": {
              "outlinewidth": 0,
              "ticks": ""
             }
            },
            "type": "scattergeo"
           }
          ],
          "scattergl": [
           {
            "marker": {
             "colorbar": {
              "outlinewidth": 0,
              "ticks": ""
             }
            },
            "type": "scattergl"
           }
          ],
          "scattermapbox": [
           {
            "marker": {
             "colorbar": {
              "outlinewidth": 0,
              "ticks": ""
             }
            },
            "type": "scattermapbox"
           }
          ],
          "scatterpolar": [
           {
            "marker": {
             "colorbar": {
              "outlinewidth": 0,
              "ticks": ""
             }
            },
            "type": "scatterpolar"
           }
          ],
          "scatterpolargl": [
           {
            "marker": {
             "colorbar": {
              "outlinewidth": 0,
              "ticks": ""
             }
            },
            "type": "scatterpolargl"
           }
          ],
          "scatterternary": [
           {
            "marker": {
             "colorbar": {
              "outlinewidth": 0,
              "ticks": ""
             }
            },
            "type": "scatterternary"
           }
          ],
          "surface": [
           {
            "colorbar": {
             "outlinewidth": 0,
             "ticks": ""
            },
            "colorscale": [
             [
              0,
              "#0d0887"
             ],
             [
              0.1111111111111111,
              "#46039f"
             ],
             [
              0.2222222222222222,
              "#7201a8"
             ],
             [
              0.3333333333333333,
              "#9c179e"
             ],
             [
              0.4444444444444444,
              "#bd3786"
             ],
             [
              0.5555555555555556,
              "#d8576b"
             ],
             [
              0.6666666666666666,
              "#ed7953"
             ],
             [
              0.7777777777777778,
              "#fb9f3a"
             ],
             [
              0.8888888888888888,
              "#fdca26"
             ],
             [
              1,
              "#f0f921"
             ]
            ],
            "type": "surface"
           }
          ],
          "table": [
           {
            "cells": {
             "fill": {
              "color": "#EBF0F8"
             },
             "line": {
              "color": "white"
             }
            },
            "header": {
             "fill": {
              "color": "#C8D4E3"
             },
             "line": {
              "color": "white"
             }
            },
            "type": "table"
           }
          ]
         },
         "layout": {
          "annotationdefaults": {
           "arrowcolor": "#2a3f5f",
           "arrowhead": 0,
           "arrowwidth": 1
          },
          "autotypenumbers": "strict",
          "coloraxis": {
           "colorbar": {
            "outlinewidth": 0,
            "ticks": ""
           }
          },
          "colorscale": {
           "diverging": [
            [
             0,
             "#8e0152"
            ],
            [
             0.1,
             "#c51b7d"
            ],
            [
             0.2,
             "#de77ae"
            ],
            [
             0.3,
             "#f1b6da"
            ],
            [
             0.4,
             "#fde0ef"
            ],
            [
             0.5,
             "#f7f7f7"
            ],
            [
             0.6,
             "#e6f5d0"
            ],
            [
             0.7,
             "#b8e186"
            ],
            [
             0.8,
             "#7fbc41"
            ],
            [
             0.9,
             "#4d9221"
            ],
            [
             1,
             "#276419"
            ]
           ],
           "sequential": [
            [
             0,
             "#0d0887"
            ],
            [
             0.1111111111111111,
             "#46039f"
            ],
            [
             0.2222222222222222,
             "#7201a8"
            ],
            [
             0.3333333333333333,
             "#9c179e"
            ],
            [
             0.4444444444444444,
             "#bd3786"
            ],
            [
             0.5555555555555556,
             "#d8576b"
            ],
            [
             0.6666666666666666,
             "#ed7953"
            ],
            [
             0.7777777777777778,
             "#fb9f3a"
            ],
            [
             0.8888888888888888,
             "#fdca26"
            ],
            [
             1,
             "#f0f921"
            ]
           ],
           "sequentialminus": [
            [
             0,
             "#0d0887"
            ],
            [
             0.1111111111111111,
             "#46039f"
            ],
            [
             0.2222222222222222,
             "#7201a8"
            ],
            [
             0.3333333333333333,
             "#9c179e"
            ],
            [
             0.4444444444444444,
             "#bd3786"
            ],
            [
             0.5555555555555556,
             "#d8576b"
            ],
            [
             0.6666666666666666,
             "#ed7953"
            ],
            [
             0.7777777777777778,
             "#fb9f3a"
            ],
            [
             0.8888888888888888,
             "#fdca26"
            ],
            [
             1,
             "#f0f921"
            ]
           ]
          },
          "colorway": [
           "#636efa",
           "#EF553B",
           "#00cc96",
           "#ab63fa",
           "#FFA15A",
           "#19d3f3",
           "#FF6692",
           "#B6E880",
           "#FF97FF",
           "#FECB52"
          ],
          "font": {
           "color": "#2a3f5f"
          },
          "geo": {
           "bgcolor": "white",
           "lakecolor": "white",
           "landcolor": "#E5ECF6",
           "showlakes": true,
           "showland": true,
           "subunitcolor": "white"
          },
          "hoverlabel": {
           "align": "left"
          },
          "hovermode": "closest",
          "mapbox": {
           "style": "light"
          },
          "paper_bgcolor": "white",
          "plot_bgcolor": "#E5ECF6",
          "polar": {
           "angularaxis": {
            "gridcolor": "white",
            "linecolor": "white",
            "ticks": ""
           },
           "bgcolor": "#E5ECF6",
           "radialaxis": {
            "gridcolor": "white",
            "linecolor": "white",
            "ticks": ""
           }
          },
          "scene": {
           "xaxis": {
            "backgroundcolor": "#E5ECF6",
            "gridcolor": "white",
            "gridwidth": 2,
            "linecolor": "white",
            "showbackground": true,
            "ticks": "",
            "zerolinecolor": "white"
           },
           "yaxis": {
            "backgroundcolor": "#E5ECF6",
            "gridcolor": "white",
            "gridwidth": 2,
            "linecolor": "white",
            "showbackground": true,
            "ticks": "",
            "zerolinecolor": "white"
           },
           "zaxis": {
            "backgroundcolor": "#E5ECF6",
            "gridcolor": "white",
            "gridwidth": 2,
            "linecolor": "white",
            "showbackground": true,
            "ticks": "",
            "zerolinecolor": "white"
           }
          },
          "shapedefaults": {
           "line": {
            "color": "#2a3f5f"
           }
          },
          "ternary": {
           "aaxis": {
            "gridcolor": "white",
            "linecolor": "white",
            "ticks": ""
           },
           "baxis": {
            "gridcolor": "white",
            "linecolor": "white",
            "ticks": ""
           },
           "bgcolor": "#E5ECF6",
           "caxis": {
            "gridcolor": "white",
            "linecolor": "white",
            "ticks": ""
           }
          },
          "title": {
           "x": 0.05
          },
          "xaxis": {
           "automargin": true,
           "gridcolor": "white",
           "linecolor": "white",
           "ticks": "",
           "title": {
            "standoff": 15
           },
           "zerolinecolor": "white",
           "zerolinewidth": 2
          },
          "yaxis": {
           "automargin": true,
           "gridcolor": "white",
           "linecolor": "white",
           "ticks": "",
           "title": {
            "standoff": 15
           },
           "zerolinecolor": "white",
           "zerolinewidth": 2
          }
         }
        },
        "width": 1500,
        "xaxis": {
         "anchor": "y",
         "autorange": true,
         "domain": [
          0,
          1
         ],
         "range": [
          0,
          0.99
         ],
         "title": {
          "text": "time"
         },
         "type": "linear"
        },
        "yaxis": {
         "anchor": "x",
         "domain": [
          0,
          1
         ],
         "range": [
          -90,
          10
         ],
         "title": {
          "text": "level"
         },
         "type": "linear"
        }
       }
      },
      "image/png": "[encoded data removed]",
      "text/html": [
       "<div>                            <div id=\"fd003b82-2cad-4f09-a66a-7714b5f5b3a2\" class=\"plotly-graph-div\" style=\"height:700px; width:1500px;\"></div>            <script type=\"text/javascript\">                require([\"plotly\"], function(Plotly) {                    window.PLOTLYENV=window.PLOTLYENV || {};                                    if (document.getElementById(\"fd003b82-2cad-4f09-a66a-7714b5f5b3a2\")) {                    Plotly.newPlot(                        \"fd003b82-2cad-4f09-a66a-7714b5f5b3a2\",                        [{\"hovertemplate\":\"class=closed_hihat<br>filename=556184__soothsayer_orchestra__hihatt-closed.wav<br>time=%{x}<br>level=%{y}<extra></extra>\",\"legendgroup\":\"closed_hihat\",\"line\":{\"color\":\"#636efa\",\"dash\":\"solid\"},\"marker\":{\"symbol\":\"circle\"},\"mode\":\"lines\",\"name\":\"closed_hihat\",\"showlegend\":true,\"x\":[0.0,0.03,0.06,0.09,0.12,0.15,0.18,0.21,0.24,0.27,0.3,0.33,0.36,0.39,0.42,0.45,0.48,0.51,0.54,0.57,0.6,0.63,0.66,0.69,0.72,0.75,0.78,0.81,0.84,0.87,0.9,0.93,0.96,0.99],\"xaxis\":\"x\",\"y\":[0.0,-0.683629035949707,-5.979241371154785,-10.837752342224121,-14.165528297424316,-17.313976287841797,-16.854019165039062,-17.514606475830078,-16.051284790039062,-17.435771942138672,-19.316539764404297,-17.149818420410156,-17.12350845336914,-17.22028350830078,-18.208480834960938,-17.888294219970703,-17.199615478515625,-17.778301239013672,-18.152568817138672,-18.825260162353516,-19.767314910888672,-18.456363677978516,-22.430866241455078,-18.797569274902344,-16.837562561035156,-17.969322204589844,-17.98145294189453,-20.527183532714844,-21.801315307617188,-20.272258758544922,-18.44202423095703,-17.35861587524414,-18.835712432861328,-23.229991912841797],\"yaxis\":\"y\",\"type\":\"scattergl\"},{\"hovertemplate\":\"class=closed_hihat<br>filename=634822__collinb1000__closed7.wav<br>time=%{x}<br>level=%{y}<extra></extra>\",\"legendgroup\":\"closed_hihat\",\"line\":{\"color\":\"#636efa\",\"dash\":\"solid\"},\"marker\":{\"symbol\":\"circle\"},\"mode\":\"lines\",\"name\":\"closed_hihat\",\"showlegend\":false,\"x\":[0.0,0.03,0.06,0.09,0.12,0.15,0.18,0.21,0.24,0.27,0.3,0.33,0.36,0.39,0.42,0.45,0.48,0.51,0.54,0.57,0.6,0.63,0.66,0.69,0.72,0.75,0.78,0.81,0.84,0.87,0.9,0.93,0.96,0.99],\"xaxis\":\"x\",\"y\":[0.0,-1.7736806869506836,-5.911722183227539,-9.953298568725586,-13.487306594848633,-15.782978057861328,-18.42295265197754,-20.034353256225586,-20.8015079498291,-21.149118423461914,-16.856828689575195,-16.950904846191406,null,null,null,null,null,null,null,null,null,null,null,null,null,null,null,null,null,null,null,null,null,null],\"yaxis\":\"y\",\"type\":\"scattergl\"},{\"hovertemplate\":\"class=closed_hihat<br>filename=140516__stomachache__closedhatphrase-002.wav<br>time=%{x}<br>level=%{y}<extra></extra>\",\"legendgroup\":\"closed_hihat\",\"line\":{\"color\":\"#636efa\",\"dash\":\"solid\"},\"marker\":{\"symbol\":\"circle\"},\"mode\":\"lines\",\"name\":\"closed_hihat\",\"showlegend\":false,\"x\":[0.0,0.03,0.06,0.09,0.12,0.15,0.18,0.21,0.24,0.27,0.3,0.33,0.36,0.39,0.42,0.45,0.48,0.51,0.54,0.57,0.6,0.63,0.66,0.69,0.72,0.75,0.78,0.81,0.84,0.87,0.9,0.93,0.96,0.99],\"xaxis\":\"x\",\"y\":[0.0,-0.11132144927978516,-3.0507287979125977,-6.541974067687988,-10.09728717803955,-12.437479972839355,-14.631230354309082,-16.635879516601562,-18.38015365600586,-20.26793670654297,-21.460987091064453,-22.40786361694336,null,null,null,null,null,null,null,null,null,null,null,null,null,null,null,null,null,null,null,null,null,null],\"yaxis\":\"y\",\"type\":\"scattergl\"},{\"hovertemplate\":\"class=closed_hihat<br>filename=102781__mhc__acoustic_closed_hihat2.wav<br>time=%{x}<br>level=%{y}<extra></extra>\",\"legendgroup\":\"closed_hihat\",\"line\":{\"color\":\"#636efa\",\"dash\":\"solid\"},\"marker\":{\"symbol\":\"circle\"},\"mode\":\"lines\",\"name\":\"closed_hihat\",\"showlegend\":false,\"x\":[0.0,0.03,0.06,0.09,0.12,0.15,0.18,0.21,0.24,0.27,0.3,0.33,0.36,0.39,0.42,0.45,0.48,0.51,0.54,0.57,0.6,0.63,0.66,0.69,0.72,0.75,0.78,0.81,0.84,0.87,0.9,0.93,0.96,0.99],\"xaxis\":\"x\",\"y\":[0.0,-1.3433666229248047,-3.4671850204467773,-4.542577743530273,-6.446070671081543,-8.28673267364502,-8.774934768676758,-9.683669090270996,-12.022744178771973,-12.75615406036377,-13.51921558380127,-13.55323314666748,-15.341782569885254,-17.346237182617188,-16.898052215576172,-34.16570281982422,-80.0,-80.0,-80.0,-80.0,-80.0,-80.0,-80.0,-80.0,-80.0,null,null,null,null,null,null,null,null,null],\"yaxis\":\"y\",\"type\":\"scattergl\"},{\"hovertemplate\":\"class=closed_hihat<br>filename=634822__collinb1000__closed7(1).wav<br>time=%{x}<br>level=%{y}<extra></extra>\",\"legendgroup\":\"closed_hihat\",\"line\":{\"color\":\"#636efa\",\"dash\":\"solid\"},\"marker\":{\"symbol\":\"circle\"},\"mode\":\"lines\",\"name\":\"closed_hihat\",\"showlegend\":false,\"x\":[0.0,0.03,0.06,0.09,0.12,0.15,0.18,0.21,0.24,0.27,0.3,0.33,0.36,0.39,0.42,0.45,0.48,0.51,0.54,0.57,0.6,0.63,0.66,0.69,0.72,0.75,0.78,0.81,0.84,0.87,0.9,0.93,0.96,0.99],\"xaxis\":\"x\",\"y\":[0.0,-1.7736806869506836,-5.911722183227539,-9.953298568725586,-13.487306594848633,-15.782978057861328,-18.42295265197754,-20.034353256225586,-20.8015079498291,-21.149118423461914,-16.856828689575195,-16.950904846191406,null,null,null,null,null,null,null,null,null,null,null,null,null,null,null,null,null,null,null,null,null,null],\"yaxis\":\"y\",\"type\":\"scattergl\"},{\"hovertemplate\":\"class=closed_hihat<br>filename=669733__jannevse__hi-hat_closed_po-12.aiff<br>time=%{x}<br>level=%{y}<extra></extra>\",\"legendgroup\":\"closed_hihat\",\"line\":{\"color\":\"#636efa\",\"dash\":\"solid\"},\"marker\":{\"symbol\":\"circle\"},\"mode\":\"lines\",\"name\":\"closed_hihat\",\"showlegend\":false,\"x\":[0.0,0.03,0.06,0.09,0.12,0.15,0.18,0.21,0.24,0.27,0.3,0.33,0.36,0.39,0.42,0.45,0.48,0.51,0.54,0.57,0.6,0.63,0.66,0.69,0.72,0.75,0.78,0.81,0.84,0.87,0.9,0.93,0.96,0.99],\"xaxis\":\"x\",\"y\":[0.0,-1.7205181121826172,-9.13546085357666,-15.770228385925293,-18.04314422607422,-19.757659912109375,-21.6064453125,-22.841251373291016,-24.59406280517578,-25.965106964111328,-27.675342559814453,-28.699298858642578,-30.75107192993164,null,null,null,null,null,null,null,null,null,null,null,null,null,null,null,null,null,null,null,null,null],\"yaxis\":\"y\",\"type\":\"scattergl\"},{\"hovertemplate\":\"class=closed_hihat<br>filename=13246__ianhall__hihat-closed.aiff<br>time=%{x}<br>level=%{y}<extra></extra>\",\"legendgroup\":\"closed_hihat\",\"line\":{\"color\":\"#636efa\",\"dash\":\"solid\"},\"marker\":{\"symbol\":\"circle\"},\"mode\":\"lines\",\"name\":\"closed_hihat\",\"showlegend\":false,\"x\":[0.0,0.03,0.06,0.09,0.12,0.15,0.18,0.21,0.24,0.27,0.3,0.33,0.36,0.39,0.42,0.45,0.48,0.51,0.54,0.57,0.6,0.63,0.66,0.69,0.72,0.75,0.78,0.81,0.84,0.87,0.9,0.93,0.96,0.99],\"xaxis\":\"x\",\"y\":[0.0,-3.4262185096740723,-6.525308132171631,-10.599699020385742,-15.727474212646484,-20.046833038330078,-23.708097457885742,-26.57387924194336,-27.54650115966797,-29.19902801513672,-32.97739791870117,-36.658084869384766,null,null,null,null,null,null,null,null,null,null,null,null,null,null,null,null,null,null,null,null,null,null],\"yaxis\":\"y\",\"type\":\"scattergl\"},{\"hovertemplate\":\"class=closed_hihat<br>filename=45058__matiasreccius__hihat_closed4.wav<br>time=%{x}<br>level=%{y}<extra></extra>\",\"legendgroup\":\"closed_hihat\",\"line\":{\"color\":\"#636efa\",\"dash\":\"solid\"},\"marker\":{\"symbol\":\"circle\"},\"mode\":\"lines\",\"name\":\"closed_hihat\",\"showlegend\":false,\"x\":[0.0,0.03,0.06,0.09,0.12,0.15,0.18,0.21,0.24,0.27,0.3,0.33,0.36,0.39,0.42,0.45,0.48,0.51,0.54,0.57,0.6,0.63,0.66,0.69,0.72,0.75,0.78,0.81,0.84,0.87,0.9,0.93,0.96,0.99],\"xaxis\":\"x\",\"y\":[0.0,-5.494227409362793,-10.135985374450684,-12.968949317932129,-14.448607444763184,-16.093318939208984,-17.01120376586914,-17.862071990966797,-18.95859146118164,-20.184555053710938,-20.886737823486328,-21.72274398803711,-22.52414321899414,-23.469348907470703,-24.495223999023438,-25.510578155517578,-26.225852966308594,-27.125537872314453,-27.927143096923828,-28.977169036865234,-29.556682586669922,-30.59457778930664,-31.351112365722656,-30.315486907958984,-30.481853485107422,-31.194698333740234,-31.74541473388672,-30.934688568115234,-31.7916259765625,-31.643184661865234,-30.739253997802734,-31.40407943725586,-32.86631393432617,null],\"yaxis\":\"y\",\"type\":\"scattergl\"},{\"hovertemplate\":\"class=cowbell<br>filename=99766__menegass__cow.wav<br>time=%{x}<br>level=%{y}<extra></extra>\",\"legendgroup\":\"cowbell\",\"line\":{\"color\":\"#EF553B\",\"dash\":\"solid\"},\"marker\":{\"symbol\":\"circle\"},\"mode\":\"lines\",\"name\":\"cowbell\",\"showlegend\":true,\"x\":[0.0,0.03,0.06,0.09,0.12,0.15,0.18,0.21,0.24,0.27,0.3,0.33,0.36,0.39,0.42,0.45,0.48,0.51,0.54,0.57,0.6,0.63,0.66,0.69,0.72,0.75,0.78,0.81,0.84,0.87,0.9,0.93,0.96,0.99],\"xaxis\":\"x\",\"y\":[0.0,-4.044186115264893,-6.809849262237549,-10.411453247070312,null,null,null,null,null,null,null,null,null,null,null,null,null,null,null,null,null,null,null,null,null,null,null,null,null,null,null,null,null,null],\"yaxis\":\"y\",\"type\":\"scattergl\"},{\"hovertemplate\":\"class=cowbell<br>filename=364919__gowlermusic__cowbell.wav<br>time=%{x}<br>level=%{y}<extra></extra>\",\"legendgroup\":\"cowbell\",\"line\":{\"color\":\"#EF553B\",\"dash\":\"solid\"},\"marker\":{\"symbol\":\"circle\"},\"mode\":\"lines\",\"name\":\"cowbell\",\"showlegend\":false,\"x\":[0.0,0.03,0.06,0.09,0.12,0.15,0.18,0.21,0.24,0.27,0.3,0.33,0.36,0.39,0.42,0.45,0.48,0.51,0.54,0.57,0.6,0.63,0.66,0.69,0.72,0.75,0.78,0.81,0.84,0.87,0.9,0.93,0.96,0.99],\"xaxis\":\"x\",\"y\":[0.0,-0.4454457759857178,-1.4645230770111084,-2.5811266899108887,-4.089043140411377,-5.6105637550354,-7.284164905548096,-9.50314712524414,-10.876575469970703,-12.155059814453125,-14.482540130615234,-16.045101165771484,-18.339855194091797,-19.593555450439453,-20.570018768310547,-21.063047409057617,-21.508319854736328,-21.93221664428711,-22.195985794067383,-22.44832992553711,-22.8519229888916,-23.143070220947266,-23.52826499938965,-23.837064743041992,-24.044353485107422,-24.424654006958008,-24.638992309570312,-25.16929054260254,-25.32294464111328,-25.466753005981445,-25.95840072631836,-26.11376190185547,-26.670101165771484,null],\"yaxis\":\"y\",\"type\":\"scattergl\"},{\"hovertemplate\":\"class=cowbell<br>filename=375613__samulis__cowbell-cowbell_ff_2.wav<br>time=%{x}<br>level=%{y}<extra></extra>\",\"legendgroup\":\"cowbell\",\"line\":{\"color\":\"#EF553B\",\"dash\":\"solid\"},\"marker\":{\"symbol\":\"circle\"},\"mode\":\"lines\",\"name\":\"cowbell\",\"showlegend\":false,\"x\":[0.0,0.03,0.06,0.09,0.12,0.15,0.18,0.21,0.24,0.27,0.3,0.33,0.36,0.39,0.42,0.45,0.48,0.51,0.54,0.57,0.6,0.63,0.66,0.69,0.72,0.75,0.78,0.81,0.84,0.87,0.9,0.93,0.96,0.99],\"xaxis\":\"x\",\"y\":[0.0,-2.5499157905578613,-6.076915264129639,-8.6844482421875,-10.764911651611328,-11.588857650756836,-13.80699348449707,-15.393884658813477,-17.09135627746582,-18.678028106689453,-19.842870712280273,-21.68206214904785,-22.212364196777344,-23.8627872467041,-24.60297203063965,-24.017601013183594,-25.613866806030273,-25.574785232543945,-27.007001876831055,-28.871789932250977,-28.066240310668945,-29.587453842163086,-29.637712478637695,-29.556238174438477,-29.62727928161621,-29.022485733032227,-28.931982040405273,-28.894838333129883,-32.352783203125,-28.682905197143555,-29.54526710510254,-31.525320053100586,-31.039949417114258,null],\"yaxis\":\"y\",\"type\":\"scattergl\"},{\"hovertemplate\":\"class=cowbell<br>filename=34272__pj1s__cowbell.wav<br>time=%{x}<br>level=%{y}<extra></extra>\",\"legendgroup\":\"cowbell\",\"line\":{\"color\":\"#EF553B\",\"dash\":\"solid\"},\"marker\":{\"symbol\":\"circle\"},\"mode\":\"lines\",\"name\":\"cowbell\",\"showlegend\":false,\"x\":[0.0,0.03,0.06,0.09,0.12,0.15,0.18,0.21,0.24,0.27,0.3,0.33,0.36,0.39,0.42,0.45,0.48,0.51,0.54,0.57,0.6,0.63,0.66,0.69,0.72,0.75,0.78,0.81,0.84,0.87,0.9,0.93,0.96,0.99],\"xaxis\":\"x\",\"y\":[0.0,-2.317607879638672,-5.4912614822387695,-8.635297775268555,-10.340446472167969,-11.751102447509766,-12.83447265625,-13.252519607543945,-14.252279281616211,-15.053747177124023,-15.570268630981445,-16.322650909423828,-17.035818099975586,-17.483394622802734,-18.089231491088867,-18.803030014038086,-19.234846115112305,-20.066614151000977,-21.177549362182617,-22.204933166503906,-23.37240219116211,-24.356403350830078,-25.75734519958496,-27.711400985717773,-27.96790885925293,-29.37601661682129,-29.887346267700195,-30.135499954223633,-32.23118591308594,-34.66881561279297,-37.26026153564453,-42.67914581298828,-80.0,-80.0],\"yaxis\":\"y\",\"type\":\"scattergl\"},{\"hovertemplate\":\"class=cowbell<br>filename=159758__timgormly__cowbell_os_3.aiff<br>time=%{x}<br>level=%{y}<extra></extra>\",\"legendgroup\":\"cowbell\",\"line\":{\"color\":\"#EF553B\",\"dash\":\"solid\"},\"marker\":{\"symbol\":\"circle\"},\"mode\":\"lines\",\"name\":\"cowbell\",\"showlegend\":false,\"x\":[0.0,0.03,0.06,0.09,0.12,0.15,0.18,0.21,0.24,0.27,0.3,0.33,0.36,0.39,0.42,0.45,0.48,0.51,0.54,0.57,0.6,0.63,0.66,0.69,0.72,0.75,0.78,0.81,0.84,0.87,0.9,0.93,0.96,0.99],\"xaxis\":\"x\",\"y\":[0.0,-4.305510997772217,-7.355352878570557,-10.061664581298828,-13.022756576538086,-16.138381958007812,-18.71352195739746,-19.77901840209961,-20.421810150146484,-20.56316566467285,-20.574495315551758,null,null,null,null,null,null,null,null,null,null,null,null,null,null,null,null,null,null,null,null,null,null,null],\"yaxis\":\"y\",\"type\":\"scattergl\"},{\"hovertemplate\":\"class=cowbell<br>filename=159765__timgormly__cowbell_os_5.aiff<br>time=%{x}<br>level=%{y}<extra></extra>\",\"legendgroup\":\"cowbell\",\"line\":{\"color\":\"#EF553B\",\"dash\":\"solid\"},\"marker\":{\"symbol\":\"circle\"},\"mode\":\"lines\",\"name\":\"cowbell\",\"showlegend\":false,\"x\":[0.0,0.03,0.06,0.09,0.12,0.15,0.18,0.21,0.24,0.27,0.3,0.33,0.36,0.39,0.42,0.45,0.48,0.51,0.54,0.57,0.6,0.63,0.66,0.69,0.72,0.75,0.78,0.81,0.84,0.87,0.9,0.93,0.96,0.99],\"xaxis\":\"x\",\"y\":[0.0,-2.2902727127075195,-7.074663162231445,-10.474316596984863,-13.529484748840332,-17.126636505126953,-20.115638732910156,-22.398700714111328,-23.469558715820312,-23.638717651367188,-24.19149398803711,null,null,null,null,null,null,null,null,null,null,null,null,null,null,null,null,null,null,null,null,null,null,null],\"yaxis\":\"y\",\"type\":\"scattergl\"},{\"hovertemplate\":\"class=cowbell<br>filename=432202__curesforbrokenhearts__cowbell-with-blastick.wav<br>time=%{x}<br>level=%{y}<extra></extra>\",\"legendgroup\":\"cowbell\",\"line\":{\"color\":\"#EF553B\",\"dash\":\"solid\"},\"marker\":{\"symbol\":\"circle\"},\"mode\":\"lines\",\"name\":\"cowbell\",\"showlegend\":false,\"x\":[0.0,0.03,0.06,0.09,0.12,0.15,0.18,0.21,0.24,0.27,0.3,0.33,0.36,0.39,0.42,0.45,0.48,0.51,0.54,0.57,0.6,0.63,0.66,0.69,0.72,0.75,0.78,0.81,0.84,0.87,0.9,0.93,0.96,0.99],\"xaxis\":\"x\",\"y\":[0.0,-1.677819013595581,-3.106766939163208,-4.462156295776367,-5.683784484863281,-6.894759178161621,-7.930366516113281,-9.074901580810547,-10.097929000854492,-11.222350120544434,-12.380892753601074,-13.668966293334961,-14.888586044311523,-16.21938705444336,-17.835721969604492,-19.485504150390625,-21.210712432861328,-22.93258285522461,-24.818527221679688,-26.752460479736328,-28.954673767089844,-31.426673889160156,-34.176300048828125,-37.32835388183594,-41.4710807800293,-38.23771286010742,-35.500816345214844,-37.88594436645508,-39.436946868896484,-41.153900146484375,-44.06910705566406,-44.9885139465332,-47.267642974853516,null],\"yaxis\":\"y\",\"type\":\"scattergl\"},{\"hovertemplate\":\"class=cowbell<br>filename=75839__rossf__lm1-cowbell.wav<br>time=%{x}<br>level=%{y}<extra></extra>\",\"legendgroup\":\"cowbell\",\"line\":{\"color\":\"#EF553B\",\"dash\":\"solid\"},\"marker\":{\"symbol\":\"circle\"},\"mode\":\"lines\",\"name\":\"cowbell\",\"showlegend\":false,\"x\":[0.0,0.03,0.06,0.09,0.12,0.15,0.18,0.21,0.24,0.27,0.3,0.33,0.36,0.39,0.42,0.45,0.48,0.51,0.54,0.57,0.6,0.63,0.66,0.69,0.72,0.75,0.78,0.81,0.84,0.87,0.9,0.93,0.96,0.99],\"xaxis\":\"x\",\"y\":[0.0,-1.2959914207458496,-10.258109092712402,-15.993946075439453,-19.88900375366211,-26.035400390625,null,null,null,null,null,null,null,null,null,null,null,null,null,null,null,null,null,null,null,null,null,null,null,null,null,null,null,null],\"yaxis\":\"y\",\"type\":\"scattergl\"},{\"hovertemplate\":\"class=cowbell<br>filename=90979__suicidity__medium-cowbell-of-god-011.wav<br>time=%{x}<br>level=%{y}<extra></extra>\",\"legendgroup\":\"cowbell\",\"line\":{\"color\":\"#EF553B\",\"dash\":\"solid\"},\"marker\":{\"symbol\":\"circle\"},\"mode\":\"lines\",\"name\":\"cowbell\",\"showlegend\":false,\"x\":[0.0,0.03,0.06,0.09,0.12,0.15,0.18,0.21,0.24,0.27,0.3,0.33,0.36,0.39,0.42,0.45,0.48,0.51,0.54,0.57,0.6,0.63,0.66,0.69,0.72,0.75,0.78,0.81,0.84,0.87,0.9,0.93,0.96,0.99],\"xaxis\":\"x\",\"y\":[0.0,-2.163418769836426,-4.594230651855469,-7.429884910583496,-10.455920219421387,-13.411215782165527,-16.291675567626953,-19.227691650390625,-22.108829498291016,-24.42145538330078,-26.939067840576172,-29.393707275390625,-29.788288116455078,-29.178714752197266,-30.829059600830078,-31.024337768554688,-30.616661071777344,-30.101680755615234,-31.462474822998047,-30.141151428222656,-29.120098114013672,-29.138381958007812,-29.98278045654297,-29.714332580566406,-29.921558380126953,-29.609264373779297,-30.231182098388672,-30.677581787109375,-30.562671661376953,-31.581798553466797,-34.69187545776367,-39.00545120239258,-54.5335807800293,null],\"yaxis\":\"y\",\"type\":\"scattergl\"},{\"hovertemplate\":\"class=cowbell<br>filename=75338__neotone__cowbell.wav<br>time=%{x}<br>level=%{y}<extra></extra>\",\"legendgroup\":\"cowbell\",\"line\":{\"color\":\"#EF553B\",\"dash\":\"solid\"},\"marker\":{\"symbol\":\"circle\"},\"mode\":\"lines\",\"name\":\"cowbell\",\"showlegend\":false,\"x\":[0.0,0.03,0.06,0.09,0.12,0.15,0.18,0.21,0.24,0.27,0.3,0.33,0.36,0.39,0.42,0.45,0.48,0.51,0.54,0.57,0.6,0.63,0.66,0.69,0.72,0.75,0.78,0.81,0.84,0.87,0.9,0.93,0.96,0.99],\"xaxis\":\"x\",\"y\":[0.0,-0.7945804595947266,-1.6485240459442139,-2.920245409011841,-4.66584587097168,-5.845026016235352,-7.2014665603637695,-8.922125816345215,-10.415942192077637,-13.290783882141113,-17.207326889038086,null,null,null,null,null,null,null,null,null,null,null,null,null,null,null,null,null,null,null,null,null,null,null],\"yaxis\":\"y\",\"type\":\"scattergl\"},{\"hovertemplate\":\"class=kick<br>filename=331589__j_zealous__kick-jzealous-hard-club.aiff<br>time=%{x}<br>level=%{y}<extra></extra>\",\"legendgroup\":\"kick\",\"line\":{\"color\":\"#00cc96\",\"dash\":\"solid\"},\"marker\":{\"symbol\":\"circle\"},\"mode\":\"lines\",\"name\":\"kick\",\"showlegend\":true,\"x\":[0.0,0.03,0.06,0.09,0.12,0.15,0.18,0.21,0.24,0.27,0.3,0.33,0.36,0.39,0.42,0.45,0.48,0.51,0.54,0.57,0.6,0.63,0.66,0.69,0.72,0.75,0.78,0.81,0.84,0.87,0.9,0.93,0.96,0.99],\"xaxis\":\"x\",\"y\":[0.0,-0.05694770812988281,-0.36216259002685547,-0.7108235359191895,-0.551464319229126,-1.2496049404144287,-1.6537678241729736,-2.840735673904419,-5.196599960327148,-8.430161476135254,-12.213961601257324,-30.33728790283203,-34.91436767578125,-42.01336669921875,-47.98219680786133,-49.17674255371094,-49.5401611328125,-49.168365478515625,-49.3912353515625,-49.33919906616211,-49.225303649902344,-49.48320770263672,-49.13178253173828,-49.518653869628906,-49.19377136230469,-49.35533905029297,-49.37691879272461,-49.196449279785156,-49.50095748901367,-49.133399963378906,-49.498741149902344,-49.22179412841797,-49.82538604736328,null],\"yaxis\":\"y\",\"type\":\"scattergl\"},{\"hovertemplate\":\"class=kick<br>filename=410149__screamstudio__kick-drum.wav<br>time=%{x}<br>level=%{y}<extra></extra>\",\"legendgroup\":\"kick\",\"line\":{\"color\":\"#00cc96\",\"dash\":\"solid\"},\"marker\":{\"symbol\":\"circle\"},\"mode\":\"lines\",\"name\":\"kick\",\"showlegend\":false,\"x\":[0.0,0.03,0.06,0.09,0.12,0.15,0.18,0.21,0.24,0.27,0.3,0.33,0.36,0.39,0.42,0.45,0.48,0.51,0.54,0.57,0.6,0.63,0.66,0.69,0.72,0.75,0.78,0.81,0.84,0.87,0.9,0.93,0.96,0.99],\"xaxis\":\"x\",\"y\":[0.0,-0.6577889919281006,-1.3674397468566895,-2.43485426902771,-3.5179340839385986,-4.542471885681152,-5.972702980041504,-8.231156349182129,-12.41309928894043,-24.92525863647461,-58.39460372924805,-77.89971160888672,-80.0,-80.0,-80.0,-80.0,-80.0,-80.0,-80.0,-80.0,-80.0,-80.0,-80.0,-80.0,-80.0,-80.0,-80.0,-80.0,-80.0,-80.0,-80.0,-80.0,null,null],\"yaxis\":\"y\",\"type\":\"scattergl\"},{\"hovertemplate\":\"class=kick<br>filename=248142__dpren__fat-kick.aiff<br>time=%{x}<br>level=%{y}<extra></extra>\",\"legendgroup\":\"kick\",\"line\":{\"color\":\"#00cc96\",\"dash\":\"solid\"},\"marker\":{\"symbol\":\"circle\"},\"mode\":\"lines\",\"name\":\"kick\",\"showlegend\":false,\"x\":[0.0,0.03,0.06,0.09,0.12,0.15,0.18,0.21,0.24,0.27,0.3,0.33,0.36,0.39,0.42,0.45,0.48,0.51,0.54,0.57,0.6,0.63,0.66,0.69,0.72,0.75,0.78,0.81,0.84,0.87,0.9,0.93,0.96,0.99],\"xaxis\":\"x\",\"y\":[0.0,-2.9179916381835938,-4.130072116851807,-6.620855331420898,-9.129755020141602,-10.54450798034668,-13.222281455993652,-15.537345886230469,-18.89276695251465,-23.70217514038086,-29.704214096069336,-42.846107482910156,-80.0,-80.0,-80.0,-80.0,-80.0,-80.0,-80.0,-80.0,-80.0,-80.0,-80.0,-80.0,null,null,null,null,null,null,null,null,null,null],\"yaxis\":\"y\",\"type\":\"scattergl\"},{\"hovertemplate\":\"class=kick<br>filename=264601__veiler__kick-swedish.wav<br>time=%{x}<br>level=%{y}<extra></extra>\",\"legendgroup\":\"kick\",\"line\":{\"color\":\"#00cc96\",\"dash\":\"solid\"},\"marker\":{\"symbol\":\"circle\"},\"mode\":\"lines\",\"name\":\"kick\",\"showlegend\":false,\"x\":[0.0,0.03,0.06,0.09,0.12,0.15,0.18,0.21,0.24,0.27,0.3,0.33,0.36,0.39,0.42,0.45,0.48,0.51,0.54,0.57,0.6,0.63,0.66,0.69,0.72,0.75,0.78,0.81,0.84,0.87,0.9,0.93,0.96,0.99],\"xaxis\":\"x\",\"y\":[0.0,-2.264216899871826,-5.633566856384277,-8.854398727416992,-12.20750617980957,-12.478952407836914,-13.602836608886719,-15.792119979858398,-17.090757369995117,-17.93651008605957,-17.483510971069336,-18.009069442749023,-19.951234817504883,null,null,null,null,null,null,null,null,null,null,null,null,null,null,null,null,null,null,null,null,null],\"yaxis\":\"y\",\"type\":\"scattergl\"},{\"hovertemplate\":\"class=kick<br>filename=72985__zgump__kick-pack-0303.wav<br>time=%{x}<br>level=%{y}<extra></extra>\",\"legendgroup\":\"kick\",\"line\":{\"color\":\"#00cc96\",\"dash\":\"solid\"},\"marker\":{\"symbol\":\"circle\"},\"mode\":\"lines\",\"name\":\"kick\",\"showlegend\":false,\"x\":[0.0,0.03,0.06,0.09,0.12,0.15,0.18,0.21,0.24,0.27,0.3,0.33,0.36,0.39,0.42,0.45,0.48,0.51,0.54,0.57,0.6,0.63,0.66,0.69,0.72,0.75,0.78,0.81,0.84,0.87,0.9,0.93,0.96,0.99],\"xaxis\":\"x\",\"y\":[0.0,-0.5300799608230591,-0.7432999610900879,-1.0303723812103271,-1.8239333629608154,-1.7714593410491943,-2.2904868125915527,-2.667527914047241,-2.8167102336883545,-3.630279779434204,-3.829604387283325,-4.584117889404297,-5.145551681518555,-5.14068603515625,-5.827059745788574,-5.905986785888672,-6.3575639724731445,-6.974429130554199,-7.128785133361816,-8.028929710388184,-8.436304092407227,-9.160527229309082,-9.980271339416504,-9.89976978302002,-10.511870384216309,-10.682887077331543,-10.934459686279297,-11.616839408874512,-11.67924690246582,-12.819575309753418,null,null,null,null],\"yaxis\":\"y\",\"type\":\"scattergl\"},{\"hovertemplate\":\"class=kick<br>filename=171484__xicecoffeex__savannah-kick.wav<br>time=%{x}<br>level=%{y}<extra></extra>\",\"legendgroup\":\"kick\",\"line\":{\"color\":\"#00cc96\",\"dash\":\"solid\"},\"marker\":{\"symbol\":\"circle\"},\"mode\":\"lines\",\"name\":\"kick\",\"showlegend\":false,\"x\":[0.0,0.03,0.06,0.09,0.12,0.15,0.18,0.21,0.24,0.27,0.3,0.33,0.36,0.39,0.42,0.45,0.48,0.51,0.54,0.57,0.6,0.63,0.66,0.69,0.72,0.75,0.78,0.81,0.84,0.87,0.9,0.93,0.96,0.99],\"xaxis\":\"x\",\"y\":[0.0,-2.910491704940796,-4.914157390594482,-10.438943862915039,-12.995058059692383,-15.724262237548828,-15.331721305847168,-14.614072799682617,-13.962055206298828,-14.323564529418945,-14.133840560913086,-17.36455726623535,-26.323720932006836,-21.2269344329834,-21.305540084838867,-22.30494499206543,-23.890092849731445,-25.34328842163086,-24.020170211791992,-27.511343002319336,-25.85567855834961,-26.317623138427734,-26.173566818237305,-26.58300018310547,-26.844594955444336,-26.842153549194336,-27.491729736328125,-27.206544876098633,-27.983911514282227,-27.72049903869629,-28.296340942382812,-28.362932205200195,-28.96546173095703,null],\"yaxis\":\"y\",\"type\":\"scattergl\"},{\"hovertemplate\":\"class=kick<br>filename=131336__kaonaya__kick-hiphop-1.wav<br>time=%{x}<br>level=%{y}<extra></extra>\",\"legendgroup\":\"kick\",\"line\":{\"color\":\"#00cc96\",\"dash\":\"solid\"},\"marker\":{\"symbol\":\"circle\"},\"mode\":\"lines\",\"name\":\"kick\",\"showlegend\":false,\"x\":[0.0,0.03,0.06,0.09,0.12,0.15,0.18,0.21,0.24,0.27,0.3,0.33,0.36,0.39,0.42,0.45,0.48,0.51,0.54,0.57,0.6,0.63,0.66,0.69,0.72,0.75,0.78,0.81,0.84,0.87,0.9,0.93,0.96,0.99],\"xaxis\":\"x\",\"y\":[0.0,-0.8481225967407227,-1.8507347106933594,-7.397526264190674,-9.139333724975586,-10.563688278198242,-10.753145217895508,-11.995965957641602,-11.806596755981445,-16.326143264770508,null,null,null,null,null,null,null,null,null,null,null,null,null,null,null,null,null,null,null,null,null,null,null,null],\"yaxis\":\"y\",\"type\":\"scattergl\"},{\"hovertemplate\":\"class=kick<br>filename=132582__rob10__kick-drum-c-1.wav<br>time=%{x}<br>level=%{y}<extra></extra>\",\"legendgroup\":\"kick\",\"line\":{\"color\":\"#00cc96\",\"dash\":\"solid\"},\"marker\":{\"symbol\":\"circle\"},\"mode\":\"lines\",\"name\":\"kick\",\"showlegend\":false,\"x\":[0.0,0.03,0.06,0.09,0.12,0.15,0.18,0.21,0.24,0.27,0.3,0.33,0.36,0.39,0.42,0.45,0.48,0.51,0.54,0.57,0.6,0.63,0.66,0.69,0.72,0.75,0.78,0.81,0.84,0.87,0.9,0.93,0.96,0.99],\"xaxis\":\"x\",\"y\":[0.0,-0.8646833896636963,-1.8587367534637451,-2.9931256771087646,-4.235987663269043,-5.569059371948242,-6.984342575073242,-8.4840669631958,-10.080491065979004,-11.79684829711914,-13.670794486999512,-15.762330055236816,-18.170808792114258,-21.076122283935547,-24.852041244506836,-30.476978302001953,-42.232303619384766,-80.0,-80.0,null,null,null,null,null,null,null,null,null,null,null,null,null,null,null],\"yaxis\":\"y\",\"type\":\"scattergl\"},{\"hovertemplate\":\"class=kick<br>filename=324153__scale75__semiq_kicks_4.wav<br>time=%{x}<br>level=%{y}<extra></extra>\",\"legendgroup\":\"kick\",\"line\":{\"color\":\"#00cc96\",\"dash\":\"solid\"},\"marker\":{\"symbol\":\"circle\"},\"mode\":\"lines\",\"name\":\"kick\",\"showlegend\":false,\"x\":[0.0,0.03,0.06,0.09,0.12,0.15,0.18,0.21,0.24,0.27,0.3,0.33,0.36,0.39,0.42,0.45,0.48,0.51,0.54,0.57,0.6,0.63,0.66,0.69,0.72,0.75,0.78,0.81,0.84,0.87,0.9,0.93,0.96,0.99],\"xaxis\":\"x\",\"y\":[0.0,-1.4674196243286133,-1.598329782485962,-2.307788133621216,-2.7062361240386963,-3.4409420490264893,-4.095972537994385,-4.63985013961792,-5.006901741027832,-7.123941898345947,-8.209714889526367,-11.412028312683105,-16.95750617980957,-22.42644691467285,-26.577497482299805,-31.342449188232422,-47.85297393798828,-53.589778900146484,-59.088890075683594,-80.0,-80.0,-80.0,-80.0,-80.0,-80.0,-80.0,-80.0,-80.0,-80.0,-80.0,-80.0,-80.0,-80.0,null],\"yaxis\":\"y\",\"type\":\"scattergl\"},{\"hovertemplate\":\"class=kick<br>filename=171104__dwsd__kick_gettinglaid.wav<br>time=%{x}<br>level=%{y}<extra></extra>\",\"legendgroup\":\"kick\",\"line\":{\"color\":\"#00cc96\",\"dash\":\"solid\"},\"marker\":{\"symbol\":\"circle\"},\"mode\":\"lines\",\"name\":\"kick\",\"showlegend\":false,\"x\":[0.0,0.03,0.06,0.09,0.12,0.15,0.18,0.21,0.24,0.27,0.3,0.33,0.36,0.39,0.42,0.45,0.48,0.51,0.54,0.57,0.6,0.63,0.66,0.69,0.72,0.75,0.78,0.81,0.84,0.87,0.9,0.93,0.96,0.99],\"xaxis\":\"x\",\"y\":[0.0,-0.6548466682434082,-0.983304500579834,-1.625953197479248,-2.338038921356201,-2.9783620834350586,-7.299489498138428,-22.705598831176758,-30.594741821289062,-31.92822265625,-32.70757293701172,-33.509586334228516,-34.32089614868164,-35.134124755859375,-37.29599380493164,-56.803077697753906,null,null,null,null,null,null,null,null,null,null,null,null,null,null,null,null,null,null],\"yaxis\":\"y\",\"type\":\"scattergl\"},{\"hovertemplate\":\"class=cymbal<br>filename=207956__altemark__cymbal.wav<br>time=%{x}<br>level=%{y}<extra></extra>\",\"legendgroup\":\"cymbal\",\"line\":{\"color\":\"#ab63fa\",\"dash\":\"solid\"},\"marker\":{\"symbol\":\"circle\"},\"mode\":\"lines\",\"name\":\"cymbal\",\"showlegend\":true,\"x\":[0.0,0.03,0.06,0.09,0.12,0.15,0.18,0.21,0.24,0.27,0.3,0.33,0.36,0.39,0.42,0.45,0.48,0.51,0.54,0.57,0.6,0.63,0.66,0.69,0.72,0.75,0.78,0.81,0.84,0.87,0.9,0.93,0.96,0.99],\"xaxis\":\"x\",\"y\":[0.0,-0.27324533462524414,-1.0512213706970215,-1.488147258758545,-2.209303379058838,-2.6204895973205566,-2.899405002593994,-3.4324193000793457,-3.58573579788208,-3.9939093589782715,-4.3635640144348145,-4.52974271774292,-4.9468674659729,-5.0186076164245605,-5.417914867401123,-5.551642894744873,-5.643824100494385,-5.835922718048096,-6.097121715545654,-6.430675029754639,-6.4655232429504395,-6.818326473236084,-7.021778583526611,-7.285054683685303,-7.635132312774658,-7.868295192718506,-8.034597396850586,-8.244516372680664,-8.544084548950195,-8.761850357055664,-9.055608749389648,-9.183029174804688,-9.818906784057617,null],\"yaxis\":\"y\",\"type\":\"scattergl\"},{\"hovertemplate\":\"class=cymbal<br>filename=23543__loofa__brushd-china-cymbal02.aiff<br>time=%{x}<br>level=%{y}<extra></extra>\",\"legendgroup\":\"cymbal\",\"line\":{\"color\":\"#ab63fa\",\"dash\":\"solid\"},\"marker\":{\"symbol\":\"circle\"},\"mode\":\"lines\",\"name\":\"cymbal\",\"showlegend\":false,\"x\":[0.0,0.03,0.06,0.09,0.12,0.15,0.18,0.21,0.24,0.27,0.3,0.33,0.36,0.39,0.42,0.45,0.48,0.51,0.54,0.57,0.6,0.63,0.66,0.69,0.72,0.75,0.78,0.81,0.84,0.87,0.9,0.93,0.96,0.99],\"xaxis\":\"x\",\"y\":[0.0,-1.665384292602539,-2.8811769485473633,-2.72322940826416,-3.167308807373047,-4.224977493286133,-4.653384208679199,-4.274425506591797,-4.233089447021484,-4.183352470397949,-4.844383239746094,-5.401079177856445,-4.569853782653809,-6.00408935546875,-5.661505699157715,-5.7250518798828125,-6.061369895935059,-6.75019645690918,-6.943431854248047,-6.501247406005859,-7.288852691650391,-6.8897247314453125,-6.619113922119141,-7.04829216003418,-7.63279914855957,-7.958803176879883,-7.71624755859375,-7.989238739013672,-7.765239715576172,-8.293615341186523,-8.994985580444336,-8.682498931884766,-8.023754119873047,null],\"yaxis\":\"y\",\"type\":\"scattergl\"},{\"hovertemplate\":\"class=cymbal<br>filename=587935__strangehorizon__cymbal_ride.wav<br>time=%{x}<br>level=%{y}<extra></extra>\",\"legendgroup\":\"cymbal\",\"line\":{\"color\":\"#ab63fa\",\"dash\":\"solid\"},\"marker\":{\"symbol\":\"circle\"},\"mode\":\"lines\",\"name\":\"cymbal\",\"showlegend\":false,\"x\":[0.0,0.03,0.06,0.09,0.12,0.15,0.18,0.21,0.24,0.27,0.3,0.33,0.36,0.39,0.42,0.45,0.48,0.51,0.54,0.57,0.6,0.63,0.66,0.69,0.72,0.75,0.78,0.81,0.84,0.87,0.9,0.93,0.96,0.99],\"xaxis\":\"x\",\"y\":[0.0,-0.38175392150878906,-1.7994375228881836,-1.3844738006591797,-1.1404132843017578,-1.551961898803711,-1.6176738739013672,-2.2819385528564453,-2.403409004211426,-2.4567956924438477,-2.4091711044311523,-3.317275047302246,-3.5475168228149414,-4.092455863952637,-3.8340864181518555,-4.084303855895996,-4.415821075439453,-4.671982765197754,-4.94089412689209,-5.15554141998291,-4.9365949630737305,-5.409760475158691,-6.025562286376953,-5.858102798461914,-6.158425331115723,-6.342687606811523,-6.716902732849121,-6.631383895874023,-7.064355850219727,-7.062762260437012,-7.451871871948242,-7.962691307067871,-7.806392669677734,-8.29135513305664],\"yaxis\":\"y\",\"type\":\"scattergl\"},{\"hovertemplate\":\"class=cymbal<br>filename=149480__pjcohen__ottaviano22ridecymbal2500gwash.wav<br>time=%{x}<br>level=%{y}<extra></extra>\",\"legendgroup\":\"cymbal\",\"line\":{\"color\":\"#ab63fa\",\"dash\":\"solid\"},\"marker\":{\"symbol\":\"circle\"},\"mode\":\"lines\",\"name\":\"cymbal\",\"showlegend\":false,\"x\":[0.0,0.03,0.06,0.09,0.12,0.15,0.18,0.21,0.24,0.27,0.3,0.33,0.36,0.39,0.42,0.45,0.48,0.51,0.54,0.57,0.6,0.63,0.66,0.69,0.72,0.75,0.78,0.81,0.84,0.87,0.9,0.93,0.96,0.99],\"xaxis\":\"x\",\"y\":[0.0,-0.5821733474731445,-1.0462455749511719,-1.4344863891601562,-2.1041736602783203,-2.081026077270508,-2.3531570434570312,-3.320341110229492,-2.0922327041625977,-2.943246841430664,-3.670835494995117,-4.108848571777344,-3.888458251953125,-5.313377380371094,-5.405647277832031,-4.488384246826172,-4.73630428314209,-5.480619430541992,-5.704567909240723,-5.887493133544922,-6.148365020751953,-6.03951358795166,-6.229948043823242,-6.383622169494629,-6.037901878356934,-6.2948503494262695,-7.0644426345825195,-7.003596305847168,-7.316213607788086,-6.885313034057617,-7.62158203125,-8.208724975585938,-7.947381973266602,-8.616950988769531],\"yaxis\":\"y\",\"type\":\"scattergl\"},{\"hovertemplate\":\"class=cymbal<br>filename=121097__thirsk__cymbal.wav<br>time=%{x}<br>level=%{y}<extra></extra>\",\"legendgroup\":\"cymbal\",\"line\":{\"color\":\"#ab63fa\",\"dash\":\"solid\"},\"marker\":{\"symbol\":\"circle\"},\"mode\":\"lines\",\"name\":\"cymbal\",\"showlegend\":false,\"x\":[0.0,0.03,0.06,0.09,0.12,0.15,0.18,0.21,0.24,0.27,0.3,0.33,0.36,0.39,0.42,0.45,0.48,0.51,0.54,0.57,0.6,0.63,0.66,0.69,0.72,0.75,0.78,0.81,0.84,0.87,0.9,0.93,0.96,0.99],\"xaxis\":\"x\",\"y\":[0.0,-1.515779972076416,-2.876033306121826,-3.393366813659668,-5.313292026519775,-7.534887790679932,-6.90429162979126,-7.77544641494751,-9.691581726074219,-10.860191345214844,-10.955781936645508,-12.86669921875,-14.604183197021484,-15.816362380981445,-16.398365020751953,-17.27794647216797,-19.23979377746582,-20.449817657470703,-21.335721969604492,-21.71201515197754,-22.198427200317383,-24.787803649902344,-27.740127563476562,-28.42474365234375,-29.001808166503906,-30.279277801513672,-30.545822143554688,-30.96630859375,-31.783885955810547,-32.502986907958984,-33.39152145385742,-33.87798309326172,-34.82479476928711,null],\"yaxis\":\"y\",\"type\":\"scattergl\"},{\"hovertemplate\":\"class=cymbal<br>filename=154718__mistorcaveman__cymbal_9_1-2.aiff<br>time=%{x}<br>level=%{y}<extra></extra>\",\"legendgroup\":\"cymbal\",\"line\":{\"color\":\"#ab63fa\",\"dash\":\"solid\"},\"marker\":{\"symbol\":\"circle\"},\"mode\":\"lines\",\"name\":\"cymbal\",\"showlegend\":false,\"x\":[0.0,0.03,0.06,0.09,0.12,0.15,0.18,0.21,0.24,0.27,0.3,0.33,0.36,0.39,0.42,0.45,0.48,0.51,0.54,0.57,0.6,0.63,0.66,0.69,0.72,0.75,0.78,0.81,0.84,0.87,0.9,0.93,0.96,0.99],\"xaxis\":\"x\",\"y\":[0.0,-1.448796272277832,-3.624818801879883,-4.283405303955078,-4.087180137634277,-4.4320526123046875,-4.957888603210449,-5.132546424865723,-6.0470123291015625,-4.878847122192383,-4.82586669921875,-6.793996810913086,-5.986213684082031,-6.725324630737305,-6.066871643066406,-6.580009460449219,-7.448848724365234,-8.412126541137695,-7.878505706787109,-7.747198104858398,-8.146812438964844,-8.106634140014648,-7.434083938598633,-9.085990905761719,-9.347101211547852,-10.030355453491211,-8.820047378540039,-9.76365852355957,-9.177631378173828,-9.851032257080078,-11.08038330078125,null,null,null],\"yaxis\":\"y\",\"type\":\"scattergl\"},{\"hovertemplate\":\"class=cymbal<br>filename=13243__ianhall__chinese-cymbal.aiff<br>time=%{x}<br>level=%{y}<extra></extra>\",\"legendgroup\":\"cymbal\",\"line\":{\"color\":\"#ab63fa\",\"dash\":\"solid\"},\"marker\":{\"symbol\":\"circle\"},\"mode\":\"lines\",\"name\":\"cymbal\",\"showlegend\":false,\"x\":[0.0,0.03,0.06,0.09,0.12,0.15,0.18,0.21,0.24,0.27,0.3,0.33,0.36,0.39,0.42,0.45,0.48,0.51,0.54,0.57,0.6,0.63,0.66,0.69,0.72,0.75,0.78,0.81,0.84,0.87,0.9,0.93,0.96,0.99],\"xaxis\":\"x\",\"y\":[0.0,-0.8285417556762695,-1.6510047912597656,-1.9450788497924805,-2.8006982803344727,-3.018465995788574,-3.8775644302368164,-3.978666305541992,-4.394182205200195,-4.950647354125977,-5.5792083740234375,-5.47275447845459,-5.82053279876709,-6.68644905090332,-7.437053680419922,-7.912022590637207,-8.709582328796387,-8.5907621383667,-9.081156730651855,-9.388005256652832,-9.641242027282715,-9.723299980163574,-10.476569175720215,-10.47790813446045,-10.864670753479004,-10.8860502243042,-11.166661262512207,-11.690814018249512,-12.004990577697754,-12.379900932312012,-12.823002815246582,-12.639975547790527,-13.339543342590332,null],\"yaxis\":\"y\",\"type\":\"scattergl\"},{\"hovertemplate\":\"class=cymbal<br>filename=136448__zagorius_mpc__chinese-cymbal-46_2.wav<br>time=%{x}<br>level=%{y}<extra></extra>\",\"legendgroup\":\"cymbal\",\"line\":{\"color\":\"#ab63fa\",\"dash\":\"solid\"},\"marker\":{\"symbol\":\"circle\"},\"mode\":\"lines\",\"name\":\"cymbal\",\"showlegend\":false,\"x\":[0.0,0.03,0.06,0.09,0.12,0.15,0.18,0.21,0.24,0.27,0.3,0.33,0.36,0.39,0.42,0.45,0.48,0.51,0.54,0.57,0.6,0.63,0.66,0.69,0.72,0.75,0.78,0.81,0.84,0.87,0.9,0.93,0.96,0.99],\"xaxis\":\"x\",\"y\":[0.0,-0.16174554824829102,-0.4693603515625,-0.1360182762145996,-0.43683815002441406,-1.195683479309082,-0.9313974380493164,-1.546675205230713,-1.5783452987670898,-1.8387398719787598,-1.9522271156311035,-2.6785621643066406,-2.716731548309326,-3.890746593475342,-4.24225378036499,-4.38449239730835,-4.501474857330322,-4.832861423492432,-5.707615375518799,-5.605736255645752,-5.773705005645752,-6.188551425933838,-6.64058256149292,-5.763441562652588,-6.819998264312744,-6.617781162261963,-7.474833965301514,-7.5147480964660645,-7.3667073249816895,-8.217918395996094,-7.991772174835205,-9.091850280761719,-8.681499481201172,null],\"yaxis\":\"y\",\"type\":\"scattergl\"},{\"hovertemplate\":\"class=cymbal<br>filename=102794__mhc__acoustic_ride_cymbal2.wav<br>time=%{x}<br>level=%{y}<extra></extra>\",\"legendgroup\":\"cymbal\",\"line\":{\"color\":\"#ab63fa\",\"dash\":\"solid\"},\"marker\":{\"symbol\":\"circle\"},\"mode\":\"lines\",\"name\":\"cymbal\",\"showlegend\":false,\"x\":[0.0,0.03,0.06,0.09,0.12,0.15,0.18,0.21,0.24,0.27,0.3,0.33,0.36,0.39,0.42,0.45,0.48,0.51,0.54,0.57,0.6,0.63,0.66,0.69,0.72,0.75,0.78,0.81,0.84,0.87,0.9,0.93,0.96,0.99],\"xaxis\":\"x\",\"y\":[0.0,-0.46062660217285156,-0.886023998260498,-1.1848125457763672,-1.8168058395385742,-1.427962303161621,-1.78509521484375,-1.8796567916870117,-2.12155818939209,-2.6521339416503906,-2.560283660888672,-2.525273323059082,-2.991975784301758,-3.6736297607421875,-3.624204635620117,-3.653994560241699,-3.7114028930664062,-3.9392480850219727,-3.8535232543945312,-3.6761245727539062,-4.138136863708496,-4.148874282836914,-4.4138689041137695,-5.177865982055664,-5.195052146911621,-5.034262657165527,-5.3499040603637695,-4.833650588989258,-4.463507652282715,-4.554529190063477,-5.278573036193848,-5.8051557540893555,-5.696300506591797,null],\"yaxis\":\"y\",\"type\":\"scattergl\"},{\"hovertemplate\":\"class=cymbal<br>filename=154712__mistorcaveman__cymbal_7_1-2.aiff<br>time=%{x}<br>level=%{y}<extra></extra>\",\"legendgroup\":\"cymbal\",\"line\":{\"color\":\"#ab63fa\",\"dash\":\"solid\"},\"marker\":{\"symbol\":\"circle\"},\"mode\":\"lines\",\"name\":\"cymbal\",\"showlegend\":false,\"x\":[0.0,0.03,0.06,0.09,0.12,0.15,0.18,0.21,0.24,0.27,0.3,0.33,0.36,0.39,0.42,0.45,0.48,0.51,0.54,0.57,0.6,0.63,0.66,0.69,0.72,0.75,0.78,0.81,0.84,0.87,0.9,0.93,0.96,0.99],\"xaxis\":\"x\",\"y\":[0.0,-3.3331518173217773,-5.404224395751953,-7.207719802856445,-8.778465270996094,-9.982366561889648,-10.813520431518555,-11.221803665161133,-11.872995376586914,-12.287433624267578,-12.834615707397461,-13.510160446166992,-14.204540252685547,-14.31324577331543,-14.863784790039062,-15.451250076293945,-15.92837905883789,-15.685400009155273,-16.507556915283203,-16.361581802368164,-17.477787017822266,-16.283958435058594,-16.860816955566406,-17.141420364379883,-17.150835037231445,-16.3580265045166,-17.023488998413086,-15.925594329833984,-17.53230094909668,-16.64750862121582,-17.025129318237305,null,null,null],\"yaxis\":\"y\",\"type\":\"scattergl\"}],                        {\"template\":{\"data\":{\"histogram2dcontour\":[{\"type\":\"histogram2dcontour\",\"colorbar\":{\"outlinewidth\":0,\"ticks\":\"\"},\"colorscale\":[[0.0,\"#0d0887\"],[0.1111111111111111,\"#46039f\"],[0.2222222222222222,\"#7201a8\"],[0.3333333333333333,\"#9c179e\"],[0.4444444444444444,\"#bd3786\"],[0.5555555555555556,\"#d8576b\"],[0.6666666666666666,\"#ed7953\"],[0.7777777777777778,\"#fb9f3a\"],[0.8888888888888888,\"#fdca26\"],[1.0,\"#f0f921\"]]}],\"choropleth\":[{\"type\":\"choropleth\",\"colorbar\":{\"outlinewidth\":0,\"ticks\":\"\"}}],\"histogram2d\":[{\"type\":\"histogram2d\",\"colorbar\":{\"outlinewidth\":0,\"ticks\":\"\"},\"colorscale\":[[0.0,\"#0d0887\"],[0.1111111111111111,\"#46039f\"],[0.2222222222222222,\"#7201a8\"],[0.3333333333333333,\"#9c179e\"],[0.4444444444444444,\"#bd3786\"],[0.5555555555555556,\"#d8576b\"],[0.6666666666666666,\"#ed7953\"],[0.7777777777777778,\"#fb9f3a\"],[0.8888888888888888,\"#fdca26\"],[1.0,\"#f0f921\"]]}],\"heatmap\":[{\"type\":\"heatmap\",\"colorbar\":{\"outlinewidth\":0,\"ticks\":\"\"},\"colorscale\":[[0.0,\"#0d0887\"],[0.1111111111111111,\"#46039f\"],[0.2222222222222222,\"#7201a8\"],[0.3333333333333333,\"#9c179e\"],[0.4444444444444444,\"#bd3786\"],[0.5555555555555556,\"#d8576b\"],[0.6666666666666666,\"#ed7953\"],[0.7777777777777778,\"#fb9f3a\"],[0.8888888888888888,\"#fdca26\"],[1.0,\"#f0f921\"]]}],\"heatmapgl\":[{\"type\":\"heatmapgl\",\"colorbar\":{\"outlinewidth\":0,\"ticks\":\"\"},\"colorscale\":[[0.0,\"#0d0887\"],[0.1111111111111111,\"#46039f\"],[0.2222222222222222,\"#7201a8\"],[0.3333333333333333,\"#9c179e\"],[0.4444444444444444,\"#bd3786\"],[0.5555555555555556,\"#d8576b\"],[0.6666666666666666,\"#ed7953\"],[0.7777777777777778,\"#fb9f3a\"],[0.8888888888888888,\"#fdca26\"],[1.0,\"#f0f921\"]]}],\"contourcarpet\":[{\"type\":\"contourcarpet\",\"colorbar\":{\"outlinewidth\":0,\"ticks\":\"\"}}],\"contour\":[{\"type\":\"contour\",\"colorbar\":{\"outlinewidth\":0,\"ticks\":\"\"},\"colorscale\":[[0.0,\"#0d0887\"],[0.1111111111111111,\"#46039f\"],[0.2222222222222222,\"#7201a8\"],[0.3333333333333333,\"#9c179e\"],[0.4444444444444444,\"#bd3786\"],[0.5555555555555556,\"#d8576b\"],[0.6666666666666666,\"#ed7953\"],[0.7777777777777778,\"#fb9f3a\"],[0.8888888888888888,\"#fdca26\"],[1.0,\"#f0f921\"]]}],\"surface\":[{\"type\":\"surface\",\"colorbar\":{\"outlinewidth\":0,\"ticks\":\"\"},\"colorscale\":[[0.0,\"#0d0887\"],[0.1111111111111111,\"#46039f\"],[0.2222222222222222,\"#7201a8\"],[0.3333333333333333,\"#9c179e\"],[0.4444444444444444,\"#bd3786\"],[0.5555555555555556,\"#d8576b\"],[0.6666666666666666,\"#ed7953\"],[0.7777777777777778,\"#fb9f3a\"],[0.8888888888888888,\"#fdca26\"],[1.0,\"#f0f921\"]]}],\"mesh3d\":[{\"type\":\"mesh3d\",\"colorbar\":{\"outlinewidth\":0,\"ticks\":\"\"}}],\"scatter\":[{\"fillpattern\":{\"fillmode\":\"overlay\",\"size\":10,\"solidity\":0.2},\"type\":\"scatter\"}],\"parcoords\":[{\"type\":\"parcoords\",\"line\":{\"colorbar\":{\"outlinewidth\":0,\"ticks\":\"\"}}}],\"scatterpolargl\":[{\"type\":\"scatterpolargl\",\"marker\":{\"colorbar\":{\"outlinewidth\":0,\"ticks\":\"\"}}}],\"bar\":[{\"error_x\":{\"color\":\"#2a3f5f\"},\"error_y\":{\"color\":\"#2a3f5f\"},\"marker\":{\"line\":{\"color\":\"#E5ECF6\",\"width\":0.5},\"pattern\":{\"fillmode\":\"overlay\",\"size\":10,\"solidity\":0.2}},\"type\":\"bar\"}],\"scattergeo\":[{\"type\":\"scattergeo\",\"marker\":{\"colorbar\":{\"outlinewidth\":0,\"ticks\":\"\"}}}],\"scatterpolar\":[{\"type\":\"scatterpolar\",\"marker\":{\"colorbar\":{\"outlinewidth\":0,\"ticks\":\"\"}}}],\"histogram\":[{\"marker\":{\"pattern\":{\"fillmode\":\"overlay\",\"size\":10,\"solidity\":0.2}},\"type\":\"histogram\"}],\"scattergl\":[{\"type\":\"scattergl\",\"marker\":{\"colorbar\":{\"outlinewidth\":0,\"ticks\":\"\"}}}],\"scatter3d\":[{\"type\":\"scatter3d\",\"line\":{\"colorbar\":{\"outlinewidth\":0,\"ticks\":\"\"}},\"marker\":{\"colorbar\":{\"outlinewidth\":0,\"ticks\":\"\"}}}],\"scattermapbox\":[{\"type\":\"scattermapbox\",\"marker\":{\"colorbar\":{\"outlinewidth\":0,\"ticks\":\"\"}}}],\"scatterternary\":[{\"type\":\"scatterternary\",\"marker\":{\"colorbar\":{\"outlinewidth\":0,\"ticks\":\"\"}}}],\"scattercarpet\":[{\"type\":\"scattercarpet\",\"marker\":{\"colorbar\":{\"outlinewidth\":0,\"ticks\":\"\"}}}],\"carpet\":[{\"aaxis\":{\"endlinecolor\":\"#2a3f5f\",\"gridcolor\":\"white\",\"linecolor\":\"white\",\"minorgridcolor\":\"white\",\"startlinecolor\":\"#2a3f5f\"},\"baxis\":{\"endlinecolor\":\"#2a3f5f\",\"gridcolor\":\"white\",\"linecolor\":\"white\",\"minorgridcolor\":\"white\",\"startlinecolor\":\"#2a3f5f\"},\"type\":\"carpet\"}],\"table\":[{\"cells\":{\"fill\":{\"color\":\"#EBF0F8\"},\"line\":{\"color\":\"white\"}},\"header\":{\"fill\":{\"color\":\"#C8D4E3\"},\"line\":{\"color\":\"white\"}},\"type\":\"table\"}],\"barpolar\":[{\"marker\":{\"line\":{\"color\":\"#E5ECF6\",\"width\":0.5},\"pattern\":{\"fillmode\":\"overlay\",\"size\":10,\"solidity\":0.2}},\"type\":\"barpolar\"}],\"pie\":[{\"automargin\":true,\"type\":\"pie\"}]},\"layout\":{\"autotypenumbers\":\"strict\",\"colorway\":[\"#636efa\",\"#EF553B\",\"#00cc96\",\"#ab63fa\",\"#FFA15A\",\"#19d3f3\",\"#FF6692\",\"#B6E880\",\"#FF97FF\",\"#FECB52\"],\"font\":{\"color\":\"#2a3f5f\"},\"hovermode\":\"closest\",\"hoverlabel\":{\"align\":\"left\"},\"paper_bgcolor\":\"white\",\"plot_bgcolor\":\"#E5ECF6\",\"polar\":{\"bgcolor\":\"#E5ECF6\",\"angularaxis\":{\"gridcolor\":\"white\",\"linecolor\":\"white\",\"ticks\":\"\"},\"radialaxis\":{\"gridcolor\":\"white\",\"linecolor\":\"white\",\"ticks\":\"\"}},\"ternary\":{\"bgcolor\":\"#E5ECF6\",\"aaxis\":{\"gridcolor\":\"white\",\"linecolor\":\"white\",\"ticks\":\"\"},\"baxis\":{\"gridcolor\":\"white\",\"linecolor\":\"white\",\"ticks\":\"\"},\"caxis\":{\"gridcolor\":\"white\",\"linecolor\":\"white\",\"ticks\":\"\"}},\"coloraxis\":{\"colorbar\":{\"outlinewidth\":0,\"ticks\":\"\"}},\"colorscale\":{\"sequential\":[[0.0,\"#0d0887\"],[0.1111111111111111,\"#46039f\"],[0.2222222222222222,\"#7201a8\"],[0.3333333333333333,\"#9c179e\"],[0.4444444444444444,\"#bd3786\"],[0.5555555555555556,\"#d8576b\"],[0.6666666666666666,\"#ed7953\"],[0.7777777777777778,\"#fb9f3a\"],[0.8888888888888888,\"#fdca26\"],[1.0,\"#f0f921\"]],\"sequentialminus\":[[0.0,\"#0d0887\"],[0.1111111111111111,\"#46039f\"],[0.2222222222222222,\"#7201a8\"],[0.3333333333333333,\"#9c179e\"],[0.4444444444444444,\"#bd3786\"],[0.5555555555555556,\"#d8576b\"],[0.6666666666666666,\"#ed7953\"],[0.7777777777777778,\"#fb9f3a\"],[0.8888888888888888,\"#fdca26\"],[1.0,\"#f0f921\"]],\"diverging\":[[0,\"#8e0152\"],[0.1,\"#c51b7d\"],[0.2,\"#de77ae\"],[0.3,\"#f1b6da\"],[0.4,\"#fde0ef\"],[0.5,\"#f7f7f7\"],[0.6,\"#e6f5d0\"],[0.7,\"#b8e186\"],[0.8,\"#7fbc41\"],[0.9,\"#4d9221\"],[1,\"#276419\"]]},\"xaxis\":{\"gridcolor\":\"white\",\"linecolor\":\"white\",\"ticks\":\"\",\"title\":{\"standoff\":15},\"zerolinecolor\":\"white\",\"automargin\":true,\"zerolinewidth\":2},\"yaxis\":{\"gridcolor\":\"white\",\"linecolor\":\"white\",\"ticks\":\"\",\"title\":{\"standoff\":15},\"zerolinecolor\":\"white\",\"automargin\":true,\"zerolinewidth\":2},\"scene\":{\"xaxis\":{\"backgroundcolor\":\"#E5ECF6\",\"gridcolor\":\"white\",\"linecolor\":\"white\",\"showbackground\":true,\"ticks\":\"\",\"zerolinecolor\":\"white\",\"gridwidth\":2},\"yaxis\":{\"backgroundcolor\":\"#E5ECF6\",\"gridcolor\":\"white\",\"linecolor\":\"white\",\"showbackground\":true,\"ticks\":\"\",\"zerolinecolor\":\"white\",\"gridwidth\":2},\"zaxis\":{\"backgroundcolor\":\"#E5ECF6\",\"gridcolor\":\"white\",\"linecolor\":\"white\",\"showbackground\":true,\"ticks\":\"\",\"zerolinecolor\":\"white\",\"gridwidth\":2}},\"shapedefaults\":{\"line\":{\"color\":\"#2a3f5f\"}},\"annotationdefaults\":{\"arrowcolor\":\"#2a3f5f\",\"arrowhead\":0,\"arrowwidth\":1},\"geo\":{\"bgcolor\":\"white\",\"landcolor\":\"#E5ECF6\",\"subunitcolor\":\"white\",\"showland\":true,\"showlakes\":true,\"lakecolor\":\"white\"},\"title\":{\"x\":0.05},\"mapbox\":{\"style\":\"light\"}}},\"xaxis\":{\"anchor\":\"y\",\"domain\":[0.0,1.0],\"title\":{\"text\":\"time\"}},\"yaxis\":{\"anchor\":\"x\",\"domain\":[0.0,1.0],\"title\":{\"text\":\"level\"},\"range\":[-90,10]},\"legend\":{\"title\":{\"text\":\"class\"},\"tracegroupgap\":0},\"margin\":{\"t\":60},\"height\":700,\"width\":1500},                        {\"responsive\": true}                    ).then(function(){\n",
       "                            \n",
       "var gd = document.getElementById('fd003b82-2cad-4f09-a66a-7714b5f5b3a2');\n",
       "var x = new MutationObserver(function (mutations, observer) {{\n",
       "        var display = window.getComputedStyle(gd).display;\n",
       "        if (!display || display === 'none') {{\n",
       "            console.log([gd, 'removed!']);\n",
       "            Plotly.purge(gd);\n",
       "            observer.disconnect();\n",
       "        }}\n",
       "}});\n",
       "\n",
       "// Listen for the removal of the full notebook cells\n",
       "var notebookContainer = gd.closest('#notebook-container');\n",
       "if (notebookContainer) {{\n",
       "    x.observe(notebookContainer, {childList: true});\n",
       "}}\n",
       "\n",
       "// Listen for the clearing of the current output cell\n",
       "var outputEl = gd.closest('.output');\n",
       "if (outputEl) {{\n",
       "    x.observe(outputEl, {childList: true});\n",
       "}}\n",
       "\n",
       "                        })                };                });            </script>        </div>"
      ]
     },
     "metadata": {},
     "output_type": "display_data"
    }
   ],
   "source": [
    "\n",
    "def to_long(samples, column='soundlevel', id_vars=['filename', 'class'], var_name='time', value_name='level'):\n",
    "\n",
    "    s = samples.set_index('filename')\n",
    "    sl = pandas.DataFrame( [f for f in s[column] ], index=s.index)\n",
    "    \n",
    "    mm = pandas.melt(sl.reset_index(), id_vars=['filename'], var_name=var_name, value_name=value_name)\n",
    "\n",
    "    #print(mm['']\n",
    "          \n",
    "    mm = pandas.merge(mm, s, left_on='filename', right_index=True)\n",
    "    \n",
    "    return mm\n",
    "\n",
    "def plot_soundlevels(samples):\n",
    "    \n",
    "    samples_soundlevels = to_long(samples)\n",
    "\n",
    "    fig = plotly.express.line(samples_soundlevels, x='time', y='level', line_group='filename', color='class', height=700, width=1500)\n",
    "    fig.update_layout(yaxis_range=[-90,10])\n",
    "    return fig\n",
    "\n",
    "fig = plot_soundlevels(samples)\n",
    "fig"
   ]
  },
  {
   "cell_type": "code",
   "execution_count": 431,
   "id": "e05458cb-19f1-48e0-b52a-4026e6a91063",
   "metadata": {
    "tags": []
   },
   "outputs": [
    {
     "data": {
      "application/vnd.plotly.v1+json": {
       "config": {
        "plotlyServerURL": "https://plot.ly"
       },
       "data": [
        {
         "hovertemplate": "class=closed_hihat<br>filename=556184__soothsayer_orchestra__hihatt-closed.wav<br>frequency=%{x}<br>level=%{y}<extra></extra>",
         "legendgroup": "closed_hihat",
         "line": {
          "color": "#636efa",
          "dash": "solid"
         },
         "marker": {
          "symbol": "circle"
         },
         "mode": "lines",
         "name": "closed_hihat",
         "showlegend": true,
         "type": "scattergl",
         "x": [
          12.5,
          15.7,
          19.8,
          25,
          31.5,
          39.7,
          50,
          63,
          79.4,
          100,
          126,
          158.7,
          200,
          252,
          317.5,
          400,
          504,
          635,
          800,
          1007.9,
          1269.9,
          1600,
          2015.9,
          2539.8,
          3200,
          4031.7,
          5079.7,
          6400,
          8063.5,
          10159.4,
          12800
         ],
         "xaxis": "x",
         "y": [
          -6.784675598144531,
          null,
          null,
          -6.643463134765625,
          -6.418800354003906,
          null,
          -6.124458312988281,
          -5.582557678222656,
          -4.977336883544922,
          -4.338233947753906,
          -3.2866287231445312,
          -2.127796173095703,
          -1.0060844421386719,
          0,
          0.4541587829589844,
          -0.3248443603515625,
          -2.1940689086914062,
          -1.1263656616210938,
          -1.3951873779296875,
          -6.5969085693359375,
          -8.763019561767578,
          -9.834053039550781,
          -8.806121826171875,
          -7.820411682128906,
          -7.9584197998046875,
          -5.634552001953125,
          -0.1385650634765625,
          -0.558349609375,
          -0.09288406372070312,
          1.2457313537597656,
          -1.1748580932617188
         ],
         "yaxis": "y"
        },
        {
         "hovertemplate": "class=closed_hihat<br>filename=634822__collinb1000__closed7.wav<br>frequency=%{x}<br>level=%{y}<extra></extra>",
         "legendgroup": "closed_hihat",
         "line": {
          "color": "#636efa",
          "dash": "solid"
         },
         "marker": {
          "symbol": "circle"
         },
         "mode": "lines",
         "name": "closed_hihat",
         "showlegend": false,
         "type": "scattergl",
         "x": [
          12.5,
          15.7,
          19.8,
          25,
          31.5,
          39.7,
          50,
          63,
          79.4,
          100,
          126,
          158.7,
          200,
          252,
          317.5,
          400,
          504,
          635,
          800,
          1007.9,
          1269.9,
          1600,
          2015.9,
          2539.8,
          3200,
          4031.7,
          5079.7,
          6400,
          8063.5,
          10159.4,
          12800
         ],
         "xaxis": "x",
         "y": [
          -5.328678131103516,
          null,
          null,
          -5.175197601318359,
          -4.933910369873047,
          null,
          -4.623035430908203,
          -4.067291259765625,
          -3.467376708984375,
          -2.8646011352539062,
          -1.9411964416503906,
          -1.0392913818359375,
          -0.34178924560546875,
          0,
          -0.3613777160644531,
          -1.725677490234375,
          -3.7379684448242188,
          -6.02655029296875,
          -7.208427429199219,
          -10.791362762451172,
          -8.286983489990234,
          -9.063209533691406,
          -6.716224670410156,
          -10.305171966552734,
          -5.3613128662109375,
          -4.510211944580078,
          -4.234699249267578,
          -4.389522552490234,
          -3.2785263061523438,
          -3.2790908813476562,
          -3.826526641845703
         ],
         "yaxis": "y"
        },
        {
         "hovertemplate": "class=closed_hihat<br>filename=140516__stomachache__closedhatphrase-002.wav<br>frequency=%{x}<br>level=%{y}<extra></extra>",
         "legendgroup": "closed_hihat",
         "line": {
          "color": "#636efa",
          "dash": "solid"
         },
         "marker": {
          "symbol": "circle"
         },
         "mode": "lines",
         "name": "closed_hihat",
         "showlegend": false,
         "type": "scattergl",
         "x": [
          12.5,
          15.7,
          19.8,
          25,
          31.5,
          39.7,
          50,
          63,
          79.4,
          100,
          126,
          158.7,
          200,
          252,
          317.5,
          400,
          504,
          635,
          800,
          1007.9,
          1269.9,
          1600,
          2015.9,
          2539.8,
          3200,
          4031.7,
          5079.7,
          6400,
          8063.5,
          10159.4,
          12800
         ],
         "xaxis": "x",
         "y": [
          -6.1016693115234375,
          null,
          null,
          -5.920833587646484,
          -5.639003753662109,
          null,
          -5.280025482177734,
          -4.649387359619141,
          -3.9799766540527344,
          -3.319499969482422,
          -2.321868896484375,
          -1.3498420715332031,
          -0.5597038269042969,
          0,
          0.23738861083984375,
          0.4857063293457031,
          1.2516822814941406,
          1.1060905456542969,
          -2.905242919921875,
          -8.103923797607422,
          -5.926677703857422,
          -3.7705154418945312,
          -9.579261779785156,
          -8.121768951416016,
          -6.718425750732422,
          -6.40350341796875,
          -0.5919227600097656,
          -1.1282119750976562,
          -2.107410430908203,
          -2.8457298278808594,
          -0.8319091796875
         ],
         "yaxis": "y"
        },
        {
         "hovertemplate": "class=closed_hihat<br>filename=102781__mhc__acoustic_closed_hihat2.wav<br>frequency=%{x}<br>level=%{y}<extra></extra>",
         "legendgroup": "closed_hihat",
         "line": {
          "color": "#636efa",
          "dash": "solid"
         },
         "marker": {
          "symbol": "circle"
         },
         "mode": "lines",
         "name": "closed_hihat",
         "showlegend": false,
         "type": "scattergl",
         "x": [
          12.5,
          15.7,
          19.8,
          25,
          31.5,
          39.7,
          50,
          63,
          79.4,
          100,
          126,
          158.7,
          200,
          252,
          317.5,
          400,
          504,
          635,
          800,
          1007.9,
          1269.9,
          1600,
          2015.9,
          2539.8,
          3200,
          4031.7,
          5079.7,
          6400,
          8063.5,
          10159.4,
          12800
         ],
         "xaxis": "x",
         "y": [
          -4.314701080322266,
          null,
          null,
          -4.203102111816406,
          -4.025463104248047,
          null,
          -3.79278564453125,
          -3.3658218383789062,
          -2.8927230834960938,
          -2.4028244018554688,
          -1.6308746337890625,
          -0.858642578125,
          -0.26020050048828125,
          0,
          -0.4091796875,
          -1.6107864379882812,
          -2.3244552612304688,
          -1.6474227905273438,
          -2.8061676025390625,
          -7.598640441894531,
          -7.7285003662109375,
          -9.863662719726562,
          -9.093795776367188,
          -11.976764678955078,
          -10.523292541503906,
          -9.864479064941406,
          -8.580642700195312,
          -8.235153198242188,
          -9.163375854492188,
          -10.72607421875,
          -9.561080932617188
         ],
         "yaxis": "y"
        },
        {
         "hovertemplate": "class=closed_hihat<br>filename=634822__collinb1000__closed7(1).wav<br>frequency=%{x}<br>level=%{y}<extra></extra>",
         "legendgroup": "closed_hihat",
         "line": {
          "color": "#636efa",
          "dash": "solid"
         },
         "marker": {
          "symbol": "circle"
         },
         "mode": "lines",
         "name": "closed_hihat",
         "showlegend": false,
         "type": "scattergl",
         "x": [
          12.5,
          15.7,
          19.8,
          25,
          31.5,
          39.7,
          50,
          63,
          79.4,
          100,
          126,
          158.7,
          200,
          252,
          317.5,
          400,
          504,
          635,
          800,
          1007.9,
          1269.9,
          1600,
          2015.9,
          2539.8,
          3200,
          4031.7,
          5079.7,
          6400,
          8063.5,
          10159.4,
          12800
         ],
         "xaxis": "x",
         "y": [
          -5.328678131103516,
          null,
          null,
          -5.175197601318359,
          -4.933910369873047,
          null,
          -4.623035430908203,
          -4.067291259765625,
          -3.467376708984375,
          -2.8646011352539062,
          -1.9411964416503906,
          -1.0392913818359375,
          -0.34178924560546875,
          0,
          -0.3613777160644531,
          -1.725677490234375,
          -3.7379684448242188,
          -6.02655029296875,
          -7.208427429199219,
          -10.791362762451172,
          -8.286983489990234,
          -9.063209533691406,
          -6.716224670410156,
          -10.305171966552734,
          -5.3613128662109375,
          -4.510211944580078,
          -4.234699249267578,
          -4.389522552490234,
          -3.2785263061523438,
          -3.2790908813476562,
          -3.826526641845703
         ],
         "yaxis": "y"
        },
        {
         "hovertemplate": "class=closed_hihat<br>filename=669733__jannevse__hi-hat_closed_po-12.aiff<br>frequency=%{x}<br>level=%{y}<extra></extra>",
         "legendgroup": "closed_hihat",
         "line": {
          "color": "#636efa",
          "dash": "solid"
         },
         "marker": {
          "symbol": "circle"
         },
         "mode": "lines",
         "name": "closed_hihat",
         "showlegend": false,
         "type": "scattergl",
         "x": [
          12.5,
          15.7,
          19.8,
          25,
          31.5,
          39.7,
          50,
          63,
          79.4,
          100,
          126,
          158.7,
          200,
          252,
          317.5,
          400,
          504,
          635,
          800,
          1007.9,
          1269.9,
          1600,
          2015.9,
          2539.8,
          3200,
          4031.7,
          5079.7,
          6400,
          8063.5,
          10159.4,
          12800
         ],
         "xaxis": "x",
         "y": [
          5.4573974609375,
          null,
          null,
          5.4044952392578125,
          5.316490173339844,
          null,
          5.193634033203125,
          4.940746307373047,
          4.6209716796875,
          4.221698760986328,
          3.4168033599853516,
          2.293844223022461,
          0.9916324615478516,
          0,
          0.42784690856933594,
          2.5008697509765625,
          5.502071380615234,
          7.529670715332031,
          8.160392761230469,
          8.428226470947266,
          8.439239501953125,
          12.98306655883789,
          16.440486907958984,
          19.713119506835938,
          20.95806884765625,
          23.764511108398438,
          28.77863311767578,
          31.046295166015625,
          30.349014282226562,
          26.24673080444336,
          22.932762145996094
         ],
         "yaxis": "y"
        },
        {
         "hovertemplate": "class=closed_hihat<br>filename=13246__ianhall__hihat-closed.aiff<br>frequency=%{x}<br>level=%{y}<extra></extra>",
         "legendgroup": "closed_hihat",
         "line": {
          "color": "#636efa",
          "dash": "solid"
         },
         "marker": {
          "symbol": "circle"
         },
         "mode": "lines",
         "name": "closed_hihat",
         "showlegend": false,
         "type": "scattergl",
         "x": [
          12.5,
          15.7,
          19.8,
          25,
          31.5,
          39.7,
          50,
          63,
          79.4,
          100,
          126,
          158.7,
          200,
          252,
          317.5,
          400,
          504,
          635,
          800,
          1007.9,
          1269.9,
          1600,
          2015.9,
          2539.8,
          3200,
          4031.7,
          5079.7,
          6400,
          8063.5,
          10159.4,
          12800
         ],
         "xaxis": "x",
         "y": [
          -6.415290832519531,
          null,
          null,
          -6.230144500732422,
          -5.941211700439453,
          null,
          -5.572483062744141,
          -4.922245025634766,
          -4.2286376953125,
          -3.538890838623047,
          -2.48468017578125,
          -1.438629150390625,
          -0.5729713439941406,
          0,
          -0.09253692626953125,
          -1.3940849304199219,
          -3.590465545654297,
          -2.4893226623535156,
          -2.4460411071777344,
          -8.180961608886719,
          -8.760566711425781,
          -8.403030395507812,
          -6.097148895263672,
          -6.625732421875,
          -3.32354736328125,
          -0.64849853515625,
          -2.9225540161132812,
          -4.058208465576172,
          -1.0393867492675781,
          4.896751403808594,
          9.502010345458984
         ],
         "yaxis": "y"
        },
        {
         "hovertemplate": "class=closed_hihat<br>filename=45058__matiasreccius__hihat_closed4.wav<br>frequency=%{x}<br>level=%{y}<extra></extra>",
         "legendgroup": "closed_hihat",
         "line": {
          "color": "#636efa",
          "dash": "solid"
         },
         "marker": {
          "symbol": "circle"
         },
         "mode": "lines",
         "name": "closed_hihat",
         "showlegend": false,
         "type": "scattergl",
         "x": [
          12.5,
          15.7,
          19.8,
          25,
          31.5,
          39.7,
          50,
          63,
          79.4,
          100,
          126,
          158.7,
          200,
          252,
          317.5,
          400,
          504,
          635,
          800,
          1007.9,
          1269.9,
          1600,
          2015.9,
          2539.8,
          3200,
          4031.7,
          5079.7,
          6400,
          8063.5,
          10159.4,
          12800
         ],
         "xaxis": "x",
         "y": [
          -6.726287841796875,
          null,
          null,
          -6.555858612060547,
          -6.287872314453125,
          null,
          -5.942340850830078,
          -5.322731018066406,
          -4.649883270263672,
          -3.9649124145507812,
          -2.886974334716797,
          -1.7701072692871094,
          -0.7776908874511719,
          0,
          0.19375991821289062,
          -0.7158851623535156,
          -3.066547393798828,
          -5.433521270751953,
          -8.086994171142578,
          -10.609439849853516,
          -10.878475189208984,
          -9.814571380615234,
          -11.225910186767578,
          -8.802127838134766,
          -8.643104553222656,
          -4.314777374267578,
          -2.6902847290039062,
          -4.395500183105469,
          -5.711616516113281,
          -8.201370239257812,
          -11.244518280029297
         ],
         "yaxis": "y"
        },
        {
         "hovertemplate": "class=cowbell<br>filename=99766__menegass__cow.wav<br>frequency=%{x}<br>level=%{y}<extra></extra>",
         "legendgroup": "cowbell",
         "line": {
          "color": "#EF553B",
          "dash": "solid"
         },
         "marker": {
          "symbol": "circle"
         },
         "mode": "lines",
         "name": "cowbell",
         "showlegend": true,
         "type": "scattergl",
         "x": [
          12.5,
          15.7,
          19.8,
          25,
          31.5,
          39.7,
          50,
          63,
          79.4,
          100,
          126,
          158.7,
          200,
          252,
          317.5,
          400,
          504,
          635,
          800,
          1007.9,
          1269.9,
          1600,
          2015.9,
          2539.8,
          3200,
          4031.7,
          5079.7,
          6400,
          8063.5,
          10159.4,
          12800
         ],
         "xaxis": "x",
         "y": [
          -3.0495643615722656,
          null,
          null,
          -3.1242904663085938,
          -3.2495079040527344,
          null,
          -3.4263458251953125,
          -3.7999725341796875,
          -4.2902069091796875,
          -4.945335388183594,
          -6.425594329833984,
          -8.522693634033203,
          -7.236919403076172,
          0,
          7.156517028808594,
          12.952095031738281,
          16.753921508789062,
          16.807418823242188,
          9.936233520507812,
          6.473518371582031,
          0.6608657836914062,
          1.4886474609375,
          -0.8285751342773438,
          -1.9648361206054688,
          -5.313667297363281,
          -7.0129547119140625,
          -9.209709167480469,
          -9.322868347167969,
          -10.474075317382812,
          -15.804718017578125,
          -20.411331176757812
         ],
         "yaxis": "y"
        },
        {
         "hovertemplate": "class=cowbell<br>filename=364919__gowlermusic__cowbell.wav<br>frequency=%{x}<br>level=%{y}<extra></extra>",
         "legendgroup": "cowbell",
         "line": {
          "color": "#EF553B",
          "dash": "solid"
         },
         "marker": {
          "symbol": "circle"
         },
         "mode": "lines",
         "name": "cowbell",
         "showlegend": false,
         "type": "scattergl",
         "x": [
          12.5,
          15.7,
          19.8,
          25,
          31.5,
          39.7,
          50,
          63,
          79.4,
          100,
          126,
          158.7,
          200,
          252,
          317.5,
          400,
          504,
          635,
          800,
          1007.9,
          1269.9,
          1600,
          2015.9,
          2539.8,
          3200,
          4031.7,
          5079.7,
          6400,
          8063.5,
          10159.4,
          12800
         ],
         "xaxis": "x",
         "y": [
          -6.568572998046875,
          null,
          null,
          -6.714790344238281,
          -6.9629974365234375,
          null,
          -7.3199920654296875,
          -8.097404479980469,
          -9.14398193359375,
          -10.531822204589844,
          -12.619064331054688,
          -10.702125549316406,
          -5.1766815185546875,
          0,
          3.8060684204101562,
          6.002838134765625,
          5.446510314941406,
          -1.17376708984375,
          -14.05615234375,
          -8.485321044921875,
          -7.1862640380859375,
          -20.325397491455078,
          -22.780982971191406,
          -24.03893280029297,
          -22.910995483398438,
          -23.238082885742188,
          -24.380149841308594,
          -23.25531005859375,
          -28.852928161621094,
          -33.21158218383789,
          -40.641990661621094
         ],
         "yaxis": "y"
        },
        {
         "hovertemplate": "class=cowbell<br>filename=375613__samulis__cowbell-cowbell_ff_2.wav<br>frequency=%{x}<br>level=%{y}<extra></extra>",
         "legendgroup": "cowbell",
         "line": {
          "color": "#EF553B",
          "dash": "solid"
         },
         "marker": {
          "symbol": "circle"
         },
         "mode": "lines",
         "name": "cowbell",
         "showlegend": false,
         "type": "scattergl",
         "x": [
          12.5,
          15.7,
          19.8,
          25,
          31.5,
          39.7,
          50,
          63,
          79.4,
          100,
          126,
          158.7,
          200,
          252,
          317.5,
          400,
          504,
          635,
          800,
          1007.9,
          1269.9,
          1600,
          2015.9,
          2539.8,
          3200,
          4031.7,
          5079.7,
          6400,
          8063.5,
          10159.4,
          12800
         ],
         "xaxis": "x",
         "y": [
          -5.358512878417969,
          null,
          null,
          -5.469348907470703,
          -5.6588592529296875,
          null,
          -5.934471130371094,
          -6.549541473388672,
          -7.408817291259766,
          -8.663639068603516,
          -11.710723876953125,
          -13.212299346923828,
          -6.744487762451172,
          0,
          4.856220245361328,
          8.00466537475586,
          8.557605743408203,
          3.7419395446777344,
          -11.445072174072266,
          -14.242507934570312,
          -6.832515716552734,
          -9.252979278564453,
          -17.766742706298828,
          -14.446685791015625,
          -19.891048431396484,
          -17.215251922607422,
          -16.204463958740234,
          -22.51897430419922,
          -27.489730834960938,
          -34.92276573181152,
          -46.21613597869873
         ],
         "yaxis": "y"
        },
        {
         "hovertemplate": "class=cowbell<br>filename=34272__pj1s__cowbell.wav<br>frequency=%{x}<br>level=%{y}<extra></extra>",
         "legendgroup": "cowbell",
         "line": {
          "color": "#EF553B",
          "dash": "solid"
         },
         "marker": {
          "symbol": "circle"
         },
         "mode": "lines",
         "name": "cowbell",
         "showlegend": false,
         "type": "scattergl",
         "x": [
          12.5,
          15.7,
          19.8,
          25,
          31.5,
          39.7,
          50,
          63,
          79.4,
          100,
          126,
          158.7,
          200,
          252,
          317.5,
          400,
          504,
          635,
          800,
          1007.9,
          1269.9,
          1600,
          2015.9,
          2539.8,
          3200,
          4031.7,
          5079.7,
          6400,
          8063.5,
          10159.4,
          12800
         ],
         "xaxis": "x",
         "y": [
          -0.13361358642578125,
          null,
          null,
          -0.2587127685546875,
          -0.4666938781738281,
          null,
          -0.7566795349121094,
          -1.3518600463867188,
          -2.1013259887695312,
          -3.0308990478515625,
          -4.899017333984375,
          -7.481739044189453,
          -7.791694641113281,
          0,
          8.71579360961914,
          15.656509399414062,
          20.178619384765625,
          20.40332794189453,
          10.9473876953125,
          0.4164924621582031,
          5.458961486816406,
          7.569236755371094,
          4.059288024902344,
          5.4361572265625,
          5.672454833984375,
          3.73089599609375,
          2.4745216369628906,
          -1.0468292236328125,
          -2.2676010131835938,
          -5.5207366943359375,
          -11.003162384033203
         ],
         "yaxis": "y"
        },
        {
         "hovertemplate": "class=cowbell<br>filename=159758__timgormly__cowbell_os_3.aiff<br>frequency=%{x}<br>level=%{y}<extra></extra>",
         "legendgroup": "cowbell",
         "line": {
          "color": "#EF553B",
          "dash": "solid"
         },
         "marker": {
          "symbol": "circle"
         },
         "mode": "lines",
         "name": "cowbell",
         "showlegend": false,
         "type": "scattergl",
         "x": [
          12.5,
          15.7,
          19.8,
          25,
          31.5,
          39.7,
          50,
          63,
          79.4,
          100,
          126,
          158.7,
          200,
          252,
          317.5,
          400,
          504,
          635,
          800,
          1007.9,
          1269.9,
          1600,
          2015.9,
          2539.8,
          3200,
          4031.7,
          5079.7,
          6400,
          8063.5,
          10159.4,
          12800
         ],
         "xaxis": "x",
         "y": [
          7.281288146972656,
          null,
          null,
          7.211265563964844,
          7.093006134033203,
          null,
          6.924041748046875,
          6.559379577636719,
          6.069221496582031,
          5.390899658203125,
          3.7552719116210938,
          0.6589927673339844,
          -3.2971038818359375,
          0,
          1.1651496887207031,
          8.36383056640625,
          24.570289611816406,
          32.70159149169922,
          33.48712921142578,
          19.701210021972656,
          9.406017303466797,
          9.574840545654297,
          1.18804931640625,
          -8.175384521484375,
          -11.057718276977539,
          -13.366680145263672,
          -18.54147720336914,
          -17.540372848510742,
          -29.62180519104004,
          -33.976284980773926,
          -41.91296660900116
         ],
         "yaxis": "y"
        },
        {
         "hovertemplate": "class=cowbell<br>filename=159765__timgormly__cowbell_os_5.aiff<br>frequency=%{x}<br>level=%{y}<extra></extra>",
         "legendgroup": "cowbell",
         "line": {
          "color": "#EF553B",
          "dash": "solid"
         },
         "marker": {
          "symbol": "circle"
         },
         "mode": "lines",
         "name": "cowbell",
         "showlegend": false,
         "type": "scattergl",
         "x": [
          12.5,
          15.7,
          19.8,
          25,
          31.5,
          39.7,
          50,
          63,
          79.4,
          100,
          126,
          158.7,
          200,
          252,
          317.5,
          400,
          504,
          635,
          800,
          1007.9,
          1269.9,
          1600,
          2015.9,
          2539.8,
          3200,
          4031.7,
          5079.7,
          6400,
          8063.5,
          10159.4,
          12800
         ],
         "xaxis": "x",
         "y": [
          6.987834930419922,
          null,
          null,
          6.933300018310547,
          6.840991973876953,
          null,
          6.708793640136719,
          6.422935485839844,
          6.0393829345703125,
          5.514793395996094,
          4.301670074462891,
          2.2538719177246094,
          -0.23917388916015625,
          0,
          0.4644966125488281,
          7.1058349609375,
          21.87763214111328,
          29.93724822998047,
          30.79328155517578,
          19.178192138671875,
          5.5589447021484375,
          2.1567916870117188,
          6.547702789306641,
          1.1816024780273438,
          3.4488525390625,
          -1.9186782836914062,
          1.6377029418945312,
          -2.9376449584960938,
          -5.289703369140625,
          -5.481712341308594,
          -15.041181564331055
         ],
         "yaxis": "y"
        },
        {
         "hovertemplate": "class=cowbell<br>filename=432202__curesforbrokenhearts__cowbell-with-blastick.wav<br>frequency=%{x}<br>level=%{y}<extra></extra>",
         "legendgroup": "cowbell",
         "line": {
          "color": "#EF553B",
          "dash": "solid"
         },
         "marker": {
          "symbol": "circle"
         },
         "mode": "lines",
         "name": "cowbell",
         "showlegend": false,
         "type": "scattergl",
         "x": [
          12.5,
          15.7,
          19.8,
          25,
          31.5,
          39.7,
          50,
          63,
          79.4,
          100,
          126,
          158.7,
          200,
          252,
          317.5,
          400,
          504,
          635,
          800,
          1007.9,
          1269.9,
          1600,
          2015.9,
          2539.8,
          3200,
          4031.7,
          5079.7,
          6400,
          8063.5,
          10159.4,
          12800
         ],
         "xaxis": "x",
         "y": [
          -5.670501708984375,
          null,
          null,
          -5.773529052734375,
          -5.949005126953125,
          null,
          -6.202659606933594,
          -6.7607269287109375,
          -7.523681640625,
          -8.583831787109375,
          -10.782512664794922,
          -11.234790802001953,
          -6.113685607910156,
          0,
          4.723075866699219,
          7.875274658203125,
          8.471694946289062,
          3.6115875244140625,
          -3.8351898193359375,
          -5.4394073486328125,
          -7.048515319824219,
          -1.597686767578125,
          -12.275871276855469,
          -9.74444580078125,
          -5.2104644775390625,
          -6.8901214599609375,
          -12.13083267211914,
          -17.361980438232422,
          -18.88744354248047,
          -24.354114532470703,
          -27.03641128540039
         ],
         "yaxis": "y"
        },
        {
         "hovertemplate": "class=cowbell<br>filename=75839__rossf__lm1-cowbell.wav<br>frequency=%{x}<br>level=%{y}<extra></extra>",
         "legendgroup": "cowbell",
         "line": {
          "color": "#EF553B",
          "dash": "solid"
         },
         "marker": {
          "symbol": "circle"
         },
         "mode": "lines",
         "name": "cowbell",
         "showlegend": false,
         "type": "scattergl",
         "x": [
          12.5,
          15.7,
          19.8,
          25,
          31.5,
          39.7,
          50,
          63,
          79.4,
          100,
          126,
          158.7,
          200,
          252,
          317.5,
          400,
          504,
          635,
          800,
          1007.9,
          1269.9,
          1600,
          2015.9,
          2539.8,
          3200,
          4031.7,
          5079.7,
          6400,
          8063.5,
          10159.4,
          12800
         ],
         "xaxis": "x",
         "y": [
          -4.608207702636719,
          null,
          null,
          -4.6591033935546875,
          -4.748466491699219,
          null,
          -4.883110046386719,
          -5.201194763183594,
          -5.6701812744140625,
          -6.399406433105469,
          -8.398277282714844,
          -11.759952545166016,
          -8.414268493652344,
          0,
          6.3164215087890625,
          10.768745422363281,
          12.759361267089844,
          9.95916748046875,
          -3.5729827880859375,
          -5.408447265625,
          -8.424850463867188,
          -8.783515930175781,
          -16.693363189697266,
          -15.466484069824219,
          -19.50598907470703,
          -20.93631362915039,
          -23.55889129638672,
          -27.92995834350586,
          -32.41461181640625,
          -36.58081817626953,
          -39.98715591430664
         ],
         "yaxis": "y"
        },
        {
         "hovertemplate": "class=cowbell<br>filename=90979__suicidity__medium-cowbell-of-god-011.wav<br>frequency=%{x}<br>level=%{y}<extra></extra>",
         "legendgroup": "cowbell",
         "line": {
          "color": "#EF553B",
          "dash": "solid"
         },
         "marker": {
          "symbol": "circle"
         },
         "mode": "lines",
         "name": "cowbell",
         "showlegend": false,
         "type": "scattergl",
         "x": [
          12.5,
          15.7,
          19.8,
          25,
          31.5,
          39.7,
          50,
          63,
          79.4,
          100,
          126,
          158.7,
          200,
          252,
          317.5,
          400,
          504,
          635,
          800,
          1007.9,
          1269.9,
          1600,
          2015.9,
          2539.8,
          3200,
          4031.7,
          5079.7,
          6400,
          8063.5,
          10159.4,
          12800
         ],
         "xaxis": "x",
         "y": [
          -4.208934783935547,
          null,
          null,
          -4.294944763183594,
          -4.4425811767578125,
          null,
          -4.658447265625,
          -5.144527435302734,
          -5.829875946044922,
          -6.844921112060547,
          -9.488792419433594,
          -12.854717254638672,
          -7.695640563964844,
          0,
          5.482574462890625,
          9.127861022949219,
          10.187889099121094,
          6.057914733886719,
          -9.071952819824219,
          -18.912216186523438,
          -17.486228942871094,
          -23.373371124267578,
          -21.954387664794922,
          -27.01435089111328,
          -30.38666534423828,
          -29.076766967773438,
          -30.904705047607422,
          -39.41808319091797,
          -49.94327735900879,
          -61.219974875450134,
          -62.90789794921875
         ],
         "yaxis": "y"
        },
        {
         "hovertemplate": "class=cowbell<br>filename=75338__neotone__cowbell.wav<br>frequency=%{x}<br>level=%{y}<extra></extra>",
         "legendgroup": "cowbell",
         "line": {
          "color": "#EF553B",
          "dash": "solid"
         },
         "marker": {
          "symbol": "circle"
         },
         "mode": "lines",
         "name": "cowbell",
         "showlegend": false,
         "type": "scattergl",
         "x": [
          12.5,
          15.7,
          19.8,
          25,
          31.5,
          39.7,
          50,
          63,
          79.4,
          100,
          126,
          158.7,
          200,
          252,
          317.5,
          400,
          504,
          635,
          800,
          1007.9,
          1269.9,
          1600,
          2015.9,
          2539.8,
          3200,
          4031.7,
          5079.7,
          6400,
          8063.5,
          10159.4,
          12800
         ],
         "xaxis": "x",
         "y": [
          7.271728515625,
          null,
          null,
          7.199432373046875,
          7.078987121582031,
          null,
          6.9105224609375,
          6.562530517578125,
          6.120819091796875,
          5.5668182373046875,
          4.447418212890625,
          2.899993896484375,
          1.178985595703125,
          0,
          1.9312705993652344,
          8.822296142578125,
          15.673255920410156,
          18.623794555664062,
          14.130966186523438,
          1.5719833374023438,
          10.306076049804688,
          28.7030029296875,
          8.526832580566406,
          8.246444702148438,
          8.551467895507812,
          11.317047119140625,
          3.6553802490234375,
          4.541679382324219,
          -0.5283279418945312,
          -4.299571990966797,
          -9.832340240478516
         ],
         "yaxis": "y"
        },
        {
         "hovertemplate": "class=kick<br>filename=331589__j_zealous__kick-jzealous-hard-club.aiff<br>frequency=%{x}<br>level=%{y}<extra></extra>",
         "legendgroup": "kick",
         "line": {
          "color": "#00cc96",
          "dash": "solid"
         },
         "marker": {
          "symbol": "circle"
         },
         "mode": "lines",
         "name": "kick",
         "showlegend": true,
         "type": "scattergl",
         "x": [
          12.5,
          15.7,
          19.8,
          25,
          31.5,
          39.7,
          50,
          63,
          79.4,
          100,
          126,
          158.7,
          200,
          252,
          317.5,
          400,
          504,
          635,
          800,
          1007.9,
          1269.9,
          1600,
          2015.9,
          2539.8,
          3200,
          4031.7,
          5079.7,
          6400,
          8063.5,
          10159.4,
          12800
         ],
         "xaxis": "x",
         "y": [
          -5.3886566162109375,
          null,
          null,
          -4.923858642578125,
          -4.263580322265625,
          null,
          -3.5127334594726562,
          -2.3869094848632812,
          -1.360076904296875,
          -0.5152511596679688,
          0.503509521484375,
          1.1400146484375,
          1.1139602661132812,
          0,
          -2.9477310180664062,
          -9.042701721191406,
          -16.014785766601562,
          -18.00341796875,
          -18.890426635742188,
          -25.026325225830078,
          -23.037017822265625,
          -27.103782653808594,
          -38.10431671142578,
          -36.12471389770508,
          -40.778411865234375,
          -46.20851135253906,
          -49.68830108642578,
          -51.48159980773926,
          -59.232975006103516,
          -60.65232849121094,
          -64.94994640350342
         ],
         "yaxis": "y"
        },
        {
         "hovertemplate": "class=kick<br>filename=410149__screamstudio__kick-drum.wav<br>frequency=%{x}<br>level=%{y}<extra></extra>",
         "legendgroup": "kick",
         "line": {
          "color": "#00cc96",
          "dash": "solid"
         },
         "marker": {
          "symbol": "circle"
         },
         "mode": "lines",
         "name": "kick",
         "showlegend": false,
         "type": "scattergl",
         "x": [
          12.5,
          15.7,
          19.8,
          25,
          31.5,
          39.7,
          50,
          63,
          79.4,
          100,
          126,
          158.7,
          200,
          252,
          317.5,
          400,
          504,
          635,
          800,
          1007.9,
          1269.9,
          1600,
          2015.9,
          2539.8,
          3200,
          4031.7,
          5079.7,
          6400,
          8063.5,
          10159.4,
          12800
         ],
         "xaxis": "x",
         "y": [
          -4.587860107421875,
          null,
          null,
          -4.174598693847656,
          -3.5802764892578125,
          null,
          -2.8954620361328125,
          -1.8538055419921875,
          -0.8945770263671875,
          -0.10186767578125,
          0.8461227416992188,
          1.4059982299804688,
          1.2819366455078125,
          0,
          -3.2813262939453125,
          -10.146827697753906,
          -17.447181701660156,
          -22.850086212158203,
          -31.578598022460938,
          -40.190330505371094,
          -39.3468017578125,
          -44.633079528808594,
          -50.472543716430664,
          -53.21313667297363,
          -55.47122573852539,
          -54.292837142944336,
          -52.7476806640625,
          -53.84451103210449,
          -52.90164756774902,
          -56.91560173034668,
          -55.23826789855957
         ],
         "yaxis": "y"
        },
        {
         "hovertemplate": "class=kick<br>filename=248142__dpren__fat-kick.aiff<br>frequency=%{x}<br>level=%{y}<extra></extra>",
         "legendgroup": "kick",
         "line": {
          "color": "#00cc96",
          "dash": "solid"
         },
         "marker": {
          "symbol": "circle"
         },
         "mode": "lines",
         "name": "kick",
         "showlegend": false,
         "type": "scattergl",
         "x": [
          12.5,
          15.7,
          19.8,
          25,
          31.5,
          39.7,
          50,
          63,
          79.4,
          100,
          126,
          158.7,
          200,
          252,
          317.5,
          400,
          504,
          635,
          800,
          1007.9,
          1269.9,
          1600,
          2015.9,
          2539.8,
          3200,
          4031.7,
          5079.7,
          6400,
          8063.5,
          10159.4,
          12800
         ],
         "xaxis": "x",
         "y": [
          -4.157600402832031,
          null,
          null,
          -3.8265228271484375,
          -3.3393402099609375,
          null,
          -2.7629547119140625,
          -1.856658935546875,
          -0.9981689453125,
          -0.2682342529296875,
          0.6290969848632812,
          1.1872940063476562,
          1.122161865234375,
          0,
          -2.9330291748046875,
          -9.209793090820312,
          -16.864418029785156,
          -17.136104583740234,
          -18.999603271484375,
          -21.46926498413086,
          -23.228195190429688,
          -26.802410125732422,
          -27.17153549194336,
          -28.783695220947266,
          -25.975601196289062,
          -25.76613998413086,
          -30.32270050048828,
          -28.423603057861328,
          -37.876644134521484,
          -41.1736946105957,
          -42.324737548828125
         ],
         "yaxis": "y"
        },
        {
         "hovertemplate": "class=kick<br>filename=264601__veiler__kick-swedish.wav<br>frequency=%{x}<br>level=%{y}<extra></extra>",
         "legendgroup": "kick",
         "line": {
          "color": "#00cc96",
          "dash": "solid"
         },
         "marker": {
          "symbol": "circle"
         },
         "mode": "lines",
         "name": "kick",
         "showlegend": false,
         "type": "scattergl",
         "x": [
          12.5,
          15.7,
          19.8,
          25,
          31.5,
          39.7,
          50,
          63,
          79.4,
          100,
          126,
          158.7,
          200,
          252,
          317.5,
          400,
          504,
          635,
          800,
          1007.9,
          1269.9,
          1600,
          2015.9,
          2539.8,
          3200,
          4031.7,
          5079.7,
          6400,
          8063.5,
          10159.4,
          12800
         ],
         "xaxis": "x",
         "y": [
          -1.7758941650390625,
          null,
          null,
          -1.6158447265625,
          -1.3692245483398438,
          null,
          -1.0605545043945312,
          -0.5371551513671875,
          -0.00811004638671875,
          0.4689788818359375,
          1.0705337524414062,
          1.4123306274414062,
          1.210845947265625,
          0,
          -3.0108184814453125,
          -9.671737670898438,
          -20.769710540771484,
          -27.415340423583984,
          -29.59061050415039,
          -29.424091339111328,
          -29.470767974853516,
          -28.419471740722656,
          -26.105995178222656,
          -26.017127990722656,
          -27.801273345947266,
          -28.447547912597656,
          -30.07339096069336,
          -37.056251525878906,
          -40.25806427001953,
          -46.46512985229492,
          -48.03706932067871
         ],
         "yaxis": "y"
        },
        {
         "hovertemplate": "class=kick<br>filename=72985__zgump__kick-pack-0303.wav<br>frequency=%{x}<br>level=%{y}<extra></extra>",
         "legendgroup": "kick",
         "line": {
          "color": "#00cc96",
          "dash": "solid"
         },
         "marker": {
          "symbol": "circle"
         },
         "mode": "lines",
         "name": "kick",
         "showlegend": false,
         "type": "scattergl",
         "x": [
          12.5,
          15.7,
          19.8,
          25,
          31.5,
          39.7,
          50,
          63,
          79.4,
          100,
          126,
          158.7,
          200,
          252,
          317.5,
          400,
          504,
          635,
          800,
          1007.9,
          1269.9,
          1600,
          2015.9,
          2539.8,
          3200,
          4031.7,
          5079.7,
          6400,
          8063.5,
          10159.4,
          12800
         ],
         "xaxis": "x",
         "y": [
          -4.199974060058594,
          null,
          null,
          -3.815948486328125,
          -3.2596588134765625,
          null,
          -2.6135330200195312,
          -1.6216888427734375,
          -0.7022552490234375,
          0.060791015625,
          0.9715423583984375,
          1.4963302612304688,
          1.3348388671875,
          0,
          -3.3670425415039062,
          -10.495201110839844,
          -19.31928253173828,
          -24.37356185913086,
          -25.019500732421875,
          -28.811012268066406,
          -31.1339111328125,
          -31.622467041015625,
          -41.889373779296875,
          -47.30495834350586,
          -57.04994201660156,
          -51.897090911865234,
          -56.928489685058594,
          -63.97911262512207,
          -69.01885223388672,
          -72.10887813568115,
          -77.8343710899353
         ],
         "yaxis": "y"
        },
        {
         "hovertemplate": "class=kick<br>filename=171484__xicecoffeex__savannah-kick.wav<br>frequency=%{x}<br>level=%{y}<extra></extra>",
         "legendgroup": "kick",
         "line": {
          "color": "#00cc96",
          "dash": "solid"
         },
         "marker": {
          "symbol": "circle"
         },
         "mode": "lines",
         "name": "kick",
         "showlegend": false,
         "type": "scattergl",
         "x": [
          12.5,
          15.7,
          19.8,
          25,
          31.5,
          39.7,
          50,
          63,
          79.4,
          100,
          126,
          158.7,
          200,
          252,
          317.5,
          400,
          504,
          635,
          800,
          1007.9,
          1269.9,
          1600,
          2015.9,
          2539.8,
          3200,
          4031.7,
          5079.7,
          6400,
          8063.5,
          10159.4,
          12800
         ],
         "xaxis": "x",
         "y": [
          -5.946647644042969,
          null,
          null,
          -5.3692626953125,
          -4.5729827880859375,
          null,
          -3.6955490112304688,
          -2.4259719848632812,
          -1.2999496459960938,
          -0.3972015380859375,
          0.6669235229492188,
          1.3067779541015625,
          1.2361068725585938,
          0,
          -3.2320785522460938,
          -10.197029113769531,
          -18.85687255859375,
          -20.37102508544922,
          -20.194419860839844,
          -25.068397521972656,
          -24.061908721923828,
          -18.635074615478516,
          -17.896636962890625,
          -14.478202819824219,
          -11.829803466796875,
          -13.326160430908203,
          -17.873947143554688,
          -22.780380249023438,
          -24.350582122802734,
          -28.54171371459961,
          -33.72201919555664
         ],
         "yaxis": "y"
        },
        {
         "hovertemplate": "class=kick<br>filename=131336__kaonaya__kick-hiphop-1.wav<br>frequency=%{x}<br>level=%{y}<extra></extra>",
         "legendgroup": "kick",
         "line": {
          "color": "#00cc96",
          "dash": "solid"
         },
         "marker": {
          "symbol": "circle"
         },
         "mode": "lines",
         "name": "kick",
         "showlegend": false,
         "type": "scattergl",
         "x": [
          12.5,
          15.7,
          19.8,
          25,
          31.5,
          39.7,
          50,
          63,
          79.4,
          100,
          126,
          158.7,
          200,
          252,
          317.5,
          400,
          504,
          635,
          800,
          1007.9,
          1269.9,
          1600,
          2015.9,
          2539.8,
          3200,
          4031.7,
          5079.7,
          6400,
          8063.5,
          10159.4,
          12800
         ],
         "xaxis": "x",
         "y": [
          -4.019081115722656,
          null,
          null,
          -3.7175827026367188,
          -3.2699813842773438,
          null,
          -2.7347259521484375,
          -1.8810348510742188,
          -1.0618820190429688,
          -0.35541534423828125,
          0.5266876220703125,
          1.0930252075195312,
          1.0612716674804688,
          0,
          -2.8793716430664062,
          -9.550437927246094,
          -22.712955474853516,
          -32.762298583984375,
          -40.7271728515625,
          -47.07904052734375,
          -52.89950942993164,
          -55.13092231750488,
          -59.802913665771484,
          -64.91387939453125,
          -65.27515411376953,
          -67.70453357696533,
          -69.00790214538574,
          -73.65233898162842,
          -75.65518712997437,
          -77.19779777526855,
          -78.74267292022705
         ],
         "yaxis": "y"
        },
        {
         "hovertemplate": "class=kick<br>filename=132582__rob10__kick-drum-c-1.wav<br>frequency=%{x}<br>level=%{y}<extra></extra>",
         "legendgroup": "kick",
         "line": {
          "color": "#00cc96",
          "dash": "solid"
         },
         "marker": {
          "symbol": "circle"
         },
         "mode": "lines",
         "name": "kick",
         "showlegend": false,
         "type": "scattergl",
         "x": [
          12.5,
          15.7,
          19.8,
          25,
          31.5,
          39.7,
          50,
          63,
          79.4,
          100,
          126,
          158.7,
          200,
          252,
          317.5,
          400,
          504,
          635,
          800,
          1007.9,
          1269.9,
          1600,
          2015.9,
          2539.8,
          3200,
          4031.7,
          5079.7,
          6400,
          8063.5,
          10159.4,
          12800
         ],
         "xaxis": "x",
         "y": [
          -3.873565673828125,
          null,
          null,
          -3.497833251953125,
          -2.9527206420898438,
          null,
          -2.3185806274414062,
          -1.3438644409179688,
          -0.440216064453125,
          0.30797576904296875,
          1.193145751953125,
          1.6815185546875,
          1.460723876953125,
          0,
          -3.69488525390625,
          -12.146934509277344,
          -21.232139587402344,
          -29.33599090576172,
          -37.2629508972168,
          -44.35366439819336,
          -51.40633773803711,
          -57.29289245605469,
          -63.0162992477417,
          -68.56175422668457,
          -73.12293577194214,
          -76.45265312492847,
          -76.56280517578125,
          -76.56280517578125,
          -76.56280517578125,
          -76.56280517578125,
          -76.56280517578125
         ],
         "yaxis": "y"
        },
        {
         "hovertemplate": "class=kick<br>filename=324153__scale75__semiq_kicks_4.wav<br>frequency=%{x}<br>level=%{y}<extra></extra>",
         "legendgroup": "kick",
         "line": {
          "color": "#00cc96",
          "dash": "solid"
         },
         "marker": {
          "symbol": "circle"
         },
         "mode": "lines",
         "name": "kick",
         "showlegend": false,
         "type": "scattergl",
         "x": [
          12.5,
          15.7,
          19.8,
          25,
          31.5,
          39.7,
          50,
          63,
          79.4,
          100,
          126,
          158.7,
          200,
          252,
          317.5,
          400,
          504,
          635,
          800,
          1007.9,
          1269.9,
          1600,
          2015.9,
          2539.8,
          3200,
          4031.7,
          5079.7,
          6400,
          8063.5,
          10159.4,
          12800
         ],
         "xaxis": "x",
         "y": [
          -4.344390869140625,
          null,
          null,
          -3.9707870483398438,
          -3.4278335571289062,
          null,
          -2.7947616577148438,
          -1.8179702758789062,
          -0.9080886840820312,
          -0.148284912109375,
          0.7674560546875,
          1.313385009765625,
          1.2024154663085938,
          0,
          -2.9541778564453125,
          -8.233665466308594,
          -13.457069396972656,
          -18.64936065673828,
          -23.64257049560547,
          -27.456600189208984,
          -30.30951690673828,
          -32.812232971191406,
          -35.22025680541992,
          -37.93471145629883,
          -40.81803512573242,
          -43.72575378417969,
          -49.76676940917969,
          -51.7039909362793,
          -56.83530044555664,
          -64.51558589935303,
          -73.86337661743164
         ],
         "yaxis": "y"
        },
        {
         "hovertemplate": "class=kick<br>filename=171104__dwsd__kick_gettinglaid.wav<br>frequency=%{x}<br>level=%{y}<extra></extra>",
         "legendgroup": "kick",
         "line": {
          "color": "#00cc96",
          "dash": "solid"
         },
         "marker": {
          "symbol": "circle"
         },
         "mode": "lines",
         "name": "kick",
         "showlegend": false,
         "type": "scattergl",
         "x": [
          12.5,
          15.7,
          19.8,
          25,
          31.5,
          39.7,
          50,
          63,
          79.4,
          100,
          126,
          158.7,
          200,
          252,
          317.5,
          400,
          504,
          635,
          800,
          1007.9,
          1269.9,
          1600,
          2015.9,
          2539.8,
          3200,
          4031.7,
          5079.7,
          6400,
          8063.5,
          10159.4,
          12800
         ],
         "xaxis": "x",
         "y": [
          -3.1130142211914062,
          null,
          null,
          -2.8622283935546875,
          -2.485260009765625,
          null,
          -2.0278396606445312,
          -1.2848358154296875,
          -0.5618515014648438,
          0.06732177734375,
          0.8478546142578125,
          1.3173599243164062,
          1.186492919921875,
          0,
          -3.0224838256835938,
          -9.545791625976562,
          -19.527862548828125,
          -30.01763153076172,
          -36.122764587402344,
          -40.399234771728516,
          -43.20238494873047,
          -39.42091751098633,
          -38.895362854003906,
          -38.24486541748047,
          -37.68360900878906,
          -38.522132873535156,
          -39.721336364746094,
          -47.00137710571289,
          -47.41279602050781,
          -41.658546447753906,
          -41.94771194458008
         ],
         "yaxis": "y"
        },
        {
         "hovertemplate": "class=cymbal<br>filename=207956__altemark__cymbal.wav<br>frequency=%{x}<br>level=%{y}<extra></extra>",
         "legendgroup": "cymbal",
         "line": {
          "color": "#ab63fa",
          "dash": "solid"
         },
         "marker": {
          "symbol": "circle"
         },
         "mode": "lines",
         "name": "cymbal",
         "showlegend": true,
         "type": "scattergl",
         "x": [
          12.5,
          15.7,
          19.8,
          25,
          31.5,
          39.7,
          50,
          63,
          79.4,
          100,
          126,
          158.7,
          200,
          252,
          317.5,
          400,
          504,
          635,
          800,
          1007.9,
          1269.9,
          1600,
          2015.9,
          2539.8,
          3200,
          4031.7,
          5079.7,
          6400,
          8063.5,
          10159.4,
          12800
         ],
         "xaxis": "x",
         "y": [
          -9.020923614501953,
          null,
          null,
          -8.93740463256836,
          -8.79745101928711,
          null,
          -8.600379943847656,
          -8.190631866455078,
          -7.670448303222656,
          -7.026283264160156,
          -5.768310546875,
          -4.103584289550781,
          -2.174976348876953,
          0,
          1.995574951171875,
          3.4330291748046875,
          3.640064239501953,
          2.585071563720703,
          4.953449249267578,
          3.954883575439453,
          4.630359649658203,
          4.136096954345703,
          4.785606384277344,
          1.8925514221191406,
          1.1970939636230469,
          -0.4395408630371094,
          3.3108596801757812,
          6.414173126220703,
          3.9581222534179688,
          -4.000324249267578,
          -7.552684783935547
         ],
         "yaxis": "y"
        },
        {
         "hovertemplate": "class=cymbal<br>filename=23543__loofa__brushd-china-cymbal02.aiff<br>frequency=%{x}<br>level=%{y}<extra></extra>",
         "legendgroup": "cymbal",
         "line": {
          "color": "#ab63fa",
          "dash": "solid"
         },
         "marker": {
          "symbol": "circle"
         },
         "mode": "lines",
         "name": "cymbal",
         "showlegend": false,
         "type": "scattergl",
         "x": [
          12.5,
          15.7,
          19.8,
          25,
          31.5,
          39.7,
          50,
          63,
          79.4,
          100,
          126,
          158.7,
          200,
          252,
          317.5,
          400,
          504,
          635,
          800,
          1007.9,
          1269.9,
          1600,
          2015.9,
          2539.8,
          3200,
          4031.7,
          5079.7,
          6400,
          8063.5,
          10159.4,
          12800
         ],
         "xaxis": "x",
         "y": [
          -2.795429229736328,
          null,
          null,
          -2.775482177734375,
          -2.7425003051757812,
          null,
          -2.6968421936035156,
          -2.6042747497558594,
          -2.489124298095703,
          -2.3480796813964844,
          -2.0662307739257812,
          -1.6550521850585938,
          -1.0488052368164062,
          0,
          1.699554443359375,
          3.9311752319335938,
          5.513767242431641,
          5.662631988525391,
          9.229747772216797,
          12.34402084350586,
          7.980342864990234,
          2.661273956298828,
          -0.9305419921875,
          -5.160953521728516,
          -7.245277404785156,
          -7.654918670654297,
          -6.674079895019531,
          -8.019142150878906,
          -12.64022445678711,
          -10.69085693359375,
          -14.07558822631836
         ],
         "yaxis": "y"
        },
        {
         "hovertemplate": "class=cymbal<br>filename=587935__strangehorizon__cymbal_ride.wav<br>frequency=%{x}<br>level=%{y}<extra></extra>",
         "legendgroup": "cymbal",
         "line": {
          "color": "#ab63fa",
          "dash": "solid"
         },
         "marker": {
          "symbol": "circle"
         },
         "mode": "lines",
         "name": "cymbal",
         "showlegend": false,
         "type": "scattergl",
         "x": [
          12.5,
          15.7,
          19.8,
          25,
          31.5,
          39.7,
          50,
          63,
          79.4,
          100,
          126,
          158.7,
          200,
          252,
          317.5,
          400,
          504,
          635,
          800,
          1007.9,
          1269.9,
          1600,
          2015.9,
          2539.8,
          3200,
          4031.7,
          5079.7,
          6400,
          8063.5,
          10159.4,
          12800
         ],
         "xaxis": "x",
         "y": [
          0.24443435668945312,
          null,
          null,
          0.21097183227539062,
          0.15646743774414062,
          null,
          0.08279800415039062,
          -0.058856964111328125,
          -0.22204208374023438,
          -0.3935813903808594,
          -0.6368484497070312,
          -0.7581977844238281,
          -0.5624313354492188,
          0,
          0.5695724487304688,
          2.096088409423828,
          8.124408721923828,
          14.241439819335938,
          17.19613265991211,
          18.120197296142578,
          18.884197235107422,
          20.628803253173828,
          9.746036529541016,
          10.423667907714844,
          9.357242584228516,
          10.14764404296875,
          13.043220520019531,
          13.25469970703125,
          11.352909088134766,
          8.04290771484375,
          6.8632354736328125
         ],
         "yaxis": "y"
        },
        {
         "hovertemplate": "class=cymbal<br>filename=149480__pjcohen__ottaviano22ridecymbal2500gwash.wav<br>frequency=%{x}<br>level=%{y}<extra></extra>",
         "legendgroup": "cymbal",
         "line": {
          "color": "#ab63fa",
          "dash": "solid"
         },
         "marker": {
          "symbol": "circle"
         },
         "mode": "lines",
         "name": "cymbal",
         "showlegend": false,
         "type": "scattergl",
         "x": [
          12.5,
          15.7,
          19.8,
          25,
          31.5,
          39.7,
          50,
          63,
          79.4,
          100,
          126,
          158.7,
          200,
          252,
          317.5,
          400,
          504,
          635,
          800,
          1007.9,
          1269.9,
          1600,
          2015.9,
          2539.8,
          3200,
          4031.7,
          5079.7,
          6400,
          8063.5,
          10159.4,
          12800
         ],
         "xaxis": "x",
         "y": [
          -10.78085708618164,
          null,
          null,
          -10.687297821044922,
          -10.52517318725586,
          null,
          -10.287338256835938,
          -9.765239715576172,
          -9.076351165771484,
          -8.20583724975586,
          -6.533535003662109,
          -4.4417877197265625,
          -2.226470947265625,
          0,
          1.6695785522460938,
          2.1305999755859375,
          0.1453857421875,
          -5.140216827392578,
          -8.865554809570312,
          -10.454597473144531,
          -8.548995971679688,
          -10.56570053100586,
          -10.242179870605469,
          -5.69915771484375,
          -9.112678527832031,
          -9.913322448730469,
          -10.990192413330078,
          -12.881874084472656,
          -13.47488021850586,
          -16.19940948486328,
          -22.329692840576172
         ],
         "yaxis": "y"
        },
        {
         "hovertemplate": "class=cymbal<br>filename=121097__thirsk__cymbal.wav<br>frequency=%{x}<br>level=%{y}<extra></extra>",
         "legendgroup": "cymbal",
         "line": {
          "color": "#ab63fa",
          "dash": "solid"
         },
         "marker": {
          "symbol": "circle"
         },
         "mode": "lines",
         "name": "cymbal",
         "showlegend": false,
         "type": "scattergl",
         "x": [
          12.5,
          15.7,
          19.8,
          25,
          31.5,
          39.7,
          50,
          63,
          79.4,
          100,
          126,
          158.7,
          200,
          252,
          317.5,
          400,
          504,
          635,
          800,
          1007.9,
          1269.9,
          1600,
          2015.9,
          2539.8,
          3200,
          4031.7,
          5079.7,
          6400,
          8063.5,
          10159.4,
          12800
         ],
         "xaxis": "x",
         "y": [
          -5.771053314208984,
          null,
          null,
          -5.625385284423828,
          -5.39666748046875,
          null,
          -5.102527618408203,
          -4.578037261962891,
          -4.012844085693359,
          -3.4442405700683594,
          -2.561260223388672,
          -1.6506767272949219,
          -0.8042488098144531,
          0,
          0.5392265319824219,
          0.2886466979980469,
          -1.4582366943359375,
          -2.429126739501953,
          -0.7163581848144531,
          1.116546630859375,
          1.4911155700683594,
          -5.291431427001953,
          -5.601779937744141,
          -2.511890411376953,
          -6.163890838623047,
          2.739154815673828,
          2.290668487548828,
          4.395221710205078,
          -1.8260650634765625,
          6.860038757324219,
          -2.6042404174804688
         ],
         "yaxis": "y"
        },
        {
         "hovertemplate": "class=cymbal<br>filename=154718__mistorcaveman__cymbal_9_1-2.aiff<br>frequency=%{x}<br>level=%{y}<extra></extra>",
         "legendgroup": "cymbal",
         "line": {
          "color": "#ab63fa",
          "dash": "solid"
         },
         "marker": {
          "symbol": "circle"
         },
         "mode": "lines",
         "name": "cymbal",
         "showlegend": false,
         "type": "scattergl",
         "x": [
          12.5,
          15.7,
          19.8,
          25,
          31.5,
          39.7,
          50,
          63,
          79.4,
          100,
          126,
          158.7,
          200,
          252,
          317.5,
          400,
          504,
          635,
          800,
          1007.9,
          1269.9,
          1600,
          2015.9,
          2539.8,
          3200,
          4031.7,
          5079.7,
          6400,
          8063.5,
          10159.4,
          12800
         ],
         "xaxis": "x",
         "y": [
          -6.26763916015625,
          null,
          null,
          -6.296661376953125,
          -6.343410491943359,
          null,
          -6.4051361083984375,
          -6.514995574951172,
          -6.621303558349609,
          -6.673213958740234,
          -6.459804534912109,
          -5.4273223876953125,
          -3.2010459899902344,
          0,
          3.088817596435547,
          5.152362823486328,
          4.823940277099609,
          -0.5492591857910156,
          -9.444351196289062,
          -13.176750183105469,
          -13.333797454833984,
          -13.617328643798828,
          -10.298248291015625,
          -10.609199523925781,
          -14.758975982666016,
          -11.50827407836914,
          -18.82052230834961,
          -22.421371459960938,
          -18.460567474365234,
          -19.171005249023438,
          -26.964092254638672
         ],
         "yaxis": "y"
        },
        {
         "hovertemplate": "class=cymbal<br>filename=13243__ianhall__chinese-cymbal.aiff<br>frequency=%{x}<br>level=%{y}<extra></extra>",
         "legendgroup": "cymbal",
         "line": {
          "color": "#ab63fa",
          "dash": "solid"
         },
         "marker": {
          "symbol": "circle"
         },
         "mode": "lines",
         "name": "cymbal",
         "showlegend": false,
         "type": "scattergl",
         "x": [
          12.5,
          15.7,
          19.8,
          25,
          31.5,
          39.7,
          50,
          63,
          79.4,
          100,
          126,
          158.7,
          200,
          252,
          317.5,
          400,
          504,
          635,
          800,
          1007.9,
          1269.9,
          1600,
          2015.9,
          2539.8,
          3200,
          4031.7,
          5079.7,
          6400,
          8063.5,
          10159.4,
          12800
         ],
         "xaxis": "x",
         "y": [
          0.5896987915039062,
          null,
          null,
          0.5683059692382812,
          0.5336532592773438,
          null,
          0.4872169494628906,
          0.3992271423339844,
          0.2994842529296875,
          0.19642257690429688,
          0.04852294921875,
          -0.051349639892578125,
          -0.0471649169921875,
          0,
          -0.21439743041992188,
          -1.188140869140625,
          -2.9385147094726562,
          -2.7993087768554688,
          0.36667633056640625,
          8.910667419433594,
          20.932315826416016,
          21.813079833984375,
          18.253551483154297,
          20.219722747802734,
          20.49956512451172,
          20.326396942138672,
          19.296138763427734,
          15.10693359375,
          7.977073669433594,
          3.263671875,
          2.3628082275390625
         ],
         "yaxis": "y"
        },
        {
         "hovertemplate": "class=cymbal<br>filename=136448__zagorius_mpc__chinese-cymbal-46_2.wav<br>frequency=%{x}<br>level=%{y}<extra></extra>",
         "legendgroup": "cymbal",
         "line": {
          "color": "#ab63fa",
          "dash": "solid"
         },
         "marker": {
          "symbol": "circle"
         },
         "mode": "lines",
         "name": "cymbal",
         "showlegend": false,
         "type": "scattergl",
         "x": [
          12.5,
          15.7,
          19.8,
          25,
          31.5,
          39.7,
          50,
          63,
          79.4,
          100,
          126,
          158.7,
          200,
          252,
          317.5,
          400,
          504,
          635,
          800,
          1007.9,
          1269.9,
          1600,
          2015.9,
          2539.8,
          3200,
          4031.7,
          5079.7,
          6400,
          8063.5,
          10159.4,
          12800
         ],
         "xaxis": "x",
         "y": [
          -2.539794921875,
          null,
          null,
          -2.436737060546875,
          -2.2738189697265625,
          null,
          -2.0626144409179688,
          -1.6827850341796875,
          -1.272796630859375,
          -0.8667526245117188,
          -0.27587127685546875,
          0.2157745361328125,
          0.4004058837890625,
          0,
          -1.4262466430664062,
          -4.274204254150391,
          -6.849632263183594,
          -5.143909454345703,
          1.3704681396484375,
          6.76983642578125,
          10.739997863769531,
          7.973350524902344,
          6.072456359863281,
          4.793006896972656,
          3.154632568359375,
          1.546051025390625,
          -4.714962005615234,
          -8.08858871459961,
          -15.270336151123047,
          -21.82195281982422,
          -33.77290725708008
         ],
         "yaxis": "y"
        },
        {
         "hovertemplate": "class=cymbal<br>filename=102794__mhc__acoustic_ride_cymbal2.wav<br>frequency=%{x}<br>level=%{y}<extra></extra>",
         "legendgroup": "cymbal",
         "line": {
          "color": "#ab63fa",
          "dash": "solid"
         },
         "marker": {
          "symbol": "circle"
         },
         "mode": "lines",
         "name": "cymbal",
         "showlegend": false,
         "type": "scattergl",
         "x": [
          12.5,
          15.7,
          19.8,
          25,
          31.5,
          39.7,
          50,
          63,
          79.4,
          100,
          126,
          158.7,
          200,
          252,
          317.5,
          400,
          504,
          635,
          800,
          1007.9,
          1269.9,
          1600,
          2015.9,
          2539.8,
          3200,
          4031.7,
          5079.7,
          6400,
          8063.5,
          10159.4,
          12800
         ],
         "xaxis": "x",
         "y": [
          1.1046829223632812,
          null,
          null,
          1.032501220703125,
          0.9134483337402344,
          null,
          0.7495231628417969,
          0.422149658203125,
          0.025760650634765625,
          -0.4288177490234375,
          -1.1896247863769531,
          -1.8408660888671875,
          -1.7650833129882812,
          0,
          4.389560699462891,
          10.570449829101562,
          16.134262084960938,
          19.167015075683594,
          17.80181884765625,
          9.659812927246094,
          5.295482635498047,
          3.2700576782226562,
          -4.846351623535156,
          -0.044422149658203125,
          -0.9037094116210938,
          2.317188262939453,
          3.3865394592285156,
          8.251907348632812,
          6.677417755126953,
          3.7477073669433594,
          -2.9384689331054688
         ],
         "yaxis": "y"
        },
        {
         "hovertemplate": "class=cymbal<br>filename=154712__mistorcaveman__cymbal_7_1-2.aiff<br>frequency=%{x}<br>level=%{y}<extra></extra>",
         "legendgroup": "cymbal",
         "line": {
          "color": "#ab63fa",
          "dash": "solid"
         },
         "marker": {
          "symbol": "circle"
         },
         "mode": "lines",
         "name": "cymbal",
         "showlegend": false,
         "type": "scattergl",
         "x": [
          12.5,
          15.7,
          19.8,
          25,
          31.5,
          39.7,
          50,
          63,
          79.4,
          100,
          126,
          158.7,
          200,
          252,
          317.5,
          400,
          504,
          635,
          800,
          1007.9,
          1269.9,
          1600,
          2015.9,
          2539.8,
          3200,
          4031.7,
          5079.7,
          6400,
          8063.5,
          10159.4,
          12800
         ],
         "xaxis": "x",
         "y": [
          -4.258277893066406,
          null,
          null,
          -4.186180114746094,
          -4.073680877685547,
          null,
          -3.9306907653808594,
          -3.683208465576172,
          -3.4284896850585938,
          -3.1922645568847656,
          -2.856739044189453,
          -2.4679603576660156,
          -1.7186012268066406,
          0,
          2.3911819458007812,
          4.100105285644531,
          3.2784385681152344,
          0.9144477844238281,
          1.7388877868652344,
          -2.5675010681152344,
          -5.257671356201172,
          -4.734394073486328,
          -9.521968841552734,
          0.3247108459472656,
          -0.7251777648925781,
          1.5798377990722656,
          -1.11114501953125,
          -0.5951271057128906,
          5.896175384521484,
          8.666751861572266,
          -0.4440727233886719
         ],
         "yaxis": "y"
        }
       ],
       "layout": {
        "height": 500,
        "legend": {
         "title": {
          "text": "class"
         },
         "tracegroupgap": 0
        },
        "margin": {
         "t": 60
        },
        "template": {
         "data": {
          "bar": [
           {
            "error_x": {
             "color": "#2a3f5f"
            },
            "error_y": {
             "color": "#2a3f5f"
            },
            "marker": {
             "line": {
              "color": "#E5ECF6",
              "width": 0.5
             },
             "pattern": {
              "fillmode": "overlay",
              "size": 10,
              "solidity": 0.2
             }
            },
            "type": "bar"
           }
          ],
          "barpolar": [
           {
            "marker": {
             "line": {
              "color": "#E5ECF6",
              "width": 0.5
             },
             "pattern": {
              "fillmode": "overlay",
              "size": 10,
              "solidity": 0.2
             }
            },
            "type": "barpolar"
           }
          ],
          "carpet": [
           {
            "aaxis": {
             "endlinecolor": "#2a3f5f",
             "gridcolor": "white",
             "linecolor": "white",
             "minorgridcolor": "white",
             "startlinecolor": "#2a3f5f"
            },
            "baxis": {
             "endlinecolor": "#2a3f5f",
             "gridcolor": "white",
             "linecolor": "white",
             "minorgridcolor": "white",
             "startlinecolor": "#2a3f5f"
            },
            "type": "carpet"
           }
          ],
          "choropleth": [
           {
            "colorbar": {
             "outlinewidth": 0,
             "ticks": ""
            },
            "type": "choropleth"
           }
          ],
          "contour": [
           {
            "colorbar": {
             "outlinewidth": 0,
             "ticks": ""
            },
            "colorscale": [
             [
              0,
              "#0d0887"
             ],
             [
              0.1111111111111111,
              "#46039f"
             ],
             [
              0.2222222222222222,
              "#7201a8"
             ],
             [
              0.3333333333333333,
              "#9c179e"
             ],
             [
              0.4444444444444444,
              "#bd3786"
             ],
             [
              0.5555555555555556,
              "#d8576b"
             ],
             [
              0.6666666666666666,
              "#ed7953"
             ],
             [
              0.7777777777777778,
              "#fb9f3a"
             ],
             [
              0.8888888888888888,
              "#fdca26"
             ],
             [
              1,
              "#f0f921"
             ]
            ],
            "type": "contour"
           }
          ],
          "contourcarpet": [
           {
            "colorbar": {
             "outlinewidth": 0,
             "ticks": ""
            },
            "type": "contourcarpet"
           }
          ],
          "heatmap": [
           {
            "colorbar": {
             "outlinewidth": 0,
             "ticks": ""
            },
            "colorscale": [
             [
              0,
              "#0d0887"
             ],
             [
              0.1111111111111111,
              "#46039f"
             ],
             [
              0.2222222222222222,
              "#7201a8"
             ],
             [
              0.3333333333333333,
              "#9c179e"
             ],
             [
              0.4444444444444444,
              "#bd3786"
             ],
             [
              0.5555555555555556,
              "#d8576b"
             ],
             [
              0.6666666666666666,
              "#ed7953"
             ],
             [
              0.7777777777777778,
              "#fb9f3a"
             ],
             [
              0.8888888888888888,
              "#fdca26"
             ],
             [
              1,
              "#f0f921"
             ]
            ],
            "type": "heatmap"
           }
          ],
          "heatmapgl": [
           {
            "colorbar": {
             "outlinewidth": 0,
             "ticks": ""
            },
            "colorscale": [
             [
              0,
              "#0d0887"
             ],
             [
              0.1111111111111111,
              "#46039f"
             ],
             [
              0.2222222222222222,
              "#7201a8"
             ],
             [
              0.3333333333333333,
              "#9c179e"
             ],
             [
              0.4444444444444444,
              "#bd3786"
             ],
             [
              0.5555555555555556,
              "#d8576b"
             ],
             [
              0.6666666666666666,
              "#ed7953"
             ],
             [
              0.7777777777777778,
              "#fb9f3a"
             ],
             [
              0.8888888888888888,
              "#fdca26"
             ],
             [
              1,
              "#f0f921"
             ]
            ],
            "type": "heatmapgl"
           }
          ],
          "histogram": [
           {
            "marker": {
             "pattern": {
              "fillmode": "overlay",
              "size": 10,
              "solidity": 0.2
             }
            },
            "type": "histogram"
           }
          ],
          "histogram2d": [
           {
            "colorbar": {
             "outlinewidth": 0,
             "ticks": ""
            },
            "colorscale": [
             [
              0,
              "#0d0887"
             ],
             [
              0.1111111111111111,
              "#46039f"
             ],
             [
              0.2222222222222222,
              "#7201a8"
             ],
             [
              0.3333333333333333,
              "#9c179e"
             ],
             [
              0.4444444444444444,
              "#bd3786"
             ],
             [
              0.5555555555555556,
              "#d8576b"
             ],
             [
              0.6666666666666666,
              "#ed7953"
             ],
             [
              0.7777777777777778,
              "#fb9f3a"
             ],
             [
              0.8888888888888888,
              "#fdca26"
             ],
             [
              1,
              "#f0f921"
             ]
            ],
            "type": "histogram2d"
           }
          ],
          "histogram2dcontour": [
           {
            "colorbar": {
             "outlinewidth": 0,
             "ticks": ""
            },
            "colorscale": [
             [
              0,
              "#0d0887"
             ],
             [
              0.1111111111111111,
              "#46039f"
             ],
             [
              0.2222222222222222,
              "#7201a8"
             ],
             [
              0.3333333333333333,
              "#9c179e"
             ],
             [
              0.4444444444444444,
              "#bd3786"
             ],
             [
              0.5555555555555556,
              "#d8576b"
             ],
             [
              0.6666666666666666,
              "#ed7953"
             ],
             [
              0.7777777777777778,
              "#fb9f3a"
             ],
             [
              0.8888888888888888,
              "#fdca26"
             ],
             [
              1,
              "#f0f921"
             ]
            ],
            "type": "histogram2dcontour"
           }
          ],
          "mesh3d": [
           {
            "colorbar": {
             "outlinewidth": 0,
             "ticks": ""
            },
            "type": "mesh3d"
           }
          ],
          "parcoords": [
           {
            "line": {
             "colorbar": {
              "outlinewidth": 0,
              "ticks": ""
             }
            },
            "type": "parcoords"
           }
          ],
          "pie": [
           {
            "automargin": true,
            "type": "pie"
           }
          ],
          "scatter": [
           {
            "fillpattern": {
             "fillmode": "overlay",
             "size": 10,
             "solidity": 0.2
            },
            "type": "scatter"
           }
          ],
          "scatter3d": [
           {
            "line": {
             "colorbar": {
              "outlinewidth": 0,
              "ticks": ""
             }
            },
            "marker": {
             "colorbar": {
              "outlinewidth": 0,
              "ticks": ""
             }
            },
            "type": "scatter3d"
           }
          ],
          "scattercarpet": [
           {
            "marker": {
             "colorbar": {
              "outlinewidth": 0,
              "ticks": ""
             }
            },
            "type": "scattercarpet"
           }
          ],
          "scattergeo": [
           {
            "marker": {
             "colorbar": {
              "outlinewidth": 0,
              "ticks": ""
             }
            },
            "type": "scattergeo"
           }
          ],
          "scattergl": [
           {
            "marker": {
             "colorbar": {
              "outlinewidth": 0,
              "ticks": ""
             }
            },
            "type": "scattergl"
           }
          ],
          "scattermapbox": [
           {
            "marker": {
             "colorbar": {
              "outlinewidth": 0,
              "ticks": ""
             }
            },
            "type": "scattermapbox"
           }
          ],
          "scatterpolar": [
           {
            "marker": {
             "colorbar": {
              "outlinewidth": 0,
              "ticks": ""
             }
            },
            "type": "scatterpolar"
           }
          ],
          "scatterpolargl": [
           {
            "marker": {
             "colorbar": {
              "outlinewidth": 0,
              "ticks": ""
             }
            },
            "type": "scatterpolargl"
           }
          ],
          "scatterternary": [
           {
            "marker": {
             "colorbar": {
              "outlinewidth": 0,
              "ticks": ""
             }
            },
            "type": "scatterternary"
           }
          ],
          "surface": [
           {
            "colorbar": {
             "outlinewidth": 0,
             "ticks": ""
            },
            "colorscale": [
             [
              0,
              "#0d0887"
             ],
             [
              0.1111111111111111,
              "#46039f"
             ],
             [
              0.2222222222222222,
              "#7201a8"
             ],
             [
              0.3333333333333333,
              "#9c179e"
             ],
             [
              0.4444444444444444,
              "#bd3786"
             ],
             [
              0.5555555555555556,
              "#d8576b"
             ],
             [
              0.6666666666666666,
              "#ed7953"
             ],
             [
              0.7777777777777778,
              "#fb9f3a"
             ],
             [
              0.8888888888888888,
              "#fdca26"
             ],
             [
              1,
              "#f0f921"
             ]
            ],
            "type": "surface"
           }
          ],
          "table": [
           {
            "cells": {
             "fill": {
              "color": "#EBF0F8"
             },
             "line": {
              "color": "white"
             }
            },
            "header": {
             "fill": {
              "color": "#C8D4E3"
             },
             "line": {
              "color": "white"
             }
            },
            "type": "table"
           }
          ]
         },
         "layout": {
          "annotationdefaults": {
           "arrowcolor": "#2a3f5f",
           "arrowhead": 0,
           "arrowwidth": 1
          },
          "autotypenumbers": "strict",
          "coloraxis": {
           "colorbar": {
            "outlinewidth": 0,
            "ticks": ""
           }
          },
          "colorscale": {
           "diverging": [
            [
             0,
             "#8e0152"
            ],
            [
             0.1,
             "#c51b7d"
            ],
            [
             0.2,
             "#de77ae"
            ],
            [
             0.3,
             "#f1b6da"
            ],
            [
             0.4,
             "#fde0ef"
            ],
            [
             0.5,
             "#f7f7f7"
            ],
            [
             0.6,
             "#e6f5d0"
            ],
            [
             0.7,
             "#b8e186"
            ],
            [
             0.8,
             "#7fbc41"
            ],
            [
             0.9,
             "#4d9221"
            ],
            [
             1,
             "#276419"
            ]
           ],
           "sequential": [
            [
             0,
             "#0d0887"
            ],
            [
             0.1111111111111111,
             "#46039f"
            ],
            [
             0.2222222222222222,
             "#7201a8"
            ],
            [
             0.3333333333333333,
             "#9c179e"
            ],
            [
             0.4444444444444444,
             "#bd3786"
            ],
            [
             0.5555555555555556,
             "#d8576b"
            ],
            [
             0.6666666666666666,
             "#ed7953"
            ],
            [
             0.7777777777777778,
             "#fb9f3a"
            ],
            [
             0.8888888888888888,
             "#fdca26"
            ],
            [
             1,
             "#f0f921"
            ]
           ],
           "sequentialminus": [
            [
             0,
             "#0d0887"
            ],
            [
             0.1111111111111111,
             "#46039f"
            ],
            [
             0.2222222222222222,
             "#7201a8"
            ],
            [
             0.3333333333333333,
             "#9c179e"
            ],
            [
             0.4444444444444444,
             "#bd3786"
            ],
            [
             0.5555555555555556,
             "#d8576b"
            ],
            [
             0.6666666666666666,
             "#ed7953"
            ],
            [
             0.7777777777777778,
             "#fb9f3a"
            ],
            [
             0.8888888888888888,
             "#fdca26"
            ],
            [
             1,
             "#f0f921"
            ]
           ]
          },
          "colorway": [
           "#636efa",
           "#EF553B",
           "#00cc96",
           "#ab63fa",
           "#FFA15A",
           "#19d3f3",
           "#FF6692",
           "#B6E880",
           "#FF97FF",
           "#FECB52"
          ],
          "font": {
           "color": "#2a3f5f"
          },
          "geo": {
           "bgcolor": "white",
           "lakecolor": "white",
           "landcolor": "#E5ECF6",
           "showlakes": true,
           "showland": true,
           "subunitcolor": "white"
          },
          "hoverlabel": {
           "align": "left"
          },
          "hovermode": "closest",
          "mapbox": {
           "style": "light"
          },
          "paper_bgcolor": "white",
          "plot_bgcolor": "#E5ECF6",
          "polar": {
           "angularaxis": {
            "gridcolor": "white",
            "linecolor": "white",
            "ticks": ""
           },
           "bgcolor": "#E5ECF6",
           "radialaxis": {
            "gridcolor": "white",
            "linecolor": "white",
            "ticks": ""
           }
          },
          "scene": {
           "xaxis": {
            "backgroundcolor": "#E5ECF6",
            "gridcolor": "white",
            "gridwidth": 2,
            "linecolor": "white",
            "showbackground": true,
            "ticks": "",
            "zerolinecolor": "white"
           },
           "yaxis": {
            "backgroundcolor": "#E5ECF6",
            "gridcolor": "white",
            "gridwidth": 2,
            "linecolor": "white",
            "showbackground": true,
            "ticks": "",
            "zerolinecolor": "white"
           },
           "zaxis": {
            "backgroundcolor": "#E5ECF6",
            "gridcolor": "white",
            "gridwidth": 2,
            "linecolor": "white",
            "showbackground": true,
            "ticks": "",
            "zerolinecolor": "white"
           }
          },
          "shapedefaults": {
           "line": {
            "color": "#2a3f5f"
           }
          },
          "ternary": {
           "aaxis": {
            "gridcolor": "white",
            "linecolor": "white",
            "ticks": ""
           },
           "baxis": {
            "gridcolor": "white",
            "linecolor": "white",
            "ticks": ""
           },
           "bgcolor": "#E5ECF6",
           "caxis": {
            "gridcolor": "white",
            "linecolor": "white",
            "ticks": ""
           }
          },
          "title": {
           "x": 0.05
          },
          "xaxis": {
           "automargin": true,
           "gridcolor": "white",
           "linecolor": "white",
           "ticks": "",
           "title": {
            "standoff": 15
           },
           "zerolinecolor": "white",
           "zerolinewidth": 2
          },
          "yaxis": {
           "automargin": true,
           "gridcolor": "white",
           "linecolor": "white",
           "ticks": "",
           "title": {
            "standoff": 15
           },
           "zerolinecolor": "white",
           "zerolinewidth": 2
          }
         }
        },
        "width": 1500,
        "xaxis": {
         "anchor": "y",
         "domain": [
          0,
          1
         ],
         "range": [
          1.3010299956639813,
          4.301029995663981
         ],
         "title": {
          "text": "frequency"
         },
         "type": "log"
        },
        "yaxis": {
         "anchor": "x",
         "autorange": true,
         "domain": [
          0,
          1
         ],
         "range": [
          -84.97766192754109,
          39.72211821873983
         ],
         "title": {
          "text": "level"
         },
         "type": "linear"
        }
       }
      },
      "image/png": "[encoded data removed]",
      "text/html": [
       "<div>                            <div id=\"95b7a197-b6f5-4fca-b0ca-51226fcdffb1\" class=\"plotly-graph-div\" style=\"height:500px; width:1500px;\"></div>            <script type=\"text/javascript\">                require([\"plotly\"], function(Plotly) {                    window.PLOTLYENV=window.PLOTLYENV || {};                                    if (document.getElementById(\"95b7a197-b6f5-4fca-b0ca-51226fcdffb1\")) {                    Plotly.newPlot(                        \"95b7a197-b6f5-4fca-b0ca-51226fcdffb1\",                        [{\"hovertemplate\":\"class=closed_hihat<br>filename=556184__soothsayer_orchestra__hihatt-closed.wav<br>frequency=%{x}<br>level=%{y}<extra></extra>\",\"legendgroup\":\"closed_hihat\",\"line\":{\"color\":\"#636efa\",\"dash\":\"solid\"},\"marker\":{\"symbol\":\"circle\"},\"mode\":\"lines\",\"name\":\"closed_hihat\",\"showlegend\":true,\"x\":[12.5,15.7,19.8,25.0,31.5,39.7,50.0,63.0,79.4,100.0,126.0,158.7,200.0,252.0,317.5,400.0,504.0,635.0,800.0,1007.9,1269.9,1600.0,2015.9,2539.8,3200.0,4031.7,5079.7,6400.0,8063.5,10159.4,12800.0],\"xaxis\":\"x\",\"y\":[-6.784675598144531,null,null,-6.643463134765625,-6.418800354003906,null,-6.124458312988281,-5.582557678222656,-4.977336883544922,-4.338233947753906,-3.2866287231445312,-2.127796173095703,-1.0060844421386719,0.0,0.4541587829589844,-0.3248443603515625,-2.1940689086914062,-1.1263656616210938,-1.3951873779296875,-6.5969085693359375,-8.763019561767578,-9.834053039550781,-8.806121826171875,-7.820411682128906,-7.9584197998046875,-5.634552001953125,-0.1385650634765625,-0.558349609375,-0.09288406372070312,1.2457313537597656,-1.1748580932617188],\"yaxis\":\"y\",\"type\":\"scattergl\"},{\"hovertemplate\":\"class=closed_hihat<br>filename=634822__collinb1000__closed7.wav<br>frequency=%{x}<br>level=%{y}<extra></extra>\",\"legendgroup\":\"closed_hihat\",\"line\":{\"color\":\"#636efa\",\"dash\":\"solid\"},\"marker\":{\"symbol\":\"circle\"},\"mode\":\"lines\",\"name\":\"closed_hihat\",\"showlegend\":false,\"x\":[12.5,15.7,19.8,25.0,31.5,39.7,50.0,63.0,79.4,100.0,126.0,158.7,200.0,252.0,317.5,400.0,504.0,635.0,800.0,1007.9,1269.9,1600.0,2015.9,2539.8,3200.0,4031.7,5079.7,6400.0,8063.5,10159.4,12800.0],\"xaxis\":\"x\",\"y\":[-5.328678131103516,null,null,-5.175197601318359,-4.933910369873047,null,-4.623035430908203,-4.067291259765625,-3.467376708984375,-2.8646011352539062,-1.9411964416503906,-1.0392913818359375,-0.34178924560546875,0.0,-0.3613777160644531,-1.725677490234375,-3.7379684448242188,-6.02655029296875,-7.208427429199219,-10.791362762451172,-8.286983489990234,-9.063209533691406,-6.716224670410156,-10.305171966552734,-5.3613128662109375,-4.510211944580078,-4.234699249267578,-4.389522552490234,-3.2785263061523438,-3.2790908813476562,-3.826526641845703],\"yaxis\":\"y\",\"type\":\"scattergl\"},{\"hovertemplate\":\"class=closed_hihat<br>filename=140516__stomachache__closedhatphrase-002.wav<br>frequency=%{x}<br>level=%{y}<extra></extra>\",\"legendgroup\":\"closed_hihat\",\"line\":{\"color\":\"#636efa\",\"dash\":\"solid\"},\"marker\":{\"symbol\":\"circle\"},\"mode\":\"lines\",\"name\":\"closed_hihat\",\"showlegend\":false,\"x\":[12.5,15.7,19.8,25.0,31.5,39.7,50.0,63.0,79.4,100.0,126.0,158.7,200.0,252.0,317.5,400.0,504.0,635.0,800.0,1007.9,1269.9,1600.0,2015.9,2539.8,3200.0,4031.7,5079.7,6400.0,8063.5,10159.4,12800.0],\"xaxis\":\"x\",\"y\":[-6.1016693115234375,null,null,-5.920833587646484,-5.639003753662109,null,-5.280025482177734,-4.649387359619141,-3.9799766540527344,-3.319499969482422,-2.321868896484375,-1.3498420715332031,-0.5597038269042969,0.0,0.23738861083984375,0.4857063293457031,1.2516822814941406,1.1060905456542969,-2.905242919921875,-8.103923797607422,-5.926677703857422,-3.7705154418945312,-9.579261779785156,-8.121768951416016,-6.718425750732422,-6.40350341796875,-0.5919227600097656,-1.1282119750976562,-2.107410430908203,-2.8457298278808594,-0.8319091796875],\"yaxis\":\"y\",\"type\":\"scattergl\"},{\"hovertemplate\":\"class=closed_hihat<br>filename=102781__mhc__acoustic_closed_hihat2.wav<br>frequency=%{x}<br>level=%{y}<extra></extra>\",\"legendgroup\":\"closed_hihat\",\"line\":{\"color\":\"#636efa\",\"dash\":\"solid\"},\"marker\":{\"symbol\":\"circle\"},\"mode\":\"lines\",\"name\":\"closed_hihat\",\"showlegend\":false,\"x\":[12.5,15.7,19.8,25.0,31.5,39.7,50.0,63.0,79.4,100.0,126.0,158.7,200.0,252.0,317.5,400.0,504.0,635.0,800.0,1007.9,1269.9,1600.0,2015.9,2539.8,3200.0,4031.7,5079.7,6400.0,8063.5,10159.4,12800.0],\"xaxis\":\"x\",\"y\":[-4.314701080322266,null,null,-4.203102111816406,-4.025463104248047,null,-3.79278564453125,-3.3658218383789062,-2.8927230834960938,-2.4028244018554688,-1.6308746337890625,-0.858642578125,-0.26020050048828125,0.0,-0.4091796875,-1.6107864379882812,-2.3244552612304688,-1.6474227905273438,-2.8061676025390625,-7.598640441894531,-7.7285003662109375,-9.863662719726562,-9.093795776367188,-11.976764678955078,-10.523292541503906,-9.864479064941406,-8.580642700195312,-8.235153198242188,-9.163375854492188,-10.72607421875,-9.561080932617188],\"yaxis\":\"y\",\"type\":\"scattergl\"},{\"hovertemplate\":\"class=closed_hihat<br>filename=634822__collinb1000__closed7(1).wav<br>frequency=%{x}<br>level=%{y}<extra></extra>\",\"legendgroup\":\"closed_hihat\",\"line\":{\"color\":\"#636efa\",\"dash\":\"solid\"},\"marker\":{\"symbol\":\"circle\"},\"mode\":\"lines\",\"name\":\"closed_hihat\",\"showlegend\":false,\"x\":[12.5,15.7,19.8,25.0,31.5,39.7,50.0,63.0,79.4,100.0,126.0,158.7,200.0,252.0,317.5,400.0,504.0,635.0,800.0,1007.9,1269.9,1600.0,2015.9,2539.8,3200.0,4031.7,5079.7,6400.0,8063.5,10159.4,12800.0],\"xaxis\":\"x\",\"y\":[-5.328678131103516,null,null,-5.175197601318359,-4.933910369873047,null,-4.623035430908203,-4.067291259765625,-3.467376708984375,-2.8646011352539062,-1.9411964416503906,-1.0392913818359375,-0.34178924560546875,0.0,-0.3613777160644531,-1.725677490234375,-3.7379684448242188,-6.02655029296875,-7.208427429199219,-10.791362762451172,-8.286983489990234,-9.063209533691406,-6.716224670410156,-10.305171966552734,-5.3613128662109375,-4.510211944580078,-4.234699249267578,-4.389522552490234,-3.2785263061523438,-3.2790908813476562,-3.826526641845703],\"yaxis\":\"y\",\"type\":\"scattergl\"},{\"hovertemplate\":\"class=closed_hihat<br>filename=669733__jannevse__hi-hat_closed_po-12.aiff<br>frequency=%{x}<br>level=%{y}<extra></extra>\",\"legendgroup\":\"closed_hihat\",\"line\":{\"color\":\"#636efa\",\"dash\":\"solid\"},\"marker\":{\"symbol\":\"circle\"},\"mode\":\"lines\",\"name\":\"closed_hihat\",\"showlegend\":false,\"x\":[12.5,15.7,19.8,25.0,31.5,39.7,50.0,63.0,79.4,100.0,126.0,158.7,200.0,252.0,317.5,400.0,504.0,635.0,800.0,1007.9,1269.9,1600.0,2015.9,2539.8,3200.0,4031.7,5079.7,6400.0,8063.5,10159.4,12800.0],\"xaxis\":\"x\",\"y\":[5.4573974609375,null,null,5.4044952392578125,5.316490173339844,null,5.193634033203125,4.940746307373047,4.6209716796875,4.221698760986328,3.4168033599853516,2.293844223022461,0.9916324615478516,0.0,0.42784690856933594,2.5008697509765625,5.502071380615234,7.529670715332031,8.160392761230469,8.428226470947266,8.439239501953125,12.98306655883789,16.440486907958984,19.713119506835938,20.95806884765625,23.764511108398438,28.77863311767578,31.046295166015625,30.349014282226562,26.24673080444336,22.932762145996094],\"yaxis\":\"y\",\"type\":\"scattergl\"},{\"hovertemplate\":\"class=closed_hihat<br>filename=13246__ianhall__hihat-closed.aiff<br>frequency=%{x}<br>level=%{y}<extra></extra>\",\"legendgroup\":\"closed_hihat\",\"line\":{\"color\":\"#636efa\",\"dash\":\"solid\"},\"marker\":{\"symbol\":\"circle\"},\"mode\":\"lines\",\"name\":\"closed_hihat\",\"showlegend\":false,\"x\":[12.5,15.7,19.8,25.0,31.5,39.7,50.0,63.0,79.4,100.0,126.0,158.7,200.0,252.0,317.5,400.0,504.0,635.0,800.0,1007.9,1269.9,1600.0,2015.9,2539.8,3200.0,4031.7,5079.7,6400.0,8063.5,10159.4,12800.0],\"xaxis\":\"x\",\"y\":[-6.415290832519531,null,null,-6.230144500732422,-5.941211700439453,null,-5.572483062744141,-4.922245025634766,-4.2286376953125,-3.538890838623047,-2.48468017578125,-1.438629150390625,-0.5729713439941406,0.0,-0.09253692626953125,-1.3940849304199219,-3.590465545654297,-2.4893226623535156,-2.4460411071777344,-8.180961608886719,-8.760566711425781,-8.403030395507812,-6.097148895263672,-6.625732421875,-3.32354736328125,-0.64849853515625,-2.9225540161132812,-4.058208465576172,-1.0393867492675781,4.896751403808594,9.502010345458984],\"yaxis\":\"y\",\"type\":\"scattergl\"},{\"hovertemplate\":\"class=closed_hihat<br>filename=45058__matiasreccius__hihat_closed4.wav<br>frequency=%{x}<br>level=%{y}<extra></extra>\",\"legendgroup\":\"closed_hihat\",\"line\":{\"color\":\"#636efa\",\"dash\":\"solid\"},\"marker\":{\"symbol\":\"circle\"},\"mode\":\"lines\",\"name\":\"closed_hihat\",\"showlegend\":false,\"x\":[12.5,15.7,19.8,25.0,31.5,39.7,50.0,63.0,79.4,100.0,126.0,158.7,200.0,252.0,317.5,400.0,504.0,635.0,800.0,1007.9,1269.9,1600.0,2015.9,2539.8,3200.0,4031.7,5079.7,6400.0,8063.5,10159.4,12800.0],\"xaxis\":\"x\",\"y\":[-6.726287841796875,null,null,-6.555858612060547,-6.287872314453125,null,-5.942340850830078,-5.322731018066406,-4.649883270263672,-3.9649124145507812,-2.886974334716797,-1.7701072692871094,-0.7776908874511719,0.0,0.19375991821289062,-0.7158851623535156,-3.066547393798828,-5.433521270751953,-8.086994171142578,-10.609439849853516,-10.878475189208984,-9.814571380615234,-11.225910186767578,-8.802127838134766,-8.643104553222656,-4.314777374267578,-2.6902847290039062,-4.395500183105469,-5.711616516113281,-8.201370239257812,-11.244518280029297],\"yaxis\":\"y\",\"type\":\"scattergl\"},{\"hovertemplate\":\"class=cowbell<br>filename=99766__menegass__cow.wav<br>frequency=%{x}<br>level=%{y}<extra></extra>\",\"legendgroup\":\"cowbell\",\"line\":{\"color\":\"#EF553B\",\"dash\":\"solid\"},\"marker\":{\"symbol\":\"circle\"},\"mode\":\"lines\",\"name\":\"cowbell\",\"showlegend\":true,\"x\":[12.5,15.7,19.8,25.0,31.5,39.7,50.0,63.0,79.4,100.0,126.0,158.7,200.0,252.0,317.5,400.0,504.0,635.0,800.0,1007.9,1269.9,1600.0,2015.9,2539.8,3200.0,4031.7,5079.7,6400.0,8063.5,10159.4,12800.0],\"xaxis\":\"x\",\"y\":[-3.0495643615722656,null,null,-3.1242904663085938,-3.2495079040527344,null,-3.4263458251953125,-3.7999725341796875,-4.2902069091796875,-4.945335388183594,-6.425594329833984,-8.522693634033203,-7.236919403076172,0.0,7.156517028808594,12.952095031738281,16.753921508789062,16.807418823242188,9.936233520507812,6.473518371582031,0.6608657836914062,1.4886474609375,-0.8285751342773438,-1.9648361206054688,-5.313667297363281,-7.0129547119140625,-9.209709167480469,-9.322868347167969,-10.474075317382812,-15.804718017578125,-20.411331176757812],\"yaxis\":\"y\",\"type\":\"scattergl\"},{\"hovertemplate\":\"class=cowbell<br>filename=364919__gowlermusic__cowbell.wav<br>frequency=%{x}<br>level=%{y}<extra></extra>\",\"legendgroup\":\"cowbell\",\"line\":{\"color\":\"#EF553B\",\"dash\":\"solid\"},\"marker\":{\"symbol\":\"circle\"},\"mode\":\"lines\",\"name\":\"cowbell\",\"showlegend\":false,\"x\":[12.5,15.7,19.8,25.0,31.5,39.7,50.0,63.0,79.4,100.0,126.0,158.7,200.0,252.0,317.5,400.0,504.0,635.0,800.0,1007.9,1269.9,1600.0,2015.9,2539.8,3200.0,4031.7,5079.7,6400.0,8063.5,10159.4,12800.0],\"xaxis\":\"x\",\"y\":[-6.568572998046875,null,null,-6.714790344238281,-6.9629974365234375,null,-7.3199920654296875,-8.097404479980469,-9.14398193359375,-10.531822204589844,-12.619064331054688,-10.702125549316406,-5.1766815185546875,0.0,3.8060684204101562,6.002838134765625,5.446510314941406,-1.17376708984375,-14.05615234375,-8.485321044921875,-7.1862640380859375,-20.325397491455078,-22.780982971191406,-24.03893280029297,-22.910995483398438,-23.238082885742188,-24.380149841308594,-23.25531005859375,-28.852928161621094,-33.21158218383789,-40.641990661621094],\"yaxis\":\"y\",\"type\":\"scattergl\"},{\"hovertemplate\":\"class=cowbell<br>filename=375613__samulis__cowbell-cowbell_ff_2.wav<br>frequency=%{x}<br>level=%{y}<extra></extra>\",\"legendgroup\":\"cowbell\",\"line\":{\"color\":\"#EF553B\",\"dash\":\"solid\"},\"marker\":{\"symbol\":\"circle\"},\"mode\":\"lines\",\"name\":\"cowbell\",\"showlegend\":false,\"x\":[12.5,15.7,19.8,25.0,31.5,39.7,50.0,63.0,79.4,100.0,126.0,158.7,200.0,252.0,317.5,400.0,504.0,635.0,800.0,1007.9,1269.9,1600.0,2015.9,2539.8,3200.0,4031.7,5079.7,6400.0,8063.5,10159.4,12800.0],\"xaxis\":\"x\",\"y\":[-5.358512878417969,null,null,-5.469348907470703,-5.6588592529296875,null,-5.934471130371094,-6.549541473388672,-7.408817291259766,-8.663639068603516,-11.710723876953125,-13.212299346923828,-6.744487762451172,0.0,4.856220245361328,8.00466537475586,8.557605743408203,3.7419395446777344,-11.445072174072266,-14.242507934570312,-6.832515716552734,-9.252979278564453,-17.766742706298828,-14.446685791015625,-19.891048431396484,-17.215251922607422,-16.204463958740234,-22.51897430419922,-27.489730834960938,-34.92276573181152,-46.21613597869873],\"yaxis\":\"y\",\"type\":\"scattergl\"},{\"hovertemplate\":\"class=cowbell<br>filename=34272__pj1s__cowbell.wav<br>frequency=%{x}<br>level=%{y}<extra></extra>\",\"legendgroup\":\"cowbell\",\"line\":{\"color\":\"#EF553B\",\"dash\":\"solid\"},\"marker\":{\"symbol\":\"circle\"},\"mode\":\"lines\",\"name\":\"cowbell\",\"showlegend\":false,\"x\":[12.5,15.7,19.8,25.0,31.5,39.7,50.0,63.0,79.4,100.0,126.0,158.7,200.0,252.0,317.5,400.0,504.0,635.0,800.0,1007.9,1269.9,1600.0,2015.9,2539.8,3200.0,4031.7,5079.7,6400.0,8063.5,10159.4,12800.0],\"xaxis\":\"x\",\"y\":[-0.13361358642578125,null,null,-0.2587127685546875,-0.4666938781738281,null,-0.7566795349121094,-1.3518600463867188,-2.1013259887695312,-3.0308990478515625,-4.899017333984375,-7.481739044189453,-7.791694641113281,0.0,8.71579360961914,15.656509399414062,20.178619384765625,20.40332794189453,10.9473876953125,0.4164924621582031,5.458961486816406,7.569236755371094,4.059288024902344,5.4361572265625,5.672454833984375,3.73089599609375,2.4745216369628906,-1.0468292236328125,-2.2676010131835938,-5.5207366943359375,-11.003162384033203],\"yaxis\":\"y\",\"type\":\"scattergl\"},{\"hovertemplate\":\"class=cowbell<br>filename=159758__timgormly__cowbell_os_3.aiff<br>frequency=%{x}<br>level=%{y}<extra></extra>\",\"legendgroup\":\"cowbell\",\"line\":{\"color\":\"#EF553B\",\"dash\":\"solid\"},\"marker\":{\"symbol\":\"circle\"},\"mode\":\"lines\",\"name\":\"cowbell\",\"showlegend\":false,\"x\":[12.5,15.7,19.8,25.0,31.5,39.7,50.0,63.0,79.4,100.0,126.0,158.7,200.0,252.0,317.5,400.0,504.0,635.0,800.0,1007.9,1269.9,1600.0,2015.9,2539.8,3200.0,4031.7,5079.7,6400.0,8063.5,10159.4,12800.0],\"xaxis\":\"x\",\"y\":[7.281288146972656,null,null,7.211265563964844,7.093006134033203,null,6.924041748046875,6.559379577636719,6.069221496582031,5.390899658203125,3.7552719116210938,0.6589927673339844,-3.2971038818359375,0.0,1.1651496887207031,8.36383056640625,24.570289611816406,32.70159149169922,33.48712921142578,19.701210021972656,9.406017303466797,9.574840545654297,1.18804931640625,-8.175384521484375,-11.057718276977539,-13.366680145263672,-18.54147720336914,-17.540372848510742,-29.62180519104004,-33.976284980773926,-41.91296660900116],\"yaxis\":\"y\",\"type\":\"scattergl\"},{\"hovertemplate\":\"class=cowbell<br>filename=159765__timgormly__cowbell_os_5.aiff<br>frequency=%{x}<br>level=%{y}<extra></extra>\",\"legendgroup\":\"cowbell\",\"line\":{\"color\":\"#EF553B\",\"dash\":\"solid\"},\"marker\":{\"symbol\":\"circle\"},\"mode\":\"lines\",\"name\":\"cowbell\",\"showlegend\":false,\"x\":[12.5,15.7,19.8,25.0,31.5,39.7,50.0,63.0,79.4,100.0,126.0,158.7,200.0,252.0,317.5,400.0,504.0,635.0,800.0,1007.9,1269.9,1600.0,2015.9,2539.8,3200.0,4031.7,5079.7,6400.0,8063.5,10159.4,12800.0],\"xaxis\":\"x\",\"y\":[6.987834930419922,null,null,6.933300018310547,6.840991973876953,null,6.708793640136719,6.422935485839844,6.0393829345703125,5.514793395996094,4.301670074462891,2.2538719177246094,-0.23917388916015625,0.0,0.4644966125488281,7.1058349609375,21.87763214111328,29.93724822998047,30.79328155517578,19.178192138671875,5.5589447021484375,2.1567916870117188,6.547702789306641,1.1816024780273438,3.4488525390625,-1.9186782836914062,1.6377029418945312,-2.9376449584960938,-5.289703369140625,-5.481712341308594,-15.041181564331055],\"yaxis\":\"y\",\"type\":\"scattergl\"},{\"hovertemplate\":\"class=cowbell<br>filename=432202__curesforbrokenhearts__cowbell-with-blastick.wav<br>frequency=%{x}<br>level=%{y}<extra></extra>\",\"legendgroup\":\"cowbell\",\"line\":{\"color\":\"#EF553B\",\"dash\":\"solid\"},\"marker\":{\"symbol\":\"circle\"},\"mode\":\"lines\",\"name\":\"cowbell\",\"showlegend\":false,\"x\":[12.5,15.7,19.8,25.0,31.5,39.7,50.0,63.0,79.4,100.0,126.0,158.7,200.0,252.0,317.5,400.0,504.0,635.0,800.0,1007.9,1269.9,1600.0,2015.9,2539.8,3200.0,4031.7,5079.7,6400.0,8063.5,10159.4,12800.0],\"xaxis\":\"x\",\"y\":[-5.670501708984375,null,null,-5.773529052734375,-5.949005126953125,null,-6.202659606933594,-6.7607269287109375,-7.523681640625,-8.583831787109375,-10.782512664794922,-11.234790802001953,-6.113685607910156,0.0,4.723075866699219,7.875274658203125,8.471694946289062,3.6115875244140625,-3.8351898193359375,-5.4394073486328125,-7.048515319824219,-1.597686767578125,-12.275871276855469,-9.74444580078125,-5.2104644775390625,-6.8901214599609375,-12.13083267211914,-17.361980438232422,-18.88744354248047,-24.354114532470703,-27.03641128540039],\"yaxis\":\"y\",\"type\":\"scattergl\"},{\"hovertemplate\":\"class=cowbell<br>filename=75839__rossf__lm1-cowbell.wav<br>frequency=%{x}<br>level=%{y}<extra></extra>\",\"legendgroup\":\"cowbell\",\"line\":{\"color\":\"#EF553B\",\"dash\":\"solid\"},\"marker\":{\"symbol\":\"circle\"},\"mode\":\"lines\",\"name\":\"cowbell\",\"showlegend\":false,\"x\":[12.5,15.7,19.8,25.0,31.5,39.7,50.0,63.0,79.4,100.0,126.0,158.7,200.0,252.0,317.5,400.0,504.0,635.0,800.0,1007.9,1269.9,1600.0,2015.9,2539.8,3200.0,4031.7,5079.7,6400.0,8063.5,10159.4,12800.0],\"xaxis\":\"x\",\"y\":[-4.608207702636719,null,null,-4.6591033935546875,-4.748466491699219,null,-4.883110046386719,-5.201194763183594,-5.6701812744140625,-6.399406433105469,-8.398277282714844,-11.759952545166016,-8.414268493652344,0.0,6.3164215087890625,10.768745422363281,12.759361267089844,9.95916748046875,-3.5729827880859375,-5.408447265625,-8.424850463867188,-8.783515930175781,-16.693363189697266,-15.466484069824219,-19.50598907470703,-20.93631362915039,-23.55889129638672,-27.92995834350586,-32.41461181640625,-36.58081817626953,-39.98715591430664],\"yaxis\":\"y\",\"type\":\"scattergl\"},{\"hovertemplate\":\"class=cowbell<br>filename=90979__suicidity__medium-cowbell-of-god-011.wav<br>frequency=%{x}<br>level=%{y}<extra></extra>\",\"legendgroup\":\"cowbell\",\"line\":{\"color\":\"#EF553B\",\"dash\":\"solid\"},\"marker\":{\"symbol\":\"circle\"},\"mode\":\"lines\",\"name\":\"cowbell\",\"showlegend\":false,\"x\":[12.5,15.7,19.8,25.0,31.5,39.7,50.0,63.0,79.4,100.0,126.0,158.7,200.0,252.0,317.5,400.0,504.0,635.0,800.0,1007.9,1269.9,1600.0,2015.9,2539.8,3200.0,4031.7,5079.7,6400.0,8063.5,10159.4,12800.0],\"xaxis\":\"x\",\"y\":[-4.208934783935547,null,null,-4.294944763183594,-4.4425811767578125,null,-4.658447265625,-5.144527435302734,-5.829875946044922,-6.844921112060547,-9.488792419433594,-12.854717254638672,-7.695640563964844,0.0,5.482574462890625,9.127861022949219,10.187889099121094,6.057914733886719,-9.071952819824219,-18.912216186523438,-17.486228942871094,-23.373371124267578,-21.954387664794922,-27.01435089111328,-30.38666534423828,-29.076766967773438,-30.904705047607422,-39.41808319091797,-49.94327735900879,-61.219974875450134,-62.90789794921875],\"yaxis\":\"y\",\"type\":\"scattergl\"},{\"hovertemplate\":\"class=cowbell<br>filename=75338__neotone__cowbell.wav<br>frequency=%{x}<br>level=%{y}<extra></extra>\",\"legendgroup\":\"cowbell\",\"line\":{\"color\":\"#EF553B\",\"dash\":\"solid\"},\"marker\":{\"symbol\":\"circle\"},\"mode\":\"lines\",\"name\":\"cowbell\",\"showlegend\":false,\"x\":[12.5,15.7,19.8,25.0,31.5,39.7,50.0,63.0,79.4,100.0,126.0,158.7,200.0,252.0,317.5,400.0,504.0,635.0,800.0,1007.9,1269.9,1600.0,2015.9,2539.8,3200.0,4031.7,5079.7,6400.0,8063.5,10159.4,12800.0],\"xaxis\":\"x\",\"y\":[7.271728515625,null,null,7.199432373046875,7.078987121582031,null,6.9105224609375,6.562530517578125,6.120819091796875,5.5668182373046875,4.447418212890625,2.899993896484375,1.178985595703125,0.0,1.9312705993652344,8.822296142578125,15.673255920410156,18.623794555664062,14.130966186523438,1.5719833374023438,10.306076049804688,28.7030029296875,8.526832580566406,8.246444702148438,8.551467895507812,11.317047119140625,3.6553802490234375,4.541679382324219,-0.5283279418945312,-4.299571990966797,-9.832340240478516],\"yaxis\":\"y\",\"type\":\"scattergl\"},{\"hovertemplate\":\"class=kick<br>filename=331589__j_zealous__kick-jzealous-hard-club.aiff<br>frequency=%{x}<br>level=%{y}<extra></extra>\",\"legendgroup\":\"kick\",\"line\":{\"color\":\"#00cc96\",\"dash\":\"solid\"},\"marker\":{\"symbol\":\"circle\"},\"mode\":\"lines\",\"name\":\"kick\",\"showlegend\":true,\"x\":[12.5,15.7,19.8,25.0,31.5,39.7,50.0,63.0,79.4,100.0,126.0,158.7,200.0,252.0,317.5,400.0,504.0,635.0,800.0,1007.9,1269.9,1600.0,2015.9,2539.8,3200.0,4031.7,5079.7,6400.0,8063.5,10159.4,12800.0],\"xaxis\":\"x\",\"y\":[-5.3886566162109375,null,null,-4.923858642578125,-4.263580322265625,null,-3.5127334594726562,-2.3869094848632812,-1.360076904296875,-0.5152511596679688,0.503509521484375,1.1400146484375,1.1139602661132812,0.0,-2.9477310180664062,-9.042701721191406,-16.014785766601562,-18.00341796875,-18.890426635742188,-25.026325225830078,-23.037017822265625,-27.103782653808594,-38.10431671142578,-36.12471389770508,-40.778411865234375,-46.20851135253906,-49.68830108642578,-51.48159980773926,-59.232975006103516,-60.65232849121094,-64.94994640350342],\"yaxis\":\"y\",\"type\":\"scattergl\"},{\"hovertemplate\":\"class=kick<br>filename=410149__screamstudio__kick-drum.wav<br>frequency=%{x}<br>level=%{y}<extra></extra>\",\"legendgroup\":\"kick\",\"line\":{\"color\":\"#00cc96\",\"dash\":\"solid\"},\"marker\":{\"symbol\":\"circle\"},\"mode\":\"lines\",\"name\":\"kick\",\"showlegend\":false,\"x\":[12.5,15.7,19.8,25.0,31.5,39.7,50.0,63.0,79.4,100.0,126.0,158.7,200.0,252.0,317.5,400.0,504.0,635.0,800.0,1007.9,1269.9,1600.0,2015.9,2539.8,3200.0,4031.7,5079.7,6400.0,8063.5,10159.4,12800.0],\"xaxis\":\"x\",\"y\":[-4.587860107421875,null,null,-4.174598693847656,-3.5802764892578125,null,-2.8954620361328125,-1.8538055419921875,-0.8945770263671875,-0.10186767578125,0.8461227416992188,1.4059982299804688,1.2819366455078125,0.0,-3.2813262939453125,-10.146827697753906,-17.447181701660156,-22.850086212158203,-31.578598022460938,-40.190330505371094,-39.3468017578125,-44.633079528808594,-50.472543716430664,-53.21313667297363,-55.47122573852539,-54.292837142944336,-52.7476806640625,-53.84451103210449,-52.90164756774902,-56.91560173034668,-55.23826789855957],\"yaxis\":\"y\",\"type\":\"scattergl\"},{\"hovertemplate\":\"class=kick<br>filename=248142__dpren__fat-kick.aiff<br>frequency=%{x}<br>level=%{y}<extra></extra>\",\"legendgroup\":\"kick\",\"line\":{\"color\":\"#00cc96\",\"dash\":\"solid\"},\"marker\":{\"symbol\":\"circle\"},\"mode\":\"lines\",\"name\":\"kick\",\"showlegend\":false,\"x\":[12.5,15.7,19.8,25.0,31.5,39.7,50.0,63.0,79.4,100.0,126.0,158.7,200.0,252.0,317.5,400.0,504.0,635.0,800.0,1007.9,1269.9,1600.0,2015.9,2539.8,3200.0,4031.7,5079.7,6400.0,8063.5,10159.4,12800.0],\"xaxis\":\"x\",\"y\":[-4.157600402832031,null,null,-3.8265228271484375,-3.3393402099609375,null,-2.7629547119140625,-1.856658935546875,-0.9981689453125,-0.2682342529296875,0.6290969848632812,1.1872940063476562,1.122161865234375,0.0,-2.9330291748046875,-9.209793090820312,-16.864418029785156,-17.136104583740234,-18.999603271484375,-21.46926498413086,-23.228195190429688,-26.802410125732422,-27.17153549194336,-28.783695220947266,-25.975601196289062,-25.76613998413086,-30.32270050048828,-28.423603057861328,-37.876644134521484,-41.1736946105957,-42.324737548828125],\"yaxis\":\"y\",\"type\":\"scattergl\"},{\"hovertemplate\":\"class=kick<br>filename=264601__veiler__kick-swedish.wav<br>frequency=%{x}<br>level=%{y}<extra></extra>\",\"legendgroup\":\"kick\",\"line\":{\"color\":\"#00cc96\",\"dash\":\"solid\"},\"marker\":{\"symbol\":\"circle\"},\"mode\":\"lines\",\"name\":\"kick\",\"showlegend\":false,\"x\":[12.5,15.7,19.8,25.0,31.5,39.7,50.0,63.0,79.4,100.0,126.0,158.7,200.0,252.0,317.5,400.0,504.0,635.0,800.0,1007.9,1269.9,1600.0,2015.9,2539.8,3200.0,4031.7,5079.7,6400.0,8063.5,10159.4,12800.0],\"xaxis\":\"x\",\"y\":[-1.7758941650390625,null,null,-1.6158447265625,-1.3692245483398438,null,-1.0605545043945312,-0.5371551513671875,-0.00811004638671875,0.4689788818359375,1.0705337524414062,1.4123306274414062,1.210845947265625,0.0,-3.0108184814453125,-9.671737670898438,-20.769710540771484,-27.415340423583984,-29.59061050415039,-29.424091339111328,-29.470767974853516,-28.419471740722656,-26.105995178222656,-26.017127990722656,-27.801273345947266,-28.447547912597656,-30.07339096069336,-37.056251525878906,-40.25806427001953,-46.46512985229492,-48.03706932067871],\"yaxis\":\"y\",\"type\":\"scattergl\"},{\"hovertemplate\":\"class=kick<br>filename=72985__zgump__kick-pack-0303.wav<br>frequency=%{x}<br>level=%{y}<extra></extra>\",\"legendgroup\":\"kick\",\"line\":{\"color\":\"#00cc96\",\"dash\":\"solid\"},\"marker\":{\"symbol\":\"circle\"},\"mode\":\"lines\",\"name\":\"kick\",\"showlegend\":false,\"x\":[12.5,15.7,19.8,25.0,31.5,39.7,50.0,63.0,79.4,100.0,126.0,158.7,200.0,252.0,317.5,400.0,504.0,635.0,800.0,1007.9,1269.9,1600.0,2015.9,2539.8,3200.0,4031.7,5079.7,6400.0,8063.5,10159.4,12800.0],\"xaxis\":\"x\",\"y\":[-4.199974060058594,null,null,-3.815948486328125,-3.2596588134765625,null,-2.6135330200195312,-1.6216888427734375,-0.7022552490234375,0.060791015625,0.9715423583984375,1.4963302612304688,1.3348388671875,0.0,-3.3670425415039062,-10.495201110839844,-19.31928253173828,-24.37356185913086,-25.019500732421875,-28.811012268066406,-31.1339111328125,-31.622467041015625,-41.889373779296875,-47.30495834350586,-57.04994201660156,-51.897090911865234,-56.928489685058594,-63.97911262512207,-69.01885223388672,-72.10887813568115,-77.8343710899353],\"yaxis\":\"y\",\"type\":\"scattergl\"},{\"hovertemplate\":\"class=kick<br>filename=171484__xicecoffeex__savannah-kick.wav<br>frequency=%{x}<br>level=%{y}<extra></extra>\",\"legendgroup\":\"kick\",\"line\":{\"color\":\"#00cc96\",\"dash\":\"solid\"},\"marker\":{\"symbol\":\"circle\"},\"mode\":\"lines\",\"name\":\"kick\",\"showlegend\":false,\"x\":[12.5,15.7,19.8,25.0,31.5,39.7,50.0,63.0,79.4,100.0,126.0,158.7,200.0,252.0,317.5,400.0,504.0,635.0,800.0,1007.9,1269.9,1600.0,2015.9,2539.8,3200.0,4031.7,5079.7,6400.0,8063.5,10159.4,12800.0],\"xaxis\":\"x\",\"y\":[-5.946647644042969,null,null,-5.3692626953125,-4.5729827880859375,null,-3.6955490112304688,-2.4259719848632812,-1.2999496459960938,-0.3972015380859375,0.6669235229492188,1.3067779541015625,1.2361068725585938,0.0,-3.2320785522460938,-10.197029113769531,-18.85687255859375,-20.37102508544922,-20.194419860839844,-25.068397521972656,-24.061908721923828,-18.635074615478516,-17.896636962890625,-14.478202819824219,-11.829803466796875,-13.326160430908203,-17.873947143554688,-22.780380249023438,-24.350582122802734,-28.54171371459961,-33.72201919555664],\"yaxis\":\"y\",\"type\":\"scattergl\"},{\"hovertemplate\":\"class=kick<br>filename=131336__kaonaya__kick-hiphop-1.wav<br>frequency=%{x}<br>level=%{y}<extra></extra>\",\"legendgroup\":\"kick\",\"line\":{\"color\":\"#00cc96\",\"dash\":\"solid\"},\"marker\":{\"symbol\":\"circle\"},\"mode\":\"lines\",\"name\":\"kick\",\"showlegend\":false,\"x\":[12.5,15.7,19.8,25.0,31.5,39.7,50.0,63.0,79.4,100.0,126.0,158.7,200.0,252.0,317.5,400.0,504.0,635.0,800.0,1007.9,1269.9,1600.0,2015.9,2539.8,3200.0,4031.7,5079.7,6400.0,8063.5,10159.4,12800.0],\"xaxis\":\"x\",\"y\":[-4.019081115722656,null,null,-3.7175827026367188,-3.2699813842773438,null,-2.7347259521484375,-1.8810348510742188,-1.0618820190429688,-0.35541534423828125,0.5266876220703125,1.0930252075195312,1.0612716674804688,0.0,-2.8793716430664062,-9.550437927246094,-22.712955474853516,-32.762298583984375,-40.7271728515625,-47.07904052734375,-52.89950942993164,-55.13092231750488,-59.802913665771484,-64.91387939453125,-65.27515411376953,-67.70453357696533,-69.00790214538574,-73.65233898162842,-75.65518712997437,-77.19779777526855,-78.74267292022705],\"yaxis\":\"y\",\"type\":\"scattergl\"},{\"hovertemplate\":\"class=kick<br>filename=132582__rob10__kick-drum-c-1.wav<br>frequency=%{x}<br>level=%{y}<extra></extra>\",\"legendgroup\":\"kick\",\"line\":{\"color\":\"#00cc96\",\"dash\":\"solid\"},\"marker\":{\"symbol\":\"circle\"},\"mode\":\"lines\",\"name\":\"kick\",\"showlegend\":false,\"x\":[12.5,15.7,19.8,25.0,31.5,39.7,50.0,63.0,79.4,100.0,126.0,158.7,200.0,252.0,317.5,400.0,504.0,635.0,800.0,1007.9,1269.9,1600.0,2015.9,2539.8,3200.0,4031.7,5079.7,6400.0,8063.5,10159.4,12800.0],\"xaxis\":\"x\",\"y\":[-3.873565673828125,null,null,-3.497833251953125,-2.9527206420898438,null,-2.3185806274414062,-1.3438644409179688,-0.440216064453125,0.30797576904296875,1.193145751953125,1.6815185546875,1.460723876953125,0.0,-3.69488525390625,-12.146934509277344,-21.232139587402344,-29.33599090576172,-37.2629508972168,-44.35366439819336,-51.40633773803711,-57.29289245605469,-63.0162992477417,-68.56175422668457,-73.12293577194214,-76.45265312492847,-76.56280517578125,-76.56280517578125,-76.56280517578125,-76.56280517578125,-76.56280517578125],\"yaxis\":\"y\",\"type\":\"scattergl\"},{\"hovertemplate\":\"class=kick<br>filename=324153__scale75__semiq_kicks_4.wav<br>frequency=%{x}<br>level=%{y}<extra></extra>\",\"legendgroup\":\"kick\",\"line\":{\"color\":\"#00cc96\",\"dash\":\"solid\"},\"marker\":{\"symbol\":\"circle\"},\"mode\":\"lines\",\"name\":\"kick\",\"showlegend\":false,\"x\":[12.5,15.7,19.8,25.0,31.5,39.7,50.0,63.0,79.4,100.0,126.0,158.7,200.0,252.0,317.5,400.0,504.0,635.0,800.0,1007.9,1269.9,1600.0,2015.9,2539.8,3200.0,4031.7,5079.7,6400.0,8063.5,10159.4,12800.0],\"xaxis\":\"x\",\"y\":[-4.344390869140625,null,null,-3.9707870483398438,-3.4278335571289062,null,-2.7947616577148438,-1.8179702758789062,-0.9080886840820312,-0.148284912109375,0.7674560546875,1.313385009765625,1.2024154663085938,0.0,-2.9541778564453125,-8.233665466308594,-13.457069396972656,-18.64936065673828,-23.64257049560547,-27.456600189208984,-30.30951690673828,-32.812232971191406,-35.22025680541992,-37.93471145629883,-40.81803512573242,-43.72575378417969,-49.76676940917969,-51.7039909362793,-56.83530044555664,-64.51558589935303,-73.86337661743164],\"yaxis\":\"y\",\"type\":\"scattergl\"},{\"hovertemplate\":\"class=kick<br>filename=171104__dwsd__kick_gettinglaid.wav<br>frequency=%{x}<br>level=%{y}<extra></extra>\",\"legendgroup\":\"kick\",\"line\":{\"color\":\"#00cc96\",\"dash\":\"solid\"},\"marker\":{\"symbol\":\"circle\"},\"mode\":\"lines\",\"name\":\"kick\",\"showlegend\":false,\"x\":[12.5,15.7,19.8,25.0,31.5,39.7,50.0,63.0,79.4,100.0,126.0,158.7,200.0,252.0,317.5,400.0,504.0,635.0,800.0,1007.9,1269.9,1600.0,2015.9,2539.8,3200.0,4031.7,5079.7,6400.0,8063.5,10159.4,12800.0],\"xaxis\":\"x\",\"y\":[-3.1130142211914062,null,null,-2.8622283935546875,-2.485260009765625,null,-2.0278396606445312,-1.2848358154296875,-0.5618515014648438,0.06732177734375,0.8478546142578125,1.3173599243164062,1.186492919921875,0.0,-3.0224838256835938,-9.545791625976562,-19.527862548828125,-30.01763153076172,-36.122764587402344,-40.399234771728516,-43.20238494873047,-39.42091751098633,-38.895362854003906,-38.24486541748047,-37.68360900878906,-38.522132873535156,-39.721336364746094,-47.00137710571289,-47.41279602050781,-41.658546447753906,-41.94771194458008],\"yaxis\":\"y\",\"type\":\"scattergl\"},{\"hovertemplate\":\"class=cymbal<br>filename=207956__altemark__cymbal.wav<br>frequency=%{x}<br>level=%{y}<extra></extra>\",\"legendgroup\":\"cymbal\",\"line\":{\"color\":\"#ab63fa\",\"dash\":\"solid\"},\"marker\":{\"symbol\":\"circle\"},\"mode\":\"lines\",\"name\":\"cymbal\",\"showlegend\":true,\"x\":[12.5,15.7,19.8,25.0,31.5,39.7,50.0,63.0,79.4,100.0,126.0,158.7,200.0,252.0,317.5,400.0,504.0,635.0,800.0,1007.9,1269.9,1600.0,2015.9,2539.8,3200.0,4031.7,5079.7,6400.0,8063.5,10159.4,12800.0],\"xaxis\":\"x\",\"y\":[-9.020923614501953,null,null,-8.93740463256836,-8.79745101928711,null,-8.600379943847656,-8.190631866455078,-7.670448303222656,-7.026283264160156,-5.768310546875,-4.103584289550781,-2.174976348876953,0.0,1.995574951171875,3.4330291748046875,3.640064239501953,2.585071563720703,4.953449249267578,3.954883575439453,4.630359649658203,4.136096954345703,4.785606384277344,1.8925514221191406,1.1970939636230469,-0.4395408630371094,3.3108596801757812,6.414173126220703,3.9581222534179688,-4.000324249267578,-7.552684783935547],\"yaxis\":\"y\",\"type\":\"scattergl\"},{\"hovertemplate\":\"class=cymbal<br>filename=23543__loofa__brushd-china-cymbal02.aiff<br>frequency=%{x}<br>level=%{y}<extra></extra>\",\"legendgroup\":\"cymbal\",\"line\":{\"color\":\"#ab63fa\",\"dash\":\"solid\"},\"marker\":{\"symbol\":\"circle\"},\"mode\":\"lines\",\"name\":\"cymbal\",\"showlegend\":false,\"x\":[12.5,15.7,19.8,25.0,31.5,39.7,50.0,63.0,79.4,100.0,126.0,158.7,200.0,252.0,317.5,400.0,504.0,635.0,800.0,1007.9,1269.9,1600.0,2015.9,2539.8,3200.0,4031.7,5079.7,6400.0,8063.5,10159.4,12800.0],\"xaxis\":\"x\",\"y\":[-2.795429229736328,null,null,-2.775482177734375,-2.7425003051757812,null,-2.6968421936035156,-2.6042747497558594,-2.489124298095703,-2.3480796813964844,-2.0662307739257812,-1.6550521850585938,-1.0488052368164062,0.0,1.699554443359375,3.9311752319335938,5.513767242431641,5.662631988525391,9.229747772216797,12.34402084350586,7.980342864990234,2.661273956298828,-0.9305419921875,-5.160953521728516,-7.245277404785156,-7.654918670654297,-6.674079895019531,-8.019142150878906,-12.64022445678711,-10.69085693359375,-14.07558822631836],\"yaxis\":\"y\",\"type\":\"scattergl\"},{\"hovertemplate\":\"class=cymbal<br>filename=587935__strangehorizon__cymbal_ride.wav<br>frequency=%{x}<br>level=%{y}<extra></extra>\",\"legendgroup\":\"cymbal\",\"line\":{\"color\":\"#ab63fa\",\"dash\":\"solid\"},\"marker\":{\"symbol\":\"circle\"},\"mode\":\"lines\",\"name\":\"cymbal\",\"showlegend\":false,\"x\":[12.5,15.7,19.8,25.0,31.5,39.7,50.0,63.0,79.4,100.0,126.0,158.7,200.0,252.0,317.5,400.0,504.0,635.0,800.0,1007.9,1269.9,1600.0,2015.9,2539.8,3200.0,4031.7,5079.7,6400.0,8063.5,10159.4,12800.0],\"xaxis\":\"x\",\"y\":[0.24443435668945312,null,null,0.21097183227539062,0.15646743774414062,null,0.08279800415039062,-0.058856964111328125,-0.22204208374023438,-0.3935813903808594,-0.6368484497070312,-0.7581977844238281,-0.5624313354492188,0.0,0.5695724487304688,2.096088409423828,8.124408721923828,14.241439819335938,17.19613265991211,18.120197296142578,18.884197235107422,20.628803253173828,9.746036529541016,10.423667907714844,9.357242584228516,10.14764404296875,13.043220520019531,13.25469970703125,11.352909088134766,8.04290771484375,6.8632354736328125],\"yaxis\":\"y\",\"type\":\"scattergl\"},{\"hovertemplate\":\"class=cymbal<br>filename=149480__pjcohen__ottaviano22ridecymbal2500gwash.wav<br>frequency=%{x}<br>level=%{y}<extra></extra>\",\"legendgroup\":\"cymbal\",\"line\":{\"color\":\"#ab63fa\",\"dash\":\"solid\"},\"marker\":{\"symbol\":\"circle\"},\"mode\":\"lines\",\"name\":\"cymbal\",\"showlegend\":false,\"x\":[12.5,15.7,19.8,25.0,31.5,39.7,50.0,63.0,79.4,100.0,126.0,158.7,200.0,252.0,317.5,400.0,504.0,635.0,800.0,1007.9,1269.9,1600.0,2015.9,2539.8,3200.0,4031.7,5079.7,6400.0,8063.5,10159.4,12800.0],\"xaxis\":\"x\",\"y\":[-10.78085708618164,null,null,-10.687297821044922,-10.52517318725586,null,-10.287338256835938,-9.765239715576172,-9.076351165771484,-8.20583724975586,-6.533535003662109,-4.4417877197265625,-2.226470947265625,0.0,1.6695785522460938,2.1305999755859375,0.1453857421875,-5.140216827392578,-8.865554809570312,-10.454597473144531,-8.548995971679688,-10.56570053100586,-10.242179870605469,-5.69915771484375,-9.112678527832031,-9.913322448730469,-10.990192413330078,-12.881874084472656,-13.47488021850586,-16.19940948486328,-22.329692840576172],\"yaxis\":\"y\",\"type\":\"scattergl\"},{\"hovertemplate\":\"class=cymbal<br>filename=121097__thirsk__cymbal.wav<br>frequency=%{x}<br>level=%{y}<extra></extra>\",\"legendgroup\":\"cymbal\",\"line\":{\"color\":\"#ab63fa\",\"dash\":\"solid\"},\"marker\":{\"symbol\":\"circle\"},\"mode\":\"lines\",\"name\":\"cymbal\",\"showlegend\":false,\"x\":[12.5,15.7,19.8,25.0,31.5,39.7,50.0,63.0,79.4,100.0,126.0,158.7,200.0,252.0,317.5,400.0,504.0,635.0,800.0,1007.9,1269.9,1600.0,2015.9,2539.8,3200.0,4031.7,5079.7,6400.0,8063.5,10159.4,12800.0],\"xaxis\":\"x\",\"y\":[-5.771053314208984,null,null,-5.625385284423828,-5.39666748046875,null,-5.102527618408203,-4.578037261962891,-4.012844085693359,-3.4442405700683594,-2.561260223388672,-1.6506767272949219,-0.8042488098144531,0.0,0.5392265319824219,0.2886466979980469,-1.4582366943359375,-2.429126739501953,-0.7163581848144531,1.116546630859375,1.4911155700683594,-5.291431427001953,-5.601779937744141,-2.511890411376953,-6.163890838623047,2.739154815673828,2.290668487548828,4.395221710205078,-1.8260650634765625,6.860038757324219,-2.6042404174804688],\"yaxis\":\"y\",\"type\":\"scattergl\"},{\"hovertemplate\":\"class=cymbal<br>filename=154718__mistorcaveman__cymbal_9_1-2.aiff<br>frequency=%{x}<br>level=%{y}<extra></extra>\",\"legendgroup\":\"cymbal\",\"line\":{\"color\":\"#ab63fa\",\"dash\":\"solid\"},\"marker\":{\"symbol\":\"circle\"},\"mode\":\"lines\",\"name\":\"cymbal\",\"showlegend\":false,\"x\":[12.5,15.7,19.8,25.0,31.5,39.7,50.0,63.0,79.4,100.0,126.0,158.7,200.0,252.0,317.5,400.0,504.0,635.0,800.0,1007.9,1269.9,1600.0,2015.9,2539.8,3200.0,4031.7,5079.7,6400.0,8063.5,10159.4,12800.0],\"xaxis\":\"x\",\"y\":[-6.26763916015625,null,null,-6.296661376953125,-6.343410491943359,null,-6.4051361083984375,-6.514995574951172,-6.621303558349609,-6.673213958740234,-6.459804534912109,-5.4273223876953125,-3.2010459899902344,0.0,3.088817596435547,5.152362823486328,4.823940277099609,-0.5492591857910156,-9.444351196289062,-13.176750183105469,-13.333797454833984,-13.617328643798828,-10.298248291015625,-10.609199523925781,-14.758975982666016,-11.50827407836914,-18.82052230834961,-22.421371459960938,-18.460567474365234,-19.171005249023438,-26.964092254638672],\"yaxis\":\"y\",\"type\":\"scattergl\"},{\"hovertemplate\":\"class=cymbal<br>filename=13243__ianhall__chinese-cymbal.aiff<br>frequency=%{x}<br>level=%{y}<extra></extra>\",\"legendgroup\":\"cymbal\",\"line\":{\"color\":\"#ab63fa\",\"dash\":\"solid\"},\"marker\":{\"symbol\":\"circle\"},\"mode\":\"lines\",\"name\":\"cymbal\",\"showlegend\":false,\"x\":[12.5,15.7,19.8,25.0,31.5,39.7,50.0,63.0,79.4,100.0,126.0,158.7,200.0,252.0,317.5,400.0,504.0,635.0,800.0,1007.9,1269.9,1600.0,2015.9,2539.8,3200.0,4031.7,5079.7,6400.0,8063.5,10159.4,12800.0],\"xaxis\":\"x\",\"y\":[0.5896987915039062,null,null,0.5683059692382812,0.5336532592773438,null,0.4872169494628906,0.3992271423339844,0.2994842529296875,0.19642257690429688,0.04852294921875,-0.051349639892578125,-0.0471649169921875,0.0,-0.21439743041992188,-1.188140869140625,-2.9385147094726562,-2.7993087768554688,0.36667633056640625,8.910667419433594,20.932315826416016,21.813079833984375,18.253551483154297,20.219722747802734,20.49956512451172,20.326396942138672,19.296138763427734,15.10693359375,7.977073669433594,3.263671875,2.3628082275390625],\"yaxis\":\"y\",\"type\":\"scattergl\"},{\"hovertemplate\":\"class=cymbal<br>filename=136448__zagorius_mpc__chinese-cymbal-46_2.wav<br>frequency=%{x}<br>level=%{y}<extra></extra>\",\"legendgroup\":\"cymbal\",\"line\":{\"color\":\"#ab63fa\",\"dash\":\"solid\"},\"marker\":{\"symbol\":\"circle\"},\"mode\":\"lines\",\"name\":\"cymbal\",\"showlegend\":false,\"x\":[12.5,15.7,19.8,25.0,31.5,39.7,50.0,63.0,79.4,100.0,126.0,158.7,200.0,252.0,317.5,400.0,504.0,635.0,800.0,1007.9,1269.9,1600.0,2015.9,2539.8,3200.0,4031.7,5079.7,6400.0,8063.5,10159.4,12800.0],\"xaxis\":\"x\",\"y\":[-2.539794921875,null,null,-2.436737060546875,-2.2738189697265625,null,-2.0626144409179688,-1.6827850341796875,-1.272796630859375,-0.8667526245117188,-0.27587127685546875,0.2157745361328125,0.4004058837890625,0.0,-1.4262466430664062,-4.274204254150391,-6.849632263183594,-5.143909454345703,1.3704681396484375,6.76983642578125,10.739997863769531,7.973350524902344,6.072456359863281,4.793006896972656,3.154632568359375,1.546051025390625,-4.714962005615234,-8.08858871459961,-15.270336151123047,-21.82195281982422,-33.77290725708008],\"yaxis\":\"y\",\"type\":\"scattergl\"},{\"hovertemplate\":\"class=cymbal<br>filename=102794__mhc__acoustic_ride_cymbal2.wav<br>frequency=%{x}<br>level=%{y}<extra></extra>\",\"legendgroup\":\"cymbal\",\"line\":{\"color\":\"#ab63fa\",\"dash\":\"solid\"},\"marker\":{\"symbol\":\"circle\"},\"mode\":\"lines\",\"name\":\"cymbal\",\"showlegend\":false,\"x\":[12.5,15.7,19.8,25.0,31.5,39.7,50.0,63.0,79.4,100.0,126.0,158.7,200.0,252.0,317.5,400.0,504.0,635.0,800.0,1007.9,1269.9,1600.0,2015.9,2539.8,3200.0,4031.7,5079.7,6400.0,8063.5,10159.4,12800.0],\"xaxis\":\"x\",\"y\":[1.1046829223632812,null,null,1.032501220703125,0.9134483337402344,null,0.7495231628417969,0.422149658203125,0.025760650634765625,-0.4288177490234375,-1.1896247863769531,-1.8408660888671875,-1.7650833129882812,0.0,4.389560699462891,10.570449829101562,16.134262084960938,19.167015075683594,17.80181884765625,9.659812927246094,5.295482635498047,3.2700576782226562,-4.846351623535156,-0.044422149658203125,-0.9037094116210938,2.317188262939453,3.3865394592285156,8.251907348632812,6.677417755126953,3.7477073669433594,-2.9384689331054688],\"yaxis\":\"y\",\"type\":\"scattergl\"},{\"hovertemplate\":\"class=cymbal<br>filename=154712__mistorcaveman__cymbal_7_1-2.aiff<br>frequency=%{x}<br>level=%{y}<extra></extra>\",\"legendgroup\":\"cymbal\",\"line\":{\"color\":\"#ab63fa\",\"dash\":\"solid\"},\"marker\":{\"symbol\":\"circle\"},\"mode\":\"lines\",\"name\":\"cymbal\",\"showlegend\":false,\"x\":[12.5,15.7,19.8,25.0,31.5,39.7,50.0,63.0,79.4,100.0,126.0,158.7,200.0,252.0,317.5,400.0,504.0,635.0,800.0,1007.9,1269.9,1600.0,2015.9,2539.8,3200.0,4031.7,5079.7,6400.0,8063.5,10159.4,12800.0],\"xaxis\":\"x\",\"y\":[-4.258277893066406,null,null,-4.186180114746094,-4.073680877685547,null,-3.9306907653808594,-3.683208465576172,-3.4284896850585938,-3.1922645568847656,-2.856739044189453,-2.4679603576660156,-1.7186012268066406,0.0,2.3911819458007812,4.100105285644531,3.2784385681152344,0.9144477844238281,1.7388877868652344,-2.5675010681152344,-5.257671356201172,-4.734394073486328,-9.521968841552734,0.3247108459472656,-0.7251777648925781,1.5798377990722656,-1.11114501953125,-0.5951271057128906,5.896175384521484,8.666751861572266,-0.4440727233886719],\"yaxis\":\"y\",\"type\":\"scattergl\"}],                        {\"template\":{\"data\":{\"histogram2dcontour\":[{\"type\":\"histogram2dcontour\",\"colorbar\":{\"outlinewidth\":0,\"ticks\":\"\"},\"colorscale\":[[0.0,\"#0d0887\"],[0.1111111111111111,\"#46039f\"],[0.2222222222222222,\"#7201a8\"],[0.3333333333333333,\"#9c179e\"],[0.4444444444444444,\"#bd3786\"],[0.5555555555555556,\"#d8576b\"],[0.6666666666666666,\"#ed7953\"],[0.7777777777777778,\"#fb9f3a\"],[0.8888888888888888,\"#fdca26\"],[1.0,\"#f0f921\"]]}],\"choropleth\":[{\"type\":\"choropleth\",\"colorbar\":{\"outlinewidth\":0,\"ticks\":\"\"}}],\"histogram2d\":[{\"type\":\"histogram2d\",\"colorbar\":{\"outlinewidth\":0,\"ticks\":\"\"},\"colorscale\":[[0.0,\"#0d0887\"],[0.1111111111111111,\"#46039f\"],[0.2222222222222222,\"#7201a8\"],[0.3333333333333333,\"#9c179e\"],[0.4444444444444444,\"#bd3786\"],[0.5555555555555556,\"#d8576b\"],[0.6666666666666666,\"#ed7953\"],[0.7777777777777778,\"#fb9f3a\"],[0.8888888888888888,\"#fdca26\"],[1.0,\"#f0f921\"]]}],\"heatmap\":[{\"type\":\"heatmap\",\"colorbar\":{\"outlinewidth\":0,\"ticks\":\"\"},\"colorscale\":[[0.0,\"#0d0887\"],[0.1111111111111111,\"#46039f\"],[0.2222222222222222,\"#7201a8\"],[0.3333333333333333,\"#9c179e\"],[0.4444444444444444,\"#bd3786\"],[0.5555555555555556,\"#d8576b\"],[0.6666666666666666,\"#ed7953\"],[0.7777777777777778,\"#fb9f3a\"],[0.8888888888888888,\"#fdca26\"],[1.0,\"#f0f921\"]]}],\"heatmapgl\":[{\"type\":\"heatmapgl\",\"colorbar\":{\"outlinewidth\":0,\"ticks\":\"\"},\"colorscale\":[[0.0,\"#0d0887\"],[0.1111111111111111,\"#46039f\"],[0.2222222222222222,\"#7201a8\"],[0.3333333333333333,\"#9c179e\"],[0.4444444444444444,\"#bd3786\"],[0.5555555555555556,\"#d8576b\"],[0.6666666666666666,\"#ed7953\"],[0.7777777777777778,\"#fb9f3a\"],[0.8888888888888888,\"#fdca26\"],[1.0,\"#f0f921\"]]}],\"contourcarpet\":[{\"type\":\"contourcarpet\",\"colorbar\":{\"outlinewidth\":0,\"ticks\":\"\"}}],\"contour\":[{\"type\":\"contour\",\"colorbar\":{\"outlinewidth\":0,\"ticks\":\"\"},\"colorscale\":[[0.0,\"#0d0887\"],[0.1111111111111111,\"#46039f\"],[0.2222222222222222,\"#7201a8\"],[0.3333333333333333,\"#9c179e\"],[0.4444444444444444,\"#bd3786\"],[0.5555555555555556,\"#d8576b\"],[0.6666666666666666,\"#ed7953\"],[0.7777777777777778,\"#fb9f3a\"],[0.8888888888888888,\"#fdca26\"],[1.0,\"#f0f921\"]]}],\"surface\":[{\"type\":\"surface\",\"colorbar\":{\"outlinewidth\":0,\"ticks\":\"\"},\"colorscale\":[[0.0,\"#0d0887\"],[0.1111111111111111,\"#46039f\"],[0.2222222222222222,\"#7201a8\"],[0.3333333333333333,\"#9c179e\"],[0.4444444444444444,\"#bd3786\"],[0.5555555555555556,\"#d8576b\"],[0.6666666666666666,\"#ed7953\"],[0.7777777777777778,\"#fb9f3a\"],[0.8888888888888888,\"#fdca26\"],[1.0,\"#f0f921\"]]}],\"mesh3d\":[{\"type\":\"mesh3d\",\"colorbar\":{\"outlinewidth\":0,\"ticks\":\"\"}}],\"scatter\":[{\"fillpattern\":{\"fillmode\":\"overlay\",\"size\":10,\"solidity\":0.2},\"type\":\"scatter\"}],\"parcoords\":[{\"type\":\"parcoords\",\"line\":{\"colorbar\":{\"outlinewidth\":0,\"ticks\":\"\"}}}],\"scatterpolargl\":[{\"type\":\"scatterpolargl\",\"marker\":{\"colorbar\":{\"outlinewidth\":0,\"ticks\":\"\"}}}],\"bar\":[{\"error_x\":{\"color\":\"#2a3f5f\"},\"error_y\":{\"color\":\"#2a3f5f\"},\"marker\":{\"line\":{\"color\":\"#E5ECF6\",\"width\":0.5},\"pattern\":{\"fillmode\":\"overlay\",\"size\":10,\"solidity\":0.2}},\"type\":\"bar\"}],\"scattergeo\":[{\"type\":\"scattergeo\",\"marker\":{\"colorbar\":{\"outlinewidth\":0,\"ticks\":\"\"}}}],\"scatterpolar\":[{\"type\":\"scatterpolar\",\"marker\":{\"colorbar\":{\"outlinewidth\":0,\"ticks\":\"\"}}}],\"histogram\":[{\"marker\":{\"pattern\":{\"fillmode\":\"overlay\",\"size\":10,\"solidity\":0.2}},\"type\":\"histogram\"}],\"scattergl\":[{\"type\":\"scattergl\",\"marker\":{\"colorbar\":{\"outlinewidth\":0,\"ticks\":\"\"}}}],\"scatter3d\":[{\"type\":\"scatter3d\",\"line\":{\"colorbar\":{\"outlinewidth\":0,\"ticks\":\"\"}},\"marker\":{\"colorbar\":{\"outlinewidth\":0,\"ticks\":\"\"}}}],\"scattermapbox\":[{\"type\":\"scattermapbox\",\"marker\":{\"colorbar\":{\"outlinewidth\":0,\"ticks\":\"\"}}}],\"scatterternary\":[{\"type\":\"scatterternary\",\"marker\":{\"colorbar\":{\"outlinewidth\":0,\"ticks\":\"\"}}}],\"scattercarpet\":[{\"type\":\"scattercarpet\",\"marker\":{\"colorbar\":{\"outlinewidth\":0,\"ticks\":\"\"}}}],\"carpet\":[{\"aaxis\":{\"endlinecolor\":\"#2a3f5f\",\"gridcolor\":\"white\",\"linecolor\":\"white\",\"minorgridcolor\":\"white\",\"startlinecolor\":\"#2a3f5f\"},\"baxis\":{\"endlinecolor\":\"#2a3f5f\",\"gridcolor\":\"white\",\"linecolor\":\"white\",\"minorgridcolor\":\"white\",\"startlinecolor\":\"#2a3f5f\"},\"type\":\"carpet\"}],\"table\":[{\"cells\":{\"fill\":{\"color\":\"#EBF0F8\"},\"line\":{\"color\":\"white\"}},\"header\":{\"fill\":{\"color\":\"#C8D4E3\"},\"line\":{\"color\":\"white\"}},\"type\":\"table\"}],\"barpolar\":[{\"marker\":{\"line\":{\"color\":\"#E5ECF6\",\"width\":0.5},\"pattern\":{\"fillmode\":\"overlay\",\"size\":10,\"solidity\":0.2}},\"type\":\"barpolar\"}],\"pie\":[{\"automargin\":true,\"type\":\"pie\"}]},\"layout\":{\"autotypenumbers\":\"strict\",\"colorway\":[\"#636efa\",\"#EF553B\",\"#00cc96\",\"#ab63fa\",\"#FFA15A\",\"#19d3f3\",\"#FF6692\",\"#B6E880\",\"#FF97FF\",\"#FECB52\"],\"font\":{\"color\":\"#2a3f5f\"},\"hovermode\":\"closest\",\"hoverlabel\":{\"align\":\"left\"},\"paper_bgcolor\":\"white\",\"plot_bgcolor\":\"#E5ECF6\",\"polar\":{\"bgcolor\":\"#E5ECF6\",\"angularaxis\":{\"gridcolor\":\"white\",\"linecolor\":\"white\",\"ticks\":\"\"},\"radialaxis\":{\"gridcolor\":\"white\",\"linecolor\":\"white\",\"ticks\":\"\"}},\"ternary\":{\"bgcolor\":\"#E5ECF6\",\"aaxis\":{\"gridcolor\":\"white\",\"linecolor\":\"white\",\"ticks\":\"\"},\"baxis\":{\"gridcolor\":\"white\",\"linecolor\":\"white\",\"ticks\":\"\"},\"caxis\":{\"gridcolor\":\"white\",\"linecolor\":\"white\",\"ticks\":\"\"}},\"coloraxis\":{\"colorbar\":{\"outlinewidth\":0,\"ticks\":\"\"}},\"colorscale\":{\"sequential\":[[0.0,\"#0d0887\"],[0.1111111111111111,\"#46039f\"],[0.2222222222222222,\"#7201a8\"],[0.3333333333333333,\"#9c179e\"],[0.4444444444444444,\"#bd3786\"],[0.5555555555555556,\"#d8576b\"],[0.6666666666666666,\"#ed7953\"],[0.7777777777777778,\"#fb9f3a\"],[0.8888888888888888,\"#fdca26\"],[1.0,\"#f0f921\"]],\"sequentialminus\":[[0.0,\"#0d0887\"],[0.1111111111111111,\"#46039f\"],[0.2222222222222222,\"#7201a8\"],[0.3333333333333333,\"#9c179e\"],[0.4444444444444444,\"#bd3786\"],[0.5555555555555556,\"#d8576b\"],[0.6666666666666666,\"#ed7953\"],[0.7777777777777778,\"#fb9f3a\"],[0.8888888888888888,\"#fdca26\"],[1.0,\"#f0f921\"]],\"diverging\":[[0,\"#8e0152\"],[0.1,\"#c51b7d\"],[0.2,\"#de77ae\"],[0.3,\"#f1b6da\"],[0.4,\"#fde0ef\"],[0.5,\"#f7f7f7\"],[0.6,\"#e6f5d0\"],[0.7,\"#b8e186\"],[0.8,\"#7fbc41\"],[0.9,\"#4d9221\"],[1,\"#276419\"]]},\"xaxis\":{\"gridcolor\":\"white\",\"linecolor\":\"white\",\"ticks\":\"\",\"title\":{\"standoff\":15},\"zerolinecolor\":\"white\",\"automargin\":true,\"zerolinewidth\":2},\"yaxis\":{\"gridcolor\":\"white\",\"linecolor\":\"white\",\"ticks\":\"\",\"title\":{\"standoff\":15},\"zerolinecolor\":\"white\",\"automargin\":true,\"zerolinewidth\":2},\"scene\":{\"xaxis\":{\"backgroundcolor\":\"#E5ECF6\",\"gridcolor\":\"white\",\"linecolor\":\"white\",\"showbackground\":true,\"ticks\":\"\",\"zerolinecolor\":\"white\",\"gridwidth\":2},\"yaxis\":{\"backgroundcolor\":\"#E5ECF6\",\"gridcolor\":\"white\",\"linecolor\":\"white\",\"showbackground\":true,\"ticks\":\"\",\"zerolinecolor\":\"white\",\"gridwidth\":2},\"zaxis\":{\"backgroundcolor\":\"#E5ECF6\",\"gridcolor\":\"white\",\"linecolor\":\"white\",\"showbackground\":true,\"ticks\":\"\",\"zerolinecolor\":\"white\",\"gridwidth\":2}},\"shapedefaults\":{\"line\":{\"color\":\"#2a3f5f\"}},\"annotationdefaults\":{\"arrowcolor\":\"#2a3f5f\",\"arrowhead\":0,\"arrowwidth\":1},\"geo\":{\"bgcolor\":\"white\",\"landcolor\":\"#E5ECF6\",\"subunitcolor\":\"white\",\"showland\":true,\"showlakes\":true,\"lakecolor\":\"white\"},\"title\":{\"x\":0.05},\"mapbox\":{\"style\":\"light\"}}},\"xaxis\":{\"anchor\":\"y\",\"domain\":[0.0,1.0],\"title\":{\"text\":\"frequency\"},\"type\":\"log\",\"range\":[1.3010299956639813,4.301029995663981]},\"yaxis\":{\"anchor\":\"x\",\"domain\":[0.0,1.0],\"title\":{\"text\":\"level\"},\"range\":[null,null]},\"legend\":{\"title\":{\"text\":\"class\"},\"tracegroupgap\":0},\"margin\":{\"t\":60},\"height\":500,\"width\":1500},                        {\"responsive\": true}                    ).then(function(){\n",
       "                            \n",
       "var gd = document.getElementById('95b7a197-b6f5-4fca-b0ca-51226fcdffb1');\n",
       "var x = new MutationObserver(function (mutations, observer) {{\n",
       "        var display = window.getComputedStyle(gd).display;\n",
       "        if (!display || display === 'none') {{\n",
       "            console.log([gd, 'removed!']);\n",
       "            Plotly.purge(gd);\n",
       "            observer.disconnect();\n",
       "        }}\n",
       "}});\n",
       "\n",
       "// Listen for the removal of the full notebook cells\n",
       "var notebookContainer = gd.closest('#notebook-container');\n",
       "if (notebookContainer) {{\n",
       "    x.observe(notebookContainer, {childList: true});\n",
       "}}\n",
       "\n",
       "// Listen for the clearing of the current output cell\n",
       "var outputEl = gd.closest('.output');\n",
       "if (outputEl) {{\n",
       "    x.observe(outputEl, {childList: true});\n",
       "}}\n",
       "\n",
       "                        })                };                });            </script>        </div>"
      ]
     },
     "metadata": {},
     "output_type": "display_data"
    }
   ],
   "source": [
    "\n",
    "def plot_spectrums(samples, column='normalized_third_oct_spectrum'):\n",
    "\n",
    "    samples_spectrum = to_long(samples, column=column, var_name='frequency')\n",
    "\n",
    "    #print(samples_spectrum)\n",
    "    \n",
    "    values = samples_spectrum['level'].values\n",
    "    y_max = numpy.quantile(values, q=0.99) + 10\n",
    "    y_min = numpy.quantile(values, q=0.01) - 10\n",
    "    \n",
    "    fig = plotly.express.line(samples_spectrum, x='frequency', y='level', line_group='filename', color='class', height=500, width=1500, log_x=True)\n",
    "    fig.update_layout(yaxis_range=[y_min, y_max])\n",
    "    fig.update_layout(xaxis_range=[numpy.log10(20), numpy.log10(20000)])\n",
    "    return fig\n",
    "    \n",
    "fig = plot_spectrums(samples, column='normalized_third_oct_spectrum')\n",
    "fig"
   ]
  },
  {
   "cell_type": "code",
   "execution_count": 432,
   "id": "1fe2f6c6-5d47-4474-aa57-05c025d619e5",
   "metadata": {
    "tags": []
   },
   "outputs": [],
   "source": [
    "def soundlevel_value(soundlevels, t=0.250):\n",
    "    idx = find_nearest(soundlevels.index, t)\n",
    "    val = soundlevels.loc[idx]\n",
    "    return val\n",
    "\n",
    "samples['soundlevel_dropoff'] = samples['soundlevel'].apply(soundlevel_value, t=0.400) * -1.0\n"
   ]
  },
  {
   "cell_type": "code",
   "execution_count": 436,
   "id": "04be98f9-5df9-46dc-98f7-1a559256b289",
   "metadata": {
    "tags": []
   },
   "outputs": [
    {
     "data": {
      "application/vnd.plotly.v1+json": {
       "config": {
        "plotlyServerURL": "https://plot.ly"
       },
       "data": [
        {
         "customdata": [
          [
           "556184__soothsayer_orchestra__hihatt-closed.wav"
          ],
          [
           "634822__collinb1000__closed7.wav"
          ],
          [
           "140516__stomachache__closedhatphrase-002.wav"
          ],
          [
           "102781__mhc__acoustic_closed_hihat2.wav"
          ],
          [
           "634822__collinb1000__closed7(1).wav"
          ],
          [
           "669733__jannevse__hi-hat_closed_po-12.aiff"
          ],
          [
           "13246__ianhall__hihat-closed.aiff"
          ],
          [
           "45058__matiasreccius__hihat_closed4.wav"
          ]
         ],
         "hovertemplate": "<b>%{hovertext}</b><br><br>class=closed_hihat<br>soundlevel_dropoff=%{x}<br>high_end=%{y}<br>filename=%{customdata[0]}<extra></extra>",
         "hovertext": [
          "556184__soothsayer_orchestra__hihatt-closed.wav",
          "634822__collinb1000__closed7.wav",
          "140516__stomachache__closedhatphrase-002.wav",
          "102781__mhc__acoustic_closed_hihat2.wav",
          "634822__collinb1000__closed7(1).wav",
          "669733__jannevse__hi-hat_closed_po-12.aiff",
          "13246__ianhall__hihat-closed.aiff",
          "45058__matiasreccius__hihat_closed4.wav"
         ],
         "legendgroup": "closed_hihat",
         "marker": {
          "color": "#636efa",
          "symbol": "circle"
         },
         "mode": "markers",
         "name": "closed_hihat",
         "orientation": "v",
         "showlegend": true,
         "type": "scatter",
         "x": [
          17.22028350830078,
          null,
          null,
          17.346237182617188,
          null,
          null,
          null,
          23.469348907470703
         ],
         "xaxis": "x",
         "y": [
          -6.5969085693359375,
          -10.791362762451172,
          -8.103923797607422,
          -7.598640441894531,
          -10.791362762451172,
          8.428226470947266,
          -8.180961608886719,
          -10.609439849853516
         ],
         "yaxis": "y"
        },
        {
         "customdata": [
          [
           "99766__menegass__cow.wav"
          ],
          [
           "364919__gowlermusic__cowbell.wav"
          ],
          [
           "375613__samulis__cowbell-cowbell_ff_2.wav"
          ],
          [
           "34272__pj1s__cowbell.wav"
          ],
          [
           "159758__timgormly__cowbell_os_3.aiff"
          ],
          [
           "159765__timgormly__cowbell_os_5.aiff"
          ],
          [
           "432202__curesforbrokenhearts__cowbell-with-blastick.wav"
          ],
          [
           "75839__rossf__lm1-cowbell.wav"
          ],
          [
           "90979__suicidity__medium-cowbell-of-god-011.wav"
          ],
          [
           "75338__neotone__cowbell.wav"
          ]
         ],
         "hovertemplate": "<b>%{hovertext}</b><br><br>class=cowbell<br>soundlevel_dropoff=%{x}<br>high_end=%{y}<br>filename=%{customdata[0]}<extra></extra>",
         "hovertext": [
          "99766__menegass__cow.wav",
          "364919__gowlermusic__cowbell.wav",
          "375613__samulis__cowbell-cowbell_ff_2.wav",
          "34272__pj1s__cowbell.wav",
          "159758__timgormly__cowbell_os_3.aiff",
          "159765__timgormly__cowbell_os_5.aiff",
          "432202__curesforbrokenhearts__cowbell-with-blastick.wav",
          "75839__rossf__lm1-cowbell.wav",
          "90979__suicidity__medium-cowbell-of-god-011.wav",
          "75338__neotone__cowbell.wav"
         ],
         "legendgroup": "cowbell",
         "marker": {
          "color": "#EF553B",
          "symbol": "circle"
         },
         "mode": "markers",
         "name": "cowbell",
         "orientation": "v",
         "showlegend": true,
         "type": "scatter",
         "x": [
          null,
          19.593555450439453,
          23.8627872467041,
          17.483394622802734,
          null,
          null,
          16.21938705444336,
          null,
          29.178714752197266,
          null
         ],
         "xaxis": "x",
         "y": [
          6.473518371582031,
          -8.485321044921875,
          -14.242507934570312,
          0.4164924621582031,
          19.701210021972656,
          19.178192138671875,
          -5.4394073486328125,
          -5.408447265625,
          -18.912216186523438,
          1.5719833374023438
         ],
         "yaxis": "y"
        },
        {
         "customdata": [
          [
           "331589__j_zealous__kick-jzealous-hard-club.aiff"
          ],
          [
           "410149__screamstudio__kick-drum.wav"
          ],
          [
           "248142__dpren__fat-kick.aiff"
          ],
          [
           "264601__veiler__kick-swedish.wav"
          ],
          [
           "72985__zgump__kick-pack-0303.wav"
          ],
          [
           "171484__xicecoffeex__savannah-kick.wav"
          ],
          [
           "131336__kaonaya__kick-hiphop-1.wav"
          ],
          [
           "132582__rob10__kick-drum-c-1.wav"
          ],
          [
           "324153__scale75__semiq_kicks_4.wav"
          ],
          [
           "171104__dwsd__kick_gettinglaid.wav"
          ]
         ],
         "hovertemplate": "<b>%{hovertext}</b><br><br>class=kick<br>soundlevel_dropoff=%{x}<br>high_end=%{y}<br>filename=%{customdata[0]}<extra></extra>",
         "hovertext": [
          "331589__j_zealous__kick-jzealous-hard-club.aiff",
          "410149__screamstudio__kick-drum.wav",
          "248142__dpren__fat-kick.aiff",
          "264601__veiler__kick-swedish.wav",
          "72985__zgump__kick-pack-0303.wav",
          "171484__xicecoffeex__savannah-kick.wav",
          "131336__kaonaya__kick-hiphop-1.wav",
          "132582__rob10__kick-drum-c-1.wav",
          "324153__scale75__semiq_kicks_4.wav",
          "171104__dwsd__kick_gettinglaid.wav"
         ],
         "legendgroup": "kick",
         "marker": {
          "color": "#00cc96",
          "symbol": "circle"
         },
         "mode": "markers",
         "name": "kick",
         "orientation": "v",
         "showlegend": true,
         "type": "scatter",
         "x": [
          42.01336669921875,
          80,
          80,
          null,
          5.14068603515625,
          21.2269344329834,
          null,
          21.076122283935547,
          22.42644691467285,
          35.134124755859375
         ],
         "xaxis": "x",
         "y": [
          -25.026325225830078,
          -40.190330505371094,
          -21.46926498413086,
          -29.424091339111328,
          -28.811012268066406,
          -25.068397521972656,
          -47.07904052734375,
          -44.35366439819336,
          -27.456600189208984,
          -40.399234771728516
         ],
         "yaxis": "y"
        },
        {
         "customdata": [
          [
           "207956__altemark__cymbal.wav"
          ],
          [
           "23543__loofa__brushd-china-cymbal02.aiff"
          ],
          [
           "587935__strangehorizon__cymbal_ride.wav"
          ],
          [
           "149480__pjcohen__ottaviano22ridecymbal2500gwash.wav"
          ],
          [
           "121097__thirsk__cymbal.wav"
          ],
          [
           "154718__mistorcaveman__cymbal_9_1-2.aiff"
          ],
          [
           "13243__ianhall__chinese-cymbal.aiff"
          ],
          [
           "136448__zagorius_mpc__chinese-cymbal-46_2.wav"
          ],
          [
           "102794__mhc__acoustic_ride_cymbal2.wav"
          ],
          [
           "154712__mistorcaveman__cymbal_7_1-2.aiff"
          ]
         ],
         "hovertemplate": "<b>%{hovertext}</b><br><br>class=cymbal<br>soundlevel_dropoff=%{x}<br>high_end=%{y}<br>filename=%{customdata[0]}<extra></extra>",
         "hovertext": [
          "207956__altemark__cymbal.wav",
          "23543__loofa__brushd-china-cymbal02.aiff",
          "587935__strangehorizon__cymbal_ride.wav",
          "149480__pjcohen__ottaviano22ridecymbal2500gwash.wav",
          "121097__thirsk__cymbal.wav",
          "154718__mistorcaveman__cymbal_9_1-2.aiff",
          "13243__ianhall__chinese-cymbal.aiff",
          "136448__zagorius_mpc__chinese-cymbal-46_2.wav",
          "102794__mhc__acoustic_ride_cymbal2.wav",
          "154712__mistorcaveman__cymbal_7_1-2.aiff"
         ],
         "legendgroup": "cymbal",
         "marker": {
          "color": "#ab63fa",
          "symbol": "circle"
         },
         "mode": "markers",
         "name": "cymbal",
         "orientation": "v",
         "showlegend": true,
         "type": "scatter",
         "x": [
          5.0186076164245605,
          6.00408935546875,
          4.092455863952637,
          5.313377380371094,
          15.816362380981445,
          6.725324630737305,
          6.68644905090332,
          3.890746593475342,
          3.6736297607421875,
          14.31324577331543
         ],
         "xaxis": "x",
         "y": [
          3.954883575439453,
          12.34402084350586,
          18.120197296142578,
          -10.454597473144531,
          1.116546630859375,
          -13.176750183105469,
          8.910667419433594,
          6.76983642578125,
          9.659812927246094,
          -2.5675010681152344
         ],
         "yaxis": "y"
        }
       ],
       "layout": {
        "height": 500,
        "legend": {
         "title": {
          "text": "class"
         },
         "tracegroupgap": 0
        },
        "margin": {
         "t": 60
        },
        "template": {
         "data": {
          "bar": [
           {
            "error_x": {
             "color": "#2a3f5f"
            },
            "error_y": {
             "color": "#2a3f5f"
            },
            "marker": {
             "line": {
              "color": "#E5ECF6",
              "width": 0.5
             },
             "pattern": {
              "fillmode": "overlay",
              "size": 10,
              "solidity": 0.2
             }
            },
            "type": "bar"
           }
          ],
          "barpolar": [
           {
            "marker": {
             "line": {
              "color": "#E5ECF6",
              "width": 0.5
             },
             "pattern": {
              "fillmode": "overlay",
              "size": 10,
              "solidity": 0.2
             }
            },
            "type": "barpolar"
           }
          ],
          "carpet": [
           {
            "aaxis": {
             "endlinecolor": "#2a3f5f",
             "gridcolor": "white",
             "linecolor": "white",
             "minorgridcolor": "white",
             "startlinecolor": "#2a3f5f"
            },
            "baxis": {
             "endlinecolor": "#2a3f5f",
             "gridcolor": "white",
             "linecolor": "white",
             "minorgridcolor": "white",
             "startlinecolor": "#2a3f5f"
            },
            "type": "carpet"
           }
          ],
          "choropleth": [
           {
            "colorbar": {
             "outlinewidth": 0,
             "ticks": ""
            },
            "type": "choropleth"
           }
          ],
          "contour": [
           {
            "colorbar": {
             "outlinewidth": 0,
             "ticks": ""
            },
            "colorscale": [
             [
              0,
              "#0d0887"
             ],
             [
              0.1111111111111111,
              "#46039f"
             ],
             [
              0.2222222222222222,
              "#7201a8"
             ],
             [
              0.3333333333333333,
              "#9c179e"
             ],
             [
              0.4444444444444444,
              "#bd3786"
             ],
             [
              0.5555555555555556,
              "#d8576b"
             ],
             [
              0.6666666666666666,
              "#ed7953"
             ],
             [
              0.7777777777777778,
              "#fb9f3a"
             ],
             [
              0.8888888888888888,
              "#fdca26"
             ],
             [
              1,
              "#f0f921"
             ]
            ],
            "type": "contour"
           }
          ],
          "contourcarpet": [
           {
            "colorbar": {
             "outlinewidth": 0,
             "ticks": ""
            },
            "type": "contourcarpet"
           }
          ],
          "heatmap": [
           {
            "colorbar": {
             "outlinewidth": 0,
             "ticks": ""
            },
            "colorscale": [
             [
              0,
              "#0d0887"
             ],
             [
              0.1111111111111111,
              "#46039f"
             ],
             [
              0.2222222222222222,
              "#7201a8"
             ],
             [
              0.3333333333333333,
              "#9c179e"
             ],
             [
              0.4444444444444444,
              "#bd3786"
             ],
             [
              0.5555555555555556,
              "#d8576b"
             ],
             [
              0.6666666666666666,
              "#ed7953"
             ],
             [
              0.7777777777777778,
              "#fb9f3a"
             ],
             [
              0.8888888888888888,
              "#fdca26"
             ],
             [
              1,
              "#f0f921"
             ]
            ],
            "type": "heatmap"
           }
          ],
          "heatmapgl": [
           {
            "colorbar": {
             "outlinewidth": 0,
             "ticks": ""
            },
            "colorscale": [
             [
              0,
              "#0d0887"
             ],
             [
              0.1111111111111111,
              "#46039f"
             ],
             [
              0.2222222222222222,
              "#7201a8"
             ],
             [
              0.3333333333333333,
              "#9c179e"
             ],
             [
              0.4444444444444444,
              "#bd3786"
             ],
             [
              0.5555555555555556,
              "#d8576b"
             ],
             [
              0.6666666666666666,
              "#ed7953"
             ],
             [
              0.7777777777777778,
              "#fb9f3a"
             ],
             [
              0.8888888888888888,
              "#fdca26"
             ],
             [
              1,
              "#f0f921"
             ]
            ],
            "type": "heatmapgl"
           }
          ],
          "histogram": [
           {
            "marker": {
             "pattern": {
              "fillmode": "overlay",
              "size": 10,
              "solidity": 0.2
             }
            },
            "type": "histogram"
           }
          ],
          "histogram2d": [
           {
            "colorbar": {
             "outlinewidth": 0,
             "ticks": ""
            },
            "colorscale": [
             [
              0,
              "#0d0887"
             ],
             [
              0.1111111111111111,
              "#46039f"
             ],
             [
              0.2222222222222222,
              "#7201a8"
             ],
             [
              0.3333333333333333,
              "#9c179e"
             ],
             [
              0.4444444444444444,
              "#bd3786"
             ],
             [
              0.5555555555555556,
              "#d8576b"
             ],
             [
              0.6666666666666666,
              "#ed7953"
             ],
             [
              0.7777777777777778,
              "#fb9f3a"
             ],
             [
              0.8888888888888888,
              "#fdca26"
             ],
             [
              1,
              "#f0f921"
             ]
            ],
            "type": "histogram2d"
           }
          ],
          "histogram2dcontour": [
           {
            "colorbar": {
             "outlinewidth": 0,
             "ticks": ""
            },
            "colorscale": [
             [
              0,
              "#0d0887"
             ],
             [
              0.1111111111111111,
              "#46039f"
             ],
             [
              0.2222222222222222,
              "#7201a8"
             ],
             [
              0.3333333333333333,
              "#9c179e"
             ],
             [
              0.4444444444444444,
              "#bd3786"
             ],
             [
              0.5555555555555556,
              "#d8576b"
             ],
             [
              0.6666666666666666,
              "#ed7953"
             ],
             [
              0.7777777777777778,
              "#fb9f3a"
             ],
             [
              0.8888888888888888,
              "#fdca26"
             ],
             [
              1,
              "#f0f921"
             ]
            ],
            "type": "histogram2dcontour"
           }
          ],
          "mesh3d": [
           {
            "colorbar": {
             "outlinewidth": 0,
             "ticks": ""
            },
            "type": "mesh3d"
           }
          ],
          "parcoords": [
           {
            "line": {
             "colorbar": {
              "outlinewidth": 0,
              "ticks": ""
             }
            },
            "type": "parcoords"
           }
          ],
          "pie": [
           {
            "automargin": true,
            "type": "pie"
           }
          ],
          "scatter": [
           {
            "fillpattern": {
             "fillmode": "overlay",
             "size": 10,
             "solidity": 0.2
            },
            "type": "scatter"
           }
          ],
          "scatter3d": [
           {
            "line": {
             "colorbar": {
              "outlinewidth": 0,
              "ticks": ""
             }
            },
            "marker": {
             "colorbar": {
              "outlinewidth": 0,
              "ticks": ""
             }
            },
            "type": "scatter3d"
           }
          ],
          "scattercarpet": [
           {
            "marker": {
             "colorbar": {
              "outlinewidth": 0,
              "ticks": ""
             }
            },
            "type": "scattercarpet"
           }
          ],
          "scattergeo": [
           {
            "marker": {
             "colorbar": {
              "outlinewidth": 0,
              "ticks": ""
             }
            },
            "type": "scattergeo"
           }
          ],
          "scattergl": [
           {
            "marker": {
             "colorbar": {
              "outlinewidth": 0,
              "ticks": ""
             }
            },
            "type": "scattergl"
           }
          ],
          "scattermapbox": [
           {
            "marker": {
             "colorbar": {
              "outlinewidth": 0,
              "ticks": ""
             }
            },
            "type": "scattermapbox"
           }
          ],
          "scatterpolar": [
           {
            "marker": {
             "colorbar": {
              "outlinewidth": 0,
              "ticks": ""
             }
            },
            "type": "scatterpolar"
           }
          ],
          "scatterpolargl": [
           {
            "marker": {
             "colorbar": {
              "outlinewidth": 0,
              "ticks": ""
             }
            },
            "type": "scatterpolargl"
           }
          ],
          "scatterternary": [
           {
            "marker": {
             "colorbar": {
              "outlinewidth": 0,
              "ticks": ""
             }
            },
            "type": "scatterternary"
           }
          ],
          "surface": [
           {
            "colorbar": {
             "outlinewidth": 0,
             "ticks": ""
            },
            "colorscale": [
             [
              0,
              "#0d0887"
             ],
             [
              0.1111111111111111,
              "#46039f"
             ],
             [
              0.2222222222222222,
              "#7201a8"
             ],
             [
              0.3333333333333333,
              "#9c179e"
             ],
             [
              0.4444444444444444,
              "#bd3786"
             ],
             [
              0.5555555555555556,
              "#d8576b"
             ],
             [
              0.6666666666666666,
              "#ed7953"
             ],
             [
              0.7777777777777778,
              "#fb9f3a"
             ],
             [
              0.8888888888888888,
              "#fdca26"
             ],
             [
              1,
              "#f0f921"
             ]
            ],
            "type": "surface"
           }
          ],
          "table": [
           {
            "cells": {
             "fill": {
              "color": "#EBF0F8"
             },
             "line": {
              "color": "white"
             }
            },
            "header": {
             "fill": {
              "color": "#C8D4E3"
             },
             "line": {
              "color": "white"
             }
            },
            "type": "table"
           }
          ]
         },
         "layout": {
          "annotationdefaults": {
           "arrowcolor": "#2a3f5f",
           "arrowhead": 0,
           "arrowwidth": 1
          },
          "autotypenumbers": "strict",
          "coloraxis": {
           "colorbar": {
            "outlinewidth": 0,
            "ticks": ""
           }
          },
          "colorscale": {
           "diverging": [
            [
             0,
             "#8e0152"
            ],
            [
             0.1,
             "#c51b7d"
            ],
            [
             0.2,
             "#de77ae"
            ],
            [
             0.3,
             "#f1b6da"
            ],
            [
             0.4,
             "#fde0ef"
            ],
            [
             0.5,
             "#f7f7f7"
            ],
            [
             0.6,
             "#e6f5d0"
            ],
            [
             0.7,
             "#b8e186"
            ],
            [
             0.8,
             "#7fbc41"
            ],
            [
             0.9,
             "#4d9221"
            ],
            [
             1,
             "#276419"
            ]
           ],
           "sequential": [
            [
             0,
             "#0d0887"
            ],
            [
             0.1111111111111111,
             "#46039f"
            ],
            [
             0.2222222222222222,
             "#7201a8"
            ],
            [
             0.3333333333333333,
             "#9c179e"
            ],
            [
             0.4444444444444444,
             "#bd3786"
            ],
            [
             0.5555555555555556,
             "#d8576b"
            ],
            [
             0.6666666666666666,
             "#ed7953"
            ],
            [
             0.7777777777777778,
             "#fb9f3a"
            ],
            [
             0.8888888888888888,
             "#fdca26"
            ],
            [
             1,
             "#f0f921"
            ]
           ],
           "sequentialminus": [
            [
             0,
             "#0d0887"
            ],
            [
             0.1111111111111111,
             "#46039f"
            ],
            [
             0.2222222222222222,
             "#7201a8"
            ],
            [
             0.3333333333333333,
             "#9c179e"
            ],
            [
             0.4444444444444444,
             "#bd3786"
            ],
            [
             0.5555555555555556,
             "#d8576b"
            ],
            [
             0.6666666666666666,
             "#ed7953"
            ],
            [
             0.7777777777777778,
             "#fb9f3a"
            ],
            [
             0.8888888888888888,
             "#fdca26"
            ],
            [
             1,
             "#f0f921"
            ]
           ]
          },
          "colorway": [
           "#636efa",
           "#EF553B",
           "#00cc96",
           "#ab63fa",
           "#FFA15A",
           "#19d3f3",
           "#FF6692",
           "#B6E880",
           "#FF97FF",
           "#FECB52"
          ],
          "font": {
           "color": "#2a3f5f"
          },
          "geo": {
           "bgcolor": "white",
           "lakecolor": "white",
           "landcolor": "#E5ECF6",
           "showlakes": true,
           "showland": true,
           "subunitcolor": "white"
          },
          "hoverlabel": {
           "align": "left"
          },
          "hovermode": "closest",
          "mapbox": {
           "style": "light"
          },
          "paper_bgcolor": "white",
          "plot_bgcolor": "#E5ECF6",
          "polar": {
           "angularaxis": {
            "gridcolor": "white",
            "linecolor": "white",
            "ticks": ""
           },
           "bgcolor": "#E5ECF6",
           "radialaxis": {
            "gridcolor": "white",
            "linecolor": "white",
            "ticks": ""
           }
          },
          "scene": {
           "xaxis": {
            "backgroundcolor": "#E5ECF6",
            "gridcolor": "white",
            "gridwidth": 2,
            "linecolor": "white",
            "showbackground": true,
            "ticks": "",
            "zerolinecolor": "white"
           },
           "yaxis": {
            "backgroundcolor": "#E5ECF6",
            "gridcolor": "white",
            "gridwidth": 2,
            "linecolor": "white",
            "showbackground": true,
            "ticks": "",
            "zerolinecolor": "white"
           },
           "zaxis": {
            "backgroundcolor": "#E5ECF6",
            "gridcolor": "white",
            "gridwidth": 2,
            "linecolor": "white",
            "showbackground": true,
            "ticks": "",
            "zerolinecolor": "white"
           }
          },
          "shapedefaults": {
           "line": {
            "color": "#2a3f5f"
           }
          },
          "ternary": {
           "aaxis": {
            "gridcolor": "white",
            "linecolor": "white",
            "ticks": ""
           },
           "baxis": {
            "gridcolor": "white",
            "linecolor": "white",
            "ticks": ""
           },
           "bgcolor": "#E5ECF6",
           "caxis": {
            "gridcolor": "white",
            "linecolor": "white",
            "ticks": ""
           }
          },
          "title": {
           "x": 0.05
          },
          "xaxis": {
           "automargin": true,
           "gridcolor": "white",
           "linecolor": "white",
           "ticks": "",
           "title": {
            "standoff": 15
           },
           "zerolinecolor": "white",
           "zerolinewidth": 2
          },
          "yaxis": {
           "automargin": true,
           "gridcolor": "white",
           "linecolor": "white",
           "ticks": "",
           "title": {
            "standoff": 15
           },
           "zerolinecolor": "white",
           "zerolinewidth": 2
          }
         }
        },
        "width": 500,
        "xaxis": {
         "anchor": "y",
         "autorange": true,
         "domain": [
          0,
          1
         ],
         "range": [
          -1.825736582703942,
          85.49936634344613
         ],
         "title": {
          "text": "soundlevel_dropoff"
         },
         "type": "linear"
        },
        "yaxis": {
         "anchor": "x",
         "autorange": true,
         "domain": [
          0,
          1
         ],
         "range": [
          -51.66820466461905,
          24.290374159247953
         ],
         "title": {
          "text": "high_end"
         },
         "type": "linear"
        }
       }
      },
      "image/png": "[encoded data removed]",
      "text/html": [
       "<div>                            <div id=\"f7d5a44e-36b0-4475-b49b-ef6bcc409f20\" class=\"plotly-graph-div\" style=\"height:500px; width:500px;\"></div>            <script type=\"text/javascript\">                require([\"plotly\"], function(Plotly) {                    window.PLOTLYENV=window.PLOTLYENV || {};                                    if (document.getElementById(\"f7d5a44e-36b0-4475-b49b-ef6bcc409f20\")) {                    Plotly.newPlot(                        \"f7d5a44e-36b0-4475-b49b-ef6bcc409f20\",                        [{\"customdata\":[[\"556184__soothsayer_orchestra__hihatt-closed.wav\"],[\"634822__collinb1000__closed7.wav\"],[\"140516__stomachache__closedhatphrase-002.wav\"],[\"102781__mhc__acoustic_closed_hihat2.wav\"],[\"634822__collinb1000__closed7(1).wav\"],[\"669733__jannevse__hi-hat_closed_po-12.aiff\"],[\"13246__ianhall__hihat-closed.aiff\"],[\"45058__matiasreccius__hihat_closed4.wav\"]],\"hovertemplate\":\"<b>%{hovertext}</b><br><br>class=closed_hihat<br>soundlevel_dropoff=%{x}<br>high_end=%{y}<br>filename=%{customdata[0]}<extra></extra>\",\"hovertext\":[\"556184__soothsayer_orchestra__hihatt-closed.wav\",\"634822__collinb1000__closed7.wav\",\"140516__stomachache__closedhatphrase-002.wav\",\"102781__mhc__acoustic_closed_hihat2.wav\",\"634822__collinb1000__closed7(1).wav\",\"669733__jannevse__hi-hat_closed_po-12.aiff\",\"13246__ianhall__hihat-closed.aiff\",\"45058__matiasreccius__hihat_closed4.wav\"],\"legendgroup\":\"closed_hihat\",\"marker\":{\"color\":\"#636efa\",\"symbol\":\"circle\"},\"mode\":\"markers\",\"name\":\"closed_hihat\",\"orientation\":\"v\",\"showlegend\":true,\"x\":[17.22028350830078,null,null,17.346237182617188,null,null,null,23.469348907470703],\"xaxis\":\"x\",\"y\":[-6.5969085693359375,-10.791362762451172,-8.103923797607422,-7.598640441894531,-10.791362762451172,8.428226470947266,-8.180961608886719,-10.609439849853516],\"yaxis\":\"y\",\"type\":\"scatter\"},{\"customdata\":[[\"99766__menegass__cow.wav\"],[\"364919__gowlermusic__cowbell.wav\"],[\"375613__samulis__cowbell-cowbell_ff_2.wav\"],[\"34272__pj1s__cowbell.wav\"],[\"159758__timgormly__cowbell_os_3.aiff\"],[\"159765__timgormly__cowbell_os_5.aiff\"],[\"432202__curesforbrokenhearts__cowbell-with-blastick.wav\"],[\"75839__rossf__lm1-cowbell.wav\"],[\"90979__suicidity__medium-cowbell-of-god-011.wav\"],[\"75338__neotone__cowbell.wav\"]],\"hovertemplate\":\"<b>%{hovertext}</b><br><br>class=cowbell<br>soundlevel_dropoff=%{x}<br>high_end=%{y}<br>filename=%{customdata[0]}<extra></extra>\",\"hovertext\":[\"99766__menegass__cow.wav\",\"364919__gowlermusic__cowbell.wav\",\"375613__samulis__cowbell-cowbell_ff_2.wav\",\"34272__pj1s__cowbell.wav\",\"159758__timgormly__cowbell_os_3.aiff\",\"159765__timgormly__cowbell_os_5.aiff\",\"432202__curesforbrokenhearts__cowbell-with-blastick.wav\",\"75839__rossf__lm1-cowbell.wav\",\"90979__suicidity__medium-cowbell-of-god-011.wav\",\"75338__neotone__cowbell.wav\"],\"legendgroup\":\"cowbell\",\"marker\":{\"color\":\"#EF553B\",\"symbol\":\"circle\"},\"mode\":\"markers\",\"name\":\"cowbell\",\"orientation\":\"v\",\"showlegend\":true,\"x\":[null,19.593555450439453,23.8627872467041,17.483394622802734,null,null,16.21938705444336,null,29.178714752197266,null],\"xaxis\":\"x\",\"y\":[6.473518371582031,-8.485321044921875,-14.242507934570312,0.4164924621582031,19.701210021972656,19.178192138671875,-5.4394073486328125,-5.408447265625,-18.912216186523438,1.5719833374023438],\"yaxis\":\"y\",\"type\":\"scatter\"},{\"customdata\":[[\"331589__j_zealous__kick-jzealous-hard-club.aiff\"],[\"410149__screamstudio__kick-drum.wav\"],[\"248142__dpren__fat-kick.aiff\"],[\"264601__veiler__kick-swedish.wav\"],[\"72985__zgump__kick-pack-0303.wav\"],[\"171484__xicecoffeex__savannah-kick.wav\"],[\"131336__kaonaya__kick-hiphop-1.wav\"],[\"132582__rob10__kick-drum-c-1.wav\"],[\"324153__scale75__semiq_kicks_4.wav\"],[\"171104__dwsd__kick_gettinglaid.wav\"]],\"hovertemplate\":\"<b>%{hovertext}</b><br><br>class=kick<br>soundlevel_dropoff=%{x}<br>high_end=%{y}<br>filename=%{customdata[0]}<extra></extra>\",\"hovertext\":[\"331589__j_zealous__kick-jzealous-hard-club.aiff\",\"410149__screamstudio__kick-drum.wav\",\"248142__dpren__fat-kick.aiff\",\"264601__veiler__kick-swedish.wav\",\"72985__zgump__kick-pack-0303.wav\",\"171484__xicecoffeex__savannah-kick.wav\",\"131336__kaonaya__kick-hiphop-1.wav\",\"132582__rob10__kick-drum-c-1.wav\",\"324153__scale75__semiq_kicks_4.wav\",\"171104__dwsd__kick_gettinglaid.wav\"],\"legendgroup\":\"kick\",\"marker\":{\"color\":\"#00cc96\",\"symbol\":\"circle\"},\"mode\":\"markers\",\"name\":\"kick\",\"orientation\":\"v\",\"showlegend\":true,\"x\":[42.01336669921875,80.0,80.0,null,5.14068603515625,21.2269344329834,null,21.076122283935547,22.42644691467285,35.134124755859375],\"xaxis\":\"x\",\"y\":[-25.026325225830078,-40.190330505371094,-21.46926498413086,-29.424091339111328,-28.811012268066406,-25.068397521972656,-47.07904052734375,-44.35366439819336,-27.456600189208984,-40.399234771728516],\"yaxis\":\"y\",\"type\":\"scatter\"},{\"customdata\":[[\"207956__altemark__cymbal.wav\"],[\"23543__loofa__brushd-china-cymbal02.aiff\"],[\"587935__strangehorizon__cymbal_ride.wav\"],[\"149480__pjcohen__ottaviano22ridecymbal2500gwash.wav\"],[\"121097__thirsk__cymbal.wav\"],[\"154718__mistorcaveman__cymbal_9_1-2.aiff\"],[\"13243__ianhall__chinese-cymbal.aiff\"],[\"136448__zagorius_mpc__chinese-cymbal-46_2.wav\"],[\"102794__mhc__acoustic_ride_cymbal2.wav\"],[\"154712__mistorcaveman__cymbal_7_1-2.aiff\"]],\"hovertemplate\":\"<b>%{hovertext}</b><br><br>class=cymbal<br>soundlevel_dropoff=%{x}<br>high_end=%{y}<br>filename=%{customdata[0]}<extra></extra>\",\"hovertext\":[\"207956__altemark__cymbal.wav\",\"23543__loofa__brushd-china-cymbal02.aiff\",\"587935__strangehorizon__cymbal_ride.wav\",\"149480__pjcohen__ottaviano22ridecymbal2500gwash.wav\",\"121097__thirsk__cymbal.wav\",\"154718__mistorcaveman__cymbal_9_1-2.aiff\",\"13243__ianhall__chinese-cymbal.aiff\",\"136448__zagorius_mpc__chinese-cymbal-46_2.wav\",\"102794__mhc__acoustic_ride_cymbal2.wav\",\"154712__mistorcaveman__cymbal_7_1-2.aiff\"],\"legendgroup\":\"cymbal\",\"marker\":{\"color\":\"#ab63fa\",\"symbol\":\"circle\"},\"mode\":\"markers\",\"name\":\"cymbal\",\"orientation\":\"v\",\"showlegend\":true,\"x\":[5.0186076164245605,6.00408935546875,4.092455863952637,5.313377380371094,15.816362380981445,6.725324630737305,6.68644905090332,3.890746593475342,3.6736297607421875,14.31324577331543],\"xaxis\":\"x\",\"y\":[3.954883575439453,12.34402084350586,18.120197296142578,-10.454597473144531,1.116546630859375,-13.176750183105469,8.910667419433594,6.76983642578125,9.659812927246094,-2.5675010681152344],\"yaxis\":\"y\",\"type\":\"scatter\"}],                        {\"template\":{\"data\":{\"histogram2dcontour\":[{\"type\":\"histogram2dcontour\",\"colorbar\":{\"outlinewidth\":0,\"ticks\":\"\"},\"colorscale\":[[0.0,\"#0d0887\"],[0.1111111111111111,\"#46039f\"],[0.2222222222222222,\"#7201a8\"],[0.3333333333333333,\"#9c179e\"],[0.4444444444444444,\"#bd3786\"],[0.5555555555555556,\"#d8576b\"],[0.6666666666666666,\"#ed7953\"],[0.7777777777777778,\"#fb9f3a\"],[0.8888888888888888,\"#fdca26\"],[1.0,\"#f0f921\"]]}],\"choropleth\":[{\"type\":\"choropleth\",\"colorbar\":{\"outlinewidth\":0,\"ticks\":\"\"}}],\"histogram2d\":[{\"type\":\"histogram2d\",\"colorbar\":{\"outlinewidth\":0,\"ticks\":\"\"},\"colorscale\":[[0.0,\"#0d0887\"],[0.1111111111111111,\"#46039f\"],[0.2222222222222222,\"#7201a8\"],[0.3333333333333333,\"#9c179e\"],[0.4444444444444444,\"#bd3786\"],[0.5555555555555556,\"#d8576b\"],[0.6666666666666666,\"#ed7953\"],[0.7777777777777778,\"#fb9f3a\"],[0.8888888888888888,\"#fdca26\"],[1.0,\"#f0f921\"]]}],\"heatmap\":[{\"type\":\"heatmap\",\"colorbar\":{\"outlinewidth\":0,\"ticks\":\"\"},\"colorscale\":[[0.0,\"#0d0887\"],[0.1111111111111111,\"#46039f\"],[0.2222222222222222,\"#7201a8\"],[0.3333333333333333,\"#9c179e\"],[0.4444444444444444,\"#bd3786\"],[0.5555555555555556,\"#d8576b\"],[0.6666666666666666,\"#ed7953\"],[0.7777777777777778,\"#fb9f3a\"],[0.8888888888888888,\"#fdca26\"],[1.0,\"#f0f921\"]]}],\"heatmapgl\":[{\"type\":\"heatmapgl\",\"colorbar\":{\"outlinewidth\":0,\"ticks\":\"\"},\"colorscale\":[[0.0,\"#0d0887\"],[0.1111111111111111,\"#46039f\"],[0.2222222222222222,\"#7201a8\"],[0.3333333333333333,\"#9c179e\"],[0.4444444444444444,\"#bd3786\"],[0.5555555555555556,\"#d8576b\"],[0.6666666666666666,\"#ed7953\"],[0.7777777777777778,\"#fb9f3a\"],[0.8888888888888888,\"#fdca26\"],[1.0,\"#f0f921\"]]}],\"contourcarpet\":[{\"type\":\"contourcarpet\",\"colorbar\":{\"outlinewidth\":0,\"ticks\":\"\"}}],\"contour\":[{\"type\":\"contour\",\"colorbar\":{\"outlinewidth\":0,\"ticks\":\"\"},\"colorscale\":[[0.0,\"#0d0887\"],[0.1111111111111111,\"#46039f\"],[0.2222222222222222,\"#7201a8\"],[0.3333333333333333,\"#9c179e\"],[0.4444444444444444,\"#bd3786\"],[0.5555555555555556,\"#d8576b\"],[0.6666666666666666,\"#ed7953\"],[0.7777777777777778,\"#fb9f3a\"],[0.8888888888888888,\"#fdca26\"],[1.0,\"#f0f921\"]]}],\"surface\":[{\"type\":\"surface\",\"colorbar\":{\"outlinewidth\":0,\"ticks\":\"\"},\"colorscale\":[[0.0,\"#0d0887\"],[0.1111111111111111,\"#46039f\"],[0.2222222222222222,\"#7201a8\"],[0.3333333333333333,\"#9c179e\"],[0.4444444444444444,\"#bd3786\"],[0.5555555555555556,\"#d8576b\"],[0.6666666666666666,\"#ed7953\"],[0.7777777777777778,\"#fb9f3a\"],[0.8888888888888888,\"#fdca26\"],[1.0,\"#f0f921\"]]}],\"mesh3d\":[{\"type\":\"mesh3d\",\"colorbar\":{\"outlinewidth\":0,\"ticks\":\"\"}}],\"scatter\":[{\"fillpattern\":{\"fillmode\":\"overlay\",\"size\":10,\"solidity\":0.2},\"type\":\"scatter\"}],\"parcoords\":[{\"type\":\"parcoords\",\"line\":{\"colorbar\":{\"outlinewidth\":0,\"ticks\":\"\"}}}],\"scatterpolargl\":[{\"type\":\"scatterpolargl\",\"marker\":{\"colorbar\":{\"outlinewidth\":0,\"ticks\":\"\"}}}],\"bar\":[{\"error_x\":{\"color\":\"#2a3f5f\"},\"error_y\":{\"color\":\"#2a3f5f\"},\"marker\":{\"line\":{\"color\":\"#E5ECF6\",\"width\":0.5},\"pattern\":{\"fillmode\":\"overlay\",\"size\":10,\"solidity\":0.2}},\"type\":\"bar\"}],\"scattergeo\":[{\"type\":\"scattergeo\",\"marker\":{\"colorbar\":{\"outlinewidth\":0,\"ticks\":\"\"}}}],\"scatterpolar\":[{\"type\":\"scatterpolar\",\"marker\":{\"colorbar\":{\"outlinewidth\":0,\"ticks\":\"\"}}}],\"histogram\":[{\"marker\":{\"pattern\":{\"fillmode\":\"overlay\",\"size\":10,\"solidity\":0.2}},\"type\":\"histogram\"}],\"scattergl\":[{\"type\":\"scattergl\",\"marker\":{\"colorbar\":{\"outlinewidth\":0,\"ticks\":\"\"}}}],\"scatter3d\":[{\"type\":\"scatter3d\",\"line\":{\"colorbar\":{\"outlinewidth\":0,\"ticks\":\"\"}},\"marker\":{\"colorbar\":{\"outlinewidth\":0,\"ticks\":\"\"}}}],\"scattermapbox\":[{\"type\":\"scattermapbox\",\"marker\":{\"colorbar\":{\"outlinewidth\":0,\"ticks\":\"\"}}}],\"scatterternary\":[{\"type\":\"scatterternary\",\"marker\":{\"colorbar\":{\"outlinewidth\":0,\"ticks\":\"\"}}}],\"scattercarpet\":[{\"type\":\"scattercarpet\",\"marker\":{\"colorbar\":{\"outlinewidth\":0,\"ticks\":\"\"}}}],\"carpet\":[{\"aaxis\":{\"endlinecolor\":\"#2a3f5f\",\"gridcolor\":\"white\",\"linecolor\":\"white\",\"minorgridcolor\":\"white\",\"startlinecolor\":\"#2a3f5f\"},\"baxis\":{\"endlinecolor\":\"#2a3f5f\",\"gridcolor\":\"white\",\"linecolor\":\"white\",\"minorgridcolor\":\"white\",\"startlinecolor\":\"#2a3f5f\"},\"type\":\"carpet\"}],\"table\":[{\"cells\":{\"fill\":{\"color\":\"#EBF0F8\"},\"line\":{\"color\":\"white\"}},\"header\":{\"fill\":{\"color\":\"#C8D4E3\"},\"line\":{\"color\":\"white\"}},\"type\":\"table\"}],\"barpolar\":[{\"marker\":{\"line\":{\"color\":\"#E5ECF6\",\"width\":0.5},\"pattern\":{\"fillmode\":\"overlay\",\"size\":10,\"solidity\":0.2}},\"type\":\"barpolar\"}],\"pie\":[{\"automargin\":true,\"type\":\"pie\"}]},\"layout\":{\"autotypenumbers\":\"strict\",\"colorway\":[\"#636efa\",\"#EF553B\",\"#00cc96\",\"#ab63fa\",\"#FFA15A\",\"#19d3f3\",\"#FF6692\",\"#B6E880\",\"#FF97FF\",\"#FECB52\"],\"font\":{\"color\":\"#2a3f5f\"},\"hovermode\":\"closest\",\"hoverlabel\":{\"align\":\"left\"},\"paper_bgcolor\":\"white\",\"plot_bgcolor\":\"#E5ECF6\",\"polar\":{\"bgcolor\":\"#E5ECF6\",\"angularaxis\":{\"gridcolor\":\"white\",\"linecolor\":\"white\",\"ticks\":\"\"},\"radialaxis\":{\"gridcolor\":\"white\",\"linecolor\":\"white\",\"ticks\":\"\"}},\"ternary\":{\"bgcolor\":\"#E5ECF6\",\"aaxis\":{\"gridcolor\":\"white\",\"linecolor\":\"white\",\"ticks\":\"\"},\"baxis\":{\"gridcolor\":\"white\",\"linecolor\":\"white\",\"ticks\":\"\"},\"caxis\":{\"gridcolor\":\"white\",\"linecolor\":\"white\",\"ticks\":\"\"}},\"coloraxis\":{\"colorbar\":{\"outlinewidth\":0,\"ticks\":\"\"}},\"colorscale\":{\"sequential\":[[0.0,\"#0d0887\"],[0.1111111111111111,\"#46039f\"],[0.2222222222222222,\"#7201a8\"],[0.3333333333333333,\"#9c179e\"],[0.4444444444444444,\"#bd3786\"],[0.5555555555555556,\"#d8576b\"],[0.6666666666666666,\"#ed7953\"],[0.7777777777777778,\"#fb9f3a\"],[0.8888888888888888,\"#fdca26\"],[1.0,\"#f0f921\"]],\"sequentialminus\":[[0.0,\"#0d0887\"],[0.1111111111111111,\"#46039f\"],[0.2222222222222222,\"#7201a8\"],[0.3333333333333333,\"#9c179e\"],[0.4444444444444444,\"#bd3786\"],[0.5555555555555556,\"#d8576b\"],[0.6666666666666666,\"#ed7953\"],[0.7777777777777778,\"#fb9f3a\"],[0.8888888888888888,\"#fdca26\"],[1.0,\"#f0f921\"]],\"diverging\":[[0,\"#8e0152\"],[0.1,\"#c51b7d\"],[0.2,\"#de77ae\"],[0.3,\"#f1b6da\"],[0.4,\"#fde0ef\"],[0.5,\"#f7f7f7\"],[0.6,\"#e6f5d0\"],[0.7,\"#b8e186\"],[0.8,\"#7fbc41\"],[0.9,\"#4d9221\"],[1,\"#276419\"]]},\"xaxis\":{\"gridcolor\":\"white\",\"linecolor\":\"white\",\"ticks\":\"\",\"title\":{\"standoff\":15},\"zerolinecolor\":\"white\",\"automargin\":true,\"zerolinewidth\":2},\"yaxis\":{\"gridcolor\":\"white\",\"linecolor\":\"white\",\"ticks\":\"\",\"title\":{\"standoff\":15},\"zerolinecolor\":\"white\",\"automargin\":true,\"zerolinewidth\":2},\"scene\":{\"xaxis\":{\"backgroundcolor\":\"#E5ECF6\",\"gridcolor\":\"white\",\"linecolor\":\"white\",\"showbackground\":true,\"ticks\":\"\",\"zerolinecolor\":\"white\",\"gridwidth\":2},\"yaxis\":{\"backgroundcolor\":\"#E5ECF6\",\"gridcolor\":\"white\",\"linecolor\":\"white\",\"showbackground\":true,\"ticks\":\"\",\"zerolinecolor\":\"white\",\"gridwidth\":2},\"zaxis\":{\"backgroundcolor\":\"#E5ECF6\",\"gridcolor\":\"white\",\"linecolor\":\"white\",\"showbackground\":true,\"ticks\":\"\",\"zerolinecolor\":\"white\",\"gridwidth\":2}},\"shapedefaults\":{\"line\":{\"color\":\"#2a3f5f\"}},\"annotationdefaults\":{\"arrowcolor\":\"#2a3f5f\",\"arrowhead\":0,\"arrowwidth\":1},\"geo\":{\"bgcolor\":\"white\",\"landcolor\":\"#E5ECF6\",\"subunitcolor\":\"white\",\"showland\":true,\"showlakes\":true,\"lakecolor\":\"white\"},\"title\":{\"x\":0.05},\"mapbox\":{\"style\":\"light\"}}},\"xaxis\":{\"anchor\":\"y\",\"domain\":[0.0,1.0],\"title\":{\"text\":\"soundlevel_dropoff\"}},\"yaxis\":{\"anchor\":\"x\",\"domain\":[0.0,1.0],\"title\":{\"text\":\"high_end\"}},\"legend\":{\"title\":{\"text\":\"class\"},\"tracegroupgap\":0},\"margin\":{\"t\":60},\"height\":500,\"width\":500},                        {\"responsive\": true}                    ).then(function(){\n",
       "                            \n",
       "var gd = document.getElementById('f7d5a44e-36b0-4475-b49b-ef6bcc409f20');\n",
       "var x = new MutationObserver(function (mutations, observer) {{\n",
       "        var display = window.getComputedStyle(gd).display;\n",
       "        if (!display || display === 'none') {{\n",
       "            console.log([gd, 'removed!']);\n",
       "            Plotly.purge(gd);\n",
       "            observer.disconnect();\n",
       "        }}\n",
       "}});\n",
       "\n",
       "// Listen for the removal of the full notebook cells\n",
       "var notebookContainer = gd.closest('#notebook-container');\n",
       "if (notebookContainer) {{\n",
       "    x.observe(notebookContainer, {childList: true});\n",
       "}}\n",
       "\n",
       "// Listen for the clearing of the current output cell\n",
       "var outputEl = gd.closest('.output');\n",
       "if (outputEl) {{\n",
       "    x.observe(outputEl, {childList: true});\n",
       "}}\n",
       "\n",
       "                        })                };                });            </script>        </div>"
      ]
     },
     "metadata": {},
     "output_type": "display_data"
    }
   ],
   "source": [
    "import plotly.express\n",
    "\n",
    "plotly.express.scatter(samples, x='soundlevel_dropoff', y='high_end', color='class', hover_data=['filename'], width=500, height=500, hover_name='filename')"
   ]
  },
  {
   "cell_type": "code",
   "execution_count": 434,
   "id": "d97cec2a-55fe-4343-9f9b-9dab093ad107",
   "metadata": {
    "tags": []
   },
   "outputs": [],
   "source": [
    "\n",
    "# TODO: allow playback of selected sample(s)\n"
   ]
  },
  {
   "cell_type": "code",
   "execution_count": 435,
   "id": "355e9d31-5ec5-40cf-9cf1-140d0cadc562",
   "metadata": {
    "tags": []
   },
   "outputs": [],
   "source": [
    "\n",
    "    \n",
    "# TODO: try clustering. using simple features, using Euclidian distance on spectrum, using Wassterstain distance\n",
    "\n"
   ]
  },
  {
   "cell_type": "code",
   "execution_count": null,
   "id": "852f31d2-bfcd-4d6f-920e-d25ef50973e0",
   "metadata": {},
   "outputs": [],
   "source": []
  },
  {
   "cell_type": "code",
   "execution_count": null,
   "id": "4c00a1a7-023c-49b6-85ad-fc92e7a96302",
   "metadata": {},
   "outputs": [],
   "source": []
  },
  {
   "cell_type": "code",
   "execution_count": null,
   "id": "6f98533a-a7f5-4468-a6d1-fd001cea1128",
   "metadata": {},
   "outputs": [],
   "source": []
  }
 ],
 "metadata": {
  "kernelspec": {
   "display_name": "Python 3 (ipykernel)",
   "language": "python",
   "name": "python3"
  },
  "language_info": {
   "codemirror_mode": {
    "name": "ipython",
    "version": 3
   },
   "file_extension": ".py",
   "mimetype": "text/x-python",
   "name": "python",
   "nbconvert_exporter": "python",
   "pygments_lexer": "ipython3",
   "version": "3.10.10"
  }
 },
 "nbformat": 4,
 "nbformat_minor": 5
}
