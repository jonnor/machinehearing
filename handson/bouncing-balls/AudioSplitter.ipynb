{
 "cells": [
  {
   "cell_type": "code",
   "execution_count": 28,
   "id": "fc756578-a5c6-4e53-a749-7e9a26dcdf8d",
   "metadata": {},
   "outputs": [],
   "source": [
    "import os\n",
    "import glob\n",
    "import math\n",
    "import io\n",
    "\n",
    "\n",
    "import pandas\n",
    "import librosa\n",
    "import soundfile\n"
   ]
  },
  {
   "cell_type": "code",
   "execution_count": 29,
   "id": "ce4edcf2-99ca-43a7-9bc1-71d5f8bf0943",
   "metadata": {},
   "outputs": [
    {
     "name": "stderr",
     "output_type": "stream",
     "text": [
      "/tmp/ipykernel_194875/1537709656.py:6: UserWarning: PySoundFile failed. Trying audioread instead.\n",
      "  y, sr = librosa.load(path, sr=sr)\n",
      "/home/jon/.local/lib/python3.11/site-packages/librosa/core/audio.py:184: FutureWarning: librosa.core.audio.__audioread_load\n",
      "\tDeprecated as of librosa version 0.10.0.\n",
      "\tIt will be removed in librosa version 1.0.\n",
      "  y, sr_native = __audioread_load(path, offset, duration, dtype)\n"
     ]
    },
    {
     "data": {
      "text/plain": [
       "(1290923,)"
      ]
     },
     "execution_count": 29,
     "metadata": {},
     "output_type": "execute_result"
    }
   ],
   "source": [
    "\n",
    "path = './data/collected/VID_20240302_191619.mp4'\n",
    "\n",
    "\n",
    "def load_audio(path, sr=16000):\n",
    "\n",
    "    y, sr = librosa.load(path, sr=sr)\n",
    "\n",
    "    return y\n",
    "\n",
    "load_audio(path).shape\n",
    "\n",
    "\n"
   ]
  },
  {
   "cell_type": "code",
   "execution_count": 34,
   "id": "721f9810-0a46-4353-932f-b34f27fbaad8",
   "metadata": {},
   "outputs": [
    {
     "name": "stdout",
     "output_type": "stream",
     "text": [
      "AIFF AIFF (Apple/SGI)\n",
      "AU AU (Sun/NeXT)\n",
      "AVR AVR (Audio Visual Research)\n",
      "CAF CAF (Apple Core Audio File)\n",
      "FLAC FLAC (Free Lossless Audio Codec)\n",
      "HTK HTK (HMM Tool Kit)\n",
      "SVX IFF (Amiga IFF/SVX8/SV16)\n",
      "MAT4 MAT4 (GNU Octave 2.0 / Matlab 4.2)\n",
      "MAT5 MAT5 (GNU Octave 2.1 / Matlab 5.0)\n",
      "MPC2K MPC (Akai MPC 2k)\n",
      "MP3 MPEG-1/2 Audio\n",
      "OGG OGG (OGG Container format)\n",
      "PAF PAF (Ensoniq PARIS)\n",
      "PVF PVF (Portable Voice Format)\n",
      "RAW RAW (header-less)\n",
      "RF64 RF64 (RIFF 64)\n",
      "SD2 SD2 (Sound Designer II)\n",
      "SDS SDS (Midi Sample Dump Standard)\n",
      "IRCAM SF (Berkeley/IRCAM/CARL)\n",
      "VOC VOC (Creative Labs)\n",
      "W64 W64 (SoundFoundry WAVE 64)\n",
      "WAV WAV (Microsoft)\n",
      "NIST WAV (NIST Sphere)\n",
      "WAVEX WAVEX (Microsoft)\n",
      "WVE WVE (Psion Series 3)\n",
      "XI XI (FastTracker 2)\n"
     ]
    }
   ],
   "source": [
    "for name, description in soundfile.available_formats().items():\n",
    "    print(name, description)\n"
   ]
  },
  {
   "cell_type": "code",
   "execution_count": 36,
   "id": "12932276-6396-4100-b738-548a25635af2",
   "metadata": {},
   "outputs": [
    {
     "name": "stderr",
     "output_type": "stream",
     "text": [
      "/tmp/ipykernel_194875/1537709656.py:6: UserWarning: PySoundFile failed. Trying audioread instead.\n",
      "  y, sr = librosa.load(path, sr=sr)\n",
      "/home/jon/.local/lib/python3.11/site-packages/librosa/core/audio.py:184: FutureWarning: librosa.core.audio.__audioread_load\n",
      "\tDeprecated as of librosa version 0.10.0.\n",
      "\tIt will be removed in librosa version 1.0.\n",
      "  y, sr_native = __audioread_load(path, offset, duration, dtype)\n"
     ]
    },
    {
     "name": "stdout",
     "output_type": "stream",
     "text": [
      "data/cleaned/VID_20240302_191946_1.ogg\n",
      "data/cleaned/VID_20240302_191946_2.ogg\n",
      "data/cleaned/VID_20240302_191946_3.ogg\n",
      "data/cleaned/VID_20240302_191946_4.ogg\n",
      "data/cleaned/VID_20240302_191946_5.ogg\n",
      "data/cleaned/VID_20240302_191946_6.ogg\n"
     ]
    },
    {
     "name": "stderr",
     "output_type": "stream",
     "text": [
      "/tmp/ipykernel_194875/1537709656.py:6: UserWarning: PySoundFile failed. Trying audioread instead.\n",
      "  y, sr = librosa.load(path, sr=sr)\n",
      "/home/jon/.local/lib/python3.11/site-packages/librosa/core/audio.py:184: FutureWarning: librosa.core.audio.__audioread_load\n",
      "\tDeprecated as of librosa version 0.10.0.\n",
      "\tIt will be removed in librosa version 1.0.\n",
      "  y, sr_native = __audioread_load(path, offset, duration, dtype)\n"
     ]
    },
    {
     "name": "stdout",
     "output_type": "stream",
     "text": [
      "data/cleaned/VID_20240302_192737_1.ogg\n",
      "data/cleaned/VID_20240302_192737_2.ogg\n",
      "data/cleaned/VID_20240302_192737_3.ogg\n",
      "data/cleaned/VID_20240302_192737_4.ogg\n",
      "data/cleaned/VID_20240302_192737_5.ogg\n",
      "data/cleaned/VID_20240302_192737_6.ogg\n",
      "data/cleaned/VID_20240302_192737_7.ogg\n",
      "data/cleaned/VID_20240302_192737_8.ogg\n"
     ]
    },
    {
     "name": "stderr",
     "output_type": "stream",
     "text": [
      "/tmp/ipykernel_194875/1537709656.py:6: UserWarning: PySoundFile failed. Trying audioread instead.\n",
      "  y, sr = librosa.load(path, sr=sr)\n",
      "/home/jon/.local/lib/python3.11/site-packages/librosa/core/audio.py:184: FutureWarning: librosa.core.audio.__audioread_load\n",
      "\tDeprecated as of librosa version 0.10.0.\n",
      "\tIt will be removed in librosa version 1.0.\n",
      "  y, sr_native = __audioread_load(path, offset, duration, dtype)\n"
     ]
    },
    {
     "name": "stdout",
     "output_type": "stream",
     "text": [
      "data/cleaned/VID_20240302_191619_1.ogg\n",
      "data/cleaned/VID_20240302_191619_2.ogg\n",
      "data/cleaned/VID_20240302_191619_3.ogg\n",
      "data/cleaned/VID_20240302_191619_4.ogg\n",
      "data/cleaned/VID_20240302_191619_5.ogg\n"
     ]
    },
    {
     "name": "stderr",
     "output_type": "stream",
     "text": [
      "/tmp/ipykernel_194875/1537709656.py:6: UserWarning: PySoundFile failed. Trying audioread instead.\n",
      "  y, sr = librosa.load(path, sr=sr)\n",
      "/home/jon/.local/lib/python3.11/site-packages/librosa/core/audio.py:184: FutureWarning: librosa.core.audio.__audioread_load\n",
      "\tDeprecated as of librosa version 0.10.0.\n",
      "\tIt will be removed in librosa version 1.0.\n",
      "  y, sr_native = __audioread_load(path, offset, duration, dtype)\n"
     ]
    },
    {
     "name": "stdout",
     "output_type": "stream",
     "text": [
      "data/cleaned/VID_20240302_191813_1.ogg\n",
      "data/cleaned/VID_20240302_191813_2.ogg\n",
      "data/cleaned/VID_20240302_191813_3.ogg\n",
      "data/cleaned/VID_20240302_191813_4.ogg\n",
      "data/cleaned/VID_20240302_191813_5.ogg\n",
      "data/cleaned/VID_20240302_191813_6.ogg\n"
     ]
    },
    {
     "name": "stderr",
     "output_type": "stream",
     "text": [
      "/tmp/ipykernel_194875/1537709656.py:6: UserWarning: PySoundFile failed. Trying audioread instead.\n",
      "  y, sr = librosa.load(path, sr=sr)\n",
      "/home/jon/.local/lib/python3.11/site-packages/librosa/core/audio.py:184: FutureWarning: librosa.core.audio.__audioread_load\n",
      "\tDeprecated as of librosa version 0.10.0.\n",
      "\tIt will be removed in librosa version 1.0.\n",
      "  y, sr_native = __audioread_load(path, offset, duration, dtype)\n"
     ]
    },
    {
     "name": "stdout",
     "output_type": "stream",
     "text": [
      "data/cleaned/VID_20240302_192357_1.ogg\n",
      "data/cleaned/VID_20240302_192357_2.ogg\n",
      "data/cleaned/VID_20240302_192357_3.ogg\n",
      "data/cleaned/VID_20240302_192357_4.ogg\n",
      "data/cleaned/VID_20240302_192357_5.ogg\n",
      "data/cleaned/VID_20240302_192357_6.ogg\n",
      "data/cleaned/VID_20240302_192357_7.ogg\n",
      "data/cleaned/VID_20240302_192357_8.ogg\n"
     ]
    },
    {
     "name": "stderr",
     "output_type": "stream",
     "text": [
      "/tmp/ipykernel_194875/1537709656.py:6: UserWarning: PySoundFile failed. Trying audioread instead.\n",
      "  y, sr = librosa.load(path, sr=sr)\n",
      "/home/jon/.local/lib/python3.11/site-packages/librosa/core/audio.py:184: FutureWarning: librosa.core.audio.__audioread_load\n",
      "\tDeprecated as of librosa version 0.10.0.\n",
      "\tIt will be removed in librosa version 1.0.\n",
      "  y, sr_native = __audioread_load(path, offset, duration, dtype)\n"
     ]
    },
    {
     "name": "stdout",
     "output_type": "stream",
     "text": [
      "data/cleaned/VID_20240302_192858_1.ogg\n",
      "data/cleaned/VID_20240302_192858_2.ogg\n",
      "data/cleaned/VID_20240302_192858_3.ogg\n",
      "data/cleaned/VID_20240302_192858_4.ogg\n",
      "data/cleaned/VID_20240302_192858_5.ogg\n",
      "data/cleaned/VID_20240302_192858_6.ogg\n",
      "data/cleaned/VID_20240302_192858_7.ogg\n"
     ]
    },
    {
     "name": "stderr",
     "output_type": "stream",
     "text": [
      "/tmp/ipykernel_194875/1537709656.py:6: UserWarning: PySoundFile failed. Trying audioread instead.\n",
      "  y, sr = librosa.load(path, sr=sr)\n",
      "/home/jon/.local/lib/python3.11/site-packages/librosa/core/audio.py:184: FutureWarning: librosa.core.audio.__audioread_load\n",
      "\tDeprecated as of librosa version 0.10.0.\n",
      "\tIt will be removed in librosa version 1.0.\n",
      "  y, sr_native = __audioread_load(path, offset, duration, dtype)\n"
     ]
    },
    {
     "name": "stdout",
     "output_type": "stream",
     "text": [
      "data/cleaned/VID_20240302_192248_1.ogg\n",
      "data/cleaned/VID_20240302_192248_2.ogg\n",
      "data/cleaned/VID_20240302_192248_3.ogg\n",
      "data/cleaned/VID_20240302_192248_4.ogg\n",
      "data/cleaned/VID_20240302_192248_5.ogg\n",
      "data/cleaned/VID_20240302_192248_6.ogg\n",
      "data/cleaned/VID_20240302_192248_7.ogg\n"
     ]
    },
    {
     "name": "stderr",
     "output_type": "stream",
     "text": [
      "/tmp/ipykernel_194875/1537709656.py:6: UserWarning: PySoundFile failed. Trying audioread instead.\n",
      "  y, sr = librosa.load(path, sr=sr)\n",
      "/home/jon/.local/lib/python3.11/site-packages/librosa/core/audio.py:184: FutureWarning: librosa.core.audio.__audioread_load\n",
      "\tDeprecated as of librosa version 0.10.0.\n",
      "\tIt will be removed in librosa version 1.0.\n",
      "  y, sr_native = __audioread_load(path, offset, duration, dtype)\n"
     ]
    },
    {
     "name": "stdout",
     "output_type": "stream",
     "text": [
      "data/cleaned/VID_20240302_192510_1.ogg\n",
      "data/cleaned/VID_20240302_192510_2.ogg\n",
      "data/cleaned/VID_20240302_192510_3.ogg\n",
      "data/cleaned/VID_20240302_192510_4.ogg\n",
      "data/cleaned/VID_20240302_192510_5.ogg\n",
      "data/cleaned/VID_20240302_192510_6.ogg\n",
      "data/cleaned/VID_20240302_192510_7.ogg\n"
     ]
    },
    {
     "name": "stderr",
     "output_type": "stream",
     "text": [
      "/tmp/ipykernel_194875/1537709656.py:6: UserWarning: PySoundFile failed. Trying audioread instead.\n",
      "  y, sr = librosa.load(path, sr=sr)\n",
      "/home/jon/.local/lib/python3.11/site-packages/librosa/core/audio.py:184: FutureWarning: librosa.core.audio.__audioread_load\n",
      "\tDeprecated as of librosa version 0.10.0.\n",
      "\tIt will be removed in librosa version 1.0.\n",
      "  y, sr_native = __audioread_load(path, offset, duration, dtype)\n"
     ]
    },
    {
     "name": "stdout",
     "output_type": "stream",
     "text": [
      "data/cleaned/VID_20240302_192143_1.ogg\n",
      "data/cleaned/VID_20240302_192143_2.ogg\n",
      "data/cleaned/VID_20240302_192143_3.ogg\n",
      "data/cleaned/VID_20240302_192143_4.ogg\n",
      "data/cleaned/VID_20240302_192143_5.ogg\n",
      "data/cleaned/VID_20240302_192143_6.ogg\n"
     ]
    },
    {
     "name": "stderr",
     "output_type": "stream",
     "text": [
      "/tmp/ipykernel_194875/1537709656.py:6: UserWarning: PySoundFile failed. Trying audioread instead.\n",
      "  y, sr = librosa.load(path, sr=sr)\n",
      "/home/jon/.local/lib/python3.11/site-packages/librosa/core/audio.py:184: FutureWarning: librosa.core.audio.__audioread_load\n",
      "\tDeprecated as of librosa version 0.10.0.\n",
      "\tIt will be removed in librosa version 1.0.\n",
      "  y, sr_native = __audioread_load(path, offset, duration, dtype)\n"
     ]
    },
    {
     "name": "stdout",
     "output_type": "stream",
     "text": [
      "data/cleaned/VID_20240302_193037_1.ogg\n",
      "data/cleaned/VID_20240302_193037_2.ogg\n",
      "data/cleaned/VID_20240302_193037_3.ogg\n",
      "data/cleaned/VID_20240302_193037_4.ogg\n",
      "data/cleaned/VID_20240302_193037_5.ogg\n",
      "data/cleaned/VID_20240302_193037_6.ogg\n",
      "data/cleaned/VID_20240302_193037_7.ogg\n"
     ]
    },
    {
     "name": "stderr",
     "output_type": "stream",
     "text": [
      "/tmp/ipykernel_194875/1537709656.py:6: UserWarning: PySoundFile failed. Trying audioread instead.\n",
      "  y, sr = librosa.load(path, sr=sr)\n",
      "/home/jon/.local/lib/python3.11/site-packages/librosa/core/audio.py:184: FutureWarning: librosa.core.audio.__audioread_load\n",
      "\tDeprecated as of librosa version 0.10.0.\n",
      "\tIt will be removed in librosa version 1.0.\n",
      "  y, sr_native = __audioread_load(path, offset, duration, dtype)\n"
     ]
    },
    {
     "name": "stdout",
     "output_type": "stream",
     "text": [
      "data/cleaned/VID_20240302_192629_1.ogg\n",
      "data/cleaned/VID_20240302_192629_2.ogg\n",
      "data/cleaned/VID_20240302_192629_3.ogg\n",
      "data/cleaned/VID_20240302_192629_3.ogg\n",
      "data/cleaned/VID_20240302_192629_4.ogg\n",
      "data/cleaned/VID_20240302_192629_5.ogg\n",
      "data/cleaned/VID_20240302_192629_6.ogg\n"
     ]
    },
    {
     "name": "stderr",
     "output_type": "stream",
     "text": [
      "/tmp/ipykernel_194875/1537709656.py:6: UserWarning: PySoundFile failed. Trying audioread instead.\n",
      "  y, sr = librosa.load(path, sr=sr)\n",
      "/home/jon/.local/lib/python3.11/site-packages/librosa/core/audio.py:184: FutureWarning: librosa.core.audio.__audioread_load\n",
      "\tDeprecated as of librosa version 0.10.0.\n",
      "\tIt will be removed in librosa version 1.0.\n",
      "  y, sr_native = __audioread_load(path, offset, duration, dtype)\n"
     ]
    },
    {
     "name": "stdout",
     "output_type": "stream",
     "text": [
      "data/cleaned/VID_20240302_193209_1.ogg\n",
      "data/cleaned/VID_20240302_193209_2.ogg\n",
      "data/cleaned/VID_20240302_193209_3.ogg\n",
      "data/cleaned/VID_20240302_193209_4.ogg\n",
      "data/cleaned/VID_20240302_193209_5.ogg\n",
      "data/cleaned/VID_20240302_193209_6.ogg\n"
     ]
    }
   ],
   "source": [
    "\n",
    "def load_audacity_labels(path):\n",
    "\n",
    "    file = None\n",
    "    with open(path, 'r') as f:\n",
    "        contents = f.read()\n",
    "        lines = contents.split('\\n')\n",
    "        lines = [ line for line in lines if not line.startswith('\\\\\\t') ]\n",
    "        contents = '\\n'.join(lines)\n",
    "        file = io.StringIO(contents)\n",
    "\n",
    "    labels = pandas.read_csv(file, sep='\\t', header=None,\n",
    "                            names=['start', 'end', 'annotation'],\n",
    "                            dtype=dict(start=float,end=float,annotation=str))\n",
    "\n",
    "    labels = labels.sort_values('start', ascending=True)\n",
    "\n",
    "    return labels\n",
    "\n",
    "def split_files(dir, out_dir, out_format='.ogg', sr = 16000):\n",
    "    if not os.path.exists(out_dir):\n",
    "        os.makedirs(out_dir)\n",
    "    \n",
    "    g = glob.glob('*.txt', root_dir=dir)\n",
    "    for f in g:\n",
    "\n",
    "        # load labels that defines sections\n",
    "        labels_path = os.path.join(dir, f)\n",
    "        labels = load_audacity_labels(labels_path)\n",
    "\n",
    "        # load audio\n",
    "        audio_path = labels_path.replace('.txt', '.mp4')\n",
    "        audio = load_audio(audio_path, sr=sr)\n",
    "\n",
    "        # split into sections\n",
    "        for start, end, section in zip(labels.start, labels.end, labels.annotation):\n",
    "            filename = os.path.splitext(f)[0]\n",
    "            out_filename = os.path.join(out_dir, filename+f'_{section}'+out_format)\n",
    "            print(out_filename)\n",
    "            s = int(math.floor(start*sr))\n",
    "            e = int(math.ceil(end*sr))\n",
    "\n",
    "            audio_section = audio[s:e]\n",
    "            soundfile.write(out_filename, data=audio_section, samplerate=sr)\n",
    "\n",
    "\n",
    "split_files('./data/collected', 'data/cleaned')\n"
   ]
  },
  {
   "cell_type": "code",
   "execution_count": null,
   "id": "78e66a12-630a-4109-bfb3-38d6a11752b2",
   "metadata": {},
   "outputs": [],
   "source": []
  }
 ],
 "metadata": {
  "kernelspec": {
   "display_name": "Python 3 (ipykernel)",
   "language": "python",
   "name": "python3"
  },
  "language_info": {
   "codemirror_mode": {
    "name": "ipython",
    "version": 3
   },
   "file_extension": ".py",
   "mimetype": "text/x-python",
   "name": "python",
   "nbconvert_exporter": "python",
   "pygments_lexer": "ipython3",
   "version": "3.11.6"
  }
 },
 "nbformat": 4,
 "nbformat_minor": 5
}
